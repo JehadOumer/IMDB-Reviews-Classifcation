{
  "nbformat": 4,
  "nbformat_minor": 0,
  "metadata": {
    "colab": {
      "name": "Models.ipynb",
      "provenance": [],
      "collapsed_sections": [],
      "include_colab_link": true
    },
    "kernelspec": {
      "name": "python3",
      "display_name": "Python 3"
    },
    "language_info": {
      "name": "python"
    }
  },
  "cells": [
    {
      "cell_type": "markdown",
      "metadata": {
        "id": "view-in-github",
        "colab_type": "text"
      },
      "source": [
        "<a href=\"https://colab.research.google.com/github/JehadOumer/IMDB-Reviews-Classification/blob/main/Models.ipynb\" target=\"_parent\"><img src=\"https://colab.research.google.com/assets/colab-badge.svg\" alt=\"Open In Colab\"/></a>"
      ]
    },
    {
      "cell_type": "markdown",
      "source": [
        "#Import libraries"
      ],
      "metadata": {
        "id": "EJM9m25Q5p1u"
      }
    },
    {
      "cell_type": "code",
      "execution_count": null,
      "metadata": {
        "colab": {
          "base_uri": "https://localhost:8080/"
        },
        "id": "H4Zwylem6ASW",
        "outputId": "20998f6b-cd57-408d-bdbf-6661e16aa6f0"
      },
      "outputs": [
        {
          "output_type": "stream",
          "name": "stdout",
          "text": [
            "Mounted at /content/drive\n"
          ]
        }
      ],
      "source": [
        "import pandas as pd\n",
        "import numpy as np \n",
        "import matplotlib.pyplot as plt\n",
        "from sklearn.svm import SVC, LinearSVC\n",
        "from sklearn.linear_model import LogisticRegression\n",
        "from sklearn.ensemble import RandomForestClassifier\n",
        "from sklearn.naive_bayes import MultinomialNB\n",
        "from sklearn.tree import DecisionTreeClassifier\n",
        "from sklearn.neighbors import KNeighborsClassifier\n",
        "from sklearn.cluster import KMeans\n",
        "from sklearn.linear_model import SGDClassifier\n",
        "from sklearn.pipeline import Pipeline\n",
        "from sklearn.feature_extraction.text import CountVectorizer, TfidfTransformer\n",
        "from sklearn.metrics import classification_report, accuracy_score, precision_score, recall_score, f1_score\n",
        "import json\n",
        "import seaborn as sns\n",
        "from collections import defaultdict\n",
        "from google.colab import drive\n",
        "\n",
        "drive.mount('/content/drive')"
      ]
    },
    {
      "cell_type": "markdown",
      "source": [
        "#Load dataset"
      ],
      "metadata": {
        "id": "zj_dGVX15tr1"
      }
    },
    {
      "cell_type": "code",
      "source": [
        "training = pd.read_csv('/content/drive/MyDrive/IMDB Review Dataset Processed/processed_training_data.csv')\n",
        "validation = pd.read_csv('/content/drive/MyDrive/IMDB Review Dataset Processed/processed_validation_data.csv')\n",
        "testing = pd.read_csv('/content/drive/MyDrive/IMDB Review Dataset Processed/processed_testing_data.csv')"
      ],
      "metadata": {
        "id": "LzLukvYn6kGM"
      },
      "execution_count": null,
      "outputs": []
    },
    {
      "cell_type": "code",
      "source": [
        "training=training.append(validation)"
      ],
      "metadata": {
        "id": "SAM5Qp8m7f7b"
      },
      "execution_count": null,
      "outputs": []
    },
    {
      "cell_type": "code",
      "source": [
        "training.shape"
      ],
      "metadata": {
        "colab": {
          "base_uri": "https://localhost:8080/"
        },
        "id": "TaiO8dhP6xYN",
        "outputId": "c9071f4e-1b2d-426f-906b-433717a7b551"
      },
      "execution_count": null,
      "outputs": [
        {
          "output_type": "execute_result",
          "data": {
            "text/plain": [
              "(40000, 3)"
            ]
          },
          "metadata": {},
          "execution_count": 4
        }
      ]
    },
    {
      "cell_type": "code",
      "source": [
        "training.head(5)"
      ],
      "metadata": {
        "colab": {
          "base_uri": "https://localhost:8080/",
          "height": 206
        },
        "id": "QDQPZZfV7zib",
        "outputId": "752bb236-b709-4a42-e50c-afcb98f07c72"
      },
      "execution_count": null,
      "outputs": [
        {
          "output_type": "execute_result",
          "data": {
            "text/html": [
              "<div>\n",
              "<style scoped>\n",
              "    .dataframe tbody tr th:only-of-type {\n",
              "        vertical-align: middle;\n",
              "    }\n",
              "\n",
              "    .dataframe tbody tr th {\n",
              "        vertical-align: top;\n",
              "    }\n",
              "\n",
              "    .dataframe thead th {\n",
              "        text-align: right;\n",
              "    }\n",
              "</style>\n",
              "<table border=\"1\" class=\"dataframe\">\n",
              "  <thead>\n",
              "    <tr style=\"text-align: right;\">\n",
              "      <th></th>\n",
              "      <th>Unnamed: 0</th>\n",
              "      <th>label</th>\n",
              "      <th>text</th>\n",
              "    </tr>\n",
              "  </thead>\n",
              "  <tbody>\n",
              "    <tr>\n",
              "      <th>0</th>\n",
              "      <td>0</td>\n",
              "      <td>0</td>\n",
              "      <td>this be an absolutely terrible movie do not be...</td>\n",
              "    </tr>\n",
              "    <tr>\n",
              "      <th>1</th>\n",
              "      <td>1</td>\n",
              "      <td>0</td>\n",
              "      <td>pron have be know to fall asleep during film b...</td>\n",
              "    </tr>\n",
              "    <tr>\n",
              "      <th>2</th>\n",
              "      <td>2</td>\n",
              "      <td>0</td>\n",
              "      <td>person photograph org in a superb fashion and ...</td>\n",
              "    </tr>\n",
              "    <tr>\n",
              "      <th>3</th>\n",
              "      <td>3</td>\n",
              "      <td>1</td>\n",
              "      <td>this be the kind of film for a snowy date time...</td>\n",
              "    </tr>\n",
              "    <tr>\n",
              "      <th>4</th>\n",
              "      <td>4</td>\n",
              "      <td>1</td>\n",
              "      <td>as other have mention all the woman that go nu...</td>\n",
              "    </tr>\n",
              "  </tbody>\n",
              "</table>\n",
              "</div>"
            ],
            "text/plain": [
              "   Unnamed: 0  label                                               text\n",
              "0           0      0  this be an absolutely terrible movie do not be...\n",
              "1           1      0  pron have be know to fall asleep during film b...\n",
              "2           2      0  person photograph org in a superb fashion and ...\n",
              "3           3      1  this be the kind of film for a snowy date time...\n",
              "4           4      1  as other have mention all the woman that go nu..."
            ]
          },
          "metadata": {},
          "execution_count": 10
        }
      ]
    },
    {
      "cell_type": "markdown",
      "source": [
        "#Vectorization"
      ],
      "metadata": {
        "id": "n4QX9R4S5y8N"
      }
    },
    {
      "cell_type": "code",
      "source": [
        "#Count Vectorizer\n",
        "count_vectorizer = CountVectorizer(stop_words='english', ngram_range=(1,2)) #based by counts\n",
        "count_vectorizer.fit((training['text']))\n",
        "vectorized = count_vectorizer.transform(training['text'])\n",
        "print(dict(list(count_vectorizer.vocabulary_.items())[0:8]))\n",
        "print('The transformed data matrix dimensions:', vectorized.shape)"
      ],
      "metadata": {
        "colab": {
          "base_uri": "https://localhost:8080/"
        },
        "id": "x-M4Fj4m6zfL",
        "outputId": "05c9d5b8-2218-4ee6-b0e6-efdf1fc95472"
      },
      "execution_count": null,
      "outputs": [
        {
          "output_type": "stream",
          "name": "stdout",
          "text": [
            "{'absolutely': 10319, 'terrible': 1413804, 'movie': 896993, 'lure': 825899, 'person': 1012593, 'great': 601565, 'actor': 22438, 'simply': 1285108}\n",
            "The transformed data matrix dimensions: (40000, 1591398)\n"
          ]
        }
      ]
    },
    {
      "cell_type": "code",
      "source": [
        "import nltk\n",
        "nltk.download('stopwords')"
      ],
      "metadata": {
        "id": "42V4Wxt-8Xqy",
        "outputId": "5757ac6f-0b7a-41b8-8b16-8bd926ddc5a5",
        "colab": {
          "base_uri": "https://localhost:8080/"
        }
      },
      "execution_count": 4,
      "outputs": [
        {
          "output_type": "stream",
          "name": "stdout",
          "text": [
            "[nltk_data] Downloading package stopwords to /root/nltk_data...\n",
            "[nltk_data]   Unzipping corpora/stopwords.zip.\n"
          ]
        },
        {
          "output_type": "execute_result",
          "data": {
            "text/plain": [
              "True"
            ]
          },
          "metadata": {},
          "execution_count": 4
        }
      ]
    },
    {
      "cell_type": "code",
      "source": [
        "from nltk.corpus import stopwords\n",
        "print(stopwords.words('english'))"
      ],
      "metadata": {
        "id": "yeTDPbn88Iyd",
        "outputId": "ca2aceb0-3f98-4b2e-e1c9-fc3b1a1e1c3c",
        "colab": {
          "base_uri": "https://localhost:8080/"
        }
      },
      "execution_count": 5,
      "outputs": [
        {
          "output_type": "stream",
          "name": "stdout",
          "text": [
            "['i', 'me', 'my', 'myself', 'we', 'our', 'ours', 'ourselves', 'you', \"you're\", \"you've\", \"you'll\", \"you'd\", 'your', 'yours', 'yourself', 'yourselves', 'he', 'him', 'his', 'himself', 'she', \"she's\", 'her', 'hers', 'herself', 'it', \"it's\", 'its', 'itself', 'they', 'them', 'their', 'theirs', 'themselves', 'what', 'which', 'who', 'whom', 'this', 'that', \"that'll\", 'these', 'those', 'am', 'is', 'are', 'was', 'were', 'be', 'been', 'being', 'have', 'has', 'had', 'having', 'do', 'does', 'did', 'doing', 'a', 'an', 'the', 'and', 'but', 'if', 'or', 'because', 'as', 'until', 'while', 'of', 'at', 'by', 'for', 'with', 'about', 'against', 'between', 'into', 'through', 'during', 'before', 'after', 'above', 'below', 'to', 'from', 'up', 'down', 'in', 'out', 'on', 'off', 'over', 'under', 'again', 'further', 'then', 'once', 'here', 'there', 'when', 'where', 'why', 'how', 'all', 'any', 'both', 'each', 'few', 'more', 'most', 'other', 'some', 'such', 'no', 'nor', 'not', 'only', 'own', 'same', 'so', 'than', 'too', 'very', 's', 't', 'can', 'will', 'just', 'don', \"don't\", 'should', \"should've\", 'now', 'd', 'll', 'm', 'o', 're', 've', 'y', 'ain', 'aren', \"aren't\", 'couldn', \"couldn't\", 'didn', \"didn't\", 'doesn', \"doesn't\", 'hadn', \"hadn't\", 'hasn', \"hasn't\", 'haven', \"haven't\", 'isn', \"isn't\", 'ma', 'mightn', \"mightn't\", 'mustn', \"mustn't\", 'needn', \"needn't\", 'shan', \"shan't\", 'shouldn', \"shouldn't\", 'wasn', \"wasn't\", 'weren', \"weren't\", 'won', \"won't\", 'wouldn', \"wouldn't\"]\n"
          ]
        }
      ]
    },
    {
      "cell_type": "markdown",
      "source": [
        ""
      ],
      "metadata": {
        "id": "Q762rtJi9uz4"
      }
    },
    {
      "cell_type": "code",
      "source": [
        "#Term Frequency - Inverse Documnet Frequency\n",
        "tfidf_transformer = TfidfTransformer()\n",
        "tfidf_transformer.fit(vectorized)\n",
        "transformed_tfidf = tfidf_transformer.transform(vectorized)\n",
        "print(transformed_tfidf.shape)\n",
        "print(transformed_tfidf[0])"
      ],
      "metadata": {
        "colab": {
          "base_uri": "https://localhost:8080/"
        },
        "id": "HoeqRSnK8nLa",
        "outputId": "483d7dcb-e94a-47c2-9643-5081969ab88d"
      },
      "execution_count": null,
      "outputs": [
        {
          "output_type": "stream",
          "name": "stdout",
          "text": [
            "(40000, 1591398)\n",
            "  (0, 1414221)\t0.08793602654125718\n",
            "  (0, 1413804)\t0.05350588807318293\n",
            "  (0, 1354380)\t0.11938390561154634\n",
            "  (0, 1354041)\t0.06181956160874139\n",
            "  (0, 1290376)\t0.07656513069491042\n",
            "  (0, 1289856)\t0.052805213861689924\n",
            "  (0, 1285893)\t0.08228026533691596\n",
            "  (0, 1285108)\t0.05052340351040698\n",
            "  (0, 1229499)\t0.14853789886172988\n",
            "  (0, 1228937)\t0.031806446931356626\n",
            "  (0, 1212192)\t0.14301427196336414\n",
            "  (0, 1212186)\t0.0667809831980636\n",
            "  (0, 1204820)\t0.1360553250666177\n",
            "  (0, 1204057)\t0.042093808823733564\n",
            "  (0, 1196262)\t0.1360553250666177\n",
            "  (0, 1195756)\t0.05960791888535066\n",
            "  (0, 1192566)\t0.12804794251302956\n",
            "  (0, 1192478)\t0.08769909987128806\n",
            "  (0, 1162173)\t0.11860523996106072\n",
            "  (0, 1162098)\t0.07021426234855722\n",
            "  (0, 1156957)\t0.14301427196336414\n",
            "  (0, 1156879)\t0.08762103123274102\n",
            "  (0, 1149255)\t0.12020979120582335\n",
            "  (0, 1148277)\t0.03971507939888951\n",
            "  (0, 1122402)\t0.14853789886172988\n",
            "  :\t:\n",
            "  (0, 413390)\t0.11587151508806177\n",
            "  (0, 412986)\t0.051459638474410985\n",
            "  (0, 378557)\t0.10266542932162263\n",
            "  (0, 378412)\t0.0669506359528273\n",
            "  (0, 364295)\t0.1360553250666177\n",
            "  (0, 364200)\t0.08777761847565384\n",
            "  (0, 252506)\t0.14853789886172988\n",
            "  (0, 252502)\t0.1335715694113953\n",
            "  (0, 197581)\t0.14853789886172988\n",
            "  (0, 196846)\t0.05235929994781827\n",
            "  (0, 109401)\t0.13147158392690309\n",
            "  (0, 109104)\t0.06818262471169126\n",
            "  (0, 103660)\t0.12108899561628308\n",
            "  (0, 101836)\t0.02994005175595773\n",
            "  (0, 65928)\t0.14301427196336414\n",
            "  (0, 65080)\t0.05062087553713491\n",
            "  (0, 35434)\t0.09862941784149756\n",
            "  (0, 35243)\t0.071134019874658\n",
            "  (0, 24052)\t0.12020979120582335\n",
            "  (0, 23468)\t0.08867258106039158\n",
            "  (0, 22438)\t0.0706646307503932\n",
            "  (0, 20278)\t0.14301427196336414\n",
            "  (0, 19286)\t0.03787519613470498\n",
            "  (0, 10967)\t0.10220359051234543\n",
            "  (0, 10319)\t0.053024550373071695\n"
          ]
        }
      ]
    },
    {
      "cell_type": "code",
      "source": [
        ""
      ],
      "metadata": {
        "id": "J9jbeAZT8qpb"
      },
      "execution_count": null,
      "outputs": []
    },
    {
      "cell_type": "code",
      "source": [
        "def get_metrics(predicted,true):\n",
        "    metrics = dict()\n",
        "    metrics['accuracy'] = round(accuracy_score(predicted, true), 5)\n",
        "    metrics['precision'] = round(precision_score(predicted, true, average = 'weighted'), 5)\n",
        "    metrics['recall'] = round(recall_score(predicted, true, average = 'weighted'), 5)\n",
        "    metrics['f1'] = round(f1_score(predicted, true, average = 'weighted'), 5)\n",
        "    \n",
        "    return metrics"
      ],
      "metadata": {
        "id": "z2bURKKk8soA"
      },
      "execution_count": null,
      "outputs": []
    },
    {
      "cell_type": "code",
      "source": [
        "pipeline_SVM = Pipeline([\n",
        "        ('count_vectorizer', CountVectorizer(stop_words='english', ngram_range=(1,2) )),  \n",
        "        ('tfidf_transformer', TfidfTransformer()),  \n",
        "        ('classifier', LinearSVC())\n",
        "    ])"
      ],
      "metadata": {
        "id": "wqmOa-9C8vxa"
      },
      "execution_count": null,
      "outputs": []
    },
    {
      "cell_type": "code",
      "source": [
        "pipeline_SVM.fit(training['text'], training['label'])\n",
        "prediction_SVM = pipeline_SVM.predict(testing['text'])"
      ],
      "metadata": {
        "id": "YdmeLDHt834O"
      },
      "execution_count": null,
      "outputs": []
    },
    {
      "cell_type": "code",
      "source": [
        "print(classification_report(testing['label'], prediction_SVM))"
      ],
      "metadata": {
        "colab": {
          "base_uri": "https://localhost:8080/"
        },
        "id": "KaPjF1v39B_b",
        "outputId": "b70f50e9-d4e6-4aae-9b3d-f49327ef65c4"
      },
      "execution_count": null,
      "outputs": [
        {
          "output_type": "stream",
          "name": "stdout",
          "text": [
            "              precision    recall  f1-score   support\n",
            "\n",
            "           0       0.91      0.88      0.89      4970\n",
            "           1       0.88      0.92      0.90      5030\n",
            "\n",
            "    accuracy                           0.90     10000\n",
            "   macro avg       0.90      0.90      0.90     10000\n",
            "weighted avg       0.90      0.90      0.90     10000\n",
            "\n"
          ]
        }
      ]
    },
    {
      "cell_type": "code",
      "source": [
        "metrics_SVM = get_metrics(prediction_SVM, testing['label'])\n",
        "print(metrics_SVM)\n",
        "with open(\"SVM_results.json\", \"w\") as output:\n",
        "    json.dump(metrics_SVM, output)"
      ],
      "metadata": {
        "colab": {
          "base_uri": "https://localhost:8080/"
        },
        "id": "bObfnJp9-bHT",
        "outputId": "44ef0f33-ecbe-4a59-b540-46654d95b997"
      },
      "execution_count": null,
      "outputs": [
        {
          "output_type": "stream",
          "name": "stdout",
          "text": [
            "{'accuracy': 0.8975, 'precision': 0.89825, 'recall': 0.8975, 'f1': 0.89755}\n"
          ]
        }
      ]
    },
    {
      "cell_type": "code",
      "source": [
        "pipeline_LR = Pipeline([\n",
        "        ('count_vectorizer', CountVectorizer(stop_words='english', ngram_range=(1,2))),  \n",
        "        ('tfidf_transformer', TfidfTransformer()),  \n",
        "        ('classifier', LogisticRegression())\n",
        "    ])"
      ],
      "metadata": {
        "id": "VcBEzm8A913j"
      },
      "execution_count": null,
      "outputs": []
    },
    {
      "cell_type": "code",
      "source": [
        "pipeline_LR.fit(training['text'], training['label'])\n",
        "prediction_LR = pipeline_LR.predict(testing['text'])\n",
        "\n",
        "print(classification_report(testing['label'], prediction_LR))"
      ],
      "metadata": {
        "colab": {
          "base_uri": "https://localhost:8080/"
        },
        "id": "c2wIPYzp9_h6",
        "outputId": "fadfa633-2fa2-4d33-d92d-40acf7746de9"
      },
      "execution_count": null,
      "outputs": [
        {
          "output_type": "stream",
          "name": "stdout",
          "text": [
            "              precision    recall  f1-score   support\n",
            "\n",
            "           0       0.90      0.86      0.88      4970\n",
            "           1       0.87      0.91      0.89      5030\n",
            "\n",
            "    accuracy                           0.88     10000\n",
            "   macro avg       0.88      0.88      0.88     10000\n",
            "weighted avg       0.88      0.88      0.88     10000\n",
            "\n"
          ]
        }
      ]
    },
    {
      "cell_type": "code",
      "source": [
        "metrics_LR = get_metrics(prediction_LR, testing['label'])\n",
        "print(metrics_LR)\n",
        "with open(\"LR_results.json\", \"w\") as output:\n",
        "    json.dump(metrics_LR, output)"
      ],
      "metadata": {
        "colab": {
          "base_uri": "https://localhost:8080/"
        },
        "id": "_6xoGTIF-Ylh",
        "outputId": "4cf0b047-82d3-436f-eeb0-19b508654a77"
      },
      "execution_count": null,
      "outputs": [
        {
          "output_type": "stream",
          "name": "stdout",
          "text": [
            "{'accuracy': 0.8838, 'precision': 0.88482, 'recall': 0.8838, 'f1': 0.88387}\n"
          ]
        }
      ]
    },
    {
      "cell_type": "code",
      "source": [
        "pipeline_NB = Pipeline([\n",
        "        ('count_vectorizer', CountVectorizer(stop_words='english', ngram_range=(1,2))),  \n",
        "        ('tfidf_transformer', TfidfTransformer()),  \n",
        "        ('classifier', MultinomialNB())\n",
        "    ])"
      ],
      "metadata": {
        "id": "Ax_b1zdp-855"
      },
      "execution_count": null,
      "outputs": []
    },
    {
      "cell_type": "code",
      "source": [
        "pipeline_NB.fit(training['text'], training['label'])\n",
        "prediction_NB = pipeline_NB.predict(testing['text'])\n",
        "\n",
        "print(classification_report(testing['label'], prediction_NB))"
      ],
      "metadata": {
        "colab": {
          "base_uri": "https://localhost:8080/"
        },
        "id": "n8DwCXjJ_UJi",
        "outputId": "641e6dfc-52c3-4c99-faef-2db18026d1f6"
      },
      "execution_count": null,
      "outputs": [
        {
          "output_type": "stream",
          "name": "stdout",
          "text": [
            "              precision    recall  f1-score   support\n",
            "\n",
            "           0       0.88      0.85      0.87      4970\n",
            "           1       0.86      0.89      0.87      5030\n",
            "\n",
            "    accuracy                           0.87     10000\n",
            "   macro avg       0.87      0.87      0.87     10000\n",
            "weighted avg       0.87      0.87      0.87     10000\n",
            "\n"
          ]
        }
      ]
    },
    {
      "cell_type": "code",
      "source": [
        "metrics_NB = get_metrics(prediction_NB, testing['label'])\n",
        "print(metrics_NB)\n",
        "with open(\"NB_results.json\", \"w\") as output:\n",
        "    json.dump(metrics_NB, output)"
      ],
      "metadata": {
        "colab": {
          "base_uri": "https://localhost:8080/"
        },
        "id": "Xr8zla1e_izg",
        "outputId": "c8c3759d-349b-433c-b153-b49d600ecf16"
      },
      "execution_count": null,
      "outputs": [
        {
          "output_type": "stream",
          "name": "stdout",
          "text": [
            "{'accuracy': 0.8703, 'precision': 0.87088, 'recall': 0.8703, 'f1': 0.87035}\n"
          ]
        }
      ]
    },
    {
      "cell_type": "code",
      "source": [
        "pipeline_RF = Pipeline([\n",
        "        ('count_vectorizer', CountVectorizer(stop_words='english', ngram_range=(1,2))),  \n",
        "        ('tfidf_transformer', TfidfTransformer()),  \n",
        "        ('classifier', RandomForestClassifier(n_estimators = 500, random_state = 42))\n",
        "    ])"
      ],
      "metadata": {
        "id": "HkRgfnQzAIby"
      },
      "execution_count": null,
      "outputs": []
    },
    {
      "cell_type": "code",
      "source": [
        "pipeline_RF.fit(training['text'], training['label'])\n",
        "prediction_RF = pipeline_RF.predict(testing['text'])\n",
        "\n",
        "print(classification_report(testing['label'], prediction_RF))"
      ],
      "metadata": {
        "id": "jYFjmpg2AQOC",
        "colab": {
          "base_uri": "https://localhost:8080/"
        },
        "outputId": "ab50cd65-e36f-475c-bb53-aaa04e0a5201"
      },
      "execution_count": null,
      "outputs": [
        {
          "output_type": "stream",
          "name": "stdout",
          "text": [
            "              precision    recall  f1-score   support\n",
            "\n",
            "           0       0.89      0.83      0.86      4970\n",
            "           1       0.84      0.90      0.87      5030\n",
            "\n",
            "    accuracy                           0.86     10000\n",
            "   macro avg       0.87      0.86      0.86     10000\n",
            "weighted avg       0.87      0.86      0.86     10000\n",
            "\n"
          ]
        }
      ]
    },
    {
      "cell_type": "code",
      "source": [
        "metrics_RF = get_metrics(prediction_RF, testing['label'])\n",
        "print(metrics_RF)\n",
        "\n",
        "with open(\"RF_results.json\", \"w\") as output:\n",
        "    json.dump(metrics_RF, output)"
      ],
      "metadata": {
        "id": "sTozqzloAryD",
        "colab": {
          "base_uri": "https://localhost:8080/"
        },
        "outputId": "9aa69dfd-523e-4a58-8d4d-6f1117c910f7"
      },
      "execution_count": null,
      "outputs": [
        {
          "output_type": "stream",
          "name": "stdout",
          "text": [
            "{'accuracy': 0.8645, 'precision': 0.86641, 'recall': 0.8645, 'f1': 0.86465}\n"
          ]
        }
      ]
    },
    {
      "cell_type": "code",
      "source": [
        "pipeline_KM = Pipeline([\n",
        "        ('count_vectorizer', CountVectorizer(stop_words='english', ngram_range=(1,2))),  \n",
        "        ('tfidf_transformer', TfidfTransformer()),  \n",
        "        ('classifier', KMeans(n_clusters=2, init = 'random', n_init = 10, max_iter = 300, tol = 1e-04, random_state = 0))\n",
        "    ])\n"
      ],
      "metadata": {
        "id": "mwLwdCtYAu_B"
      },
      "execution_count": null,
      "outputs": []
    },
    {
      "cell_type": "code",
      "source": [
        "pipeline_KM.fit(training['text'], training['label'])\n",
        "prediction_KM = pipeline_KM.predict(testing['text'])\n",
        "\n",
        "print(classification_report(testing['label'], prediction_KM))"
      ],
      "metadata": {
        "colab": {
          "base_uri": "https://localhost:8080/"
        },
        "id": "W7VClF6lBCZE",
        "outputId": "0632bee3-4965-454d-b2e0-eed5307df92a"
      },
      "execution_count": null,
      "outputs": [
        {
          "output_type": "stream",
          "name": "stdout",
          "text": [
            "              precision    recall  f1-score   support\n",
            "\n",
            "           0       0.51      0.52      0.51      4970\n",
            "           1       0.51      0.50      0.51      5030\n",
            "\n",
            "    accuracy                           0.51     10000\n",
            "   macro avg       0.51      0.51      0.51     10000\n",
            "weighted avg       0.51      0.51      0.51     10000\n",
            "\n"
          ]
        }
      ]
    },
    {
      "cell_type": "code",
      "source": [
        "metrics_KM = get_metrics(prediction_KM, testing['label'])\n",
        "print(metrics_KM)\n",
        "with open(\"KM_results.json\", \"w\") as output:\n",
        "    json.dump(metrics_KM, output)"
      ],
      "metadata": {
        "colab": {
          "base_uri": "https://localhost:8080/"
        },
        "id": "FMW-oHQdBOL7",
        "outputId": "06195ed8-39d0-43fb-f21b-07927259a002"
      },
      "execution_count": null,
      "outputs": [
        {
          "output_type": "stream",
          "name": "stdout",
          "text": [
            "{'accuracy': 0.5089, 'precision': 0.50907, 'recall': 0.5089, 'f1': 0.50893}\n"
          ]
        }
      ]
    },
    {
      "cell_type": "code",
      "source": [
        "pipeline_DT = Pipeline([\n",
        "        ('count_vectorizer', CountVectorizer(stop_words='english', ngram_range=(1,2))),  \n",
        "        ('tfidf_transformer', TfidfTransformer()),  \n",
        "        ('classifier', DecisionTreeClassifier(random_state=100))\n",
        "    ])"
      ],
      "metadata": {
        "id": "HdtO_KaCBYAz"
      },
      "execution_count": null,
      "outputs": []
    },
    {
      "cell_type": "code",
      "source": [
        "pipeline_DT.fit(training['text'], training['label'])\n",
        "prediction_DT = pipeline_DT.predict(testing['text'])\n",
        "\n",
        "print(classification_report(testing['label'], prediction_DT))"
      ],
      "metadata": {
        "id": "4q9-Bd-KBimM",
        "colab": {
          "base_uri": "https://localhost:8080/"
        },
        "outputId": "77d78c70-3347-4fe9-aa7a-f9dd43203674"
      },
      "execution_count": null,
      "outputs": [
        {
          "output_type": "stream",
          "name": "stdout",
          "text": [
            "              precision    recall  f1-score   support\n",
            "\n",
            "           0       0.72      0.72      0.72      4970\n",
            "           1       0.72      0.72      0.72      5030\n",
            "\n",
            "    accuracy                           0.72     10000\n",
            "   macro avg       0.72      0.72      0.72     10000\n",
            "weighted avg       0.72      0.72      0.72     10000\n",
            "\n"
          ]
        }
      ]
    },
    {
      "cell_type": "code",
      "source": [
        "metrics_DT = get_metrics(prediction_DT, testing['label'])\n",
        "print(metrics_DT)\n",
        "with open(\"DT_results.json\", \"w\") as output:\n",
        "    json.dump(metrics_DT, output)"
      ],
      "metadata": {
        "id": "fmSa_h4yBsOj",
        "colab": {
          "base_uri": "https://localhost:8080/"
        },
        "outputId": "1f49549e-a3a7-4326-fb7a-13d84b9bb7aa"
      },
      "execution_count": null,
      "outputs": [
        {
          "output_type": "stream",
          "name": "stdout",
          "text": [
            "{'accuracy': 0.7201, 'precision': 0.72013, 'recall': 0.7201, 'f1': 0.7201}\n"
          ]
        }
      ]
    },
    {
      "cell_type": "code",
      "source": [
        "pipeline_SGD = Pipeline([\n",
        "        ('count_vectorizer', CountVectorizer(stop_words='english', ngram_range=(1,2))),  \n",
        "        ('tfidf_transformer', TfidfTransformer()),  \n",
        "        ('classifier', SGDClassifier())\n",
        "    ])"
      ],
      "metadata": {
        "id": "7dxI_MZeB4Cx"
      },
      "execution_count": null,
      "outputs": []
    },
    {
      "cell_type": "code",
      "source": [
        "pipeline_SGD.fit(training['text'], training['label'])\n",
        "prediction_SGD = pipeline_SGD.predict(testing['text'])\n",
        "\n",
        "print(classification_report(testing['label'], prediction_SGD))"
      ],
      "metadata": {
        "id": "ACPWoq8mCMT6",
        "colab": {
          "base_uri": "https://localhost:8080/"
        },
        "outputId": "f22159c7-f5c1-45bb-fbbf-359d92247751"
      },
      "execution_count": null,
      "outputs": [
        {
          "output_type": "stream",
          "name": "stdout",
          "text": [
            "              precision    recall  f1-score   support\n",
            "\n",
            "           0       0.91      0.85      0.88      4970\n",
            "           1       0.86      0.91      0.89      5030\n",
            "\n",
            "    accuracy                           0.88     10000\n",
            "   macro avg       0.88      0.88      0.88     10000\n",
            "weighted avg       0.88      0.88      0.88     10000\n",
            "\n"
          ]
        }
      ]
    },
    {
      "cell_type": "code",
      "source": [
        "metrics_SGD = get_metrics(prediction_SGD, testing['label'])\n",
        "print(metrics_SGD)\n",
        "with open(\"SGD_results.json\", \"w\") as output:\n",
        "    json.dump(metrics_SGD, output)"
      ],
      "metadata": {
        "id": "ZHiJ_tlzCRl6",
        "colab": {
          "base_uri": "https://localhost:8080/"
        },
        "outputId": "bcb3363b-1363-4f3e-f7a6-f55128d89daf"
      },
      "execution_count": null,
      "outputs": [
        {
          "output_type": "stream",
          "name": "stdout",
          "text": [
            "{'accuracy': 0.8814, 'precision': 0.88337, 'recall': 0.8814, 'f1': 0.88154}\n"
          ]
        }
      ]
    },
    {
      "cell_type": "code",
      "source": [
        "pipeline_KNN = Pipeline([\n",
        "        ('count_vectorizer', CountVectorizer(stop_words='english', ngram_range=(1,2))),  \n",
        "        ('tfidf_transformer', TfidfTransformer()),  \n",
        "        ('classifier', KNeighborsClassifier(n_neighbors = 2))\n",
        "    ])"
      ],
      "metadata": {
        "id": "B9GGg4aPD3oQ"
      },
      "execution_count": null,
      "outputs": []
    },
    {
      "cell_type": "code",
      "source": [
        "pipeline_KNN.fit(training['text'], training['label'])\n",
        "prediction_KNN = pipeline_KNN.predict(testing['text'])\n",
        "\n",
        "print(classification_report(testing['label'], prediction_KNN))"
      ],
      "metadata": {
        "colab": {
          "base_uri": "https://localhost:8080/"
        },
        "id": "6W-LzbrREA7a",
        "outputId": "06000fd4-da05-4079-e642-12c5e189039f"
      },
      "execution_count": null,
      "outputs": [
        {
          "output_type": "stream",
          "name": "stdout",
          "text": [
            "              precision    recall  f1-score   support\n",
            "\n",
            "           0       0.65      0.57      0.61      4970\n",
            "           1       0.62      0.70      0.66      5030\n",
            "\n",
            "    accuracy                           0.63     10000\n",
            "   macro avg       0.64      0.63      0.63     10000\n",
            "weighted avg       0.64      0.63      0.63     10000\n",
            "\n"
          ]
        }
      ]
    },
    {
      "cell_type": "code",
      "source": [
        "metrics_KNN = get_metrics(prediction_KNN, testing['label'])\n",
        "print(metrics_KNN)\n",
        "with open(\"KNN_results.json\", \"w\") as output:\n",
        "    json.dump(metrics_KNN, output)"
      ],
      "metadata": {
        "colab": {
          "base_uri": "https://localhost:8080/"
        },
        "id": "-ume5Kv9EQIj",
        "outputId": "dd938b6a-20c8-4967-db73-12a5cb1d57cb"
      },
      "execution_count": null,
      "outputs": [
        {
          "output_type": "stream",
          "name": "stdout",
          "text": [
            "{'accuracy': 0.6348, 'precision': 0.64396, 'recall': 0.6348, 'f1': 0.63658}\n"
          ]
        }
      ]
    },
    {
      "cell_type": "code",
      "source": [
        "models=[]\n",
        "acc=[]\n",
        "\n",
        "models.append('SVM')\n",
        "acc.append(metrics_SVM['accuracy'])\n",
        "\n",
        "models.append('Logistic Regression')\n",
        "acc.append(metrics_LR['accuracy'])\n",
        "\n",
        "models.append('Random Forest')\n",
        "acc.append(metrics_RF['accuracy'])\n",
        "\n",
        "models.append('K-Means')\n",
        "acc.append(metrics_KM['accuracy'])\n",
        "\n",
        "models.append('Decision Tree')\n",
        "acc.append(metrics_DT['accuracy'])\n",
        "\n",
        "models.append('SGD')\n",
        "acc.append(metrics_SGD['accuracy'])\n",
        "\n",
        "models.append('KNN')\n",
        "acc.append(metrics_KNN['accuracy'])"
      ],
      "metadata": {
        "id": "3xX35BiXEcFp",
        "colab": {
          "base_uri": "https://localhost:8080/",
          "height": 235
        },
        "outputId": "87471974-25ff-42ef-9c4f-cc038ddbf1a9"
      },
      "execution_count": null,
      "outputs": [
        {
          "output_type": "error",
          "ename": "NameError",
          "evalue": "ignored",
          "traceback": [
            "\u001b[0;31m---------------------------------------------------------------------------\u001b[0m",
            "\u001b[0;31mNameError\u001b[0m                                 Traceback (most recent call last)",
            "\u001b[0;32m<ipython-input-20-0ca28910d9bb>\u001b[0m in \u001b[0;36m<module>\u001b[0;34m()\u001b[0m\n\u001b[1;32m      3\u001b[0m \u001b[0;34m\u001b[0m\u001b[0m\n\u001b[1;32m      4\u001b[0m \u001b[0mmodels\u001b[0m\u001b[0;34m.\u001b[0m\u001b[0mappend\u001b[0m\u001b[0;34m(\u001b[0m\u001b[0;34m'SVM'\u001b[0m\u001b[0;34m)\u001b[0m\u001b[0;34m\u001b[0m\u001b[0;34m\u001b[0m\u001b[0m\n\u001b[0;32m----> 5\u001b[0;31m \u001b[0macc\u001b[0m\u001b[0;34m.\u001b[0m\u001b[0mappend\u001b[0m\u001b[0;34m(\u001b[0m\u001b[0mmetrics_SVM\u001b[0m\u001b[0;34m[\u001b[0m\u001b[0;34m'accuracy'\u001b[0m\u001b[0;34m]\u001b[0m\u001b[0;34m)\u001b[0m\u001b[0;34m\u001b[0m\u001b[0;34m\u001b[0m\u001b[0m\n\u001b[0m\u001b[1;32m      6\u001b[0m \u001b[0;34m\u001b[0m\u001b[0m\n\u001b[1;32m      7\u001b[0m \u001b[0mmodels\u001b[0m\u001b[0;34m.\u001b[0m\u001b[0mappend\u001b[0m\u001b[0;34m(\u001b[0m\u001b[0;34m'Logistic Regression'\u001b[0m\u001b[0;34m)\u001b[0m\u001b[0;34m\u001b[0m\u001b[0;34m\u001b[0m\u001b[0m\n",
            "\u001b[0;31mNameError\u001b[0m: name 'metrics_SVM' is not defined"
          ]
        }
      ]
    },
    {
      "cell_type": "code",
      "source": [
        "print(models)\n",
        "print(acc)"
      ],
      "metadata": {
        "colab": {
          "base_uri": "https://localhost:8080/"
        },
        "id": "hd2pX8eYEmjE",
        "outputId": "feffe629-16c6-4a80-9687-e0f15f9d8bd4"
      },
      "execution_count": null,
      "outputs": [
        {
          "output_type": "stream",
          "name": "stdout",
          "text": [
            "['SVM', 'Logistic Regression', 'K-Means', 'Decision Tree', 'SGD', 'KNN']\n",
            "[0.8975, 0.8838, 0.5089, 0.7201, 0.8814, 0.6348]\n"
          ]
        }
      ]
    },
    {
      "cell_type": "code",
      "source": [
        "\n",
        "plt.figure(figsize=(12,6))\n",
        "plt.bar(models, acc)\n",
        "\n",
        "for i, v in enumerate(models):\n",
        "    plt.text(v, acc[i], acc[i],                 # 좌표 (x축 = v, y축 = y[0]..y[1], 표시 = y[0]..y[1])\n",
        "             fontsize = 9, \n",
        "             color='blue',\n",
        "             horizontalalignment='center',  # horizontalalignment (left, center, right)\n",
        "             verticalalignment='bottom')\n",
        "plt.show()"
      ],
      "metadata": {
        "colab": {
          "base_uri": "https://localhost:8080/",
          "height": 374
        },
        "id": "4SIJBmWJEolr",
        "outputId": "635d1784-8752-4c27-ad34-2efc374e00d4"
      },
      "execution_count": null,
      "outputs": [
        {
          "output_type": "display_data",
          "data": {
            "image/png": "[encoded data removed]",
            "text/plain": [
              "<Figure size 864x432 with 1 Axes>"
            ]
          },
          "metadata": {
            "needs_background": "light"
          }
        }
      ]
    },
    {
      "cell_type": "code",
      "source": [
        "knn_results = {\"accuracy\": 0.6348, \"precision\": 0.64396, \"recall\": 0.6348, \"f1\": 0.63658}\n",
        "svm_results = {\"accuracy\": 0.8975, \"precision\": 0.89825, \"recall\": 0.8975, \"f1\": 0.89755}\n",
        "lr_results = {\"accuracy\": 0.8838, \"precision\": 0.88482, \"recall\": 0.8838, \"f1\": 0.88387}\n",
        "nb_results = {\"accuracy\": 0.8703, \"precision\": 0.87088, \"recall\": 0.8703, \"f1\": 0.87035}\n",
        "km_results = {\"accuracy\": 0.5089, \"precision\": 0.50907, \"recall\": 0.5089, \"f1\": 0.50893}\n",
        "sgd_results = {\"accuracy\": 0.8814, \"precision\": 0.88337, \"recall\": 0.8814, \"f1\": 0.88154}\n",
        "dt_results = {\"accuracy\": 0.7201, \"precision\": 0.72013, \"recall\": 0.7201, \"f1\": 0.7201}\n",
        "rf_results = {'accuracy': 0.8645, 'precision': 0.86641, 'recall': 0.8645, 'f1': 0.86465}\n",
        "measures = ('accuracy', 'precision', 'recall', 'f1') \n",
        "models = ('KNN', 'SVM', 'LR', 'NB', 'KM', 'SGD', 'DT', 'RF')\n",
        "\n",
        "results = [knn_results, svm_results, lr_results, nb_results, km_results, sgd_results, dt_results, rf_results]"
      ],
      "metadata": {
        "id": "bDsybnQaFkgo"
      },
      "execution_count": null,
      "outputs": []
    },
    {
      "cell_type": "code",
      "source": [
        "results_data = defaultdict(list)\n",
        "for result in results:\n",
        "  for measure in measures:\n",
        "    results_data[measure].append(result[measure])\n",
        "\n",
        "res_DF = pd.DataFrame.from_dict(results_data)\n",
        "res_DF.insert(0, 'model', models)\n",
        "res_DF"
      ],
      "metadata": {
        "colab": {
          "base_uri": "https://localhost:8080/",
          "height": 300
        },
        "id": "cYnQAhoZGf20",
        "outputId": "90518727-7241-49fd-efe2-12e98f08b9b8"
      },
      "execution_count": null,
      "outputs": [
        {
          "output_type": "execute_result",
          "data": {
            "text/html": [
              "<div>\n",
              "<style scoped>\n",
              "    .dataframe tbody tr th:only-of-type {\n",
              "        vertical-align: middle;\n",
              "    }\n",
              "\n",
              "    .dataframe tbody tr th {\n",
              "        vertical-align: top;\n",
              "    }\n",
              "\n",
              "    .dataframe thead th {\n",
              "        text-align: right;\n",
              "    }\n",
              "</style>\n",
              "<table border=\"1\" class=\"dataframe\">\n",
              "  <thead>\n",
              "    <tr style=\"text-align: right;\">\n",
              "      <th></th>\n",
              "      <th>model</th>\n",
              "      <th>accuracy</th>\n",
              "      <th>precision</th>\n",
              "      <th>recall</th>\n",
              "      <th>f1</th>\n",
              "    </tr>\n",
              "  </thead>\n",
              "  <tbody>\n",
              "    <tr>\n",
              "      <th>0</th>\n",
              "      <td>KNN</td>\n",
              "      <td>0.6348</td>\n",
              "      <td>0.64396</td>\n",
              "      <td>0.6348</td>\n",
              "      <td>0.63658</td>\n",
              "    </tr>\n",
              "    <tr>\n",
              "      <th>1</th>\n",
              "      <td>SVM</td>\n",
              "      <td>0.8975</td>\n",
              "      <td>0.89825</td>\n",
              "      <td>0.8975</td>\n",
              "      <td>0.89755</td>\n",
              "    </tr>\n",
              "    <tr>\n",
              "      <th>2</th>\n",
              "      <td>LR</td>\n",
              "      <td>0.8838</td>\n",
              "      <td>0.88482</td>\n",
              "      <td>0.8838</td>\n",
              "      <td>0.88387</td>\n",
              "    </tr>\n",
              "    <tr>\n",
              "      <th>3</th>\n",
              "      <td>NB</td>\n",
              "      <td>0.8703</td>\n",
              "      <td>0.87088</td>\n",
              "      <td>0.8703</td>\n",
              "      <td>0.87035</td>\n",
              "    </tr>\n",
              "    <tr>\n",
              "      <th>4</th>\n",
              "      <td>KM</td>\n",
              "      <td>0.5089</td>\n",
              "      <td>0.50907</td>\n",
              "      <td>0.5089</td>\n",
              "      <td>0.50893</td>\n",
              "    </tr>\n",
              "    <tr>\n",
              "      <th>5</th>\n",
              "      <td>SGD</td>\n",
              "      <td>0.8814</td>\n",
              "      <td>0.88337</td>\n",
              "      <td>0.8814</td>\n",
              "      <td>0.88154</td>\n",
              "    </tr>\n",
              "    <tr>\n",
              "      <th>6</th>\n",
              "      <td>DT</td>\n",
              "      <td>0.7201</td>\n",
              "      <td>0.72013</td>\n",
              "      <td>0.7201</td>\n",
              "      <td>0.72010</td>\n",
              "    </tr>\n",
              "    <tr>\n",
              "      <th>7</th>\n",
              "      <td>RF</td>\n",
              "      <td>0.8645</td>\n",
              "      <td>0.86641</td>\n",
              "      <td>0.8645</td>\n",
              "      <td>0.86465</td>\n",
              "    </tr>\n",
              "  </tbody>\n",
              "</table>\n",
              "</div>"
            ],
            "text/plain": [
              "  model  accuracy  precision  recall       f1\n",
              "0   KNN    0.6348    0.64396  0.6348  0.63658\n",
              "1   SVM    0.8975    0.89825  0.8975  0.89755\n",
              "2    LR    0.8838    0.88482  0.8838  0.88387\n",
              "3    NB    0.8703    0.87088  0.8703  0.87035\n",
              "4    KM    0.5089    0.50907  0.5089  0.50893\n",
              "5   SGD    0.8814    0.88337  0.8814  0.88154\n",
              "6    DT    0.7201    0.72013  0.7201  0.72010\n",
              "7    RF    0.8645    0.86641  0.8645  0.86465"
            ]
          },
          "metadata": {},
          "execution_count": 14
        }
      ]
    },
    {
      "cell_type": "code",
      "source": [
        "def plot_results(metric):\n",
        "  fig = plt.figure()\n",
        "  ax1 = fig.add_axes((1,1,1,1))\n",
        "  title = metric.capitalize() + ' Results'\n",
        "  ax1.set_title(title)\n",
        "  ax1.set_xlabel('Models')\n",
        "  ax1.set_ylabel(metric.capitalize())\n",
        "  ax1.plot(models,results_data[metric],c='red',linestyle='-',linewidth=1)\n",
        "  ax1.grid(which='major')\n",
        "  ax1.tick_params(direction='in')"
      ],
      "metadata": {
        "id": "9J7ebL7pG5Ik"
      },
      "execution_count": null,
      "outputs": []
    },
    {
      "cell_type": "code",
      "source": [
        "plot_results('accuracy')"
      ],
      "metadata": {
        "colab": {
          "base_uri": "https://localhost:8080/",
          "height": 362
        },
        "id": "y4IfsSQcG-qP",
        "outputId": "1a3a0c5e-1344-4bfb-894c-abfaf68a1a8b"
      },
      "execution_count": null,
      "outputs": [
        {
          "output_type": "display_data",
          "data": {
            "image/png": "[encoded data removed]",
            "text/plain": [
              "<Figure size 432x288 with 1 Axes>"
            ]
          },
          "metadata": {
            "needs_background": "light"
          }
        }
      ]
    },
    {
      "cell_type": "code",
      "source": [
        "plot_results('precision')"
      ],
      "metadata": {
        "colab": {
          "base_uri": "https://localhost:8080/",
          "height": 362
        },
        "id": "Es3W826-HA0W",
        "outputId": "7adac33b-f259-4802-d95b-e7da722233c2"
      },
      "execution_count": null,
      "outputs": [
        {
          "output_type": "display_data",
          "data": {
            "image/png": "[encoded data removed]",
            "text/plain": [
              "<Figure size 432x288 with 1 Axes>"
            ]
          },
          "metadata": {
            "needs_background": "light"
          }
        }
      ]
    },
    {
      "cell_type": "code",
      "source": [
        "plot_results('recall')"
      ],
      "metadata": {
        "colab": {
          "base_uri": "https://localhost:8080/",
          "height": 362
        },
        "id": "Dig-96QaHC_u",
        "outputId": "a82faf52-5286-4abc-9d4c-10837f286ef4"
      },
      "execution_count": null,
      "outputs": [
        {
          "output_type": "display_data",
          "data": {
            "image/png": "[encoded data removed]",
            "text/plain": [
              "<Figure size 432x288 with 1 Axes>"
            ]
          },
          "metadata": {
            "needs_background": "light"
          }
        }
      ]
    },
    {
      "cell_type": "code",
      "source": [
        "plot_results('f1')"
      ],
      "metadata": {
        "colab": {
          "base_uri": "https://localhost:8080/",
          "height": 362
        },
        "id": "QHs4tF1MHE2D",
        "outputId": "8d438098-31a6-46e8-9b1b-31593cc3ef1f"
      },
      "execution_count": null,
      "outputs": [
        {
          "output_type": "display_data",
          "data": {
            "image/png": "[encoded data removed]",
            "text/plain": [
              "<Figure size 432x288 with 1 Axes>"
            ]
          },
          "metadata": {
            "needs_background": "light"
          }
        }
      ]
    }
  ]
}