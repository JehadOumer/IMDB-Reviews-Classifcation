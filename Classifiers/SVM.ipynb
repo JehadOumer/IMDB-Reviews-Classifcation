{
  "nbformat": 4,
  "nbformat_minor": 0,
  "metadata": {
    "colab": {
      "name": "SVM.ipynb",
      "provenance": [],
      "mount_file_id": "https://github.com/JehadOumer/IMDB-Reviews-Classification/blob/main/SVM.ipynb",
      "authorship_tag": "ABX9TyNaDgGp2d8GG31tXmR/v1pz",
      "include_colab_link": true
    },
    "kernelspec": {
      "name": "python3",
      "display_name": "Python 3"
    },
    "language_info": {
      "name": "python"
    }
  },
  "cells": [
    {
      "cell_type": "markdown",
      "metadata": {
        "id": "view-in-github",
        "colab_type": "text"
      },
      "source": [
        "<a href=\"https://colab.research.google.com/github/JehadOumer/IMDB-Reviews-Classification/blob/main/Classifiers/SVM.ipynb\" target=\"_parent\"><img src=\"https://colab.research.google.com/assets/colab-badge.svg\" alt=\"Open In Colab\"/></a>"
      ]
    },
    {
      "cell_type": "code",
      "execution_count": 1,
      "metadata": {
        "id": "jVMFCeNjB-k5"
      },
      "outputs": [],
      "source": [
        "import pandas as pd\n",
        "import numpy as np \n",
        "import matplotlib.pyplot as plt\n",
        "from sklearn.svm import SVC, LinearSVC\n",
        "from sklearn.pipeline import Pipeline\n",
        "from sklearn.feature_extraction.text import CountVectorizer, TfidfTransformer\n",
        "from sklearn.metrics import classification_report, accuracy_score, precision_score, recall_score, f1_score\n",
        "import json"
      ]
    },
    {
      "cell_type": "code",
      "source": [
        "training = pd.read_csv('/content/drive/MyDrive/IMDB Review Dataset Processed/processed_training_data.csv')\n",
        "validation = pd.read_csv('/content/drive/MyDrive/IMDB Review Dataset Processed/processed_validation_data.csv')\n",
        "testing = pd.read_csv('/content/drive/MyDrive/IMDB Review Dataset Processed/processed_testing_data.csv')"
      ],
      "metadata": {
        "id": "Ers0GyPYDCvS"
      },
      "execution_count": 3,
      "outputs": []
    },
    {
      "cell_type": "code",
      "source": [
        "training.head(5)"
      ],
      "metadata": {
        "colab": {
          "base_uri": "https://localhost:8080/",
          "height": 206
        },
        "id": "kz7iJhmTDdaz",
        "outputId": "a05c7116-bc1a-4018-d904-65bf99e41c66"
      },
      "execution_count": null,
      "outputs": [
        {
          "output_type": "execute_result",
          "data": {
            "text/html": [
              "<div>\n",
              "<style scoped>\n",
              "    .dataframe tbody tr th:only-of-type {\n",
              "        vertical-align: middle;\n",
              "    }\n",
              "\n",
              "    .dataframe tbody tr th {\n",
              "        vertical-align: top;\n",
              "    }\n",
              "\n",
              "    .dataframe thead th {\n",
              "        text-align: right;\n",
              "    }\n",
              "</style>\n",
              "<table border=\"1\" class=\"dataframe\">\n",
              "  <thead>\n",
              "    <tr style=\"text-align: right;\">\n",
              "      <th></th>\n",
              "      <th>Unnamed: 0</th>\n",
              "      <th>label</th>\n",
              "      <th>text</th>\n",
              "    </tr>\n",
              "  </thead>\n",
              "  <tbody>\n",
              "    <tr>\n",
              "      <th>0</th>\n",
              "      <td>0</td>\n",
              "      <td>0</td>\n",
              "      <td>this be an absolutely terrible movie do not be...</td>\n",
              "    </tr>\n",
              "    <tr>\n",
              "      <th>1</th>\n",
              "      <td>1</td>\n",
              "      <td>0</td>\n",
              "      <td>pron have be know to fall asleep during film b...</td>\n",
              "    </tr>\n",
              "    <tr>\n",
              "      <th>2</th>\n",
              "      <td>2</td>\n",
              "      <td>0</td>\n",
              "      <td>person photograph org in a superb fashion and ...</td>\n",
              "    </tr>\n",
              "    <tr>\n",
              "      <th>3</th>\n",
              "      <td>3</td>\n",
              "      <td>1</td>\n",
              "      <td>this be the kind of film for a snowy date time...</td>\n",
              "    </tr>\n",
              "    <tr>\n",
              "      <th>4</th>\n",
              "      <td>4</td>\n",
              "      <td>1</td>\n",
              "      <td>as other have mention all the woman that go nu...</td>\n",
              "    </tr>\n",
              "  </tbody>\n",
              "</table>\n",
              "</div>"
            ],
            "text/plain": [
              "   Unnamed: 0  label                                               text\n",
              "0           0      0  this be an absolutely terrible movie do not be...\n",
              "1           1      0  pron have be know to fall asleep during film b...\n",
              "2           2      0  person photograph org in a superb fashion and ...\n",
              "3           3      1  this be the kind of film for a snowy date time...\n",
              "4           4      1  as other have mention all the woman that go nu..."
            ]
          },
          "metadata": {},
          "execution_count": 15
        }
      ]
    },
    {
      "cell_type": "code",
      "source": [
        "count_vectorizer = CountVectorizer(stop_words='english', ngram_range=(1,2))\n",
        "count_vectorizer.fit(training['text'])\n",
        "vectorized = count_vectorizer.transform(training['text'])\n",
        "print(dict(list(count_vectorizer.vocabulary_.items())[0:8]))\n",
        "print('The transformed data matrix dimensions:', vectorized.shape)"
      ],
      "metadata": {
        "colab": {
          "base_uri": "https://localhost:8080/"
        },
        "id": "6Uf4wDGgD4e3",
        "outputId": "2985c90f-d86e-4302-e3e9-44db49b60808"
      },
      "execution_count": 4,
      "outputs": [
        {
          "output_type": "stream",
          "name": "stdout",
          "text": [
            "{'absolutely': 8291, 'terrible': 1137108, 'movie': 719798, 'lure': 662867, 'person': 813247, 'great': 482769, 'actor': 18086, 'simply': 1034229}\n",
            "The transformed data matrix dimensions: (30000, 1279860)\n"
          ]
        }
      ]
    },
    {
      "cell_type": "code",
      "source": [
        "tfidf_transformer = TfidfTransformer()\n",
        "tfidf_transformer.fit(vectorized)\n",
        "transformed_tfidf = tfidf_transformer.transform(vectorized)\n",
        "print(transformed_tfidf.shape)\n",
        "print(transformed_tfidf[2])\n"
      ],
      "metadata": {
        "colab": {
          "base_uri": "https://localhost:8080/"
        },
        "id": "mXblHTp-FnOz",
        "outputId": "b21212d2-c4b5-4df1-99df-80e691ccbe16"
      },
      "execution_count": 5,
      "outputs": [
        {
          "output_type": "stream",
          "name": "stdout",
          "text": [
            "(30000, 1279860)\n",
            "  (0, 1276252)\t0.12744135201161827\n",
            "  (0, 1275965)\t0.04746691098944858\n",
            "  (0, 1251329)\t0.10408102932206548\n",
            "  (0, 1251092)\t0.06380597224781188\n",
            "  (0, 1246086)\t0.12744135201161827\n",
            "  (0, 1246071)\t0.07117770774248602\n",
            "  (0, 1220044)\t0.1225738118688427\n",
            "  (0, 1219426)\t0.04422434335648769\n",
            "  (0, 1185186)\t0.12744135201161827\n",
            "  (0, 1184992)\t0.04817839949422897\n",
            "  (0, 1164539)\t0.12744135201161827\n",
            "  (0, 1164025)\t0.051529252645216794\n",
            "  (0, 1134139)\t0.08928935252811744\n",
            "  (0, 1133577)\t0.03647313765762613\n",
            "  (0, 1110255)\t0.12744135201161827\n",
            "  (0, 1110138)\t0.05681306038752741\n",
            "  (0, 1092384)\t0.12744135201161827\n",
            "  (0, 1092302)\t0.055849589195996883\n",
            "  (0, 1018746)\t0.07809100556846\n",
            "  (0, 1018663)\t0.06877875266100374\n",
            "  (0, 978038)\t0.12744135201161827\n",
            "  (0, 977927)\t0.06769650396744183\n",
            "  (0, 951777)\t0.11912023717643695\n",
            "  (0, 951702)\t0.06693467313665075\n",
            "  (0, 946927)\t0.10325278155225119\n",
            "  :\t:\n",
            "  (0, 352265)\t0.10710664020607569\n",
            "  (0, 350132)\t0.11912023717643695\n",
            "  (0, 350126)\t0.09533864911921466\n",
            "  (0, 339882)\t0.10812032169502675\n",
            "  (0, 339846)\t0.08546636927052326\n",
            "  (0, 306561)\t0.07779937589702504\n",
            "  (0, 269888)\t0.12744135201161827\n",
            "  (0, 269885)\t0.11425269703366138\n",
            "  (0, 230158)\t0.1225738118688427\n",
            "  (0, 229786)\t0.05757223940177155\n",
            "  (0, 211522)\t0.12744135201161827\n",
            "  (0, 211510)\t0.059190537781148536\n",
            "  (0, 204534)\t0.07128886438023495\n",
            "  (0, 203638)\t0.0286698908913288\n",
            "  (0, 145204)\t0.12744135201161827\n",
            "  (0, 145089)\t0.11079912234125563\n",
            "  (0, 145078)\t0.1489329075782261\n",
            "  (0, 120438)\t0.11425269703366138\n",
            "  (0, 120347)\t0.07191933451189951\n",
            "  (0, 91719)\t0.08201279457811753\n",
            "  (0, 91422)\t0.056964489837514516\n",
            "  (0, 52837)\t0.12744135201161827\n",
            "  (0, 52230)\t0.04454496621180808\n",
            "  (0, 41601)\t0.12744135201161827\n",
            "  (0, 40896)\t0.04744390587648566\n"
          ]
        }
      ]
    },
    {
      "cell_type": "code",
      "source": [
        "pipeline = Pipeline([\n",
        "        ('count_vectorizer', CountVectorizer(stop_words='english', ngram_range=(1,2))),  \n",
        "        ('tfidf_transformer', TfidfTransformer()),  \n",
        "        ('classifier', LinearSVC())\n",
        "    ])"
      ],
      "metadata": {
        "id": "JGjzRNi1HxkR"
      },
      "execution_count": 6,
      "outputs": []
    },
    {
      "cell_type": "code",
      "source": [
        "pipeline.fit(training['text'], training['label'])\n",
        "prediction = pipeline.predict(validation['text'])\n"
      ],
      "metadata": {
        "id": "rb7nYeVnHyYC"
      },
      "execution_count": 7,
      "outputs": []
    },
    {
      "cell_type": "code",
      "source": [
        "print(classification_report(validation['label'], prediction))"
      ],
      "metadata": {
        "colab": {
          "base_uri": "https://localhost:8080/"
        },
        "id": "LX6a0jReH-hy",
        "outputId": "26250c44-f0bb-4009-8367-f0befffa7991"
      },
      "execution_count": 8,
      "outputs": [
        {
          "output_type": "stream",
          "name": "stdout",
          "text": [
            "              precision    recall  f1-score   support\n",
            "\n",
            "           0       0.90      0.88      0.89      5025\n",
            "           1       0.88      0.90      0.89      4975\n",
            "\n",
            "    accuracy                           0.89     10000\n",
            "   macro avg       0.89      0.89      0.89     10000\n",
            "weighted avg       0.89      0.89      0.89     10000\n",
            "\n"
          ]
        }
      ]
    },
    {
      "cell_type": "code",
      "source": [
        "def get_metrics(predicted,true):\n",
        "    metrics = dict()\n",
        "    metrics['accuracy'] = round(accuracy_score(predicted, true), 5)\n",
        "    metrics['precision'] = round(precision_score(predicted, true, average = 'weighted'), 5)\n",
        "    metrics['recall'] = round(recall_score(predicted, true, average = 'weighted'), 5)\n",
        "    metrics['f1'] = round(f1_score(predicted, true, average = 'weighted'), 5)\n",
        "    \n",
        "    return metrics"
      ],
      "metadata": {
        "id": "PKU73EdNIPxT"
      },
      "execution_count": 9,
      "outputs": []
    },
    {
      "cell_type": "code",
      "source": [
        "metrics = get_metrics(prediction, validation['label'])\n",
        "print(metrics)"
      ],
      "metadata": {
        "colab": {
          "base_uri": "https://localhost:8080/"
        },
        "id": "A_Sy8pQWIXhh",
        "outputId": "8ac2c3b1-4751-4981-87b3-e943a82f12b8"
      },
      "execution_count": 10,
      "outputs": [
        {
          "output_type": "stream",
          "name": "stdout",
          "text": [
            "{'accuracy': 0.8874, 'precision': 0.88761, 'recall': 0.8874, 'f1': 0.88741}\n"
          ]
        }
      ]
    },
    {
      "cell_type": "code",
      "source": [
        "with open(\"SVM_results.json\", \"w\") as output:\n",
        "    json.dump(metrics, output)"
      ],
      "metadata": {
        "id": "-3GD5l56IaMJ"
      },
      "execution_count": 11,
      "outputs": []
    }
  ]
}