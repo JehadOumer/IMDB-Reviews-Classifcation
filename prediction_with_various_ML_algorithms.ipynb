{
  "nbformat": 4,
  "nbformat_minor": 0,
  "metadata": {
    "colab": {
      "name": "prediction with various ML algorithms.ipynb",
      "provenance": [],
      "collapsed_sections": [
        "-bmwSqd2ve24",
        "SF5a8zVtvlVm",
        "ly6NQJzhgdpR",
        "qVdFK-uNgiaS",
        "HkxkMl3civR4",
        "29JFFMnEkB7i",
        "tWYUJcW5laWG",
        "DpBUr4LdluMl",
        "9tbJbEbHmPHX",
        "o8RzwSmSmlIT",
        "ZP21pngjm2vR"
      ]
    },
    "kernelspec": {
      "name": "python3",
      "display_name": "Python 3"
    },
    "language_info": {
      "name": "python"
    }
  },
  "cells": [
    {
      "cell_type": "markdown",
      "source": [
        "#Load data"
      ],
      "metadata": {
        "id": "-bmwSqd2ve24"
      }
    },
    {
      "cell_type": "code",
      "execution_count": 30,
      "metadata": {
        "id": "jVMFCeNjB-k5"
      },
      "outputs": [],
      "source": [
        "import pandas as pd\n",
        "import numpy as np \n",
        "import matplotlib.pyplot as plt\n",
        "from sklearn.svm import SVC, LinearSVC\n",
        "from sklearn.pipeline import Pipeline\n",
        "from sklearn.feature_extraction.text import CountVectorizer, TfidfTransformer\n",
        "from sklearn.metrics import classification_report, accuracy_score, precision_score, recall_score, f1_score\n",
        "import json"
      ]
    },
    {
      "cell_type": "code",
      "source": [
        "from google.colab import drive\n",
        "drive.mount('/content/drive')"
      ],
      "metadata": {
        "id": "sjsyQEwJMOCT",
        "outputId": "56ceffa2-1471-44fb-cde3-c8f930f7ddd6",
        "colab": {
          "base_uri": "https://localhost:8080/"
        }
      },
      "execution_count": 31,
      "outputs": [
        {
          "output_type": "stream",
          "name": "stdout",
          "text": [
            "Drive already mounted at /content/drive; to attempt to forcibly remount, call drive.mount(\"/content/drive\", force_remount=True).\n"
          ]
        }
      ]
    },
    {
      "cell_type": "code",
      "source": [
        "training = pd.read_csv('/content/drive/MyDrive/dataset/processed_training_data.csv')\n",
        "validation = pd.read_csv('/content/drive/MyDrive/dataset/processed_validation_data.csv')\n",
        "testing = pd.read_csv('/content/drive/MyDrive/dataset/processed_testing_data.csv')"
      ],
      "metadata": {
        "id": "Ers0GyPYDCvS"
      },
      "execution_count": 32,
      "outputs": []
    },
    {
      "cell_type": "code",
      "source": [
        "training.head(5)"
      ],
      "metadata": {
        "id": "kz7iJhmTDdaz",
        "colab": {
          "base_uri": "https://localhost:8080/",
          "height": 206
        },
        "outputId": "62fd14ec-2e73-4a95-8463-0d745d59a0a2"
      },
      "execution_count": 33,
      "outputs": [
        {
          "output_type": "execute_result",
          "data": {
            "text/html": [
              "<div>\n",
              "<style scoped>\n",
              "    .dataframe tbody tr th:only-of-type {\n",
              "        vertical-align: middle;\n",
              "    }\n",
              "\n",
              "    .dataframe tbody tr th {\n",
              "        vertical-align: top;\n",
              "    }\n",
              "\n",
              "    .dataframe thead th {\n",
              "        text-align: right;\n",
              "    }\n",
              "</style>\n",
              "<table border=\"1\" class=\"dataframe\">\n",
              "  <thead>\n",
              "    <tr style=\"text-align: right;\">\n",
              "      <th></th>\n",
              "      <th>Unnamed: 0</th>\n",
              "      <th>label</th>\n",
              "      <th>text</th>\n",
              "    </tr>\n",
              "  </thead>\n",
              "  <tbody>\n",
              "    <tr>\n",
              "      <th>0</th>\n",
              "      <td>0</td>\n",
              "      <td>0</td>\n",
              "      <td>this be an absolutely terrible movie do not be...</td>\n",
              "    </tr>\n",
              "    <tr>\n",
              "      <th>1</th>\n",
              "      <td>1</td>\n",
              "      <td>0</td>\n",
              "      <td>pron have be know to fall asleep during film b...</td>\n",
              "    </tr>\n",
              "    <tr>\n",
              "      <th>2</th>\n",
              "      <td>2</td>\n",
              "      <td>0</td>\n",
              "      <td>person photograph org in a superb fashion and ...</td>\n",
              "    </tr>\n",
              "    <tr>\n",
              "      <th>3</th>\n",
              "      <td>3</td>\n",
              "      <td>1</td>\n",
              "      <td>this be the kind of film for a snowy date time...</td>\n",
              "    </tr>\n",
              "    <tr>\n",
              "      <th>4</th>\n",
              "      <td>4</td>\n",
              "      <td>1</td>\n",
              "      <td>as other have mention all the woman that go nu...</td>\n",
              "    </tr>\n",
              "  </tbody>\n",
              "</table>\n",
              "</div>"
            ],
            "text/plain": [
              "   Unnamed: 0  label                                               text\n",
              "0           0      0  this be an absolutely terrible movie do not be...\n",
              "1           1      0  pron have be know to fall asleep during film b...\n",
              "2           2      0  person photograph org in a superb fashion and ...\n",
              "3           3      1  this be the kind of film for a snowy date time...\n",
              "4           4      1  as other have mention all the woman that go nu..."
            ]
          },
          "metadata": {},
          "execution_count": 33
        }
      ]
    },
    {
      "cell_type": "markdown",
      "source": [
        "#Vectorization"
      ],
      "metadata": {
        "id": "SF5a8zVtvlVm"
      }
    },
    {
      "cell_type": "code",
      "source": [
        "count_vectorizer = CountVectorizer(stop_words='english', ngram_range=(1,2))\n",
        "count_vectorizer.fit(training['text'])\n",
        "vectorized = count_vectorizer.transform(training['text'])\n",
        "print(dict(list(count_vectorizer.vocabulary_.items())[0:8]))\n",
        "print('The transformed data matrix dimensions:', vectorized.shape)"
      ],
      "metadata": {
        "id": "6Uf4wDGgD4e3",
        "colab": {
          "base_uri": "https://localhost:8080/"
        },
        "outputId": "713b190b-e389-421e-e171-f610d1962dd8"
      },
      "execution_count": 34,
      "outputs": [
        {
          "output_type": "stream",
          "name": "stdout",
          "text": [
            "{'absolutely': 8291, 'terrible': 1137108, 'movie': 719798, 'lure': 662867, 'person': 813247, 'great': 482769, 'actor': 18086, 'simply': 1034229}\n",
            "The transformed data matrix dimensions: (30000, 1279860)\n"
          ]
        }
      ]
    },
    {
      "cell_type": "code",
      "source": [
        "tfidf_transformer = TfidfTransformer()\n",
        "tfidf_transformer.fit(vectorized)\n",
        "transformed_tfidf = tfidf_transformer.transform(vectorized)\n",
        "print(transformed_tfidf.shape)\n",
        "print(transformed_tfidf[2])\n"
      ],
      "metadata": {
        "id": "mXblHTp-FnOz",
        "colab": {
          "base_uri": "https://localhost:8080/"
        },
        "outputId": "7b006227-5eff-42b7-a3d0-7e6aebd66674"
      },
      "execution_count": 35,
      "outputs": [
        {
          "output_type": "stream",
          "name": "stdout",
          "text": [
            "(30000, 1279860)\n",
            "  (0, 1276252)\t0.12744135201161827\n",
            "  (0, 1275965)\t0.04746691098944858\n",
            "  (0, 1251329)\t0.10408102932206548\n",
            "  (0, 1251092)\t0.06380597224781188\n",
            "  (0, 1246086)\t0.12744135201161827\n",
            "  (0, 1246071)\t0.07117770774248602\n",
            "  (0, 1220044)\t0.1225738118688427\n",
            "  (0, 1219426)\t0.04422434335648769\n",
            "  (0, 1185186)\t0.12744135201161827\n",
            "  (0, 1184992)\t0.04817839949422897\n",
            "  (0, 1164539)\t0.12744135201161827\n",
            "  (0, 1164025)\t0.051529252645216794\n",
            "  (0, 1134139)\t0.08928935252811744\n",
            "  (0, 1133577)\t0.03647313765762613\n",
            "  (0, 1110255)\t0.12744135201161827\n",
            "  (0, 1110138)\t0.05681306038752741\n",
            "  (0, 1092384)\t0.12744135201161827\n",
            "  (0, 1092302)\t0.055849589195996883\n",
            "  (0, 1018746)\t0.07809100556846\n",
            "  (0, 1018663)\t0.06877875266100374\n",
            "  (0, 978038)\t0.12744135201161827\n",
            "  (0, 977927)\t0.06769650396744183\n",
            "  (0, 951777)\t0.11912023717643695\n",
            "  (0, 951702)\t0.06693467313665075\n",
            "  (0, 946927)\t0.10325278155225119\n",
            "  :\t:\n",
            "  (0, 352265)\t0.10710664020607569\n",
            "  (0, 350132)\t0.11912023717643695\n",
            "  (0, 350126)\t0.09533864911921466\n",
            "  (0, 339882)\t0.10812032169502675\n",
            "  (0, 339846)\t0.08546636927052326\n",
            "  (0, 306561)\t0.07779937589702504\n",
            "  (0, 269888)\t0.12744135201161827\n",
            "  (0, 269885)\t0.11425269703366138\n",
            "  (0, 230158)\t0.1225738118688427\n",
            "  (0, 229786)\t0.05757223940177155\n",
            "  (0, 211522)\t0.12744135201161827\n",
            "  (0, 211510)\t0.059190537781148536\n",
            "  (0, 204534)\t0.07128886438023495\n",
            "  (0, 203638)\t0.0286698908913288\n",
            "  (0, 145204)\t0.12744135201161827\n",
            "  (0, 145089)\t0.11079912234125563\n",
            "  (0, 145078)\t0.1489329075782261\n",
            "  (0, 120438)\t0.11425269703366138\n",
            "  (0, 120347)\t0.07191933451189951\n",
            "  (0, 91719)\t0.08201279457811753\n",
            "  (0, 91422)\t0.056964489837514516\n",
            "  (0, 52837)\t0.12744135201161827\n",
            "  (0, 52230)\t0.04454496621180808\n",
            "  (0, 41601)\t0.12744135201161827\n",
            "  (0, 40896)\t0.04744390587648566\n"
          ]
        }
      ]
    },
    {
      "cell_type": "code",
      "source": [
        "def get_metrics(predicted,true):\n",
        "    metrics = dict()\n",
        "    metrics['accuracy'] = round(accuracy_score(predicted, true), 5)\n",
        "    metrics['precision'] = round(precision_score(predicted, true, average = 'weighted'), 5)\n",
        "    metrics['recall'] = round(recall_score(predicted, true, average = 'weighted'), 5)\n",
        "    metrics['f1'] = round(f1_score(predicted, true, average = 'weighted'), 5)\n",
        "    \n",
        "    return metrics"
      ],
      "metadata": {
        "id": "PKU73EdNIPxT"
      },
      "execution_count": 36,
      "outputs": []
    },
    {
      "cell_type": "markdown",
      "source": [
        "#SVM(0.886)"
      ],
      "metadata": {
        "id": "ly6NQJzhgdpR"
      }
    },
    {
      "cell_type": "code",
      "source": [
        "pipeline_SVM = Pipeline([\n",
        "        ('count_vectorizer', CountVectorizer()),  \n",
        "        ('tfidf_transformer', TfidfTransformer()),  \n",
        "        ('classifier', LinearSVC())\n",
        "    ])"
      ],
      "metadata": {
        "id": "JGjzRNi1HxkR"
      },
      "execution_count": 71,
      "outputs": []
    },
    {
      "cell_type": "code",
      "source": [
        "pipeline_SVM.fit(training['text'], training['label'])\n",
        "prediction_SVM = pipeline_SVM.predict(validation['text'])\n"
      ],
      "metadata": {
        "id": "rb7nYeVnHyYC"
      },
      "execution_count": 72,
      "outputs": []
    },
    {
      "cell_type": "code",
      "source": [
        "print(classification_report(validation['label'], prediction_SVM))"
      ],
      "metadata": {
        "id": "LX6a0jReH-hy",
        "colab": {
          "base_uri": "https://localhost:8080/"
        },
        "outputId": "1ff3e2e5-d075-4973-b8d3-aea9c6971ed0"
      },
      "execution_count": 73,
      "outputs": [
        {
          "output_type": "stream",
          "name": "stdout",
          "text": [
            "              precision    recall  f1-score   support\n",
            "\n",
            "           0       0.89      0.89      0.89      5025\n",
            "           1       0.88      0.89      0.89      4975\n",
            "\n",
            "    accuracy                           0.89     10000\n",
            "   macro avg       0.89      0.89      0.89     10000\n",
            "weighted avg       0.89      0.89      0.89     10000\n",
            "\n"
          ]
        }
      ]
    },
    {
      "cell_type": "code",
      "source": [
        "metrics_SVM = get_metrics(prediction_SVM, validation['label'])\n",
        "print(metrics_SVM)"
      ],
      "metadata": {
        "id": "A_Sy8pQWIXhh",
        "colab": {
          "base_uri": "https://localhost:8080/"
        },
        "outputId": "42152174-ed73-461b-ee7e-c2bdffc78982"
      },
      "execution_count": 74,
      "outputs": [
        {
          "output_type": "stream",
          "name": "stdout",
          "text": [
            "{'accuracy': 0.886, 'precision': 0.886, 'recall': 0.886, 'f1': 0.886}\n"
          ]
        }
      ]
    },
    {
      "cell_type": "code",
      "source": [
        "with open(\"SVM_results.json\", \"w\") as output:\n",
        "    json.dump(metrics_SVM, output)"
      ],
      "metadata": {
        "id": "-3GD5l56IaMJ"
      },
      "execution_count": 41,
      "outputs": []
    },
    {
      "cell_type": "markdown",
      "source": [
        "#LogisticRegression(0.8864)"
      ],
      "metadata": {
        "id": "qVdFK-uNgiaS"
      }
    },
    {
      "cell_type": "code",
      "source": [
        "from sklearn.linear_model import LogisticRegression\n",
        "\n",
        "pipeline_LR = Pipeline([\n",
        "        ('count_vectorizer', CountVectorizer()),  \n",
        "        ('tfidf_transformer', TfidfTransformer()),  \n",
        "        ('classifier', LogisticRegression())\n",
        "    ])\n",
        "\n",
        "pipeline_LR.fit(training['text'], training['label'])\n",
        "prediction_LR = pipeline_LR.predict(validation['text'])\n",
        "\n",
        "print(classification_report(validation['label'], prediction_LR))"
      ],
      "metadata": {
        "colab": {
          "base_uri": "https://localhost:8080/"
        },
        "id": "heFtVI1tgp2e",
        "outputId": "8531a230-a7d4-4fba-af7a-72ebcf5f762d"
      },
      "execution_count": 42,
      "outputs": [
        {
          "output_type": "stream",
          "name": "stdout",
          "text": [
            "              precision    recall  f1-score   support\n",
            "\n",
            "           0       0.89      0.88      0.89      5025\n",
            "           1       0.88      0.89      0.89      4975\n",
            "\n",
            "    accuracy                           0.89     10000\n",
            "   macro avg       0.89      0.89      0.89     10000\n",
            "weighted avg       0.89      0.89      0.89     10000\n",
            "\n"
          ]
        }
      ]
    },
    {
      "cell_type": "code",
      "source": [
        "metrics_LR = get_metrics(prediction_LR, validation['label'])\n",
        "print(metrics_LR)"
      ],
      "metadata": {
        "colab": {
          "base_uri": "https://localhost:8080/"
        },
        "id": "DrdFwhuohLfT",
        "outputId": "c9ad6d2b-7013-44d4-f425-d050da9a7b6c"
      },
      "execution_count": 43,
      "outputs": [
        {
          "output_type": "stream",
          "name": "stdout",
          "text": [
            "{'accuracy': 0.8864, 'precision': 0.88641, 'recall': 0.8864, 'f1': 0.8864}\n"
          ]
        }
      ]
    },
    {
      "cell_type": "code",
      "source": [
        "models.append('LR')\n",
        "acc.append(metrics_LR['accuracy'])"
      ],
      "metadata": {
        "id": "WE2Ls2rDxcWs"
      },
      "execution_count": 84,
      "outputs": []
    },
    {
      "cell_type": "markdown",
      "source": [
        "#Naive Bayes Classifier(X)"
      ],
      "metadata": {
        "id": "HkxkMl3civR4"
      }
    },
    {
      "cell_type": "code",
      "source": [
        "from sklearn.naive_bayes import GaussianNB\n",
        "\n",
        "pipeline_NB = Pipeline([\n",
        "        ('count_vectorizer', CountVectorizer()),  \n",
        "        ('tfidf_transformer', TfidfTransformer()),  \n",
        "        ('classifier', GaussianNB())\n",
        "    ])\n",
        "\n",
        "pipeline_NB.fit(training['text'], training['label'])\n",
        "prediction_NB = pipeline_NB.predict(validation['text'])\n",
        "\n",
        "print(classification_report(validation['label'], prediction_NB))"
      ],
      "metadata": {
        "colab": {
          "base_uri": "https://localhost:8080/",
          "height": 416
        },
        "id": "gdq-92Jfi_NU",
        "outputId": "f3313ec1-6204-4e94-b9c0-a77b35861c10"
      },
      "execution_count": 52,
      "outputs": [
        {
          "output_type": "error",
          "ename": "TypeError",
          "evalue": "ignored",
          "traceback": [
            "\u001b[0;31m---------------------------------------------------------------------------\u001b[0m",
            "\u001b[0;31mTypeError\u001b[0m                                 Traceback (most recent call last)",
            "\u001b[0;32m<ipython-input-52-812f290ad76d>\u001b[0m in \u001b[0;36m<module>\u001b[0;34m()\u001b[0m\n\u001b[1;32m      7\u001b[0m     ])\n\u001b[1;32m      8\u001b[0m \u001b[0;34m\u001b[0m\u001b[0m\n\u001b[0;32m----> 9\u001b[0;31m \u001b[0mpipeline_NB\u001b[0m\u001b[0;34m.\u001b[0m\u001b[0mfit\u001b[0m\u001b[0;34m(\u001b[0m\u001b[0mtraining\u001b[0m\u001b[0;34m[\u001b[0m\u001b[0;34m'text'\u001b[0m\u001b[0;34m]\u001b[0m\u001b[0;34m,\u001b[0m \u001b[0mtraining\u001b[0m\u001b[0;34m[\u001b[0m\u001b[0;34m'label'\u001b[0m\u001b[0;34m]\u001b[0m\u001b[0;34m)\u001b[0m\u001b[0;34m\u001b[0m\u001b[0;34m\u001b[0m\u001b[0m\n\u001b[0m\u001b[1;32m     10\u001b[0m \u001b[0mprediction_NB\u001b[0m \u001b[0;34m=\u001b[0m \u001b[0mpipeline_NB\u001b[0m\u001b[0;34m.\u001b[0m\u001b[0mpredict\u001b[0m\u001b[0;34m(\u001b[0m\u001b[0mvalidation\u001b[0m\u001b[0;34m[\u001b[0m\u001b[0;34m'text'\u001b[0m\u001b[0;34m]\u001b[0m\u001b[0;34m)\u001b[0m\u001b[0;34m\u001b[0m\u001b[0;34m\u001b[0m\u001b[0m\n\u001b[1;32m     11\u001b[0m \u001b[0;34m\u001b[0m\u001b[0m\n",
            "\u001b[0;32m/usr/local/lib/python3.7/dist-packages/sklearn/pipeline.py\u001b[0m in \u001b[0;36mfit\u001b[0;34m(self, X, y, **fit_params)\u001b[0m\n\u001b[1;32m    392\u001b[0m             \u001b[0;32mif\u001b[0m \u001b[0mself\u001b[0m\u001b[0;34m.\u001b[0m\u001b[0m_final_estimator\u001b[0m \u001b[0;34m!=\u001b[0m \u001b[0;34m\"passthrough\"\u001b[0m\u001b[0;34m:\u001b[0m\u001b[0;34m\u001b[0m\u001b[0;34m\u001b[0m\u001b[0m\n\u001b[1;32m    393\u001b[0m                 \u001b[0mfit_params_last_step\u001b[0m \u001b[0;34m=\u001b[0m \u001b[0mfit_params_steps\u001b[0m\u001b[0;34m[\u001b[0m\u001b[0mself\u001b[0m\u001b[0;34m.\u001b[0m\u001b[0msteps\u001b[0m\u001b[0;34m[\u001b[0m\u001b[0;34m-\u001b[0m\u001b[0;36m1\u001b[0m\u001b[0;34m]\u001b[0m\u001b[0;34m[\u001b[0m\u001b[0;36m0\u001b[0m\u001b[0;34m]\u001b[0m\u001b[0;34m]\u001b[0m\u001b[0;34m\u001b[0m\u001b[0;34m\u001b[0m\u001b[0m\n\u001b[0;32m--> 394\u001b[0;31m                 \u001b[0mself\u001b[0m\u001b[0;34m.\u001b[0m\u001b[0m_final_estimator\u001b[0m\u001b[0;34m.\u001b[0m\u001b[0mfit\u001b[0m\u001b[0;34m(\u001b[0m\u001b[0mXt\u001b[0m\u001b[0;34m,\u001b[0m \u001b[0my\u001b[0m\u001b[0;34m,\u001b[0m \u001b[0;34m**\u001b[0m\u001b[0mfit_params_last_step\u001b[0m\u001b[0;34m)\u001b[0m\u001b[0;34m\u001b[0m\u001b[0;34m\u001b[0m\u001b[0m\n\u001b[0m\u001b[1;32m    395\u001b[0m \u001b[0;34m\u001b[0m\u001b[0m\n\u001b[1;32m    396\u001b[0m         \u001b[0;32mreturn\u001b[0m \u001b[0mself\u001b[0m\u001b[0;34m\u001b[0m\u001b[0;34m\u001b[0m\u001b[0m\n",
            "\u001b[0;32m/usr/local/lib/python3.7/dist-packages/sklearn/naive_bayes.py\u001b[0m in \u001b[0;36mfit\u001b[0;34m(self, X, y, sample_weight)\u001b[0m\n\u001b[1;32m    244\u001b[0m         \u001b[0my\u001b[0m \u001b[0;34m=\u001b[0m \u001b[0mself\u001b[0m\u001b[0;34m.\u001b[0m\u001b[0m_validate_data\u001b[0m\u001b[0;34m(\u001b[0m\u001b[0my\u001b[0m\u001b[0;34m=\u001b[0m\u001b[0my\u001b[0m\u001b[0;34m)\u001b[0m\u001b[0;34m\u001b[0m\u001b[0;34m\u001b[0m\u001b[0m\n\u001b[1;32m    245\u001b[0m         return self._partial_fit(\n\u001b[0;32m--> 246\u001b[0;31m             \u001b[0mX\u001b[0m\u001b[0;34m,\u001b[0m \u001b[0my\u001b[0m\u001b[0;34m,\u001b[0m \u001b[0mnp\u001b[0m\u001b[0;34m.\u001b[0m\u001b[0munique\u001b[0m\u001b[0;34m(\u001b[0m\u001b[0my\u001b[0m\u001b[0;34m)\u001b[0m\u001b[0;34m,\u001b[0m \u001b[0m_refit\u001b[0m\u001b[0;34m=\u001b[0m\u001b[0;32mTrue\u001b[0m\u001b[0;34m,\u001b[0m \u001b[0msample_weight\u001b[0m\u001b[0;34m=\u001b[0m\u001b[0msample_weight\u001b[0m\u001b[0;34m\u001b[0m\u001b[0;34m\u001b[0m\u001b[0m\n\u001b[0m\u001b[1;32m    247\u001b[0m         )\n\u001b[1;32m    248\u001b[0m \u001b[0;34m\u001b[0m\u001b[0m\n",
            "\u001b[0;32m/usr/local/lib/python3.7/dist-packages/sklearn/naive_bayes.py\u001b[0m in \u001b[0;36m_partial_fit\u001b[0;34m(self, X, y, classes, _refit, sample_weight)\u001b[0m\n\u001b[1;32m    400\u001b[0m \u001b[0;34m\u001b[0m\u001b[0m\n\u001b[1;32m    401\u001b[0m         \u001b[0mfirst_call\u001b[0m \u001b[0;34m=\u001b[0m \u001b[0m_check_partial_fit_first_call\u001b[0m\u001b[0;34m(\u001b[0m\u001b[0mself\u001b[0m\u001b[0;34m,\u001b[0m \u001b[0mclasses\u001b[0m\u001b[0;34m)\u001b[0m\u001b[0;34m\u001b[0m\u001b[0;34m\u001b[0m\u001b[0m\n\u001b[0;32m--> 402\u001b[0;31m         \u001b[0mX\u001b[0m\u001b[0;34m,\u001b[0m \u001b[0my\u001b[0m \u001b[0;34m=\u001b[0m \u001b[0mself\u001b[0m\u001b[0;34m.\u001b[0m\u001b[0m_validate_data\u001b[0m\u001b[0;34m(\u001b[0m\u001b[0mX\u001b[0m\u001b[0;34m,\u001b[0m \u001b[0my\u001b[0m\u001b[0;34m,\u001b[0m \u001b[0mreset\u001b[0m\u001b[0;34m=\u001b[0m\u001b[0mfirst_call\u001b[0m\u001b[0;34m)\u001b[0m\u001b[0;34m\u001b[0m\u001b[0;34m\u001b[0m\u001b[0m\n\u001b[0m\u001b[1;32m    403\u001b[0m         \u001b[0;32mif\u001b[0m \u001b[0msample_weight\u001b[0m \u001b[0;32mis\u001b[0m \u001b[0;32mnot\u001b[0m \u001b[0;32mNone\u001b[0m\u001b[0;34m:\u001b[0m\u001b[0;34m\u001b[0m\u001b[0;34m\u001b[0m\u001b[0m\n\u001b[1;32m    404\u001b[0m             \u001b[0msample_weight\u001b[0m \u001b[0;34m=\u001b[0m \u001b[0m_check_sample_weight\u001b[0m\u001b[0;34m(\u001b[0m\u001b[0msample_weight\u001b[0m\u001b[0;34m,\u001b[0m \u001b[0mX\u001b[0m\u001b[0;34m)\u001b[0m\u001b[0;34m\u001b[0m\u001b[0;34m\u001b[0m\u001b[0m\n",
            "\u001b[0;32m/usr/local/lib/python3.7/dist-packages/sklearn/base.py\u001b[0m in \u001b[0;36m_validate_data\u001b[0;34m(self, X, y, reset, validate_separately, **check_params)\u001b[0m\n\u001b[1;32m    574\u001b[0m                 \u001b[0my\u001b[0m \u001b[0;34m=\u001b[0m \u001b[0mcheck_array\u001b[0m\u001b[0;34m(\u001b[0m\u001b[0my\u001b[0m\u001b[0;34m,\u001b[0m \u001b[0;34m**\u001b[0m\u001b[0mcheck_y_params\u001b[0m\u001b[0;34m)\u001b[0m\u001b[0;34m\u001b[0m\u001b[0;34m\u001b[0m\u001b[0m\n\u001b[1;32m    575\u001b[0m             \u001b[0;32melse\u001b[0m\u001b[0;34m:\u001b[0m\u001b[0;34m\u001b[0m\u001b[0;34m\u001b[0m\u001b[0m\n\u001b[0;32m--> 576\u001b[0;31m                 \u001b[0mX\u001b[0m\u001b[0;34m,\u001b[0m \u001b[0my\u001b[0m \u001b[0;34m=\u001b[0m \u001b[0mcheck_X_y\u001b[0m\u001b[0;34m(\u001b[0m\u001b[0mX\u001b[0m\u001b[0;34m,\u001b[0m \u001b[0my\u001b[0m\u001b[0;34m,\u001b[0m \u001b[0;34m**\u001b[0m\u001b[0mcheck_params\u001b[0m\u001b[0;34m)\u001b[0m\u001b[0;34m\u001b[0m\u001b[0;34m\u001b[0m\u001b[0m\n\u001b[0m\u001b[1;32m    577\u001b[0m             \u001b[0mout\u001b[0m \u001b[0;34m=\u001b[0m \u001b[0mX\u001b[0m\u001b[0;34m,\u001b[0m \u001b[0my\u001b[0m\u001b[0;34m\u001b[0m\u001b[0;34m\u001b[0m\u001b[0m\n\u001b[1;32m    578\u001b[0m \u001b[0;34m\u001b[0m\u001b[0m\n",
            "\u001b[0;32m/usr/local/lib/python3.7/dist-packages/sklearn/utils/validation.py\u001b[0m in \u001b[0;36mcheck_X_y\u001b[0;34m(X, y, accept_sparse, accept_large_sparse, dtype, order, copy, force_all_finite, ensure_2d, allow_nd, multi_output, ensure_min_samples, ensure_min_features, y_numeric, estimator)\u001b[0m\n\u001b[1;32m    966\u001b[0m         \u001b[0mensure_min_samples\u001b[0m\u001b[0;34m=\u001b[0m\u001b[0mensure_min_samples\u001b[0m\u001b[0;34m,\u001b[0m\u001b[0;34m\u001b[0m\u001b[0;34m\u001b[0m\u001b[0m\n\u001b[1;32m    967\u001b[0m         \u001b[0mensure_min_features\u001b[0m\u001b[0;34m=\u001b[0m\u001b[0mensure_min_features\u001b[0m\u001b[0;34m,\u001b[0m\u001b[0;34m\u001b[0m\u001b[0;34m\u001b[0m\u001b[0m\n\u001b[0;32m--> 968\u001b[0;31m         \u001b[0mestimator\u001b[0m\u001b[0;34m=\u001b[0m\u001b[0mestimator\u001b[0m\u001b[0;34m,\u001b[0m\u001b[0;34m\u001b[0m\u001b[0;34m\u001b[0m\u001b[0m\n\u001b[0m\u001b[1;32m    969\u001b[0m     )\n\u001b[1;32m    970\u001b[0m \u001b[0;34m\u001b[0m\u001b[0m\n",
            "\u001b[0;32m/usr/local/lib/python3.7/dist-packages/sklearn/utils/validation.py\u001b[0m in \u001b[0;36mcheck_array\u001b[0;34m(array, accept_sparse, accept_large_sparse, dtype, order, copy, force_all_finite, ensure_2d, allow_nd, ensure_min_samples, ensure_min_features, estimator)\u001b[0m\n\u001b[1;32m    716\u001b[0m             \u001b[0mcopy\u001b[0m\u001b[0;34m=\u001b[0m\u001b[0mcopy\u001b[0m\u001b[0;34m,\u001b[0m\u001b[0;34m\u001b[0m\u001b[0;34m\u001b[0m\u001b[0m\n\u001b[1;32m    717\u001b[0m             \u001b[0mforce_all_finite\u001b[0m\u001b[0;34m=\u001b[0m\u001b[0mforce_all_finite\u001b[0m\u001b[0;34m,\u001b[0m\u001b[0;34m\u001b[0m\u001b[0;34m\u001b[0m\u001b[0m\n\u001b[0;32m--> 718\u001b[0;31m             \u001b[0maccept_large_sparse\u001b[0m\u001b[0;34m=\u001b[0m\u001b[0maccept_large_sparse\u001b[0m\u001b[0;34m,\u001b[0m\u001b[0;34m\u001b[0m\u001b[0;34m\u001b[0m\u001b[0m\n\u001b[0m\u001b[1;32m    719\u001b[0m         )\n\u001b[1;32m    720\u001b[0m     \u001b[0;32melse\u001b[0m\u001b[0;34m:\u001b[0m\u001b[0;34m\u001b[0m\u001b[0;34m\u001b[0m\u001b[0m\n",
            "\u001b[0;32m/usr/local/lib/python3.7/dist-packages/sklearn/utils/validation.py\u001b[0m in \u001b[0;36m_ensure_sparse_format\u001b[0;34m(spmatrix, accept_sparse, dtype, copy, force_all_finite, accept_large_sparse)\u001b[0m\n\u001b[1;32m    431\u001b[0m     \u001b[0;32mif\u001b[0m \u001b[0maccept_sparse\u001b[0m \u001b[0;32mis\u001b[0m \u001b[0;32mFalse\u001b[0m\u001b[0;34m:\u001b[0m\u001b[0;34m\u001b[0m\u001b[0;34m\u001b[0m\u001b[0m\n\u001b[1;32m    432\u001b[0m         raise TypeError(\n\u001b[0;32m--> 433\u001b[0;31m             \u001b[0;34m\"A sparse matrix was passed, but dense \"\u001b[0m\u001b[0;34m\u001b[0m\u001b[0;34m\u001b[0m\u001b[0m\n\u001b[0m\u001b[1;32m    434\u001b[0m             \u001b[0;34m\"data is required. Use X.toarray() to \"\u001b[0m\u001b[0;34m\u001b[0m\u001b[0;34m\u001b[0m\u001b[0m\n\u001b[1;32m    435\u001b[0m             \u001b[0;34m\"convert to a dense numpy array.\"\u001b[0m\u001b[0;34m\u001b[0m\u001b[0;34m\u001b[0m\u001b[0m\n",
            "\u001b[0;31mTypeError\u001b[0m: A sparse matrix was passed, but dense data is required. Use X.toarray() to convert to a dense numpy array."
          ]
        }
      ]
    },
    {
      "cell_type": "code",
      "source": [
        "metrics_NB = get_metrics(prediction_NB, validation['label'])\n",
        "print(metrics_NB)"
      ],
      "metadata": {
        "id": "9eEByXIhjNK5"
      },
      "execution_count": null,
      "outputs": []
    },
    {
      "cell_type": "markdown",
      "source": [
        "#Random Forest(0.8582)"
      ],
      "metadata": {
        "id": "29JFFMnEkB7i"
      }
    },
    {
      "cell_type": "code",
      "source": [
        "from sklearn.ensemble import RandomForestClassifier\n",
        "\n",
        "pipeline_RF = Pipeline([\n",
        "        ('count_vectorizer', CountVectorizer()),  \n",
        "        ('tfidf_transformer', TfidfTransformer()),  \n",
        "        ('classifier', RandomForestClassifier(n_estimators = 1000, random_state = 42))\n",
        "    ])\n",
        "\n",
        "pipeline_RF.fit(training['text'], training['label'])\n",
        "prediction_RF = pipeline_RF.predict(validation['text'])\n",
        "\n",
        "print(classification_report(validation['label'], prediction_RF))"
      ],
      "metadata": {
        "colab": {
          "base_uri": "https://localhost:8080/"
        },
        "id": "ZXQK8qlykD3P",
        "outputId": "d6a9df15-c1eb-4016-ed03-f14c75aa1e3b"
      },
      "execution_count": 68,
      "outputs": [
        {
          "output_type": "stream",
          "name": "stdout",
          "text": [
            "              precision    recall  f1-score   support\n",
            "\n",
            "           0       0.86      0.85      0.86      5025\n",
            "           1       0.85      0.86      0.86      4975\n",
            "\n",
            "    accuracy                           0.86     10000\n",
            "   macro avg       0.86      0.86      0.86     10000\n",
            "weighted avg       0.86      0.86      0.86     10000\n",
            "\n"
          ]
        }
      ]
    },
    {
      "cell_type": "code",
      "source": [
        "metrics_RF = get_metrics(prediction_RF, validation['label'])\n",
        "print(metrics_RF)"
      ],
      "metadata": {
        "colab": {
          "base_uri": "https://localhost:8080/"
        },
        "id": "WhE7wNZPkNId",
        "outputId": "5930e7b0-083e-4b03-c24d-bfddbfb41e92"
      },
      "execution_count": 69,
      "outputs": [
        {
          "output_type": "stream",
          "name": "stdout",
          "text": [
            "{'accuracy': 0.8582, 'precision': 0.85825, 'recall': 0.8582, 'f1': 0.8582}\n"
          ]
        }
      ]
    },
    {
      "cell_type": "markdown",
      "source": [
        "#K-Means(0.4808)"
      ],
      "metadata": {
        "id": "tWYUJcW5laWG"
      }
    },
    {
      "cell_type": "code",
      "source": [
        "from sklearn.cluster import KMeans\n",
        "\n",
        "pipeline_KM = Pipeline([\n",
        "        ('count_vectorizer', CountVectorizer()),  \n",
        "        ('tfidf_transformer', TfidfTransformer()),  \n",
        "        ('classifier', KMeans(n_clusters=2, init = 'random', n_init = 10, max_iter = 300, tol = 1e-04, random_state = 0))\n",
        "    ])\n",
        "\n",
        "pipeline_KM.fit(training['text'], training['label'])\n",
        "prediction_KM = pipeline_KM.predict(validation['text'])\n",
        "\n",
        "print(classification_report(validation['label'], prediction_KM))"
      ],
      "metadata": {
        "colab": {
          "base_uri": "https://localhost:8080/"
        },
        "id": "7lNkWhPBlhLD",
        "outputId": "e9e1ea9b-7c94-4c49-fbe9-0c145a68cb46"
      },
      "execution_count": 66,
      "outputs": [
        {
          "output_type": "stream",
          "name": "stdout",
          "text": [
            "              precision    recall  f1-score   support\n",
            "\n",
            "           0       0.48      0.49      0.49      5025\n",
            "           1       0.48      0.47      0.47      4975\n",
            "\n",
            "    accuracy                           0.48     10000\n",
            "   macro avg       0.48      0.48      0.48     10000\n",
            "weighted avg       0.48      0.48      0.48     10000\n",
            "\n"
          ]
        }
      ]
    },
    {
      "cell_type": "code",
      "source": [
        "metrics_KM = get_metrics(prediction_KM, validation['label'])\n",
        "print(metrics_KM)"
      ],
      "metadata": {
        "colab": {
          "base_uri": "https://localhost:8080/"
        },
        "id": "6oXQJJaJlnpt",
        "outputId": "cf3b92fe-8c8c-47ca-ee14-3b8bf2d3ccf9"
      },
      "execution_count": 67,
      "outputs": [
        {
          "output_type": "stream",
          "name": "stdout",
          "text": [
            "{'accuracy': 0.4808, 'precision': 0.48094, 'recall': 0.4808, 'f1': 0.48085}\n"
          ]
        }
      ]
    },
    {
      "cell_type": "markdown",
      "source": [
        "#Decision Tree(0.713)"
      ],
      "metadata": {
        "id": "DpBUr4LdluMl"
      }
    },
    {
      "cell_type": "code",
      "source": [
        "from sklearn.tree import DecisionTreeClassifier\n",
        "\n",
        "pipeline_DT = Pipeline([\n",
        "        ('count_vectorizer', CountVectorizer()),  \n",
        "        ('tfidf_transformer', TfidfTransformer()),  \n",
        "        ('classifier', DecisionTreeClassifier(random_state=100))\n",
        "    ])\n",
        "\n",
        "pipeline_DT.fit(training['text'], training['label'])\n",
        "prediction_DT = pipeline_DT.predict(validation['text'])\n",
        "\n",
        "print(classification_report(validation['label'], prediction_DT))"
      ],
      "metadata": {
        "colab": {
          "base_uri": "https://localhost:8080/"
        },
        "id": "9hlGL5-alw85",
        "outputId": "8db2cf1f-2267-4b64-f386-3f3be98d5d83"
      },
      "execution_count": 75,
      "outputs": [
        {
          "output_type": "stream",
          "name": "stdout",
          "text": [
            "              precision    recall  f1-score   support\n",
            "\n",
            "           0       0.72      0.71      0.71      5025\n",
            "           1       0.71      0.71      0.71      4975\n",
            "\n",
            "    accuracy                           0.71     10000\n",
            "   macro avg       0.71      0.71      0.71     10000\n",
            "weighted avg       0.71      0.71      0.71     10000\n",
            "\n"
          ]
        }
      ]
    },
    {
      "cell_type": "code",
      "source": [
        "metrics_DT = get_metrics(prediction_DT, validation['label'])\n",
        "print(metrics_DT)"
      ],
      "metadata": {
        "colab": {
          "base_uri": "https://localhost:8080/"
        },
        "id": "5_NAo3EumALK",
        "outputId": "873a7bfe-c0bb-49ed-a963-96519a0c7e69"
      },
      "execution_count": 76,
      "outputs": [
        {
          "output_type": "stream",
          "name": "stdout",
          "text": [
            "{'accuracy': 0.713, 'precision': 0.713, 'recall': 0.713, 'f1': 0.713}\n"
          ]
        }
      ]
    },
    {
      "cell_type": "markdown",
      "source": [
        "#SGD(0.8824)"
      ],
      "metadata": {
        "id": "9tbJbEbHmPHX"
      }
    },
    {
      "cell_type": "code",
      "source": [
        "from sklearn.linear_model import SGDClassifier\n",
        "\n",
        "pipeline_SGD = Pipeline([\n",
        "        ('count_vectorizer', CountVectorizer()),  \n",
        "        ('tfidf_transformer', TfidfTransformer()),  \n",
        "        ('classifier', SGDClassifier())\n",
        "    ])\n",
        "\n",
        "pipeline_SGD.fit(training['text'], training['label'])\n",
        "prediction_SGD = pipeline_SGD.predict(validation['text'])\n",
        "\n",
        "print(classification_report(validation['label'], prediction_SGD))"
      ],
      "metadata": {
        "colab": {
          "base_uri": "https://localhost:8080/"
        },
        "id": "4cXAa6-EmQIf",
        "outputId": "b067d52f-d7e6-4abd-a4c3-e98fbe808d01"
      },
      "execution_count": 58,
      "outputs": [
        {
          "output_type": "stream",
          "name": "stdout",
          "text": [
            "              precision    recall  f1-score   support\n",
            "\n",
            "           0       0.91      0.85      0.88      5025\n",
            "           1       0.86      0.92      0.89      4975\n",
            "\n",
            "    accuracy                           0.88     10000\n",
            "   macro avg       0.88      0.88      0.88     10000\n",
            "weighted avg       0.88      0.88      0.88     10000\n",
            "\n"
          ]
        }
      ]
    },
    {
      "cell_type": "code",
      "source": [
        "metrics_SGD = get_metrics(prediction_SGD, validation['label'])\n",
        "print(metrics_SGD)"
      ],
      "metadata": {
        "colab": {
          "base_uri": "https://localhost:8080/"
        },
        "id": "S7cPwvlAmZM2",
        "outputId": "2dc3974d-3558-4bbd-f69f-70d44bb1fb48"
      },
      "execution_count": 59,
      "outputs": [
        {
          "output_type": "stream",
          "name": "stdout",
          "text": [
            "{'accuracy': 0.8824, 'precision': 0.88459, 'recall': 0.8824, 'f1': 0.88251}\n"
          ]
        }
      ]
    },
    {
      "cell_type": "markdown",
      "source": [
        "#DBSCAN(X)"
      ],
      "metadata": {
        "id": "o8RzwSmSmlIT"
      }
    },
    {
      "cell_type": "code",
      "source": [
        "from sklearn.cluster import DBSCAN\n",
        "\n",
        "pipeline_DB = Pipeline([\n",
        "        ('count_vectorizer', CountVectorizer()),  \n",
        "        ('tfidf_transformer', TfidfTransformer()),  \n",
        "        ('classifier', DBSCAN(eps=0.6, min_samples=8, metric='euclidean'))\n",
        "    ])\n",
        "\n",
        "pipeline_DB.fit(training['text'], training['label'])\n",
        "prediction_DB = pipeline_DB.fit_predict(validation['text'])\n",
        "\n",
        "print(classification_report(validation['label'], prediction_DB))"
      ],
      "metadata": {
        "colab": {
          "base_uri": "https://localhost:8080/"
        },
        "id": "a4yhW_uImmF6",
        "outputId": "085a250b-f37e-4c2c-c33b-784073f9900b"
      },
      "execution_count": 79,
      "outputs": [
        {
          "output_type": "stream",
          "name": "stdout",
          "text": [
            "              precision    recall  f1-score   support\n",
            "\n",
            "          -1       0.00      0.00      0.00       0.0\n",
            "           0       0.00      0.00      0.00    5025.0\n",
            "           1       0.00      0.00      0.00    4975.0\n",
            "\n",
            "    accuracy                           0.00   10000.0\n",
            "   macro avg       0.00      0.00      0.00   10000.0\n",
            "weighted avg       0.00      0.00      0.00   10000.0\n",
            "\n"
          ]
        },
        {
          "output_type": "stream",
          "name": "stderr",
          "text": [
            "/usr/local/lib/python3.7/dist-packages/sklearn/metrics/_classification.py:1308: UndefinedMetricWarning: Precision and F-score are ill-defined and being set to 0.0 in labels with no predicted samples. Use `zero_division` parameter to control this behavior.\n",
            "  _warn_prf(average, modifier, msg_start, len(result))\n",
            "/usr/local/lib/python3.7/dist-packages/sklearn/metrics/_classification.py:1308: UndefinedMetricWarning: Recall and F-score are ill-defined and being set to 0.0 in labels with no true samples. Use `zero_division` parameter to control this behavior.\n",
            "  _warn_prf(average, modifier, msg_start, len(result))\n",
            "/usr/local/lib/python3.7/dist-packages/sklearn/metrics/_classification.py:1308: UndefinedMetricWarning: Precision and F-score are ill-defined and being set to 0.0 in labels with no predicted samples. Use `zero_division` parameter to control this behavior.\n",
            "  _warn_prf(average, modifier, msg_start, len(result))\n",
            "/usr/local/lib/python3.7/dist-packages/sklearn/metrics/_classification.py:1308: UndefinedMetricWarning: Recall and F-score are ill-defined and being set to 0.0 in labels with no true samples. Use `zero_division` parameter to control this behavior.\n",
            "  _warn_prf(average, modifier, msg_start, len(result))\n",
            "/usr/local/lib/python3.7/dist-packages/sklearn/metrics/_classification.py:1308: UndefinedMetricWarning: Precision and F-score are ill-defined and being set to 0.0 in labels with no predicted samples. Use `zero_division` parameter to control this behavior.\n",
            "  _warn_prf(average, modifier, msg_start, len(result))\n",
            "/usr/local/lib/python3.7/dist-packages/sklearn/metrics/_classification.py:1308: UndefinedMetricWarning: Recall and F-score are ill-defined and being set to 0.0 in labels with no true samples. Use `zero_division` parameter to control this behavior.\n",
            "  _warn_prf(average, modifier, msg_start, len(result))\n"
          ]
        }
      ]
    },
    {
      "cell_type": "code",
      "source": [
        "metrics_DB = get_metrics(prediction_DB, validation['label'])\n",
        "print(metrics_DB)"
      ],
      "metadata": {
        "colab": {
          "base_uri": "https://localhost:8080/"
        },
        "id": "u_crvJhtmyYD",
        "outputId": "7158186b-509b-4519-8ad7-f6546de7f7aa"
      },
      "execution_count": 80,
      "outputs": [
        {
          "output_type": "stream",
          "name": "stdout",
          "text": [
            "{'accuracy': 0.0, 'precision': 0.0, 'recall': 0.0, 'f1': 0.0}\n"
          ]
        },
        {
          "output_type": "stream",
          "name": "stderr",
          "text": [
            "/usr/local/lib/python3.7/dist-packages/sklearn/metrics/_classification.py:1308: UndefinedMetricWarning: Precision is ill-defined and being set to 0.0 in labels with no predicted samples. Use `zero_division` parameter to control this behavior.\n",
            "  _warn_prf(average, modifier, msg_start, len(result))\n",
            "/usr/local/lib/python3.7/dist-packages/sklearn/metrics/_classification.py:1308: UndefinedMetricWarning: Recall is ill-defined and being set to 0.0 in labels with no true samples. Use `zero_division` parameter to control this behavior.\n",
            "  _warn_prf(average, modifier, msg_start, len(result))\n"
          ]
        }
      ]
    },
    {
      "cell_type": "markdown",
      "source": [
        "#KNN(0.6486)"
      ],
      "metadata": {
        "id": "ZP21pngjm2vR"
      }
    },
    {
      "cell_type": "code",
      "source": [
        "from sklearn.neighbors import KNeighborsClassifier\n",
        "\n",
        "pipeline_KNN = Pipeline([\n",
        "        ('count_vectorizer', CountVectorizer()),  \n",
        "        ('tfidf_transformer', TfidfTransformer()),  \n",
        "        ('classifier', KNeighborsClassifier(n_neighbors = 2))\n",
        "    ])\n",
        "\n",
        "pipeline_KNN.fit(training['text'], training['label'])\n",
        "prediction_KNN = pipeline_KNN.predict(validation['text'])\n",
        "\n",
        "print(classification_report(validation['label'], prediction_KNN))"
      ],
      "metadata": {
        "colab": {
          "base_uri": "https://localhost:8080/"
        },
        "id": "J5SsGUZYm35G",
        "outputId": "c3a63626-0a0d-40fd-cf1c-4fd261725e3e"
      },
      "execution_count": 77,
      "outputs": [
        {
          "output_type": "stream",
          "name": "stdout",
          "text": [
            "              precision    recall  f1-score   support\n",
            "\n",
            "           0       0.65      0.64      0.65      5025\n",
            "           1       0.64      0.65      0.65      4975\n",
            "\n",
            "    accuracy                           0.65     10000\n",
            "   macro avg       0.65      0.65      0.65     10000\n",
            "weighted avg       0.65      0.65      0.65     10000\n",
            "\n"
          ]
        }
      ]
    },
    {
      "cell_type": "code",
      "source": [
        "metrics_KNN = get_metrics(prediction_KNN, validation['label'])\n",
        "print(metrics_KNN)"
      ],
      "metadata": {
        "colab": {
          "base_uri": "https://localhost:8080/"
        },
        "id": "ZsUGoIgwnCTE",
        "outputId": "7613c056-b677-4d25-a737-281f6c94179b"
      },
      "execution_count": 78,
      "outputs": [
        {
          "output_type": "stream",
          "name": "stdout",
          "text": [
            "{'accuracy': 0.6486, 'precision': 0.64866, 'recall': 0.6486, 'f1': 0.6486}\n"
          ]
        }
      ]
    },
    {
      "cell_type": "markdown",
      "source": [
        "# graph"
      ],
      "metadata": {
        "id": "ewdHed4Nw1N4"
      }
    },
    {
      "cell_type": "code",
      "source": [
        "models=[]\n",
        "acc=[]\n",
        "\n",
        "models.append('SVM')\n",
        "acc.append(metrics_SVM['accuracy'])\n",
        "\n",
        "models.append('Logistic Regression')\n",
        "acc.append(metrics_LR['accuracy'])\n",
        "\n",
        "models.append('Random Forest')\n",
        "acc.append(metrics_RF['accuracy'])\n",
        "\n",
        "models.append('K-Means')\n",
        "acc.append(metrics_KM['accuracy'])\n",
        "\n",
        "models.append('Decision Tree')\n",
        "acc.append(metrics_DT['accuracy'])\n",
        "\n",
        "models.append('SGD')\n",
        "acc.append(metrics_SGD['accuracy'])\n",
        "\n",
        "models.append('KNN')\n",
        "acc.append(metrics_KNN['accuracy'])"
      ],
      "metadata": {
        "id": "7uDsYgS5w269"
      },
      "execution_count": 87,
      "outputs": []
    },
    {
      "cell_type": "code",
      "source": [
        "print(models)\n",
        "print(acc)"
      ],
      "metadata": {
        "colab": {
          "base_uri": "https://localhost:8080/"
        },
        "id": "5Sk7URx2yR6g",
        "outputId": "f2e2119b-62bb-4047-dbf4-a17ee11c67af"
      },
      "execution_count": 88,
      "outputs": [
        {
          "output_type": "stream",
          "name": "stdout",
          "text": [
            "['SVM', 'Logistic Regression', 'Random Forest', 'K-Means', 'Decision Tree', 'SGD', 'KNN']\n",
            "[0.886, 0.8864, 0.8582, 0.4808, 0.713, 0.8824, 0.6486]\n"
          ]
        }
      ]
    },
    {
      "cell_type": "code",
      "source": [
        "import matplotlib.pyplot as plt\n",
        "\n",
        "plt.figure(figsize=(12,6))\n",
        "plt.bar(models, acc)\n",
        "\n",
        "for i, v in enumerate(models):\n",
        "    plt.text(v, acc[i], acc[i],                 # 좌표 (x축 = v, y축 = y[0]..y[1], 표시 = y[0]..y[1])\n",
        "             fontsize = 9, \n",
        "             color='blue',\n",
        "             horizontalalignment='center',  # horizontalalignment (left, center, right)\n",
        "             verticalalignment='bottom')\n",
        "plt.show()"
      ],
      "metadata": {
        "colab": {
          "base_uri": "https://localhost:8080/",
          "height": 374
        },
        "id": "df02cZ-0yVp4",
        "outputId": "4f48e507-d79a-4e64-cb34-542a7635b7fc"
      },
      "execution_count": 101,
      "outputs": [
        {
          "output_type": "display_data",
          "data": {
            "image/png": "[encoded data removed]",
            "text/plain": [
              "<Figure size 864x432 with 1 Axes>"
            ]
          },
          "metadata": {
            "needs_background": "light"
          }
        }
      ]
    }
  ]
}