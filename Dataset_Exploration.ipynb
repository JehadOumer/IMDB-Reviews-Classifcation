{
  "nbformat": 4,
  "nbformat_minor": 0,
  "metadata": {
    "colab": {
      "name": "Dataset_Exploration.ipynb",
      "provenance": [],
      "collapsed_sections": [],
      "authorship_tag": "ABX9TyMs9Hs+YWJZalqGhLq8cL0x",
      "include_colab_link": true
    },
    "kernelspec": {
      "name": "python3",
      "display_name": "Python 3"
    },
    "language_info": {
      "name": "python"
    },
    "widgets": {
      "application/vnd.jupyter.widget-state+json": {
        "ae31ed8ff5fb4d04a6aba85646c34d69": {
          "model_module": "@jupyter-widgets/controls",
          "model_name": "HBoxModel",
          "model_module_version": "1.5.0",
          "state": {
            "_view_name": "HBoxView",
            "_dom_classes": [],
            "_model_name": "HBoxModel",
            "_view_module": "@jupyter-widgets/controls",
            "_model_module_version": "1.5.0",
            "_view_count": null,
            "_view_module_version": "1.5.0",
            "box_style": "",
            "layout": "IPY_MODEL_5d5de1ed9cb642cc82b2974c8e668027",
            "_model_module": "@jupyter-widgets/controls",
            "children": [
              "IPY_MODEL_e2d1b07a6bba4dcdb8aff282ac96737b",
              "IPY_MODEL_de48e11f7e02467193ee211c631e99a5",
              "IPY_MODEL_64599a4497e34489966063b059c2b7fc"
            ]
          }
        },
        "5d5de1ed9cb642cc82b2974c8e668027": {
          "model_module": "@jupyter-widgets/base",
          "model_name": "LayoutModel",
          "model_module_version": "1.2.0",
          "state": {
            "_view_name": "LayoutView",
            "grid_template_rows": null,
            "right": null,
            "justify_content": null,
            "_view_module": "@jupyter-widgets/base",
            "overflow": null,
            "_model_module_version": "1.2.0",
            "_view_count": null,
            "flex_flow": null,
            "width": null,
            "min_width": null,
            "border": null,
            "align_items": null,
            "bottom": null,
            "_model_module": "@jupyter-widgets/base",
            "top": null,
            "grid_column": null,
            "overflow_y": null,
            "overflow_x": null,
            "grid_auto_flow": null,
            "grid_area": null,
            "grid_template_columns": null,
            "flex": null,
            "_model_name": "LayoutModel",
            "justify_items": null,
            "grid_row": null,
            "max_height": null,
            "align_content": null,
            "visibility": null,
            "align_self": null,
            "height": null,
            "min_height": null,
            "padding": null,
            "grid_auto_rows": null,
            "grid_gap": null,
            "max_width": null,
            "order": null,
            "_view_module_version": "1.2.0",
            "grid_template_areas": null,
            "object_position": null,
            "object_fit": null,
            "grid_auto_columns": null,
            "margin": null,
            "display": null,
            "left": null
          }
        },
        "e2d1b07a6bba4dcdb8aff282ac96737b": {
          "model_module": "@jupyter-widgets/controls",
          "model_name": "HTMLModel",
          "model_module_version": "1.5.0",
          "state": {
            "_view_name": "HTMLView",
            "style": "IPY_MODEL_d1f0b349c671492893daa79e4681207f",
            "_dom_classes": [],
            "description": "",
            "_model_name": "HTMLModel",
            "placeholder": "​",
            "_view_module": "@jupyter-widgets/controls",
            "_model_module_version": "1.5.0",
            "value": "Dl Completed...: 100%",
            "_view_count": null,
            "_view_module_version": "1.5.0",
            "description_tooltip": null,
            "_model_module": "@jupyter-widgets/controls",
            "layout": "IPY_MODEL_dab2598f639143a1968405134f329b0f"
          }
        },
        "de48e11f7e02467193ee211c631e99a5": {
          "model_module": "@jupyter-widgets/controls",
          "model_name": "FloatProgressModel",
          "model_module_version": "1.5.0",
          "state": {
            "_view_name": "ProgressView",
            "style": "IPY_MODEL_7507ea1689344b4eab1c959c798e1760",
            "_dom_classes": [],
            "description": "",
            "_model_name": "FloatProgressModel",
            "bar_style": "success",
            "max": 1,
            "_view_module": "@jupyter-widgets/controls",
            "_model_module_version": "1.5.0",
            "value": 1,
            "_view_count": null,
            "_view_module_version": "1.5.0",
            "orientation": "horizontal",
            "min": 0,
            "description_tooltip": null,
            "_model_module": "@jupyter-widgets/controls",
            "layout": "IPY_MODEL_60212af70f4349d48a39865c526cf5a4"
          }
        },
        "64599a4497e34489966063b059c2b7fc": {
          "model_module": "@jupyter-widgets/controls",
          "model_name": "HTMLModel",
          "model_module_version": "1.5.0",
          "state": {
            "_view_name": "HTMLView",
            "style": "IPY_MODEL_3943ba83edf44d4080087a11e76e9f64",
            "_dom_classes": [],
            "description": "",
            "_model_name": "HTMLModel",
            "placeholder": "​",
            "_view_module": "@jupyter-widgets/controls",
            "_model_module_version": "1.5.0",
            "value": " 1/1 [00:05&lt;00:00,  5.34s/ url]",
            "_view_count": null,
            "_view_module_version": "1.5.0",
            "description_tooltip": null,
            "_model_module": "@jupyter-widgets/controls",
            "layout": "IPY_MODEL_c74709a3064140bbafc9d1832e8e3a06"
          }
        },
        "d1f0b349c671492893daa79e4681207f": {
          "model_module": "@jupyter-widgets/controls",
          "model_name": "DescriptionStyleModel",
          "model_module_version": "1.5.0",
          "state": {
            "_view_name": "StyleView",
            "_model_name": "DescriptionStyleModel",
            "description_width": "",
            "_view_module": "@jupyter-widgets/base",
            "_model_module_version": "1.5.0",
            "_view_count": null,
            "_view_module_version": "1.2.0",
            "_model_module": "@jupyter-widgets/controls"
          }
        },
        "dab2598f639143a1968405134f329b0f": {
          "model_module": "@jupyter-widgets/base",
          "model_name": "LayoutModel",
          "model_module_version": "1.2.0",
          "state": {
            "_view_name": "LayoutView",
            "grid_template_rows": null,
            "right": null,
            "justify_content": null,
            "_view_module": "@jupyter-widgets/base",
            "overflow": null,
            "_model_module_version": "1.2.0",
            "_view_count": null,
            "flex_flow": null,
            "width": null,
            "min_width": null,
            "border": null,
            "align_items": null,
            "bottom": null,
            "_model_module": "@jupyter-widgets/base",
            "top": null,
            "grid_column": null,
            "overflow_y": null,
            "overflow_x": null,
            "grid_auto_flow": null,
            "grid_area": null,
            "grid_template_columns": null,
            "flex": null,
            "_model_name": "LayoutModel",
            "justify_items": null,
            "grid_row": null,
            "max_height": null,
            "align_content": null,
            "visibility": null,
            "align_self": null,
            "height": null,
            "min_height": null,
            "padding": null,
            "grid_auto_rows": null,
            "grid_gap": null,
            "max_width": null,
            "order": null,
            "_view_module_version": "1.2.0",
            "grid_template_areas": null,
            "object_position": null,
            "object_fit": null,
            "grid_auto_columns": null,
            "margin": null,
            "display": null,
            "left": null
          }
        },
        "7507ea1689344b4eab1c959c798e1760": {
          "model_module": "@jupyter-widgets/controls",
          "model_name": "ProgressStyleModel",
          "model_module_version": "1.5.0",
          "state": {
            "_view_name": "StyleView",
            "_model_name": "ProgressStyleModel",
            "description_width": "",
            "_view_module": "@jupyter-widgets/base",
            "_model_module_version": "1.5.0",
            "_view_count": null,
            "_view_module_version": "1.2.0",
            "bar_color": null,
            "_model_module": "@jupyter-widgets/controls"
          }
        },
        "60212af70f4349d48a39865c526cf5a4": {
          "model_module": "@jupyter-widgets/base",
          "model_name": "LayoutModel",
          "model_module_version": "1.2.0",
          "state": {
            "_view_name": "LayoutView",
            "grid_template_rows": null,
            "right": null,
            "justify_content": null,
            "_view_module": "@jupyter-widgets/base",
            "overflow": null,
            "_model_module_version": "1.2.0",
            "_view_count": null,
            "flex_flow": null,
            "width": "20px",
            "min_width": null,
            "border": null,
            "align_items": null,
            "bottom": null,
            "_model_module": "@jupyter-widgets/base",
            "top": null,
            "grid_column": null,
            "overflow_y": null,
            "overflow_x": null,
            "grid_auto_flow": null,
            "grid_area": null,
            "grid_template_columns": null,
            "flex": null,
            "_model_name": "LayoutModel",
            "justify_items": null,
            "grid_row": null,
            "max_height": null,
            "align_content": null,
            "visibility": null,
            "align_self": null,
            "height": null,
            "min_height": null,
            "padding": null,
            "grid_auto_rows": null,
            "grid_gap": null,
            "max_width": null,
            "order": null,
            "_view_module_version": "1.2.0",
            "grid_template_areas": null,
            "object_position": null,
            "object_fit": null,
            "grid_auto_columns": null,
            "margin": null,
            "display": null,
            "left": null
          }
        },
        "3943ba83edf44d4080087a11e76e9f64": {
          "model_module": "@jupyter-widgets/controls",
          "model_name": "DescriptionStyleModel",
          "model_module_version": "1.5.0",
          "state": {
            "_view_name": "StyleView",
            "_model_name": "DescriptionStyleModel",
            "description_width": "",
            "_view_module": "@jupyter-widgets/base",
            "_model_module_version": "1.5.0",
            "_view_count": null,
            "_view_module_version": "1.2.0",
            "_model_module": "@jupyter-widgets/controls"
          }
        },
        "c74709a3064140bbafc9d1832e8e3a06": {
          "model_module": "@jupyter-widgets/base",
          "model_name": "LayoutModel",
          "model_module_version": "1.2.0",
          "state": {
            "_view_name": "LayoutView",
            "grid_template_rows": null,
            "right": null,
            "justify_content": null,
            "_view_module": "@jupyter-widgets/base",
            "overflow": null,
            "_model_module_version": "1.2.0",
            "_view_count": null,
            "flex_flow": null,
            "width": null,
            "min_width": null,
            "border": null,
            "align_items": null,
            "bottom": null,
            "_model_module": "@jupyter-widgets/base",
            "top": null,
            "grid_column": null,
            "overflow_y": null,
            "overflow_x": null,
            "grid_auto_flow": null,
            "grid_area": null,
            "grid_template_columns": null,
            "flex": null,
            "_model_name": "LayoutModel",
            "justify_items": null,
            "grid_row": null,
            "max_height": null,
            "align_content": null,
            "visibility": null,
            "align_self": null,
            "height": null,
            "min_height": null,
            "padding": null,
            "grid_auto_rows": null,
            "grid_gap": null,
            "max_width": null,
            "order": null,
            "_view_module_version": "1.2.0",
            "grid_template_areas": null,
            "object_position": null,
            "object_fit": null,
            "grid_auto_columns": null,
            "margin": null,
            "display": null,
            "left": null
          }
        },
        "6bcd4258a02d4d5f87039fccb0889edd": {
          "model_module": "@jupyter-widgets/controls",
          "model_name": "HBoxModel",
          "model_module_version": "1.5.0",
          "state": {
            "_view_name": "HBoxView",
            "_dom_classes": [],
            "_model_name": "HBoxModel",
            "_view_module": "@jupyter-widgets/controls",
            "_model_module_version": "1.5.0",
            "_view_count": null,
            "_view_module_version": "1.5.0",
            "box_style": "",
            "layout": "IPY_MODEL_20f6211119c644f4932ee2a2a6c97a93",
            "_model_module": "@jupyter-widgets/controls",
            "children": [
              "IPY_MODEL_0157d0a685a5408d88babfdae12a4ada",
              "IPY_MODEL_d3f5d0638e854047b0f0fdb8029a8d36",
              "IPY_MODEL_a717e2663ab846bcb87c4814df909cb7"
            ]
          }
        },
        "20f6211119c644f4932ee2a2a6c97a93": {
          "model_module": "@jupyter-widgets/base",
          "model_name": "LayoutModel",
          "model_module_version": "1.2.0",
          "state": {
            "_view_name": "LayoutView",
            "grid_template_rows": null,
            "right": null,
            "justify_content": null,
            "_view_module": "@jupyter-widgets/base",
            "overflow": null,
            "_model_module_version": "1.2.0",
            "_view_count": null,
            "flex_flow": null,
            "width": null,
            "min_width": null,
            "border": null,
            "align_items": null,
            "bottom": null,
            "_model_module": "@jupyter-widgets/base",
            "top": null,
            "grid_column": null,
            "overflow_y": null,
            "overflow_x": null,
            "grid_auto_flow": null,
            "grid_area": null,
            "grid_template_columns": null,
            "flex": null,
            "_model_name": "LayoutModel",
            "justify_items": null,
            "grid_row": null,
            "max_height": null,
            "align_content": null,
            "visibility": null,
            "align_self": null,
            "height": null,
            "min_height": null,
            "padding": null,
            "grid_auto_rows": null,
            "grid_gap": null,
            "max_width": null,
            "order": null,
            "_view_module_version": "1.2.0",
            "grid_template_areas": null,
            "object_position": null,
            "object_fit": null,
            "grid_auto_columns": null,
            "margin": null,
            "display": null,
            "left": null
          }
        },
        "0157d0a685a5408d88babfdae12a4ada": {
          "model_module": "@jupyter-widgets/controls",
          "model_name": "HTMLModel",
          "model_module_version": "1.5.0",
          "state": {
            "_view_name": "HTMLView",
            "style": "IPY_MODEL_2f218f61523048f0a15124c387ca1e58",
            "_dom_classes": [],
            "description": "",
            "_model_name": "HTMLModel",
            "placeholder": "​",
            "_view_module": "@jupyter-widgets/controls",
            "_model_module_version": "1.5.0",
            "value": "Dl Size...: 100%",
            "_view_count": null,
            "_view_module_version": "1.5.0",
            "description_tooltip": null,
            "_model_module": "@jupyter-widgets/controls",
            "layout": "IPY_MODEL_6f2c5db848984e3b9fd49f4afeb8073a"
          }
        },
        "d3f5d0638e854047b0f0fdb8029a8d36": {
          "model_module": "@jupyter-widgets/controls",
          "model_name": "FloatProgressModel",
          "model_module_version": "1.5.0",
          "state": {
            "_view_name": "ProgressView",
            "style": "IPY_MODEL_ba85ca865c6746179996b50e92e74f57",
            "_dom_classes": [],
            "description": "",
            "_model_name": "FloatProgressModel",
            "bar_style": "success",
            "max": 1,
            "_view_module": "@jupyter-widgets/controls",
            "_model_module_version": "1.5.0",
            "value": 1,
            "_view_count": null,
            "_view_module_version": "1.5.0",
            "orientation": "horizontal",
            "min": 0,
            "description_tooltip": null,
            "_model_module": "@jupyter-widgets/controls",
            "layout": "IPY_MODEL_18059740f3a6419999d3b5f1e6a789b5"
          }
        },
        "a717e2663ab846bcb87c4814df909cb7": {
          "model_module": "@jupyter-widgets/controls",
          "model_name": "HTMLModel",
          "model_module_version": "1.5.0",
          "state": {
            "_view_name": "HTMLView",
            "style": "IPY_MODEL_9bad6b67e552405f8ef560ca517d9ac9",
            "_dom_classes": [],
            "description": "",
            "_model_name": "HTMLModel",
            "placeholder": "​",
            "_view_module": "@jupyter-widgets/controls",
            "_model_module_version": "1.5.0",
            "value": " 80/80 [00:05&lt;00:00, 30.34 MiB/s]",
            "_view_count": null,
            "_view_module_version": "1.5.0",
            "description_tooltip": null,
            "_model_module": "@jupyter-widgets/controls",
            "layout": "IPY_MODEL_f694ae5d13934ec18d409cdaf240c84e"
          }
        },
        "2f218f61523048f0a15124c387ca1e58": {
          "model_module": "@jupyter-widgets/controls",
          "model_name": "DescriptionStyleModel",
          "model_module_version": "1.5.0",
          "state": {
            "_view_name": "StyleView",
            "_model_name": "DescriptionStyleModel",
            "description_width": "",
            "_view_module": "@jupyter-widgets/base",
            "_model_module_version": "1.5.0",
            "_view_count": null,
            "_view_module_version": "1.2.0",
            "_model_module": "@jupyter-widgets/controls"
          }
        },
        "6f2c5db848984e3b9fd49f4afeb8073a": {
          "model_module": "@jupyter-widgets/base",
          "model_name": "LayoutModel",
          "model_module_version": "1.2.0",
          "state": {
            "_view_name": "LayoutView",
            "grid_template_rows": null,
            "right": null,
            "justify_content": null,
            "_view_module": "@jupyter-widgets/base",
            "overflow": null,
            "_model_module_version": "1.2.0",
            "_view_count": null,
            "flex_flow": null,
            "width": null,
            "min_width": null,
            "border": null,
            "align_items": null,
            "bottom": null,
            "_model_module": "@jupyter-widgets/base",
            "top": null,
            "grid_column": null,
            "overflow_y": null,
            "overflow_x": null,
            "grid_auto_flow": null,
            "grid_area": null,
            "grid_template_columns": null,
            "flex": null,
            "_model_name": "LayoutModel",
            "justify_items": null,
            "grid_row": null,
            "max_height": null,
            "align_content": null,
            "visibility": null,
            "align_self": null,
            "height": null,
            "min_height": null,
            "padding": null,
            "grid_auto_rows": null,
            "grid_gap": null,
            "max_width": null,
            "order": null,
            "_view_module_version": "1.2.0",
            "grid_template_areas": null,
            "object_position": null,
            "object_fit": null,
            "grid_auto_columns": null,
            "margin": null,
            "display": null,
            "left": null
          }
        },
        "ba85ca865c6746179996b50e92e74f57": {
          "model_module": "@jupyter-widgets/controls",
          "model_name": "ProgressStyleModel",
          "model_module_version": "1.5.0",
          "state": {
            "_view_name": "StyleView",
            "_model_name": "ProgressStyleModel",
            "description_width": "",
            "_view_module": "@jupyter-widgets/base",
            "_model_module_version": "1.5.0",
            "_view_count": null,
            "_view_module_version": "1.2.0",
            "bar_color": null,
            "_model_module": "@jupyter-widgets/controls"
          }
        },
        "18059740f3a6419999d3b5f1e6a789b5": {
          "model_module": "@jupyter-widgets/base",
          "model_name": "LayoutModel",
          "model_module_version": "1.2.0",
          "state": {
            "_view_name": "LayoutView",
            "grid_template_rows": null,
            "right": null,
            "justify_content": null,
            "_view_module": "@jupyter-widgets/base",
            "overflow": null,
            "_model_module_version": "1.2.0",
            "_view_count": null,
            "flex_flow": null,
            "width": "20px",
            "min_width": null,
            "border": null,
            "align_items": null,
            "bottom": null,
            "_model_module": "@jupyter-widgets/base",
            "top": null,
            "grid_column": null,
            "overflow_y": null,
            "overflow_x": null,
            "grid_auto_flow": null,
            "grid_area": null,
            "grid_template_columns": null,
            "flex": null,
            "_model_name": "LayoutModel",
            "justify_items": null,
            "grid_row": null,
            "max_height": null,
            "align_content": null,
            "visibility": null,
            "align_self": null,
            "height": null,
            "min_height": null,
            "padding": null,
            "grid_auto_rows": null,
            "grid_gap": null,
            "max_width": null,
            "order": null,
            "_view_module_version": "1.2.0",
            "grid_template_areas": null,
            "object_position": null,
            "object_fit": null,
            "grid_auto_columns": null,
            "margin": null,
            "display": null,
            "left": null
          }
        },
        "9bad6b67e552405f8ef560ca517d9ac9": {
          "model_module": "@jupyter-widgets/controls",
          "model_name": "DescriptionStyleModel",
          "model_module_version": "1.5.0",
          "state": {
            "_view_name": "StyleView",
            "_model_name": "DescriptionStyleModel",
            "description_width": "",
            "_view_module": "@jupyter-widgets/base",
            "_model_module_version": "1.5.0",
            "_view_count": null,
            "_view_module_version": "1.2.0",
            "_model_module": "@jupyter-widgets/controls"
          }
        },
        "f694ae5d13934ec18d409cdaf240c84e": {
          "model_module": "@jupyter-widgets/base",
          "model_name": "LayoutModel",
          "model_module_version": "1.2.0",
          "state": {
            "_view_name": "LayoutView",
            "grid_template_rows": null,
            "right": null,
            "justify_content": null,
            "_view_module": "@jupyter-widgets/base",
            "overflow": null,
            "_model_module_version": "1.2.0",
            "_view_count": null,
            "flex_flow": null,
            "width": null,
            "min_width": null,
            "border": null,
            "align_items": null,
            "bottom": null,
            "_model_module": "@jupyter-widgets/base",
            "top": null,
            "grid_column": null,
            "overflow_y": null,
            "overflow_x": null,
            "grid_auto_flow": null,
            "grid_area": null,
            "grid_template_columns": null,
            "flex": null,
            "_model_name": "LayoutModel",
            "justify_items": null,
            "grid_row": null,
            "max_height": null,
            "align_content": null,
            "visibility": null,
            "align_self": null,
            "height": null,
            "min_height": null,
            "padding": null,
            "grid_auto_rows": null,
            "grid_gap": null,
            "max_width": null,
            "order": null,
            "_view_module_version": "1.2.0",
            "grid_template_areas": null,
            "object_position": null,
            "object_fit": null,
            "grid_auto_columns": null,
            "margin": null,
            "display": null,
            "left": null
          }
        },
        "fb13fa5dbb11423f96d197bbcda99e2a": {
          "model_module": "@jupyter-widgets/controls",
          "model_name": "HBoxModel",
          "model_module_version": "1.5.0",
          "state": {
            "_view_name": "HBoxView",
            "_dom_classes": [],
            "_model_name": "HBoxModel",
            "_view_module": "@jupyter-widgets/controls",
            "_model_module_version": "1.5.0",
            "_view_count": null,
            "_view_module_version": "1.5.0",
            "box_style": "",
            "layout": "IPY_MODEL_d3d90b6556b34c968954256e79c4eef4",
            "_model_module": "@jupyter-widgets/controls",
            "children": [
              "IPY_MODEL_8e4d356aca124dbf83573888f9ab6f78",
              "IPY_MODEL_cbf2d0995460460eb30891605dc0f06a",
              "IPY_MODEL_3bcf774a4fe94e0ab7539ca0337440ca"
            ]
          }
        },
        "d3d90b6556b34c968954256e79c4eef4": {
          "model_module": "@jupyter-widgets/base",
          "model_name": "LayoutModel",
          "model_module_version": "1.2.0",
          "state": {
            "_view_name": "LayoutView",
            "grid_template_rows": null,
            "right": null,
            "justify_content": null,
            "_view_module": "@jupyter-widgets/base",
            "overflow": null,
            "_model_module_version": "1.2.0",
            "_view_count": null,
            "flex_flow": null,
            "width": null,
            "min_width": null,
            "border": null,
            "align_items": null,
            "bottom": null,
            "_model_module": "@jupyter-widgets/base",
            "top": null,
            "grid_column": null,
            "overflow_y": null,
            "overflow_x": null,
            "grid_auto_flow": null,
            "grid_area": null,
            "grid_template_columns": null,
            "flex": null,
            "_model_name": "LayoutModel",
            "justify_items": null,
            "grid_row": null,
            "max_height": null,
            "align_content": null,
            "visibility": null,
            "align_self": null,
            "height": null,
            "min_height": null,
            "padding": null,
            "grid_auto_rows": null,
            "grid_gap": null,
            "max_width": null,
            "order": null,
            "_view_module_version": "1.2.0",
            "grid_template_areas": null,
            "object_position": null,
            "object_fit": null,
            "grid_auto_columns": null,
            "margin": null,
            "display": null,
            "left": null
          }
        },
        "8e4d356aca124dbf83573888f9ab6f78": {
          "model_module": "@jupyter-widgets/controls",
          "model_name": "HTMLModel",
          "model_module_version": "1.5.0",
          "state": {
            "_view_name": "HTMLView",
            "style": "IPY_MODEL_e399b2c6061642ecb3a2e27e487abcaf",
            "_dom_classes": [],
            "description": "",
            "_model_name": "HTMLModel",
            "placeholder": "​",
            "_view_module": "@jupyter-widgets/controls",
            "_model_module_version": "1.5.0",
            "value": "",
            "_view_count": null,
            "_view_module_version": "1.5.0",
            "description_tooltip": null,
            "_model_module": "@jupyter-widgets/controls",
            "layout": "IPY_MODEL_2ab44787fe8f4b39979cac6edcc230c5"
          }
        },
        "cbf2d0995460460eb30891605dc0f06a": {
          "model_module": "@jupyter-widgets/controls",
          "model_name": "FloatProgressModel",
          "model_module_version": "1.5.0",
          "state": {
            "_view_name": "ProgressView",
            "style": "IPY_MODEL_a54ce9bbbaf447aaa62daa4bf396089e",
            "_dom_classes": [],
            "description": "",
            "_model_name": "FloatProgressModel",
            "bar_style": "info",
            "max": 1,
            "_view_module": "@jupyter-widgets/controls",
            "_model_module_version": "1.5.0",
            "value": 1,
            "_view_count": null,
            "_view_module_version": "1.5.0",
            "orientation": "horizontal",
            "min": 0,
            "description_tooltip": null,
            "_model_module": "@jupyter-widgets/controls",
            "layout": "IPY_MODEL_6fd5e793315e4afb90158b6c802cfb12"
          }
        },
        "3bcf774a4fe94e0ab7539ca0337440ca": {
          "model_module": "@jupyter-widgets/controls",
          "model_name": "HTMLModel",
          "model_module_version": "1.5.0",
          "state": {
            "_view_name": "HTMLView",
            "style": "IPY_MODEL_34d8b3314bec4c098d2345b2bc281aa6",
            "_dom_classes": [],
            "description": "",
            "_model_name": "HTMLModel",
            "placeholder": "​",
            "_view_module": "@jupyter-widgets/controls",
            "_model_module_version": "1.5.0",
            "value": " 24896/0 [00:14&lt;00:00, 2277.76 examples/s]",
            "_view_count": null,
            "_view_module_version": "1.5.0",
            "description_tooltip": null,
            "_model_module": "@jupyter-widgets/controls",
            "layout": "IPY_MODEL_d4280dca8fe345f9864ef94c7dfc0f92"
          }
        },
        "e399b2c6061642ecb3a2e27e487abcaf": {
          "model_module": "@jupyter-widgets/controls",
          "model_name": "DescriptionStyleModel",
          "model_module_version": "1.5.0",
          "state": {
            "_view_name": "StyleView",
            "_model_name": "DescriptionStyleModel",
            "description_width": "",
            "_view_module": "@jupyter-widgets/base",
            "_model_module_version": "1.5.0",
            "_view_count": null,
            "_view_module_version": "1.2.0",
            "_model_module": "@jupyter-widgets/controls"
          }
        },
        "2ab44787fe8f4b39979cac6edcc230c5": {
          "model_module": "@jupyter-widgets/base",
          "model_name": "LayoutModel",
          "model_module_version": "1.2.0",
          "state": {
            "_view_name": "LayoutView",
            "grid_template_rows": null,
            "right": null,
            "justify_content": null,
            "_view_module": "@jupyter-widgets/base",
            "overflow": null,
            "_model_module_version": "1.2.0",
            "_view_count": null,
            "flex_flow": null,
            "width": null,
            "min_width": null,
            "border": null,
            "align_items": null,
            "bottom": null,
            "_model_module": "@jupyter-widgets/base",
            "top": null,
            "grid_column": null,
            "overflow_y": null,
            "overflow_x": null,
            "grid_auto_flow": null,
            "grid_area": null,
            "grid_template_columns": null,
            "flex": null,
            "_model_name": "LayoutModel",
            "justify_items": null,
            "grid_row": null,
            "max_height": null,
            "align_content": null,
            "visibility": null,
            "align_self": null,
            "height": null,
            "min_height": null,
            "padding": null,
            "grid_auto_rows": null,
            "grid_gap": null,
            "max_width": null,
            "order": null,
            "_view_module_version": "1.2.0",
            "grid_template_areas": null,
            "object_position": null,
            "object_fit": null,
            "grid_auto_columns": null,
            "margin": null,
            "display": null,
            "left": null
          }
        },
        "a54ce9bbbaf447aaa62daa4bf396089e": {
          "model_module": "@jupyter-widgets/controls",
          "model_name": "ProgressStyleModel",
          "model_module_version": "1.5.0",
          "state": {
            "_view_name": "StyleView",
            "_model_name": "ProgressStyleModel",
            "description_width": "",
            "_view_module": "@jupyter-widgets/base",
            "_model_module_version": "1.5.0",
            "_view_count": null,
            "_view_module_version": "1.2.0",
            "bar_color": null,
            "_model_module": "@jupyter-widgets/controls"
          }
        },
        "6fd5e793315e4afb90158b6c802cfb12": {
          "model_module": "@jupyter-widgets/base",
          "model_name": "LayoutModel",
          "model_module_version": "1.2.0",
          "state": {
            "_view_name": "LayoutView",
            "grid_template_rows": null,
            "right": null,
            "justify_content": null,
            "_view_module": "@jupyter-widgets/base",
            "overflow": null,
            "_model_module_version": "1.2.0",
            "_view_count": null,
            "flex_flow": null,
            "width": "20px",
            "min_width": null,
            "border": null,
            "align_items": null,
            "bottom": null,
            "_model_module": "@jupyter-widgets/base",
            "top": null,
            "grid_column": null,
            "overflow_y": null,
            "overflow_x": null,
            "grid_auto_flow": null,
            "grid_area": null,
            "grid_template_columns": null,
            "flex": null,
            "_model_name": "LayoutModel",
            "justify_items": null,
            "grid_row": null,
            "max_height": null,
            "align_content": null,
            "visibility": null,
            "align_self": null,
            "height": null,
            "min_height": null,
            "padding": null,
            "grid_auto_rows": null,
            "grid_gap": null,
            "max_width": null,
            "order": null,
            "_view_module_version": "1.2.0",
            "grid_template_areas": null,
            "object_position": null,
            "object_fit": null,
            "grid_auto_columns": null,
            "margin": null,
            "display": null,
            "left": null
          }
        },
        "34d8b3314bec4c098d2345b2bc281aa6": {
          "model_module": "@jupyter-widgets/controls",
          "model_name": "DescriptionStyleModel",
          "model_module_version": "1.5.0",
          "state": {
            "_view_name": "StyleView",
            "_model_name": "DescriptionStyleModel",
            "description_width": "",
            "_view_module": "@jupyter-widgets/base",
            "_model_module_version": "1.5.0",
            "_view_count": null,
            "_view_module_version": "1.2.0",
            "_model_module": "@jupyter-widgets/controls"
          }
        },
        "d4280dca8fe345f9864ef94c7dfc0f92": {
          "model_module": "@jupyter-widgets/base",
          "model_name": "LayoutModel",
          "model_module_version": "1.2.0",
          "state": {
            "_view_name": "LayoutView",
            "grid_template_rows": null,
            "right": null,
            "justify_content": null,
            "_view_module": "@jupyter-widgets/base",
            "overflow": null,
            "_model_module_version": "1.2.0",
            "_view_count": null,
            "flex_flow": null,
            "width": null,
            "min_width": null,
            "border": null,
            "align_items": null,
            "bottom": null,
            "_model_module": "@jupyter-widgets/base",
            "top": null,
            "grid_column": null,
            "overflow_y": null,
            "overflow_x": null,
            "grid_auto_flow": null,
            "grid_area": null,
            "grid_template_columns": null,
            "flex": null,
            "_model_name": "LayoutModel",
            "justify_items": null,
            "grid_row": null,
            "max_height": null,
            "align_content": null,
            "visibility": null,
            "align_self": null,
            "height": null,
            "min_height": null,
            "padding": null,
            "grid_auto_rows": null,
            "grid_gap": null,
            "max_width": null,
            "order": null,
            "_view_module_version": "1.2.0",
            "grid_template_areas": null,
            "object_position": null,
            "object_fit": null,
            "grid_auto_columns": null,
            "margin": null,
            "display": null,
            "left": null
          }
        },
        "78b1d5f3f9354436a9088965941a6b12": {
          "model_module": "@jupyter-widgets/controls",
          "model_name": "HBoxModel",
          "model_module_version": "1.5.0",
          "state": {
            "_view_name": "HBoxView",
            "_dom_classes": [],
            "_model_name": "HBoxModel",
            "_view_module": "@jupyter-widgets/controls",
            "_model_module_version": "1.5.0",
            "_view_count": null,
            "_view_module_version": "1.5.0",
            "box_style": "",
            "layout": "IPY_MODEL_fa76e1ed6b704809ad381589490d639d",
            "_model_module": "@jupyter-widgets/controls",
            "children": [
              "IPY_MODEL_84c9ffb736834b98be9d4c2628613405",
              "IPY_MODEL_4caccb39a01d49678252459b1ed7142e",
              "IPY_MODEL_0d7ce8ea1d12485b88e9f72a52c814fa"
            ]
          }
        },
        "fa76e1ed6b704809ad381589490d639d": {
          "model_module": "@jupyter-widgets/base",
          "model_name": "LayoutModel",
          "model_module_version": "1.2.0",
          "state": {
            "_view_name": "LayoutView",
            "grid_template_rows": null,
            "right": null,
            "justify_content": null,
            "_view_module": "@jupyter-widgets/base",
            "overflow": null,
            "_model_module_version": "1.2.0",
            "_view_count": null,
            "flex_flow": null,
            "width": null,
            "min_width": null,
            "border": null,
            "align_items": null,
            "bottom": null,
            "_model_module": "@jupyter-widgets/base",
            "top": null,
            "grid_column": null,
            "overflow_y": null,
            "overflow_x": null,
            "grid_auto_flow": null,
            "grid_area": null,
            "grid_template_columns": null,
            "flex": null,
            "_model_name": "LayoutModel",
            "justify_items": null,
            "grid_row": null,
            "max_height": null,
            "align_content": null,
            "visibility": null,
            "align_self": null,
            "height": null,
            "min_height": null,
            "padding": null,
            "grid_auto_rows": null,
            "grid_gap": null,
            "max_width": null,
            "order": null,
            "_view_module_version": "1.2.0",
            "grid_template_areas": null,
            "object_position": null,
            "object_fit": null,
            "grid_auto_columns": null,
            "margin": null,
            "display": null,
            "left": null
          }
        },
        "84c9ffb736834b98be9d4c2628613405": {
          "model_module": "@jupyter-widgets/controls",
          "model_name": "HTMLModel",
          "model_module_version": "1.5.0",
          "state": {
            "_view_name": "HTMLView",
            "style": "IPY_MODEL_a11f1527d25d45fd8bdf83a0ac25993a",
            "_dom_classes": [],
            "description": "",
            "_model_name": "HTMLModel",
            "placeholder": "​",
            "_view_module": "@jupyter-widgets/controls",
            "_model_module_version": "1.5.0",
            "value": "100%",
            "_view_count": null,
            "_view_module_version": "1.5.0",
            "description_tooltip": null,
            "_model_module": "@jupyter-widgets/controls",
            "layout": "IPY_MODEL_1bfa2c4dfc1c4e67ae3b2fd0991768f2"
          }
        },
        "4caccb39a01d49678252459b1ed7142e": {
          "model_module": "@jupyter-widgets/controls",
          "model_name": "FloatProgressModel",
          "model_module_version": "1.5.0",
          "state": {
            "_view_name": "ProgressView",
            "style": "IPY_MODEL_b3e6bb266ed14398813a34252d580146",
            "_dom_classes": [],
            "description": "",
            "_model_name": "FloatProgressModel",
            "bar_style": "danger",
            "max": 25000,
            "_view_module": "@jupyter-widgets/controls",
            "_model_module_version": "1.5.0",
            "value": 24999,
            "_view_count": null,
            "_view_module_version": "1.5.0",
            "orientation": "horizontal",
            "min": 0,
            "description_tooltip": null,
            "_model_module": "@jupyter-widgets/controls",
            "layout": "IPY_MODEL_8e1475a7fde54e94a222b8dbd6a1b0a0"
          }
        },
        "0d7ce8ea1d12485b88e9f72a52c814fa": {
          "model_module": "@jupyter-widgets/controls",
          "model_name": "HTMLModel",
          "model_module_version": "1.5.0",
          "state": {
            "_view_name": "HTMLView",
            "style": "IPY_MODEL_2f67105e25044a22b0a5402f49577a7c",
            "_dom_classes": [],
            "description": "",
            "_model_name": "HTMLModel",
            "placeholder": "​",
            "_view_module": "@jupyter-widgets/controls",
            "_model_module_version": "1.5.0",
            "value": " 24999/25000 [00:00&lt;00:00, 87111.92 examples/s]",
            "_view_count": null,
            "_view_module_version": "1.5.0",
            "description_tooltip": null,
            "_model_module": "@jupyter-widgets/controls",
            "layout": "IPY_MODEL_c94d42e0b44e4bdab023302bd1dc8539"
          }
        },
        "a11f1527d25d45fd8bdf83a0ac25993a": {
          "model_module": "@jupyter-widgets/controls",
          "model_name": "DescriptionStyleModel",
          "model_module_version": "1.5.0",
          "state": {
            "_view_name": "StyleView",
            "_model_name": "DescriptionStyleModel",
            "description_width": "",
            "_view_module": "@jupyter-widgets/base",
            "_model_module_version": "1.5.0",
            "_view_count": null,
            "_view_module_version": "1.2.0",
            "_model_module": "@jupyter-widgets/controls"
          }
        },
        "1bfa2c4dfc1c4e67ae3b2fd0991768f2": {
          "model_module": "@jupyter-widgets/base",
          "model_name": "LayoutModel",
          "model_module_version": "1.2.0",
          "state": {
            "_view_name": "LayoutView",
            "grid_template_rows": null,
            "right": null,
            "justify_content": null,
            "_view_module": "@jupyter-widgets/base",
            "overflow": null,
            "_model_module_version": "1.2.0",
            "_view_count": null,
            "flex_flow": null,
            "width": null,
            "min_width": null,
            "border": null,
            "align_items": null,
            "bottom": null,
            "_model_module": "@jupyter-widgets/base",
            "top": null,
            "grid_column": null,
            "overflow_y": null,
            "overflow_x": null,
            "grid_auto_flow": null,
            "grid_area": null,
            "grid_template_columns": null,
            "flex": null,
            "_model_name": "LayoutModel",
            "justify_items": null,
            "grid_row": null,
            "max_height": null,
            "align_content": null,
            "visibility": null,
            "align_self": null,
            "height": null,
            "min_height": null,
            "padding": null,
            "grid_auto_rows": null,
            "grid_gap": null,
            "max_width": null,
            "order": null,
            "_view_module_version": "1.2.0",
            "grid_template_areas": null,
            "object_position": null,
            "object_fit": null,
            "grid_auto_columns": null,
            "margin": null,
            "display": null,
            "left": null
          }
        },
        "b3e6bb266ed14398813a34252d580146": {
          "model_module": "@jupyter-widgets/controls",
          "model_name": "ProgressStyleModel",
          "model_module_version": "1.5.0",
          "state": {
            "_view_name": "StyleView",
            "_model_name": "ProgressStyleModel",
            "description_width": "",
            "_view_module": "@jupyter-widgets/base",
            "_model_module_version": "1.5.0",
            "_view_count": null,
            "_view_module_version": "1.2.0",
            "bar_color": null,
            "_model_module": "@jupyter-widgets/controls"
          }
        },
        "8e1475a7fde54e94a222b8dbd6a1b0a0": {
          "model_module": "@jupyter-widgets/base",
          "model_name": "LayoutModel",
          "model_module_version": "1.2.0",
          "state": {
            "_view_name": "LayoutView",
            "grid_template_rows": null,
            "right": null,
            "justify_content": null,
            "_view_module": "@jupyter-widgets/base",
            "overflow": null,
            "_model_module_version": "1.2.0",
            "_view_count": null,
            "flex_flow": null,
            "width": null,
            "min_width": null,
            "border": null,
            "align_items": null,
            "bottom": null,
            "_model_module": "@jupyter-widgets/base",
            "top": null,
            "grid_column": null,
            "overflow_y": null,
            "overflow_x": null,
            "grid_auto_flow": null,
            "grid_area": null,
            "grid_template_columns": null,
            "flex": null,
            "_model_name": "LayoutModel",
            "justify_items": null,
            "grid_row": null,
            "max_height": null,
            "align_content": null,
            "visibility": null,
            "align_self": null,
            "height": null,
            "min_height": null,
            "padding": null,
            "grid_auto_rows": null,
            "grid_gap": null,
            "max_width": null,
            "order": null,
            "_view_module_version": "1.2.0",
            "grid_template_areas": null,
            "object_position": null,
            "object_fit": null,
            "grid_auto_columns": null,
            "margin": null,
            "display": null,
            "left": null
          }
        },
        "2f67105e25044a22b0a5402f49577a7c": {
          "model_module": "@jupyter-widgets/controls",
          "model_name": "DescriptionStyleModel",
          "model_module_version": "1.5.0",
          "state": {
            "_view_name": "StyleView",
            "_model_name": "DescriptionStyleModel",
            "description_width": "",
            "_view_module": "@jupyter-widgets/base",
            "_model_module_version": "1.5.0",
            "_view_count": null,
            "_view_module_version": "1.2.0",
            "_model_module": "@jupyter-widgets/controls"
          }
        },
        "c94d42e0b44e4bdab023302bd1dc8539": {
          "model_module": "@jupyter-widgets/base",
          "model_name": "LayoutModel",
          "model_module_version": "1.2.0",
          "state": {
            "_view_name": "LayoutView",
            "grid_template_rows": null,
            "right": null,
            "justify_content": null,
            "_view_module": "@jupyter-widgets/base",
            "overflow": null,
            "_model_module_version": "1.2.0",
            "_view_count": null,
            "flex_flow": null,
            "width": null,
            "min_width": null,
            "border": null,
            "align_items": null,
            "bottom": null,
            "_model_module": "@jupyter-widgets/base",
            "top": null,
            "grid_column": null,
            "overflow_y": null,
            "overflow_x": null,
            "grid_auto_flow": null,
            "grid_area": null,
            "grid_template_columns": null,
            "flex": null,
            "_model_name": "LayoutModel",
            "justify_items": null,
            "grid_row": null,
            "max_height": null,
            "align_content": null,
            "visibility": null,
            "align_self": null,
            "height": null,
            "min_height": null,
            "padding": null,
            "grid_auto_rows": null,
            "grid_gap": null,
            "max_width": null,
            "order": null,
            "_view_module_version": "1.2.0",
            "grid_template_areas": null,
            "object_position": null,
            "object_fit": null,
            "grid_auto_columns": null,
            "margin": null,
            "display": null,
            "left": null
          }
        },
        "2adcfc3103164d0d947cec557a99a405": {
          "model_module": "@jupyter-widgets/controls",
          "model_name": "HBoxModel",
          "model_module_version": "1.5.0",
          "state": {
            "_view_name": "HBoxView",
            "_dom_classes": [],
            "_model_name": "HBoxModel",
            "_view_module": "@jupyter-widgets/controls",
            "_model_module_version": "1.5.0",
            "_view_count": null,
            "_view_module_version": "1.5.0",
            "box_style": "",
            "layout": "IPY_MODEL_3df2cc1e2548431096b74f66678648c0",
            "_model_module": "@jupyter-widgets/controls",
            "children": [
              "IPY_MODEL_977f782633bb46139bb6e5bae3791d9c",
              "IPY_MODEL_fda8ca6b34464a79adfb25c1ef87a95c",
              "IPY_MODEL_983e5937b9a443ffbef06cb852d68293"
            ]
          }
        },
        "3df2cc1e2548431096b74f66678648c0": {
          "model_module": "@jupyter-widgets/base",
          "model_name": "LayoutModel",
          "model_module_version": "1.2.0",
          "state": {
            "_view_name": "LayoutView",
            "grid_template_rows": null,
            "right": null,
            "justify_content": null,
            "_view_module": "@jupyter-widgets/base",
            "overflow": null,
            "_model_module_version": "1.2.0",
            "_view_count": null,
            "flex_flow": null,
            "width": null,
            "min_width": null,
            "border": null,
            "align_items": null,
            "bottom": null,
            "_model_module": "@jupyter-widgets/base",
            "top": null,
            "grid_column": null,
            "overflow_y": null,
            "overflow_x": null,
            "grid_auto_flow": null,
            "grid_area": null,
            "grid_template_columns": null,
            "flex": null,
            "_model_name": "LayoutModel",
            "justify_items": null,
            "grid_row": null,
            "max_height": null,
            "align_content": null,
            "visibility": null,
            "align_self": null,
            "height": null,
            "min_height": null,
            "padding": null,
            "grid_auto_rows": null,
            "grid_gap": null,
            "max_width": null,
            "order": null,
            "_view_module_version": "1.2.0",
            "grid_template_areas": null,
            "object_position": null,
            "object_fit": null,
            "grid_auto_columns": null,
            "margin": null,
            "display": null,
            "left": null
          }
        },
        "977f782633bb46139bb6e5bae3791d9c": {
          "model_module": "@jupyter-widgets/controls",
          "model_name": "HTMLModel",
          "model_module_version": "1.5.0",
          "state": {
            "_view_name": "HTMLView",
            "style": "IPY_MODEL_f4d639784c70464ab28417ed03d51ea6",
            "_dom_classes": [],
            "description": "",
            "_model_name": "HTMLModel",
            "placeholder": "​",
            "_view_module": "@jupyter-widgets/controls",
            "_model_module_version": "1.5.0",
            "value": "",
            "_view_count": null,
            "_view_module_version": "1.5.0",
            "description_tooltip": null,
            "_model_module": "@jupyter-widgets/controls",
            "layout": "IPY_MODEL_dc4dbab257d74f4aa0f8b12a6b56c91f"
          }
        },
        "fda8ca6b34464a79adfb25c1ef87a95c": {
          "model_module": "@jupyter-widgets/controls",
          "model_name": "FloatProgressModel",
          "model_module_version": "1.5.0",
          "state": {
            "_view_name": "ProgressView",
            "style": "IPY_MODEL_9cbe5012d1724ec6b58ce276cbadea0c",
            "_dom_classes": [],
            "description": "",
            "_model_name": "FloatProgressModel",
            "bar_style": "info",
            "max": 1,
            "_view_module": "@jupyter-widgets/controls",
            "_model_module_version": "1.5.0",
            "value": 1,
            "_view_count": null,
            "_view_module_version": "1.5.0",
            "orientation": "horizontal",
            "min": 0,
            "description_tooltip": null,
            "_model_module": "@jupyter-widgets/controls",
            "layout": "IPY_MODEL_beac6b2b0f254a759ae58339cf419867"
          }
        },
        "983e5937b9a443ffbef06cb852d68293": {
          "model_module": "@jupyter-widgets/controls",
          "model_name": "HTMLModel",
          "model_module_version": "1.5.0",
          "state": {
            "_view_name": "HTMLView",
            "style": "IPY_MODEL_25ec821600144484852185d28501362b",
            "_dom_classes": [],
            "description": "",
            "_model_name": "HTMLModel",
            "placeholder": "​",
            "_view_module": "@jupyter-widgets/controls",
            "_model_module_version": "1.5.0",
            "value": " 24909/0 [00:11&lt;00:00, 2285.61 examples/s]",
            "_view_count": null,
            "_view_module_version": "1.5.0",
            "description_tooltip": null,
            "_model_module": "@jupyter-widgets/controls",
            "layout": "IPY_MODEL_3e1f6e9f3fc140ab9a384b41bb5ae94d"
          }
        },
        "f4d639784c70464ab28417ed03d51ea6": {
          "model_module": "@jupyter-widgets/controls",
          "model_name": "DescriptionStyleModel",
          "model_module_version": "1.5.0",
          "state": {
            "_view_name": "StyleView",
            "_model_name": "DescriptionStyleModel",
            "description_width": "",
            "_view_module": "@jupyter-widgets/base",
            "_model_module_version": "1.5.0",
            "_view_count": null,
            "_view_module_version": "1.2.0",
            "_model_module": "@jupyter-widgets/controls"
          }
        },
        "dc4dbab257d74f4aa0f8b12a6b56c91f": {
          "model_module": "@jupyter-widgets/base",
          "model_name": "LayoutModel",
          "model_module_version": "1.2.0",
          "state": {
            "_view_name": "LayoutView",
            "grid_template_rows": null,
            "right": null,
            "justify_content": null,
            "_view_module": "@jupyter-widgets/base",
            "overflow": null,
            "_model_module_version": "1.2.0",
            "_view_count": null,
            "flex_flow": null,
            "width": null,
            "min_width": null,
            "border": null,
            "align_items": null,
            "bottom": null,
            "_model_module": "@jupyter-widgets/base",
            "top": null,
            "grid_column": null,
            "overflow_y": null,
            "overflow_x": null,
            "grid_auto_flow": null,
            "grid_area": null,
            "grid_template_columns": null,
            "flex": null,
            "_model_name": "LayoutModel",
            "justify_items": null,
            "grid_row": null,
            "max_height": null,
            "align_content": null,
            "visibility": null,
            "align_self": null,
            "height": null,
            "min_height": null,
            "padding": null,
            "grid_auto_rows": null,
            "grid_gap": null,
            "max_width": null,
            "order": null,
            "_view_module_version": "1.2.0",
            "grid_template_areas": null,
            "object_position": null,
            "object_fit": null,
            "grid_auto_columns": null,
            "margin": null,
            "display": null,
            "left": null
          }
        },
        "9cbe5012d1724ec6b58ce276cbadea0c": {
          "model_module": "@jupyter-widgets/controls",
          "model_name": "ProgressStyleModel",
          "model_module_version": "1.5.0",
          "state": {
            "_view_name": "StyleView",
            "_model_name": "ProgressStyleModel",
            "description_width": "",
            "_view_module": "@jupyter-widgets/base",
            "_model_module_version": "1.5.0",
            "_view_count": null,
            "_view_module_version": "1.2.0",
            "bar_color": null,
            "_model_module": "@jupyter-widgets/controls"
          }
        },
        "beac6b2b0f254a759ae58339cf419867": {
          "model_module": "@jupyter-widgets/base",
          "model_name": "LayoutModel",
          "model_module_version": "1.2.0",
          "state": {
            "_view_name": "LayoutView",
            "grid_template_rows": null,
            "right": null,
            "justify_content": null,
            "_view_module": "@jupyter-widgets/base",
            "overflow": null,
            "_model_module_version": "1.2.0",
            "_view_count": null,
            "flex_flow": null,
            "width": "20px",
            "min_width": null,
            "border": null,
            "align_items": null,
            "bottom": null,
            "_model_module": "@jupyter-widgets/base",
            "top": null,
            "grid_column": null,
            "overflow_y": null,
            "overflow_x": null,
            "grid_auto_flow": null,
            "grid_area": null,
            "grid_template_columns": null,
            "flex": null,
            "_model_name": "LayoutModel",
            "justify_items": null,
            "grid_row": null,
            "max_height": null,
            "align_content": null,
            "visibility": null,
            "align_self": null,
            "height": null,
            "min_height": null,
            "padding": null,
            "grid_auto_rows": null,
            "grid_gap": null,
            "max_width": null,
            "order": null,
            "_view_module_version": "1.2.0",
            "grid_template_areas": null,
            "object_position": null,
            "object_fit": null,
            "grid_auto_columns": null,
            "margin": null,
            "display": null,
            "left": null
          }
        },
        "25ec821600144484852185d28501362b": {
          "model_module": "@jupyter-widgets/controls",
          "model_name": "DescriptionStyleModel",
          "model_module_version": "1.5.0",
          "state": {
            "_view_name": "StyleView",
            "_model_name": "DescriptionStyleModel",
            "description_width": "",
            "_view_module": "@jupyter-widgets/base",
            "_model_module_version": "1.5.0",
            "_view_count": null,
            "_view_module_version": "1.2.0",
            "_model_module": "@jupyter-widgets/controls"
          }
        },
        "3e1f6e9f3fc140ab9a384b41bb5ae94d": {
          "model_module": "@jupyter-widgets/base",
          "model_name": "LayoutModel",
          "model_module_version": "1.2.0",
          "state": {
            "_view_name": "LayoutView",
            "grid_template_rows": null,
            "right": null,
            "justify_content": null,
            "_view_module": "@jupyter-widgets/base",
            "overflow": null,
            "_model_module_version": "1.2.0",
            "_view_count": null,
            "flex_flow": null,
            "width": null,
            "min_width": null,
            "border": null,
            "align_items": null,
            "bottom": null,
            "_model_module": "@jupyter-widgets/base",
            "top": null,
            "grid_column": null,
            "overflow_y": null,
            "overflow_x": null,
            "grid_auto_flow": null,
            "grid_area": null,
            "grid_template_columns": null,
            "flex": null,
            "_model_name": "LayoutModel",
            "justify_items": null,
            "grid_row": null,
            "max_height": null,
            "align_content": null,
            "visibility": null,
            "align_self": null,
            "height": null,
            "min_height": null,
            "padding": null,
            "grid_auto_rows": null,
            "grid_gap": null,
            "max_width": null,
            "order": null,
            "_view_module_version": "1.2.0",
            "grid_template_areas": null,
            "object_position": null,
            "object_fit": null,
            "grid_auto_columns": null,
            "margin": null,
            "display": null,
            "left": null
          }
        },
        "5538fac0613e4576a1dfe6fd117e96c2": {
          "model_module": "@jupyter-widgets/controls",
          "model_name": "HBoxModel",
          "model_module_version": "1.5.0",
          "state": {
            "_view_name": "HBoxView",
            "_dom_classes": [],
            "_model_name": "HBoxModel",
            "_view_module": "@jupyter-widgets/controls",
            "_model_module_version": "1.5.0",
            "_view_count": null,
            "_view_module_version": "1.5.0",
            "box_style": "",
            "layout": "IPY_MODEL_dea7539a4d114d5f8689d93d6bbdaadf",
            "_model_module": "@jupyter-widgets/controls",
            "children": [
              "IPY_MODEL_d677b42c92514e379eace8e85a811f02",
              "IPY_MODEL_04fe249a3599462d9da6a24ea9452023",
              "IPY_MODEL_7f3bde04a3fa4cd584970ef2b917e965"
            ]
          }
        },
        "dea7539a4d114d5f8689d93d6bbdaadf": {
          "model_module": "@jupyter-widgets/base",
          "model_name": "LayoutModel",
          "model_module_version": "1.2.0",
          "state": {
            "_view_name": "LayoutView",
            "grid_template_rows": null,
            "right": null,
            "justify_content": null,
            "_view_module": "@jupyter-widgets/base",
            "overflow": null,
            "_model_module_version": "1.2.0",
            "_view_count": null,
            "flex_flow": null,
            "width": null,
            "min_width": null,
            "border": null,
            "align_items": null,
            "bottom": null,
            "_model_module": "@jupyter-widgets/base",
            "top": null,
            "grid_column": null,
            "overflow_y": null,
            "overflow_x": null,
            "grid_auto_flow": null,
            "grid_area": null,
            "grid_template_columns": null,
            "flex": null,
            "_model_name": "LayoutModel",
            "justify_items": null,
            "grid_row": null,
            "max_height": null,
            "align_content": null,
            "visibility": null,
            "align_self": null,
            "height": null,
            "min_height": null,
            "padding": null,
            "grid_auto_rows": null,
            "grid_gap": null,
            "max_width": null,
            "order": null,
            "_view_module_version": "1.2.0",
            "grid_template_areas": null,
            "object_position": null,
            "object_fit": null,
            "grid_auto_columns": null,
            "margin": null,
            "display": null,
            "left": null
          }
        },
        "d677b42c92514e379eace8e85a811f02": {
          "model_module": "@jupyter-widgets/controls",
          "model_name": "HTMLModel",
          "model_module_version": "1.5.0",
          "state": {
            "_view_name": "HTMLView",
            "style": "IPY_MODEL_578ecdb632174be1ad8307cfbd9f2fb1",
            "_dom_classes": [],
            "description": "",
            "_model_name": "HTMLModel",
            "placeholder": "​",
            "_view_module": "@jupyter-widgets/controls",
            "_model_module_version": "1.5.0",
            "value": "100%",
            "_view_count": null,
            "_view_module_version": "1.5.0",
            "description_tooltip": null,
            "_model_module": "@jupyter-widgets/controls",
            "layout": "IPY_MODEL_3436aabdf4b54afeacb311823cea0612"
          }
        },
        "04fe249a3599462d9da6a24ea9452023": {
          "model_module": "@jupyter-widgets/controls",
          "model_name": "FloatProgressModel",
          "model_module_version": "1.5.0",
          "state": {
            "_view_name": "ProgressView",
            "style": "IPY_MODEL_27e44acfac1f43888985e7f40f6134d9",
            "_dom_classes": [],
            "description": "",
            "_model_name": "FloatProgressModel",
            "bar_style": "danger",
            "max": 25000,
            "_view_module": "@jupyter-widgets/controls",
            "_model_module_version": "1.5.0",
            "value": 24999,
            "_view_count": null,
            "_view_module_version": "1.5.0",
            "orientation": "horizontal",
            "min": 0,
            "description_tooltip": null,
            "_model_module": "@jupyter-widgets/controls",
            "layout": "IPY_MODEL_871be348772343728996faf59084a7ed"
          }
        },
        "7f3bde04a3fa4cd584970ef2b917e965": {
          "model_module": "@jupyter-widgets/controls",
          "model_name": "HTMLModel",
          "model_module_version": "1.5.0",
          "state": {
            "_view_name": "HTMLView",
            "style": "IPY_MODEL_c7d1bfb1b1c040a49ba9f8dfb6eafc06",
            "_dom_classes": [],
            "description": "",
            "_model_name": "HTMLModel",
            "placeholder": "​",
            "_view_module": "@jupyter-widgets/controls",
            "_model_module_version": "1.5.0",
            "value": " 24999/25000 [00:00&lt;00:00, 86832.58 examples/s]",
            "_view_count": null,
            "_view_module_version": "1.5.0",
            "description_tooltip": null,
            "_model_module": "@jupyter-widgets/controls",
            "layout": "IPY_MODEL_7d7ce35bed134f0eac37eacc7816562d"
          }
        },
        "578ecdb632174be1ad8307cfbd9f2fb1": {
          "model_module": "@jupyter-widgets/controls",
          "model_name": "DescriptionStyleModel",
          "model_module_version": "1.5.0",
          "state": {
            "_view_name": "StyleView",
            "_model_name": "DescriptionStyleModel",
            "description_width": "",
            "_view_module": "@jupyter-widgets/base",
            "_model_module_version": "1.5.0",
            "_view_count": null,
            "_view_module_version": "1.2.0",
            "_model_module": "@jupyter-widgets/controls"
          }
        },
        "3436aabdf4b54afeacb311823cea0612": {
          "model_module": "@jupyter-widgets/base",
          "model_name": "LayoutModel",
          "model_module_version": "1.2.0",
          "state": {
            "_view_name": "LayoutView",
            "grid_template_rows": null,
            "right": null,
            "justify_content": null,
            "_view_module": "@jupyter-widgets/base",
            "overflow": null,
            "_model_module_version": "1.2.0",
            "_view_count": null,
            "flex_flow": null,
            "width": null,
            "min_width": null,
            "border": null,
            "align_items": null,
            "bottom": null,
            "_model_module": "@jupyter-widgets/base",
            "top": null,
            "grid_column": null,
            "overflow_y": null,
            "overflow_x": null,
            "grid_auto_flow": null,
            "grid_area": null,
            "grid_template_columns": null,
            "flex": null,
            "_model_name": "LayoutModel",
            "justify_items": null,
            "grid_row": null,
            "max_height": null,
            "align_content": null,
            "visibility": null,
            "align_self": null,
            "height": null,
            "min_height": null,
            "padding": null,
            "grid_auto_rows": null,
            "grid_gap": null,
            "max_width": null,
            "order": null,
            "_view_module_version": "1.2.0",
            "grid_template_areas": null,
            "object_position": null,
            "object_fit": null,
            "grid_auto_columns": null,
            "margin": null,
            "display": null,
            "left": null
          }
        },
        "27e44acfac1f43888985e7f40f6134d9": {
          "model_module": "@jupyter-widgets/controls",
          "model_name": "ProgressStyleModel",
          "model_module_version": "1.5.0",
          "state": {
            "_view_name": "StyleView",
            "_model_name": "ProgressStyleModel",
            "description_width": "",
            "_view_module": "@jupyter-widgets/base",
            "_model_module_version": "1.5.0",
            "_view_count": null,
            "_view_module_version": "1.2.0",
            "bar_color": null,
            "_model_module": "@jupyter-widgets/controls"
          }
        },
        "871be348772343728996faf59084a7ed": {
          "model_module": "@jupyter-widgets/base",
          "model_name": "LayoutModel",
          "model_module_version": "1.2.0",
          "state": {
            "_view_name": "LayoutView",
            "grid_template_rows": null,
            "right": null,
            "justify_content": null,
            "_view_module": "@jupyter-widgets/base",
            "overflow": null,
            "_model_module_version": "1.2.0",
            "_view_count": null,
            "flex_flow": null,
            "width": null,
            "min_width": null,
            "border": null,
            "align_items": null,
            "bottom": null,
            "_model_module": "@jupyter-widgets/base",
            "top": null,
            "grid_column": null,
            "overflow_y": null,
            "overflow_x": null,
            "grid_auto_flow": null,
            "grid_area": null,
            "grid_template_columns": null,
            "flex": null,
            "_model_name": "LayoutModel",
            "justify_items": null,
            "grid_row": null,
            "max_height": null,
            "align_content": null,
            "visibility": null,
            "align_self": null,
            "height": null,
            "min_height": null,
            "padding": null,
            "grid_auto_rows": null,
            "grid_gap": null,
            "max_width": null,
            "order": null,
            "_view_module_version": "1.2.0",
            "grid_template_areas": null,
            "object_position": null,
            "object_fit": null,
            "grid_auto_columns": null,
            "margin": null,
            "display": null,
            "left": null
          }
        },
        "c7d1bfb1b1c040a49ba9f8dfb6eafc06": {
          "model_module": "@jupyter-widgets/controls",
          "model_name": "DescriptionStyleModel",
          "model_module_version": "1.5.0",
          "state": {
            "_view_name": "StyleView",
            "_model_name": "DescriptionStyleModel",
            "description_width": "",
            "_view_module": "@jupyter-widgets/base",
            "_model_module_version": "1.5.0",
            "_view_count": null,
            "_view_module_version": "1.2.0",
            "_model_module": "@jupyter-widgets/controls"
          }
        },
        "7d7ce35bed134f0eac37eacc7816562d": {
          "model_module": "@jupyter-widgets/base",
          "model_name": "LayoutModel",
          "model_module_version": "1.2.0",
          "state": {
            "_view_name": "LayoutView",
            "grid_template_rows": null,
            "right": null,
            "justify_content": null,
            "_view_module": "@jupyter-widgets/base",
            "overflow": null,
            "_model_module_version": "1.2.0",
            "_view_count": null,
            "flex_flow": null,
            "width": null,
            "min_width": null,
            "border": null,
            "align_items": null,
            "bottom": null,
            "_model_module": "@jupyter-widgets/base",
            "top": null,
            "grid_column": null,
            "overflow_y": null,
            "overflow_x": null,
            "grid_auto_flow": null,
            "grid_area": null,
            "grid_template_columns": null,
            "flex": null,
            "_model_name": "LayoutModel",
            "justify_items": null,
            "grid_row": null,
            "max_height": null,
            "align_content": null,
            "visibility": null,
            "align_self": null,
            "height": null,
            "min_height": null,
            "padding": null,
            "grid_auto_rows": null,
            "grid_gap": null,
            "max_width": null,
            "order": null,
            "_view_module_version": "1.2.0",
            "grid_template_areas": null,
            "object_position": null,
            "object_fit": null,
            "grid_auto_columns": null,
            "margin": null,
            "display": null,
            "left": null
          }
        },
        "111e065bb9b743899930a0a22e1b4a3b": {
          "model_module": "@jupyter-widgets/controls",
          "model_name": "HBoxModel",
          "model_module_version": "1.5.0",
          "state": {
            "_view_name": "HBoxView",
            "_dom_classes": [],
            "_model_name": "HBoxModel",
            "_view_module": "@jupyter-widgets/controls",
            "_model_module_version": "1.5.0",
            "_view_count": null,
            "_view_module_version": "1.5.0",
            "box_style": "",
            "layout": "IPY_MODEL_348e890406374002aaacb64f8aa82664",
            "_model_module": "@jupyter-widgets/controls",
            "children": [
              "IPY_MODEL_4030208251f14068a55ddac98780f19c",
              "IPY_MODEL_ce6ac4abc07945d8aa60f8ca78a05545",
              "IPY_MODEL_323d7ddfbe4f4e45a94e66c2b24908ba"
            ]
          }
        },
        "348e890406374002aaacb64f8aa82664": {
          "model_module": "@jupyter-widgets/base",
          "model_name": "LayoutModel",
          "model_module_version": "1.2.0",
          "state": {
            "_view_name": "LayoutView",
            "grid_template_rows": null,
            "right": null,
            "justify_content": null,
            "_view_module": "@jupyter-widgets/base",
            "overflow": null,
            "_model_module_version": "1.2.0",
            "_view_count": null,
            "flex_flow": null,
            "width": null,
            "min_width": null,
            "border": null,
            "align_items": null,
            "bottom": null,
            "_model_module": "@jupyter-widgets/base",
            "top": null,
            "grid_column": null,
            "overflow_y": null,
            "overflow_x": null,
            "grid_auto_flow": null,
            "grid_area": null,
            "grid_template_columns": null,
            "flex": null,
            "_model_name": "LayoutModel",
            "justify_items": null,
            "grid_row": null,
            "max_height": null,
            "align_content": null,
            "visibility": null,
            "align_self": null,
            "height": null,
            "min_height": null,
            "padding": null,
            "grid_auto_rows": null,
            "grid_gap": null,
            "max_width": null,
            "order": null,
            "_view_module_version": "1.2.0",
            "grid_template_areas": null,
            "object_position": null,
            "object_fit": null,
            "grid_auto_columns": null,
            "margin": null,
            "display": null,
            "left": null
          }
        },
        "4030208251f14068a55ddac98780f19c": {
          "model_module": "@jupyter-widgets/controls",
          "model_name": "HTMLModel",
          "model_module_version": "1.5.0",
          "state": {
            "_view_name": "HTMLView",
            "style": "IPY_MODEL_765a525896c0417db59614c38047c668",
            "_dom_classes": [],
            "description": "",
            "_model_name": "HTMLModel",
            "placeholder": "​",
            "_view_module": "@jupyter-widgets/controls",
            "_model_module_version": "1.5.0",
            "value": "",
            "_view_count": null,
            "_view_module_version": "1.5.0",
            "description_tooltip": null,
            "_model_module": "@jupyter-widgets/controls",
            "layout": "IPY_MODEL_0ce33d71bbde44d0aa6b0bd8878e57ba"
          }
        },
        "ce6ac4abc07945d8aa60f8ca78a05545": {
          "model_module": "@jupyter-widgets/controls",
          "model_name": "FloatProgressModel",
          "model_module_version": "1.5.0",
          "state": {
            "_view_name": "ProgressView",
            "style": "IPY_MODEL_0bd48dfc9e8c4a16b42179d494877b60",
            "_dom_classes": [],
            "description": "",
            "_model_name": "FloatProgressModel",
            "bar_style": "info",
            "max": 1,
            "_view_module": "@jupyter-widgets/controls",
            "_model_module_version": "1.5.0",
            "value": 1,
            "_view_count": null,
            "_view_module_version": "1.5.0",
            "orientation": "horizontal",
            "min": 0,
            "description_tooltip": null,
            "_model_module": "@jupyter-widgets/controls",
            "layout": "IPY_MODEL_7ad8d06ebfc14fc3a4c810e963d935ff"
          }
        },
        "323d7ddfbe4f4e45a94e66c2b24908ba": {
          "model_module": "@jupyter-widgets/controls",
          "model_name": "HTMLModel",
          "model_module_version": "1.5.0",
          "state": {
            "_view_name": "HTMLView",
            "style": "IPY_MODEL_6f194b9c02e44cc184a10b6a7dd19cab",
            "_dom_classes": [],
            "description": "",
            "_model_name": "HTMLModel",
            "placeholder": "​",
            "_view_module": "@jupyter-widgets/controls",
            "_model_module_version": "1.5.0",
            "value": " 49900/0 [00:27&lt;00:00, 2311.13 examples/s]",
            "_view_count": null,
            "_view_module_version": "1.5.0",
            "description_tooltip": null,
            "_model_module": "@jupyter-widgets/controls",
            "layout": "IPY_MODEL_044e9fd04be54291b01be5fc54c336b5"
          }
        },
        "765a525896c0417db59614c38047c668": {
          "model_module": "@jupyter-widgets/controls",
          "model_name": "DescriptionStyleModel",
          "model_module_version": "1.5.0",
          "state": {
            "_view_name": "StyleView",
            "_model_name": "DescriptionStyleModel",
            "description_width": "",
            "_view_module": "@jupyter-widgets/base",
            "_model_module_version": "1.5.0",
            "_view_count": null,
            "_view_module_version": "1.2.0",
            "_model_module": "@jupyter-widgets/controls"
          }
        },
        "0ce33d71bbde44d0aa6b0bd8878e57ba": {
          "model_module": "@jupyter-widgets/base",
          "model_name": "LayoutModel",
          "model_module_version": "1.2.0",
          "state": {
            "_view_name": "LayoutView",
            "grid_template_rows": null,
            "right": null,
            "justify_content": null,
            "_view_module": "@jupyter-widgets/base",
            "overflow": null,
            "_model_module_version": "1.2.0",
            "_view_count": null,
            "flex_flow": null,
            "width": null,
            "min_width": null,
            "border": null,
            "align_items": null,
            "bottom": null,
            "_model_module": "@jupyter-widgets/base",
            "top": null,
            "grid_column": null,
            "overflow_y": null,
            "overflow_x": null,
            "grid_auto_flow": null,
            "grid_area": null,
            "grid_template_columns": null,
            "flex": null,
            "_model_name": "LayoutModel",
            "justify_items": null,
            "grid_row": null,
            "max_height": null,
            "align_content": null,
            "visibility": null,
            "align_self": null,
            "height": null,
            "min_height": null,
            "padding": null,
            "grid_auto_rows": null,
            "grid_gap": null,
            "max_width": null,
            "order": null,
            "_view_module_version": "1.2.0",
            "grid_template_areas": null,
            "object_position": null,
            "object_fit": null,
            "grid_auto_columns": null,
            "margin": null,
            "display": null,
            "left": null
          }
        },
        "0bd48dfc9e8c4a16b42179d494877b60": {
          "model_module": "@jupyter-widgets/controls",
          "model_name": "ProgressStyleModel",
          "model_module_version": "1.5.0",
          "state": {
            "_view_name": "StyleView",
            "_model_name": "ProgressStyleModel",
            "description_width": "",
            "_view_module": "@jupyter-widgets/base",
            "_model_module_version": "1.5.0",
            "_view_count": null,
            "_view_module_version": "1.2.0",
            "bar_color": null,
            "_model_module": "@jupyter-widgets/controls"
          }
        },
        "7ad8d06ebfc14fc3a4c810e963d935ff": {
          "model_module": "@jupyter-widgets/base",
          "model_name": "LayoutModel",
          "model_module_version": "1.2.0",
          "state": {
            "_view_name": "LayoutView",
            "grid_template_rows": null,
            "right": null,
            "justify_content": null,
            "_view_module": "@jupyter-widgets/base",
            "overflow": null,
            "_model_module_version": "1.2.0",
            "_view_count": null,
            "flex_flow": null,
            "width": "20px",
            "min_width": null,
            "border": null,
            "align_items": null,
            "bottom": null,
            "_model_module": "@jupyter-widgets/base",
            "top": null,
            "grid_column": null,
            "overflow_y": null,
            "overflow_x": null,
            "grid_auto_flow": null,
            "grid_area": null,
            "grid_template_columns": null,
            "flex": null,
            "_model_name": "LayoutModel",
            "justify_items": null,
            "grid_row": null,
            "max_height": null,
            "align_content": null,
            "visibility": null,
            "align_self": null,
            "height": null,
            "min_height": null,
            "padding": null,
            "grid_auto_rows": null,
            "grid_gap": null,
            "max_width": null,
            "order": null,
            "_view_module_version": "1.2.0",
            "grid_template_areas": null,
            "object_position": null,
            "object_fit": null,
            "grid_auto_columns": null,
            "margin": null,
            "display": null,
            "left": null
          }
        },
        "6f194b9c02e44cc184a10b6a7dd19cab": {
          "model_module": "@jupyter-widgets/controls",
          "model_name": "DescriptionStyleModel",
          "model_module_version": "1.5.0",
          "state": {
            "_view_name": "StyleView",
            "_model_name": "DescriptionStyleModel",
            "description_width": "",
            "_view_module": "@jupyter-widgets/base",
            "_model_module_version": "1.5.0",
            "_view_count": null,
            "_view_module_version": "1.2.0",
            "_model_module": "@jupyter-widgets/controls"
          }
        },
        "044e9fd04be54291b01be5fc54c336b5": {
          "model_module": "@jupyter-widgets/base",
          "model_name": "LayoutModel",
          "model_module_version": "1.2.0",
          "state": {
            "_view_name": "LayoutView",
            "grid_template_rows": null,
            "right": null,
            "justify_content": null,
            "_view_module": "@jupyter-widgets/base",
            "overflow": null,
            "_model_module_version": "1.2.0",
            "_view_count": null,
            "flex_flow": null,
            "width": null,
            "min_width": null,
            "border": null,
            "align_items": null,
            "bottom": null,
            "_model_module": "@jupyter-widgets/base",
            "top": null,
            "grid_column": null,
            "overflow_y": null,
            "overflow_x": null,
            "grid_auto_flow": null,
            "grid_area": null,
            "grid_template_columns": null,
            "flex": null,
            "_model_name": "LayoutModel",
            "justify_items": null,
            "grid_row": null,
            "max_height": null,
            "align_content": null,
            "visibility": null,
            "align_self": null,
            "height": null,
            "min_height": null,
            "padding": null,
            "grid_auto_rows": null,
            "grid_gap": null,
            "max_width": null,
            "order": null,
            "_view_module_version": "1.2.0",
            "grid_template_areas": null,
            "object_position": null,
            "object_fit": null,
            "grid_auto_columns": null,
            "margin": null,
            "display": null,
            "left": null
          }
        },
        "2b61d28b523e4052852e69cf9fbf6d1c": {
          "model_module": "@jupyter-widgets/controls",
          "model_name": "HBoxModel",
          "model_module_version": "1.5.0",
          "state": {
            "_view_name": "HBoxView",
            "_dom_classes": [],
            "_model_name": "HBoxModel",
            "_view_module": "@jupyter-widgets/controls",
            "_model_module_version": "1.5.0",
            "_view_count": null,
            "_view_module_version": "1.5.0",
            "box_style": "",
            "layout": "IPY_MODEL_a7cfb154ef4b4f3f86335f50c191069f",
            "_model_module": "@jupyter-widgets/controls",
            "children": [
              "IPY_MODEL_895007fb06464e979e8d7b73f5a8ea99",
              "IPY_MODEL_c41f1b0899bf483b994087d11404587f",
              "IPY_MODEL_3380cf033a234274a57a6e360d7e86ca"
            ]
          }
        },
        "a7cfb154ef4b4f3f86335f50c191069f": {
          "model_module": "@jupyter-widgets/base",
          "model_name": "LayoutModel",
          "model_module_version": "1.2.0",
          "state": {
            "_view_name": "LayoutView",
            "grid_template_rows": null,
            "right": null,
            "justify_content": null,
            "_view_module": "@jupyter-widgets/base",
            "overflow": null,
            "_model_module_version": "1.2.0",
            "_view_count": null,
            "flex_flow": null,
            "width": null,
            "min_width": null,
            "border": null,
            "align_items": null,
            "bottom": null,
            "_model_module": "@jupyter-widgets/base",
            "top": null,
            "grid_column": null,
            "overflow_y": null,
            "overflow_x": null,
            "grid_auto_flow": null,
            "grid_area": null,
            "grid_template_columns": null,
            "flex": null,
            "_model_name": "LayoutModel",
            "justify_items": null,
            "grid_row": null,
            "max_height": null,
            "align_content": null,
            "visibility": null,
            "align_self": null,
            "height": null,
            "min_height": null,
            "padding": null,
            "grid_auto_rows": null,
            "grid_gap": null,
            "max_width": null,
            "order": null,
            "_view_module_version": "1.2.0",
            "grid_template_areas": null,
            "object_position": null,
            "object_fit": null,
            "grid_auto_columns": null,
            "margin": null,
            "display": null,
            "left": null
          }
        },
        "895007fb06464e979e8d7b73f5a8ea99": {
          "model_module": "@jupyter-widgets/controls",
          "model_name": "HTMLModel",
          "model_module_version": "1.5.0",
          "state": {
            "_view_name": "HTMLView",
            "style": "IPY_MODEL_49cffc22e55b4c90a47446762565a217",
            "_dom_classes": [],
            "description": "",
            "_model_name": "HTMLModel",
            "placeholder": "​",
            "_view_module": "@jupyter-widgets/controls",
            "_model_module_version": "1.5.0",
            "value": "100%",
            "_view_count": null,
            "_view_module_version": "1.5.0",
            "description_tooltip": null,
            "_model_module": "@jupyter-widgets/controls",
            "layout": "IPY_MODEL_f411d1a3677d42eba9751a41f70ea3e4"
          }
        },
        "c41f1b0899bf483b994087d11404587f": {
          "model_module": "@jupyter-widgets/controls",
          "model_name": "FloatProgressModel",
          "model_module_version": "1.5.0",
          "state": {
            "_view_name": "ProgressView",
            "style": "IPY_MODEL_0a5e6bd90f16402d94cb6e5dda433d97",
            "_dom_classes": [],
            "description": "",
            "_model_name": "FloatProgressModel",
            "bar_style": "danger",
            "max": 50000,
            "_view_module": "@jupyter-widgets/controls",
            "_model_module_version": "1.5.0",
            "value": 49999,
            "_view_count": null,
            "_view_module_version": "1.5.0",
            "orientation": "horizontal",
            "min": 0,
            "description_tooltip": null,
            "_model_module": "@jupyter-widgets/controls",
            "layout": "IPY_MODEL_0b98974baca644d2af0a7f12f5d1b42f"
          }
        },
        "3380cf033a234274a57a6e360d7e86ca": {
          "model_module": "@jupyter-widgets/controls",
          "model_name": "HTMLModel",
          "model_module_version": "1.5.0",
          "state": {
            "_view_name": "HTMLView",
            "style": "IPY_MODEL_0b966a580af444d6ae133fef78dce633",
            "_dom_classes": [],
            "description": "",
            "_model_name": "HTMLModel",
            "placeholder": "​",
            "_view_module": "@jupyter-widgets/controls",
            "_model_module_version": "1.5.0",
            "value": " 49999/50000 [00:00&lt;00:00, 127471.35 examples/s]",
            "_view_count": null,
            "_view_module_version": "1.5.0",
            "description_tooltip": null,
            "_model_module": "@jupyter-widgets/controls",
            "layout": "IPY_MODEL_b95552c09cde46dbba8a4886118e863f"
          }
        },
        "49cffc22e55b4c90a47446762565a217": {
          "model_module": "@jupyter-widgets/controls",
          "model_name": "DescriptionStyleModel",
          "model_module_version": "1.5.0",
          "state": {
            "_view_name": "StyleView",
            "_model_name": "DescriptionStyleModel",
            "description_width": "",
            "_view_module": "@jupyter-widgets/base",
            "_model_module_version": "1.5.0",
            "_view_count": null,
            "_view_module_version": "1.2.0",
            "_model_module": "@jupyter-widgets/controls"
          }
        },
        "f411d1a3677d42eba9751a41f70ea3e4": {
          "model_module": "@jupyter-widgets/base",
          "model_name": "LayoutModel",
          "model_module_version": "1.2.0",
          "state": {
            "_view_name": "LayoutView",
            "grid_template_rows": null,
            "right": null,
            "justify_content": null,
            "_view_module": "@jupyter-widgets/base",
            "overflow": null,
            "_model_module_version": "1.2.0",
            "_view_count": null,
            "flex_flow": null,
            "width": null,
            "min_width": null,
            "border": null,
            "align_items": null,
            "bottom": null,
            "_model_module": "@jupyter-widgets/base",
            "top": null,
            "grid_column": null,
            "overflow_y": null,
            "overflow_x": null,
            "grid_auto_flow": null,
            "grid_area": null,
            "grid_template_columns": null,
            "flex": null,
            "_model_name": "LayoutModel",
            "justify_items": null,
            "grid_row": null,
            "max_height": null,
            "align_content": null,
            "visibility": null,
            "align_self": null,
            "height": null,
            "min_height": null,
            "padding": null,
            "grid_auto_rows": null,
            "grid_gap": null,
            "max_width": null,
            "order": null,
            "_view_module_version": "1.2.0",
            "grid_template_areas": null,
            "object_position": null,
            "object_fit": null,
            "grid_auto_columns": null,
            "margin": null,
            "display": null,
            "left": null
          }
        },
        "0a5e6bd90f16402d94cb6e5dda433d97": {
          "model_module": "@jupyter-widgets/controls",
          "model_name": "ProgressStyleModel",
          "model_module_version": "1.5.0",
          "state": {
            "_view_name": "StyleView",
            "_model_name": "ProgressStyleModel",
            "description_width": "",
            "_view_module": "@jupyter-widgets/base",
            "_model_module_version": "1.5.0",
            "_view_count": null,
            "_view_module_version": "1.2.0",
            "bar_color": null,
            "_model_module": "@jupyter-widgets/controls"
          }
        },
        "0b98974baca644d2af0a7f12f5d1b42f": {
          "model_module": "@jupyter-widgets/base",
          "model_name": "LayoutModel",
          "model_module_version": "1.2.0",
          "state": {
            "_view_name": "LayoutView",
            "grid_template_rows": null,
            "right": null,
            "justify_content": null,
            "_view_module": "@jupyter-widgets/base",
            "overflow": null,
            "_model_module_version": "1.2.0",
            "_view_count": null,
            "flex_flow": null,
            "width": null,
            "min_width": null,
            "border": null,
            "align_items": null,
            "bottom": null,
            "_model_module": "@jupyter-widgets/base",
            "top": null,
            "grid_column": null,
            "overflow_y": null,
            "overflow_x": null,
            "grid_auto_flow": null,
            "grid_area": null,
            "grid_template_columns": null,
            "flex": null,
            "_model_name": "LayoutModel",
            "justify_items": null,
            "grid_row": null,
            "max_height": null,
            "align_content": null,
            "visibility": null,
            "align_self": null,
            "height": null,
            "min_height": null,
            "padding": null,
            "grid_auto_rows": null,
            "grid_gap": null,
            "max_width": null,
            "order": null,
            "_view_module_version": "1.2.0",
            "grid_template_areas": null,
            "object_position": null,
            "object_fit": null,
            "grid_auto_columns": null,
            "margin": null,
            "display": null,
            "left": null
          }
        },
        "0b966a580af444d6ae133fef78dce633": {
          "model_module": "@jupyter-widgets/controls",
          "model_name": "DescriptionStyleModel",
          "model_module_version": "1.5.0",
          "state": {
            "_view_name": "StyleView",
            "_model_name": "DescriptionStyleModel",
            "description_width": "",
            "_view_module": "@jupyter-widgets/base",
            "_model_module_version": "1.5.0",
            "_view_count": null,
            "_view_module_version": "1.2.0",
            "_model_module": "@jupyter-widgets/controls"
          }
        },
        "b95552c09cde46dbba8a4886118e863f": {
          "model_module": "@jupyter-widgets/base",
          "model_name": "LayoutModel",
          "model_module_version": "1.2.0",
          "state": {
            "_view_name": "LayoutView",
            "grid_template_rows": null,
            "right": null,
            "justify_content": null,
            "_view_module": "@jupyter-widgets/base",
            "overflow": null,
            "_model_module_version": "1.2.0",
            "_view_count": null,
            "flex_flow": null,
            "width": null,
            "min_width": null,
            "border": null,
            "align_items": null,
            "bottom": null,
            "_model_module": "@jupyter-widgets/base",
            "top": null,
            "grid_column": null,
            "overflow_y": null,
            "overflow_x": null,
            "grid_auto_flow": null,
            "grid_area": null,
            "grid_template_columns": null,
            "flex": null,
            "_model_name": "LayoutModel",
            "justify_items": null,
            "grid_row": null,
            "max_height": null,
            "align_content": null,
            "visibility": null,
            "align_self": null,
            "height": null,
            "min_height": null,
            "padding": null,
            "grid_auto_rows": null,
            "grid_gap": null,
            "max_width": null,
            "order": null,
            "_view_module_version": "1.2.0",
            "grid_template_areas": null,
            "object_position": null,
            "object_fit": null,
            "grid_auto_columns": null,
            "margin": null,
            "display": null,
            "left": null
          }
        }
      }
    }
  },
  "cells": [
    {
      "cell_type": "markdown",
      "metadata": {
        "id": "view-in-github",
        "colab_type": "text"
      },
      "source": [
        "<a href=\"https://colab.research.google.com/github/JehadOumer/IMDB-Reviews-Classification/blob/main/Dataset_Exploration.ipynb\" target=\"_parent\"><img src=\"https://colab.research.google.com/assets/colab-badge.svg\" alt=\"Open In Colab\"/></a>"
      ]
    },
    {
      "cell_type": "code",
      "metadata": {
        "id": "AH10vB6_PUew",
        "colab": {
          "base_uri": "https://localhost:8080/"
        },
        "outputId": "054928d5-9ebf-4a7b-ce7b-fd03f5206f99"
      },
      "source": [
        "import matplotlib.pyplot as plt\n",
        "import tensorflow_datasets as tfds\n",
        "import pandas as pd\n",
        "import numpy as np\n",
        "import seaborn as sns\n",
        "import re\n",
        "from wordcloud import WordCloud\n",
        "from google.colab import drive\n",
        "from sklearn.feature_extraction.text import CountVectorizer, TfidfTransformer, TfidfVectorizer\n",
        "drive.mount('/content/drive')"
      ],
      "execution_count": 1,
      "outputs": [
        {
          "output_type": "stream",
          "name": "stdout",
          "text": [
            "Drive already mounted at /content/drive; to attempt to forcibly remount, call drive.mount(\"/content/drive\", force_remount=True).\n"
          ]
        }
      ]
    },
    {
      "cell_type": "markdown",
      "source": [
        "## fetching the dataset from tensorflow, splitting to training, testing and validation"
      ],
      "metadata": {
        "id": "OdparDRe4TIh"
      }
    },
    {
      "cell_type": "code",
      "metadata": {
        "id": "NIApYNCMQrBt",
        "colab": {
          "base_uri": "https://localhost:8080/",
          "height": 432,
          "referenced_widgets": [
            "ae31ed8ff5fb4d04a6aba85646c34d69",
            "5d5de1ed9cb642cc82b2974c8e668027",
            "e2d1b07a6bba4dcdb8aff282ac96737b",
            "de48e11f7e02467193ee211c631e99a5",
            "64599a4497e34489966063b059c2b7fc",
            "d1f0b349c671492893daa79e4681207f",
            "dab2598f639143a1968405134f329b0f",
            "7507ea1689344b4eab1c959c798e1760",
            "60212af70f4349d48a39865c526cf5a4",
            "3943ba83edf44d4080087a11e76e9f64",
            "c74709a3064140bbafc9d1832e8e3a06",
            "6bcd4258a02d4d5f87039fccb0889edd",
            "20f6211119c644f4932ee2a2a6c97a93",
            "0157d0a685a5408d88babfdae12a4ada",
            "d3f5d0638e854047b0f0fdb8029a8d36",
            "a717e2663ab846bcb87c4814df909cb7",
            "2f218f61523048f0a15124c387ca1e58",
            "6f2c5db848984e3b9fd49f4afeb8073a",
            "ba85ca865c6746179996b50e92e74f57",
            "18059740f3a6419999d3b5f1e6a789b5",
            "9bad6b67e552405f8ef560ca517d9ac9",
            "f694ae5d13934ec18d409cdaf240c84e",
            "fb13fa5dbb11423f96d197bbcda99e2a",
            "d3d90b6556b34c968954256e79c4eef4",
            "8e4d356aca124dbf83573888f9ab6f78",
            "cbf2d0995460460eb30891605dc0f06a",
            "3bcf774a4fe94e0ab7539ca0337440ca",
            "e399b2c6061642ecb3a2e27e487abcaf",
            "2ab44787fe8f4b39979cac6edcc230c5",
            "a54ce9bbbaf447aaa62daa4bf396089e",
            "6fd5e793315e4afb90158b6c802cfb12",
            "34d8b3314bec4c098d2345b2bc281aa6",
            "d4280dca8fe345f9864ef94c7dfc0f92",
            "78b1d5f3f9354436a9088965941a6b12",
            "fa76e1ed6b704809ad381589490d639d",
            "84c9ffb736834b98be9d4c2628613405",
            "4caccb39a01d49678252459b1ed7142e",
            "0d7ce8ea1d12485b88e9f72a52c814fa",
            "a11f1527d25d45fd8bdf83a0ac25993a",
            "1bfa2c4dfc1c4e67ae3b2fd0991768f2",
            "b3e6bb266ed14398813a34252d580146",
            "8e1475a7fde54e94a222b8dbd6a1b0a0",
            "2f67105e25044a22b0a5402f49577a7c",
            "c94d42e0b44e4bdab023302bd1dc8539",
            "2adcfc3103164d0d947cec557a99a405",
            "3df2cc1e2548431096b74f66678648c0",
            "977f782633bb46139bb6e5bae3791d9c",
            "fda8ca6b34464a79adfb25c1ef87a95c",
            "983e5937b9a443ffbef06cb852d68293",
            "f4d639784c70464ab28417ed03d51ea6",
            "dc4dbab257d74f4aa0f8b12a6b56c91f",
            "9cbe5012d1724ec6b58ce276cbadea0c",
            "beac6b2b0f254a759ae58339cf419867",
            "25ec821600144484852185d28501362b",
            "3e1f6e9f3fc140ab9a384b41bb5ae94d",
            "5538fac0613e4576a1dfe6fd117e96c2",
            "dea7539a4d114d5f8689d93d6bbdaadf",
            "d677b42c92514e379eace8e85a811f02",
            "04fe249a3599462d9da6a24ea9452023",
            "7f3bde04a3fa4cd584970ef2b917e965",
            "578ecdb632174be1ad8307cfbd9f2fb1",
            "3436aabdf4b54afeacb311823cea0612",
            "27e44acfac1f43888985e7f40f6134d9",
            "871be348772343728996faf59084a7ed",
            "c7d1bfb1b1c040a49ba9f8dfb6eafc06",
            "7d7ce35bed134f0eac37eacc7816562d",
            "111e065bb9b743899930a0a22e1b4a3b",
            "348e890406374002aaacb64f8aa82664",
            "4030208251f14068a55ddac98780f19c",
            "ce6ac4abc07945d8aa60f8ca78a05545",
            "323d7ddfbe4f4e45a94e66c2b24908ba",
            "765a525896c0417db59614c38047c668",
            "0ce33d71bbde44d0aa6b0bd8878e57ba",
            "0bd48dfc9e8c4a16b42179d494877b60",
            "7ad8d06ebfc14fc3a4c810e963d935ff",
            "6f194b9c02e44cc184a10b6a7dd19cab",
            "044e9fd04be54291b01be5fc54c336b5",
            "2b61d28b523e4052852e69cf9fbf6d1c",
            "a7cfb154ef4b4f3f86335f50c191069f",
            "895007fb06464e979e8d7b73f5a8ea99",
            "c41f1b0899bf483b994087d11404587f",
            "3380cf033a234274a57a6e360d7e86ca",
            "49cffc22e55b4c90a47446762565a217",
            "f411d1a3677d42eba9751a41f70ea3e4",
            "0a5e6bd90f16402d94cb6e5dda433d97",
            "0b98974baca644d2af0a7f12f5d1b42f",
            "0b966a580af444d6ae133fef78dce633",
            "b95552c09cde46dbba8a4886118e863f"
          ]
        },
        "outputId": "aee79d01-6088-4f54-ff5d-2ba1c1fb747b"
      },
      "source": [
        "(training_data, validation_data, testing_data), ds_info  = tfds.load(\n",
        "    name=\"imdb_reviews\", split=('train+test[0:5000]', 'test[5000:15000]', 'test[15000:]'), as_supervised=True, with_info=True)\n",
        "##The label is an integer value of either 0 or 1, where 0 is a negative review, and 1 is a positive review.\n",
        "\n"
      ],
      "execution_count": 2,
      "outputs": [
        {
          "output_type": "stream",
          "name": "stdout",
          "text": [
            "\u001b[1mDownloading and preparing dataset imdb_reviews/plain_text/1.0.0 (download: 80.23 MiB, generated: Unknown size, total: 80.23 MiB) to /root/tensorflow_datasets/imdb_reviews/plain_text/1.0.0...\u001b[0m\n"
          ]
        },
        {
          "output_type": "display_data",
          "data": {
            "application/vnd.jupyter.widget-view+json": {
              "model_id": "ae31ed8ff5fb4d04a6aba85646c34d69",
              "version_minor": 0,
              "version_major": 2
            },
            "text/plain": [
              "Dl Completed...: 0 url [00:00, ? url/s]"
            ]
          },
          "metadata": {}
        },
        {
          "output_type": "display_data",
          "data": {
            "application/vnd.jupyter.widget-view+json": {
              "model_id": "6bcd4258a02d4d5f87039fccb0889edd",
              "version_minor": 0,
              "version_major": 2
            },
            "text/plain": [
              "Dl Size...: 0 MiB [00:00, ? MiB/s]"
            ]
          },
          "metadata": {}
        },
        {
          "output_type": "stream",
          "name": "stdout",
          "text": [
            "\n",
            "\n"
          ]
        },
        {
          "output_type": "display_data",
          "data": {
            "application/vnd.jupyter.widget-view+json": {
              "model_id": "fb13fa5dbb11423f96d197bbcda99e2a",
              "version_minor": 0,
              "version_major": 2
            },
            "text/plain": [
              "0 examples [00:00, ? examples/s]"
            ]
          },
          "metadata": {}
        },
        {
          "output_type": "stream",
          "name": "stdout",
          "text": [
            "Shuffling and writing examples to /root/tensorflow_datasets/imdb_reviews/plain_text/1.0.0.incompleteRAGC5J/imdb_reviews-train.tfrecord\n"
          ]
        },
        {
          "output_type": "display_data",
          "data": {
            "application/vnd.jupyter.widget-view+json": {
              "model_id": "78b1d5f3f9354436a9088965941a6b12",
              "version_minor": 0,
              "version_major": 2
            },
            "text/plain": [
              "  0%|          | 0/25000 [00:00<?, ? examples/s]"
            ]
          },
          "metadata": {}
        },
        {
          "output_type": "display_data",
          "data": {
            "application/vnd.jupyter.widget-view+json": {
              "model_id": "2adcfc3103164d0d947cec557a99a405",
              "version_minor": 0,
              "version_major": 2
            },
            "text/plain": [
              "0 examples [00:00, ? examples/s]"
            ]
          },
          "metadata": {}
        },
        {
          "output_type": "stream",
          "name": "stdout",
          "text": [
            "Shuffling and writing examples to /root/tensorflow_datasets/imdb_reviews/plain_text/1.0.0.incompleteRAGC5J/imdb_reviews-test.tfrecord\n"
          ]
        },
        {
          "output_type": "display_data",
          "data": {
            "application/vnd.jupyter.widget-view+json": {
              "model_id": "5538fac0613e4576a1dfe6fd117e96c2",
              "version_minor": 0,
              "version_major": 2
            },
            "text/plain": [
              "  0%|          | 0/25000 [00:00<?, ? examples/s]"
            ]
          },
          "metadata": {}
        },
        {
          "output_type": "display_data",
          "data": {
            "application/vnd.jupyter.widget-view+json": {
              "model_id": "111e065bb9b743899930a0a22e1b4a3b",
              "version_minor": 0,
              "version_major": 2
            },
            "text/plain": [
              "0 examples [00:00, ? examples/s]"
            ]
          },
          "metadata": {}
        },
        {
          "output_type": "stream",
          "name": "stdout",
          "text": [
            "Shuffling and writing examples to /root/tensorflow_datasets/imdb_reviews/plain_text/1.0.0.incompleteRAGC5J/imdb_reviews-unsupervised.tfrecord\n"
          ]
        },
        {
          "output_type": "display_data",
          "data": {
            "application/vnd.jupyter.widget-view+json": {
              "model_id": "2b61d28b523e4052852e69cf9fbf6d1c",
              "version_minor": 0,
              "version_major": 2
            },
            "text/plain": [
              "  0%|          | 0/50000 [00:00<?, ? examples/s]"
            ]
          },
          "metadata": {}
        },
        {
          "output_type": "stream",
          "name": "stderr",
          "text": [
            "WARNING:absl:Dataset is using deprecated text encoder API which will be removed soon. Please use the plain_text version of the dataset and migrate to `tensorflow_text`.\n"
          ]
        },
        {
          "output_type": "stream",
          "name": "stdout",
          "text": [
            "\u001b[1mDataset imdb_reviews downloaded and prepared to /root/tensorflow_datasets/imdb_reviews/plain_text/1.0.0. Subsequent calls will reuse this data.\u001b[0m\n"
          ]
        }
      ]
    },
    {
      "cell_type": "code",
      "metadata": {
        "id": "gu-54_F-bD7m"
      },
      "source": [
        "##convert to pandas data frame\n",
        "training_data = tfds.as_dataframe(training_data, ds_info)\n",
        "validation_data= tfds.as_dataframe(validation_data, ds_info)\n",
        "testing_data=tfds.as_dataframe(testing_data, ds_info)\n",
        "all_data = pd.concat([training_data, testing_data, validation_data])\n"
      ],
      "execution_count": 3,
      "outputs": []
    },
    {
      "cell_type": "code",
      "metadata": {
        "colab": {
          "base_uri": "https://localhost:8080/"
        },
        "id": "K5AkXRbVf_EJ",
        "outputId": "acc38426-1673-482d-828f-03747236ac4d"
      },
      "source": [
        "print(\"Dataset length: \", len(all_data[\"label\"]), \"points\")\n",
        "print(\"Training set length: \", len(training_data[\"label\"]), \"points\")\n",
        "print(\"Validation set length: \", len(validation_data[\"label\"]), \"points\")\n",
        "print(\"Testing set length: \", len(testing_data[\"label\"]), \"points\")\n",
        "\n"
      ],
      "execution_count": 4,
      "outputs": [
        {
          "output_type": "stream",
          "name": "stdout",
          "text": [
            "Dataset length:  50000 points\n",
            "Training set length:  30000 points\n",
            "Validation set length:  10000 points\n",
            "Testing set length:  10000 points\n"
          ]
        }
      ]
    },
    {
      "cell_type": "code",
      "source": [
        "training_data.tail(5)"
      ],
      "metadata": {
        "colab": {
          "base_uri": "https://localhost:8080/",
          "height": 206
        },
        "id": "iaxiPjo5jCDP",
        "outputId": "0c71ab50-fb64-4082-c6ff-2d37dd8e1eed"
      },
      "execution_count": 5,
      "outputs": [
        {
          "output_type": "execute_result",
          "data": {
            "text/html": [
              "<div>\n",
              "<style scoped>\n",
              "    .dataframe tbody tr th:only-of-type {\n",
              "        vertical-align: middle;\n",
              "    }\n",
              "\n",
              "    .dataframe tbody tr th {\n",
              "        vertical-align: top;\n",
              "    }\n",
              "\n",
              "    .dataframe thead th {\n",
              "        text-align: right;\n",
              "    }\n",
              "</style>\n",
              "<table border=\"1\" class=\"dataframe\">\n",
              "  <thead>\n",
              "    <tr style=\"text-align: right;\">\n",
              "      <th></th>\n",
              "      <th>label</th>\n",
              "      <th>text</th>\n",
              "    </tr>\n",
              "  </thead>\n",
              "  <tbody>\n",
              "    <tr>\n",
              "      <th>29995</th>\n",
              "      <td>0</td>\n",
              "      <td>b'I have a severe problem with this show, seve...</td>\n",
              "    </tr>\n",
              "    <tr>\n",
              "      <th>29996</th>\n",
              "      <td>1</td>\n",
              "      <td>b'The year is 1964. Ernesto \"Che\" Guevara, hav...</td>\n",
              "    </tr>\n",
              "    <tr>\n",
              "      <th>29997</th>\n",
              "      <td>0</td>\n",
              "      <td>b'Okay. So I just got back. Before I start my ...</td>\n",
              "    </tr>\n",
              "    <tr>\n",
              "      <th>29998</th>\n",
              "      <td>0</td>\n",
              "      <td>b'When I saw this trailer on TV I was surprise...</td>\n",
              "    </tr>\n",
              "    <tr>\n",
              "      <th>29999</th>\n",
              "      <td>1</td>\n",
              "      <td>b'First of all, Riget is wonderful. Good comed...</td>\n",
              "    </tr>\n",
              "  </tbody>\n",
              "</table>\n",
              "</div>"
            ],
            "text/plain": [
              "       label                                               text\n",
              "29995      0  b'I have a severe problem with this show, seve...\n",
              "29996      1  b'The year is 1964. Ernesto \"Che\" Guevara, hav...\n",
              "29997      0  b'Okay. So I just got back. Before I start my ...\n",
              "29998      0  b'When I saw this trailer on TV I was surprise...\n",
              "29999      1  b'First of all, Riget is wonderful. Good comed..."
            ]
          },
          "metadata": {},
          "execution_count": 5
        }
      ]
    },
    {
      "cell_type": "code",
      "source": [
        "validation_data.head(5)"
      ],
      "metadata": {
        "colab": {
          "base_uri": "https://localhost:8080/",
          "height": 206
        },
        "id": "w1XDFZW0i9bN",
        "outputId": "c093a94f-2920-47e1-a3a4-cbe49eafd03b"
      },
      "execution_count": 6,
      "outputs": [
        {
          "output_type": "execute_result",
          "data": {
            "text/html": [
              "<div>\n",
              "<style scoped>\n",
              "    .dataframe tbody tr th:only-of-type {\n",
              "        vertical-align: middle;\n",
              "    }\n",
              "\n",
              "    .dataframe tbody tr th {\n",
              "        vertical-align: top;\n",
              "    }\n",
              "\n",
              "    .dataframe thead th {\n",
              "        text-align: right;\n",
              "    }\n",
              "</style>\n",
              "<table border=\"1\" class=\"dataframe\">\n",
              "  <thead>\n",
              "    <tr style=\"text-align: right;\">\n",
              "      <th></th>\n",
              "      <th>label</th>\n",
              "      <th>text</th>\n",
              "    </tr>\n",
              "  </thead>\n",
              "  <tbody>\n",
              "    <tr>\n",
              "      <th>0</th>\n",
              "      <td>0</td>\n",
              "      <td>b\"I had always eyed Italian horror maestro Dar...</td>\n",
              "    </tr>\n",
              "    <tr>\n",
              "      <th>1</th>\n",
              "      <td>0</td>\n",
              "      <td>b\"This is supposed to be based on Wilkie Colli...</td>\n",
              "    </tr>\n",
              "    <tr>\n",
              "      <th>2</th>\n",
              "      <td>1</td>\n",
              "      <td>b'So I guess that Bud and Lou just liked to me...</td>\n",
              "    </tr>\n",
              "    <tr>\n",
              "      <th>3</th>\n",
              "      <td>1</td>\n",
              "      <td>b'I opted to watch this film for one reason an...</td>\n",
              "    </tr>\n",
              "    <tr>\n",
              "      <th>4</th>\n",
              "      <td>1</td>\n",
              "      <td>b'Overall, a well done movie. There were the p...</td>\n",
              "    </tr>\n",
              "  </tbody>\n",
              "</table>\n",
              "</div>"
            ],
            "text/plain": [
              "   label                                               text\n",
              "0      0  b\"I had always eyed Italian horror maestro Dar...\n",
              "1      0  b\"This is supposed to be based on Wilkie Colli...\n",
              "2      1  b'So I guess that Bud and Lou just liked to me...\n",
              "3      1  b'I opted to watch this film for one reason an...\n",
              "4      1  b'Overall, a well done movie. There were the p..."
            ]
          },
          "metadata": {},
          "execution_count": 6
        }
      ]
    },
    {
      "cell_type": "code",
      "source": [
        "validation_data.tail(5)"
      ],
      "metadata": {
        "colab": {
          "base_uri": "https://localhost:8080/",
          "height": 206
        },
        "id": "crPlmj3HjWH_",
        "outputId": "82caa240-2306-4fbd-a10a-88b2d138ab73"
      },
      "execution_count": 7,
      "outputs": [
        {
          "output_type": "execute_result",
          "data": {
            "text/html": [
              "<div>\n",
              "<style scoped>\n",
              "    .dataframe tbody tr th:only-of-type {\n",
              "        vertical-align: middle;\n",
              "    }\n",
              "\n",
              "    .dataframe tbody tr th {\n",
              "        vertical-align: top;\n",
              "    }\n",
              "\n",
              "    .dataframe thead th {\n",
              "        text-align: right;\n",
              "    }\n",
              "</style>\n",
              "<table border=\"1\" class=\"dataframe\">\n",
              "  <thead>\n",
              "    <tr style=\"text-align: right;\">\n",
              "      <th></th>\n",
              "      <th>label</th>\n",
              "      <th>text</th>\n",
              "    </tr>\n",
              "  </thead>\n",
              "  <tbody>\n",
              "    <tr>\n",
              "      <th>9995</th>\n",
              "      <td>1</td>\n",
              "      <td>b\"Christopher Nolan's first film is a 'no budg...</td>\n",
              "    </tr>\n",
              "    <tr>\n",
              "      <th>9996</th>\n",
              "      <td>0</td>\n",
              "      <td>b'The commercials for RAT RACE made it look to...</td>\n",
              "    </tr>\n",
              "    <tr>\n",
              "      <th>9997</th>\n",
              "      <td>1</td>\n",
              "      <td>b\"If you take the movie for what it is worth, ...</td>\n",
              "    </tr>\n",
              "    <tr>\n",
              "      <th>9998</th>\n",
              "      <td>1</td>\n",
              "      <td>b\"King of the Underworld features an early rol...</td>\n",
              "    </tr>\n",
              "    <tr>\n",
              "      <th>9999</th>\n",
              "      <td>1</td>\n",
              "      <td>b\"Human Traffic is a view into an average week...</td>\n",
              "    </tr>\n",
              "  </tbody>\n",
              "</table>\n",
              "</div>"
            ],
            "text/plain": [
              "      label                                               text\n",
              "9995      1  b\"Christopher Nolan's first film is a 'no budg...\n",
              "9996      0  b'The commercials for RAT RACE made it look to...\n",
              "9997      1  b\"If you take the movie for what it is worth, ...\n",
              "9998      1  b\"King of the Underworld features an early rol...\n",
              "9999      1  b\"Human Traffic is a view into an average week..."
            ]
          },
          "metadata": {},
          "execution_count": 7
        }
      ]
    },
    {
      "cell_type": "code",
      "source": [
        "testing_data.head(5)"
      ],
      "metadata": {
        "colab": {
          "base_uri": "https://localhost:8080/",
          "height": 206
        },
        "id": "PBaNSPs8i-pU",
        "outputId": "6fc28d64-e082-49e5-e384-5499e04453e9"
      },
      "execution_count": 8,
      "outputs": [
        {
          "output_type": "execute_result",
          "data": {
            "text/html": [
              "<div>\n",
              "<style scoped>\n",
              "    .dataframe tbody tr th:only-of-type {\n",
              "        vertical-align: middle;\n",
              "    }\n",
              "\n",
              "    .dataframe tbody tr th {\n",
              "        vertical-align: top;\n",
              "    }\n",
              "\n",
              "    .dataframe thead th {\n",
              "        text-align: right;\n",
              "    }\n",
              "</style>\n",
              "<table border=\"1\" class=\"dataframe\">\n",
              "  <thead>\n",
              "    <tr style=\"text-align: right;\">\n",
              "      <th></th>\n",
              "      <th>label</th>\n",
              "      <th>text</th>\n",
              "    </tr>\n",
              "  </thead>\n",
              "  <tbody>\n",
              "    <tr>\n",
              "      <th>0</th>\n",
              "      <td>1</td>\n",
              "      <td>b\"I saw this play on Showtime some years back ...</td>\n",
              "    </tr>\n",
              "    <tr>\n",
              "      <th>1</th>\n",
              "      <td>0</td>\n",
              "      <td>b\"Remnants of an ambushed Army unit hook up wi...</td>\n",
              "    </tr>\n",
              "    <tr>\n",
              "      <th>2</th>\n",
              "      <td>0</td>\n",
              "      <td>b'I recently picked up all three Robocop films...</td>\n",
              "    </tr>\n",
              "    <tr>\n",
              "      <th>3</th>\n",
              "      <td>1</td>\n",
              "      <td>b'A great movie about triumph over all the nay...</td>\n",
              "    </tr>\n",
              "    <tr>\n",
              "      <th>4</th>\n",
              "      <td>1</td>\n",
              "      <td>b'The Lone Ranger was one of my childhood hero...</td>\n",
              "    </tr>\n",
              "  </tbody>\n",
              "</table>\n",
              "</div>"
            ],
            "text/plain": [
              "   label                                               text\n",
              "0      1  b\"I saw this play on Showtime some years back ...\n",
              "1      0  b\"Remnants of an ambushed Army unit hook up wi...\n",
              "2      0  b'I recently picked up all three Robocop films...\n",
              "3      1  b'A great movie about triumph over all the nay...\n",
              "4      1  b'The Lone Ranger was one of my childhood hero..."
            ]
          },
          "metadata": {},
          "execution_count": 8
        }
      ]
    },
    {
      "cell_type": "markdown",
      "source": [
        "# Loading the processed version of the dataset, see **DataWrangling.ipynb**"
      ],
      "metadata": {
        "id": "IeKoX8ho5ePq"
      }
    },
    {
      "cell_type": "code",
      "source": [
        "training = pd.read_csv('/content/drive/MyDrive/IMDB Review Dataset Processed/processed_training_data.csv')\n",
        "validation = pd.read_csv('/content/drive/MyDrive/IMDB Review Dataset Processed/processed_validation_data.csv')\n",
        "testing = pd.read_csv('/content/drive/MyDrive/IMDB Review Dataset Processed/processed_testing_data.csv')\n"
      ],
      "metadata": {
        "id": "guS6ywmsoVQd"
      },
      "execution_count": 2,
      "outputs": []
    },
    {
      "cell_type": "code",
      "source": [
        "#full dataset = training+validation+testing\n",
        "\n",
        "full_dataset = training.append(validation)\n",
        "full_dataset = full_dataset.append(testing)"
      ],
      "metadata": {
        "id": "UqKT_PvipTII"
      },
      "execution_count": 3,
      "outputs": []
    },
    {
      "cell_type": "code",
      "source": [
        "#splitting positive reviews and negative reviews\n",
        "neg_reviews=full_dataset[full_dataset['label']==0]\n",
        "pos_reviews=full_dataset[full_dataset['label']==1]\n"
      ],
      "metadata": {
        "id": "_3BYdXlp8iCq"
      },
      "execution_count": 4,
      "outputs": []
    },
    {
      "cell_type": "code",
      "metadata": {
        "colab": {
          "base_uri": "https://localhost:8080/",
          "height": 347
        },
        "id": "Lp4qm35ykNhZ",
        "outputId": "d81e814d-cd1c-425b-f7e6-3d1709a4783c"
      },
      "source": [
        "## Data distribution in terms of labels\n",
        "print(\"The number of positive reviews: \", len(pos_reviews))\n",
        "print(\"The number of negative reviews: \", len(neg_reviews))\n",
        "sns.countplot(x='label', data = full_dataset, palette = 'mako',\n",
        "              saturation = 1)\n",
        "sns.despine()\n",
        "plt.title('Class Distribution')"
      ],
      "execution_count": 20,
      "outputs": [
        {
          "output_type": "stream",
          "name": "stdout",
          "text": [
            "The number of positive reviews:  25000\n",
            "The number of negative reviews:  25000\n"
          ]
        },
        {
          "output_type": "execute_result",
          "data": {
            "text/plain": [
              "Text(0.5, 1.0, 'Class Distribution')"
            ]
          },
          "metadata": {},
          "execution_count": 20
        },
        {
          "output_type": "display_data",
          "data": {
            "image/png": "[encoded data removed]",
            "text/plain": [
              "<Figure size 432x288 with 1 Axes>"
            ]
          },
          "metadata": {
            "needs_background": "light"
          }
        }
      ]
    },
    {
      "cell_type": "markdown",
      "source": [
        "### Generate Frequency Matrix (BoW)"
      ],
      "metadata": {
        "id": "0gPBYrZb6Zae"
      }
    },
    {
      "cell_type": "code",
      "source": [
        "#\n",
        "count_vectorizer = CountVectorizer(stop_words='english', ngram_range=(1,2))\n",
        "count_vectorizer.fit((full_dataset['text']))\n",
        "vectorized = count_vectorizer.transform(full_dataset['text'])\n",
        "print(dict(list(count_vectorizer.vocabulary_.items())[0:8]))\n",
        "print('The transformed data matrix dimensions:', vectorized.shape)"
      ],
      "metadata": {
        "colab": {
          "base_uri": "https://localhost:8080/"
        },
        "id": "V4ujCEQhtY0G",
        "outputId": "7b827b55-8f6c-4551-dfde-0eb69ff61042"
      },
      "execution_count": 5,
      "outputs": [
        {
          "output_type": "stream",
          "name": "stdout",
          "text": [
            "{'absolutely': 12311, 'terrible': 1668092, 'movie': 1059072, 'lure': 975226, 'person': 1195276, 'great': 710902, 'actor': 26609, 'simply': 1515047}\n",
            "The transformed data matrix dimensions: (50000, 1877726)\n"
          ]
        }
      ]
    },
    {
      "cell_type": "code",
      "source": [
        "#make the sparse matrix dense and sort it\n",
        "sum_words = vectorized.sum(axis=0)\n",
        "count_sorted = [(word, sum_words[0, idx]) for word, idx in count_vectorizer.vocabulary_.items()]\n",
        "count_sorted = sorted(count_sorted, key = lambda x: x[1], reverse=True)"
      ],
      "metadata": {
        "id": "m0Vk-K23uynO"
      },
      "execution_count": 6,
      "outputs": []
    },
    {
      "cell_type": "code",
      "source": [
        "count_sorted[0:50]"
      ],
      "metadata": {
        "colab": {
          "base_uri": "https://localhost:8080/"
        },
        "id": "XuXjwHZxvXW-",
        "outputId": "5fe8073f-96fb-4c58-d441-80a0158885fa"
      },
      "execution_count": 14,
      "outputs": [
        {
          "output_type": "execute_result",
          "data": {
            "text/plain": [
              "[('pron', 825010),\n",
              " ('person', 242164),\n",
              " ('movie', 102649),\n",
              " ('film', 94609),\n",
              " ('cardinal', 81615),\n",
              " ('org', 68090),\n",
              " ('pron pron', 67015),\n",
              " ('gpe', 45104),\n",
              " ('make', 45037),\n",
              " ('like', 44172),\n",
              " ('good', 40637),\n",
              " ('time', 37229),\n",
              " ('just', 35033),\n",
              " ('person person', 32624),\n",
              " ('date', 30927),\n",
              " ('work', 28840),\n",
              " ('character', 28287),\n",
              " ('watch', 27757),\n",
              " ('bad', 26214),\n",
              " ('person pron', 25238),\n",
              " ('story', 25068),\n",
              " ('think', 23255),\n",
              " ('really', 23089),\n",
              " ('movie pron', 21960),\n",
              " ('scene', 21395),\n",
              " ('ordinal', 20167),\n",
              " ('great', 19826),\n",
              " ('look', 19482),\n",
              " ('say', 19166),\n",
              " ('know', 18963),\n",
              " ('people', 18278),\n",
              " ('art', 18075),\n",
              " ('way', 17118),\n",
              " ('play', 16977),\n",
              " ('film pron', 16971),\n",
              " ('love', 16853),\n",
              " ('come', 16417),\n",
              " ('thing', 16386),\n",
              " ('pron think', 15399),\n",
              " ('work art', 15280),\n",
              " ('norp', 15076),\n",
              " ('end', 14893),\n",
              " ('man', 14826),\n",
              " ('life', 14626),\n",
              " ('plot', 13650),\n",
              " ('actor', 13512),\n",
              " ('make pron', 13221),\n",
              " ('want', 13144),\n",
              " ('pron just', 12606),\n",
              " ('try', 12484)]"
            ]
          },
          "metadata": {},
          "execution_count": 14
        }
      ]
    },
    {
      "cell_type": "markdown",
      "source": [
        "### Finding terms with with highest TF-IDF scores"
      ],
      "metadata": {
        "id": "zBVeaM656xNh"
      }
    },
    {
      "cell_type": "code",
      "source": [
        "# Train a TF-IDF structure\n",
        "# count words in a collection of documents (D)\n",
        "# where structure D[doc][word]\n",
        "# return word/document dictionary: \n",
        "#   T['///---///'][doc] = number_words_in_doc\n",
        "#   T[word]['D'] = occurancs_word_in_collection\n",
        "#   T[word]['d'][doc]['f'] = occurances_word_in_doc\n",
        "#   T[word]['d'][doc]['tf'] = term frequency : T[word]['d'][doc]['f'] / T[\"///--///\"][doc]\n",
        "\n",
        "\n",
        "def TF_IDF(D, T={}):\n",
        "    for d in D: # d: document\n",
        "        for w in D[d]: # w: words in document\n",
        "                \n",
        "            # count frequency of term w in documnt d\n",
        "            T.setdefault(w, {})\n",
        "            T[w].setdefault('d', {})\n",
        "            T[w]['d'].setdefault(d, {})\n",
        "            T[w]['d'][d].setdefault('f', 0)\n",
        "            \n",
        "            # increment word count for document \n",
        "            T[w]['d'][d]['f'] += 1\n",
        "                \n",
        "            # increment frequency of w only once per document d\n",
        "            T[w].setdefault('D', 0)\n",
        "            if(T[w]['d'][d]['f'] == 1):  \n",
        "                T[w]['D'] += 1\n",
        "                                  \n",
        "            \n",
        "        # count terms in document d\n",
        "        T.setdefault(\"///d///\", {})\n",
        "        T[\"///d///\"].setdefault(d, 0)\n",
        "        T[\"///d///\"][d] += len(D[d])\n",
        "\n",
        "    # number of documents     \n",
        "    T[\"///d///\"].setdefault(\"#docs\", 0)\n",
        "    T[\"///d///\"][\"#docs\"] += len(D.keys())\n",
        "    \n",
        "    \n",
        "    # set of word indexes\n",
        "    T[\"///d///\"].setdefault(\"#include\", set())\n",
        "    \n",
        "    # indexes of words\n",
        "    T[\"///d///\"].setdefault(\"idx\", {})\n",
        "       \n",
        "    # compute tf-idf\n",
        "    idx = 0 # index of word \n",
        "    for w in T: # d: document\n",
        "        # Ignore if not a word\n",
        "        if(w == \"///d///\"): continue\n",
        "        \n",
        "        # unique index of word \n",
        "        T[w]['idx'] = idx\n",
        "        T[\"///d///\"]['#include'] = T[\"///d///\"]['#include'].union({idx})\n",
        "        T[\"///d///\"]['idx'][idx] = w\n",
        "        idx +=1 \n",
        "        \n",
        "        # number of documents   /  \n",
        "        idf = np.log(T[\"///d///\"][\"#docs\"]/T[w]['D'])\n",
        "        T[w]['idf'] = idf\n",
        "        \n",
        "        # compute tfidf\n",
        "        for d in T[w]['d']: # d: document\n",
        "            tf = T[w]['d'][d]['f'] / T[\"///d///\"][d]  \n",
        "            T[w]['d'][d]['tf'] = tf\n",
        "            T[w]['d'][d]['tfidf'] = tf * idf\n",
        "            \n",
        "    # number of documents     \n",
        "    T[\"///d///\"].setdefault(\"#words\", 0)\n",
        "    T[\"///d///\"][\"#words\"] = len(T[\"///d///\"]['#include'])\n",
        "\n",
        "    return T\n",
        " \n",
        "#############################\n",
        "\n",
        "\n",
        "# create tokenized word Vectors from documents in a collection  \n",
        "def TFIDFvector(D, T):\n",
        "    \n",
        "    W = {} # dictionary of word vectors with tfidf values \n",
        "    for d in D:\n",
        "        \n",
        "        V = T[\"///d///\"][\"#words\"] * [0] # allocate word vector, instantiate with 0\n",
        "        H = {} # count frequency of words (terms) in Document\n",
        "        cnt = 0 # count number of indexed terms (w) in document d\n",
        "        for w in D[d]:\n",
        "            if(w in T): \n",
        "                idx = T[w]['idx']\n",
        "                if (idx in T[\"///d///\"]['#include']) : \n",
        "                    H.setdefault(w, 0)\n",
        "                    H[w] += 1\n",
        "                    cnt += 1\n",
        "        for w in H:\n",
        "            idx = T[w]['idx']\n",
        "            tf = H[w] / cnt          \n",
        "            V[idx] = tf * T[w]['idf']\n",
        "        W[d] = V\n",
        "    return W\n",
        "\n",
        "\n",
        "# generate m labels for word vectore \n",
        "def labelVector(W, T, m=1, verbose = 0):\n",
        "    \n",
        "    L = []\n",
        "    for d in W:\n",
        "        V = W[d]\n",
        "        \n",
        "        # rank Vector by value \n",
        "        R = [index for element, index in sorted(zip(V, range(len(V))), reverse=True)]\n",
        "\n",
        "        l = ''\n",
        "        for i in range(len(R)):\n",
        "            r = R[i]\n",
        "            if(V[r] == 0) : break\n",
        "            \n",
        "            # number of important keywords\n",
        "            if (i == m): break\n",
        "            l = f\"{l}-{T['///d///'][r]}\" # get the indexed word\n",
        "            if(verbose) : print(f\"{d}  {i}\\t{float(V[r]):4.4}\\t{r}\\t {T['///d///'][r]}\")\n",
        "        L.append(f\"{d}-{l}\")\n",
        "    return L\n",
        "\n",
        "\n",
        "# print TF-IDF \n",
        "def printTfIdf(w, T) :\n",
        "    print(f\"{w:<8}\\t#d:{T[w]['D']}\\tidf:{T[w]['idf']:4.4}\\tVln:{len(T.keys())}\")\n",
        "    for d in T[w]['d'] :\n",
        "        f = T[w]['d'][d]['f']\n",
        "        tf = T[w]['d'][d]['tf']\n",
        "        idf = T[w]['idf']\n",
        "        tfidf = T[w]['d'][d]['tfidf']\n",
        "\n",
        "        print(f\"{d:<8}\\tcnt:{f}\\ttf:{tf:4.4}\\ttfidf:{tfidf:4.4}\")              \n",
        "        \n",
        "                                 \n",
        "#####################################################################\n",
        "# create tokenized word Vectors from documents in a collection  \n",
        "def bestTFIDF(D, T, n=3):\n",
        "    W = set() # dictionary of word vectors with tfidf values \n",
        "    for d in D:\n",
        "        V = {(i+1)*-1:\"\" for i in range(n)}\n",
        "                  \n",
        "        H = {} # count frequency of words (terms) in Document\n",
        "        cnt = 0 # count number of indexed terms (w) in document d\n",
        "        for w in D[d]:\n",
        "            if(w in T): \n",
        "                idx = T[w]['idx']\n",
        "                if (idx in T[\"///d///\"]['#include']) : \n",
        "                    H.setdefault(w, 0)\n",
        "                    H[w] += 1\n",
        "                    cnt += 1\n",
        "        for w in H:\n",
        "            idx = T[w]['idx']\n",
        "            tf = H[w] / cnt\n",
        "            tfidf = tf * T[w]['idf']\n",
        "            for i in sorted(V):\n",
        "                if(tfidf > i): \n",
        "                    del V[i]\n",
        "                    V[tfidf] = w\n",
        "                    break \n",
        "        #print(\"d\", d, V)\n",
        "        for tfidf in V: W = W.union({V[tfidf]})\n",
        "    return W\n",
        "\n",
        "          \n",
        "          \n",
        "# create a list of joint n-highest ranking tf-idf values per document \n",
        "def nBestValues(W, T, n=10):\n",
        "    \n",
        "    idx = set() # set of highest tf-idf words\n",
        "    for d in W:\n",
        "        # rank Vector by value \n",
        "        V = W[d]\n",
        "        R = [index for element, index in sorted(zip(V, range(len(V))), reverse=True)]\n",
        "        \n",
        "        for i in range(len(R)):\n",
        "            r = R[i]\n",
        "            if(V[r] == 0) : break # stop if index \n",
        "            if(i == n) : break # stop it index \n",
        "            idx = idx.union({T['///d///']['idx'][r]})   \n",
        "    \n",
        "    return idx\n",
        "\n",
        "# create word Vectors from (the first) n documents in a collection  \n",
        "def nBestIndex(T, nBest):\n",
        "    \n",
        "    idx = 0\n",
        "    T[\"///d///\"]['#include'] = set()\n",
        "    T[\"///d///\"][\"#words\"] = len(nBest)\n",
        "    for w in nBest:\n",
        "        T[w]['idx'] = idx\n",
        "        T[\"///d///\"]['#include'] = T[\"///d///\"]['#include'].union({idx})\n",
        "        idx += 1\n",
        "\n"
      ],
      "metadata": {
        "id": "-Px_kP75b3v0"
      },
      "execution_count": 9,
      "outputs": []
    },
    {
      "cell_type": "markdown",
      "source": [
        "## Read From Documents (Modified to fit pandas dataframe)"
      ],
      "metadata": {
        "id": "Yo40j2937Asv"
      }
    },
    {
      "cell_type": "code",
      "source": [
        "def readDocumentCollection(df) :\n",
        "    D = {}\n",
        "    i = 0\n",
        "\n",
        "    # sort documents to retrieve th first n documents\n",
        "    for index, row in df.iterrows():\n",
        "        # read n documents\n",
        "  \n",
        "        i += 1\n",
        "        D.setdefault(i, [])\n",
        "        \n",
        "        # process document as a flat list of tokens\n",
        "        D[i].extend(row['text'].split(\" \"))\n",
        "\n",
        "    return D"
      ],
      "metadata": {
        "id": "RoSWD0lVb_8j"
      },
      "execution_count": 26,
      "outputs": []
    },
    {
      "cell_type": "code",
      "source": [
        "#create a tokenized dictionary of words for whole dataset\n",
        "dataset_tokenized=readDocumentCollection(full_dataset)"
      ],
      "metadata": {
        "id": "vUomDx2kfFLq"
      },
      "execution_count": 27,
      "outputs": []
    },
    {
      "cell_type": "markdown",
      "source": [
        "## Create TF-IDF Data Strucutre and build the model"
      ],
      "metadata": {
        "id": "PNhfkCoR7XcN"
      }
    },
    {
      "cell_type": "code",
      "source": [
        "T = TF_IDF(dataset_tokenized, T={})\n",
        "T = TF_IDF(dataset_tokenized, T=T)"
      ],
      "metadata": {
        "id": "UFOLNRfafpwG"
      },
      "execution_count": 30,
      "outputs": []
    },
    {
      "cell_type": "code",
      "source": [
        "#get best n terms based on TFIDF score from whole dataset\n",
        "allBest1 = bestTFIDF(dataset_tokenized, T, n=1)\n",
        "print(allBest1)"
      ],
      "metadata": {
        "colab": {
          "base_uri": "https://localhost:8080/"
        },
        "id": "kA2rNpiShU9i",
        "outputId": "7ee846d3-b81e-4550-ef3e-95ce3899e0bb"
      },
      "execution_count": 39,
      "outputs": [
        {
          "output_type": "stream",
          "name": "stdout",
          "text": [
            "{'declare', 'krishna', 'stockyard', 'figuration', 'bullet', 'aldys', 'goldies', 'happenstance', 'sandlot', 'fiendishly', 'kongfu', 'uproarish', 'stepsister', '3', 'hartley', 'shining', 'diabolic', 'machinegun', 'apathy', 'dickens', 'suckitude', 'epitomise', 'esque', 'tisch', 'secdonly', 'cranny', 'reorganization', 'sloppiest', 'elongate', 'gem', 'integrity', 'psychodrama', 'philadelpia', 'envelop', 'pointlessness', 'oldxc2x97fashioned', 'lemonade', 'haunt', 'graphical', 'phase', 'thoughtfulness', 'muster', 'promenant', 'tightrope', 'stallone', 'hastey', 'infancy', 'surprised', 'beffe', 'irish', 'blackmarketer', 'express', 'funfair', 'manufacturing', 'parabens', 'argentinian', 'cells', 'voting', 'heartfelt', 'heap', 'puzzlement', 'loathing', 'obssession', 'breeze', 'hyung', 'farly', 'fantasy', 'dadoo', 'customer', 'sanctify', 'disarm', 'hardbodies', 'sun', 'argento', 'carmen', 'castaways', 'homosexuality', 'stoicism', 'barbarian', 'thoroughbred', 'whorehouse', 'extraordinary', 'storming', 'antz', 'saugage', 'troopers', 'caffeine', 'ambition', 'sara', 'recall', 'notwithstanding', 'beachfront', 'palpatine', 'drk', 'hardship', 'beazely', 'melody', 'entertaingly', 'creaking', 'got', 'conscience', 'dummy', 'citycenter', 'nipple', 'fungal', 'nbtn', 'firefighter', 'regain', 'graduate', 'fightclub', 'czerny', 'spear', 'aesthetic', 'neame', 'flight', 'boobies', 'luc', 'qv', 'navigator', 'strobing', 'multimillionaire', 'gracelessly', 'cloutish', 'carlyle', 'recomend', 'astound', 'aguilar', 'synchronization', 'bruceploitation', 'unbeliaveble', 'gammera', 'panegyric', 'maybe', 'sensei', 'raid', 'paki', 'dumple', 'instil', 'superwoman', 'investigatory', 'reawaken', 'energies', 'farm', 'jude', 'per', 'thereafter', 'whince', 'unaccountable', 'firt', 'sage', 'heather', 'book', 'englishman', 'grater', 'filmde', 'algerian', 'disparate', 'madne', 'manatee', 'perishable', 'entomology', 'generation', 'sweetest', 'utilize', 'religion', 'alex', 'drawl', 'sugiyama', 'comtemporary', 'trained', 'slob', 'brining', 'intuitive', 'pygmy', 'standable', 'trickiness', 'angelica', 'pipe', 'enchilada', 'ac', 'pooh', 'romance', 'ladyslipper', 'guardian', 'section', 'eartha', 'shoudln', 'kajol', 'instal', 'dunce', 'palabra', 'involve', 'wexler', 'spenny', 'mariner', '35', 'excommunicate', 'terrified', 'trudi', 'pap', 'housecleaner', 'hereby', 'enemy', 'page', 'blow', 'wander', 'size', 'gum', 'thirsty', 'hartmen', 'waltons', 'pretend', 'accept', 'selflessness', 'oman', 'filmfour', 'construction', 'unprovoked', 'carer', 'displeased', 'seagalology', 'remastered', 'arff', 'purposely', 'cheapshot', 'shyster', 'last', 'notice', 'dain', 'vivant', 'faith', 'playas', 'avenue', 'frown', 'anthropologist', 'homophobia', 'evr', 'mst3', 'eye', 'cube', 'filmwork', 'compactor', 'blockbuster', 'kant', 'untethered', 'advertising', 'impersonator', 'curr', 'imaginary', 'disk', 'imdb', 'dark', 'probalby', 'tired', 'technofest', 'bilgewater', 'narrative', 'ye', 'iv', 'ditzy', 'masami', 'lore', 'parable', 'nest', 'minute', 'pasted', 'might', 'powerboard', 'ga', 'ocd', 'afghan', 'yipe', 'surya', 'double', 'oceanside', 'trough', 'imperfectly', 'recycle', 'petite', 'mstied', 'scene', 'moviexc2x85or', 'parillaud', 'data', 'jay', 'crowhurst', 'corney', 'unannounced', 'decompose', 'disobey', 'softball', 'preaching', 'meoli', 'bricusse', 'swiss', 'lamarr', 'fido', 'liza', 'herp', 'pen', 'draht', 'bay', '15th', 'molesting', 'knights', 'medieval', 'dicide', 'sigel', 'bee', 'wally', 'maul', 'restaurant', 'daneliuc', 'lawyer', 'thine', 'tribe', 'martin', 'liked', 'akki', 'birthday', 'rippin', 'sloww', 'eurasion', 'mccall', 'component', 'overlook', 'show', 'vinci', 'deity', 'dyan', 'interconnectedness', 'cal', 'superannuated', 'trolley', 'puri', 'implement', 'bearly', 'englishmen', 'kindergartener', 'watchin', 'studio', 'tomorrow', 'aseptic', 'years', 'microsystem', 'couldnxc2xb4', 'ponderous', 'skiing', 'russo', 'cathedral', 'cope', 'infiltrating', 'voight', 'wry', 'perverseness', 'murixc3xabl', 'shuddup', 'beergutted', 'battleaxe', 'photogrsphe', 'flap', 'condemned', 'perfume', 'thriller', 'bragged', 'silly', 'fraile', 'reecommend', 'unlimited', 'complaint', 'horrorible', 'null', '96', 'topical', 'squalid', 'opt', 'carre', 'cheepnis', 'sjxc3xb6man', 'lawnmow', 'biggie', 'commissioner', 'innocuously', 'raquel', 'fraternity', 'vargas', 'bump', 'nicol', 'minnie', 'awfully', 'subtitle', 'acadmey', 'surgeon', 'leafs', 'teos', 'epatha', 'tboe', 'll', 'workprint', 'blacksnake', 'desplat', 'adapted', 'um', 'trequel', 'trouble', 'wwiixc2x97no', 'migene', 'boe', 'rode', 'symbolism', 'hummh', 'cynic', 'bodybuilding', 'madhouse', 'odysseus', 'enlightment', 'sneakers', 'wheat', 'meatballs', 'pit', 'and', 'rib', 'substantially', 'mannage', 'intellectually', 'caretaker', 'confusing', 'warming', 'provoke', 'unvarnished', 'ciannelli', 'plumb', 'hurrah', 'rife', 'ofcourse', 'ayers', 'sayers', 'illogical', 'heir', 'juke', 'meen', 'minx', 'rte', 'peg', 'bolo', 'cheerleader', 'nombre', 'yukio', 'grandma', 'schmid', 'analog', 'casserole', 'pharmacist', 'pandemic', 'marijuana', 'deliverance', 'beggar', 'synchronisation', 'raab', 'travolta', 'supremely', 'bedknobs', 'terrify', 'showerman', 'encourage', 'fault', 'skeleton', 'harassing', 'dexter', 'dildar', 'stealing', 'perhaps', 'mistake', 'choice', 'promotional', 'crowd', 'clechxc3xa9', 'dogmatix', 'lwr', 'hysterical', 'distrust', 'trancer', 'sediment', 'beginging', 'snicker', 'crumbling', 'preservation', 'gipharts', 'spanky', 'stimulant', 'lv2', 'dillman', 'hairdresser', 'dynamism', 'spin', 'nonprofessional', 'gbmg', 'vulturine', 'monitoring', 'controller', 'uplifting', 'med', 'equivalence', 'oneupmanship', 'roadhouse', 'tracy', 'lol', 'convoluted', 'daunting', 'riches', 'portier', 'wound', 'sucki', 'grendel', 'dim', 'prisinor', 'hulu', 'advise', 'couleur', 'grace', 'mix', 'nihilist', 'tarantino', 'slaughterhouse', 'descent', 'booooooooooooooooooooooooooooooooooooooooooooooo', 'complimentary', 'mimzy', 'fatuous', 'phallic', 'single', 'escobarian', 'acually', 'shoddy', 'centered', 'zep', 'discrimination', 'smits', '70', 'unproven', 'raiders', 'hearte', 'protester', 'jw', 'ara', 'y2', 'editing', 'coral', 'improbable', 'duel', 'tourette', 'cutter', 'gore', 'badboy', 'homophobic', 'satanise', 'curler', 'pubert', 'galloner', 'ines', 'questionnaire', 'bored', 'rachels', 'shakespearian', 'motiveless', 'plasma', 'materialize', 'intuitor', 'structuralism', 'cob', '0093638', 'buddies', 'underrated', 'concubine', 'masculin', 'gove', 'hoppor', 'triptych', 'wedde', 'ka', 'aftermath', 'frighten', '666', 'cosa', 'idris', 'ciao', 'username', 'nielson', 'stratten', 'consuming', 'authorization', 'reshuffle', 'inveterate', 'stepmother', 'ramplingxc2xb4s', 'fighting', 'green', 'depressing', 'elly', 'rockets', 'mildew', 'mulcher', 'unsuspensful', 'interject', 'stunningly', 'jiggly', 'girolamo', 'syntactical', 'hard', 'leg', 'blisse', 'liam', 'listener', 'flags', 'shack', 'gradually', 'solar', 'function', 'awesome', 'stop', 'shaving', 'retroactive', 'stalwartly', 'superficiality', 'prodution', 'accident', 'labute', 'matriarchal', 'delicate', 'rex', 'phone', 'diversive', 'scriptwritter', 'wud', 'draftsman', 'surperb', 'con', 'raining', 'disapprovement', 'mateship', 'museum', 'dolphin', 'enjoyment', 'astor', 'uncircumcised', 'beverly', 'maddeningly', 'shat', 'billy', 'rnrhs', 'stick', 'estevez', 'craven', 'pincer', 'robim', 'creepy', '3d', 'emory', 'migration', 'barrel', 'pot', 'reunite', 'baaaaaad', 'kristofferson', 'zd', 'dix', 'wez', 'frf', 'compassion', 'washroom', 'elizabethan', 'sympathetic', 'draaaaaaaawl', 'textile', 'delivery', 'cybersex', 'toot', 'panaghoy', 'zeta', 'k9', 'haim', 'resort', 'cutis', 'sparkle', 'individually', 'chapa', 'beejesus', 'esthetic', 'motifs', 'sousa', 'mostly', 'fruit', 'bellybutton', 'bombs', 'sensational', 'permission', 'throw', 'storywise', 'quicken', 'experiment', 'succession', 'mofo', 'beaudine', 'doozie', 'slouching', 'facetious', 'gustad', 'took', 'camp', 'naff', 'pinkxc2x96', 'flicka', 'fourth', 'germanic', 'nepotism', 'conscious', 'dane', 'snoref', 'bernstein', 'fluctuation', 'annnndddddd', 'vacuous', 'tremor', 'intent', 'glennon', 'dissatisfyingly', 'listless', 'amaze', 'kickoff', 'cindy', 'liason', 'plastique', 'recompile', 'jackman', 'garber', 'gumby', 'duffer', 'assignation', 'esp', 'wawa', 'dawdle', 'gromit', 'vonnegut', 'feelgood', 'twitching', 'definately', 'cop', 'shantytown', 'extremely', 'symbolic', 'storey', 'shaq', 'noll', 'palma', 'jitter', 'cooking', 'grammar', 'extensively', 'aegean', 'mat', 'vue', 'essex', 'ironside', 'deprecating', 'image', 'indolent', 'max', 'higher', 'charecter', 'generate', 'pornos', 'bony', 'ferland', 'spolier', 'drawing', 'draaaaaag', 'winchester', 'chicken', 'despair', 'orion', 'dubba', 'lye', 'enterntainment', 'burley', 'whiner', 'convert', 'mines', 'varney', 'belief', 'spic', 'hotrod', 'unhand', 'relaxing', 'woodbury', 'plug', 'wonderfalls', 'oil', 'sword', 'brigade', 'gr8', 'sex', 'nurture', 'ryan', 'scented', 'screechingly', 'engel', 'request', 'futureworld', 'gynecologist', 'recent', 'corringa', 'muttered', 'elite', 'tyne', 'ticket', 'bow', 'pleasant', 'food', 'trollop', 'themovie', 'perf', 'timemachine', 'amorphic', 'wantabedde', 'parricide', 'doorstop', 'fac', 'gender', 'gabin', 'shootin', 'pokxc3xa9mon', 'cyberpunk', 'moshpit', 'philly', 'attend', 'fandango', 'bre', 'jacket', 'corral', 'sadistic', 'nullity', 'blockbuter', 'ultimate', 'kristin', 'teacher', 'untrumpeted', 'sporadic', 'toxic', 'charming', 'bullseye', 'reilly', 'kar', '12th', 'heartwrenche', 'instructor', 'conceptwise', 'mindfuck', 'rated', 'neither', 'discreditation', 'rupee', 'freestyle', 'erotica', 'review', 'value', 'clxc3xa9ment', 'tunnel', 'pun', 'tambor', 'fitfully', 'hop', 'degeneracy', 'store', 'mindless', 'blowing', 'gladiator', 'wrench', 'firm', 'unbalanced', 'sxc3xa4llskapsresan', 'revolver', 'wagon', 'lemma', 'dbz', 'loup', 'atmosphere', 'multiplayer', 'distort', 'intially', 'burnout', 'feral', 'expert', 'jemma', 'hiltons', 'umpire', 'easiness', 'affleck', 'excresence', 'uhura', 'knieper', 'dramaticness', 'barbie', 'ize', 'provide', 'gratify', 'abuser', 'range', 'bubblegum', 'mug', 'valiente', 'melanie', 'crusader', 'putrid', 'dilute', 'boorman', 'devestate', 'fiction', 'dukakis', 'womb', 'quinn', 'glorify', 'broderick', 'baha', 'unseen', 'fodder', 'confidant', 'clouded', 'prophecy', 'yoshinaga', 'undermine', 'aalcc', 'bertram', 'crowning', 'toaster', 'subtly', '02', 'snooze', '123', 'arrange', 'recurrent', 'duped', 'find', 'nibby', 'beirut', 'morlock', 'chief', 'locatione', 'season', 'rate', 'bollywood', 'passively', 'centennial', 'whorish', 'papercut', 'taken', 'jilted', 'flicker', 'ham', 'proclaim', 'unbelievably', 'awakening', 'shirts', 'rack', 'blatant', 'intention', 'duchovny', 'spinal', 'scarper', 'fisherman', 'attractive', 'thought', 'coddle', 'sabato', 'superordinate', 'hessian', 'dispair', 'physical', 'cheadle', 'dyeing', 'guy', 'obituary', 'disgrace', 'biographic', 'criticise', 'employer', 'repu', 'effet', 'banish', 'bobbie', 'cheated', 'clubber', 'mystique', 'truck', 'discontinue', 'dogtown', 'papayas', 'limit', 'bernal', 'harts', 'subtile', 'bachan', 'dislikeable', 'memories', 'moistened', 'alternately', 'except', '4ever', 'lack', 'edvard', 'huuuuuuuarrrrghhhhhh', 'inconceivable', 'spire', 'serpent', 'career', 'chorister', 'longingly', 'talk', 'denominator', 'racism', 'yarn', '82', 'impossible', 'nonstop', 'furnace', 'logger', 'characterisiation', 'rocketship', 'strasberg', 'intense', 'kilt', 'linesxc2x85', 'supersonic', 'sophia', 'prop', 'liqueur', 'romcomic', 'undead', 'partly', 'theory', 'freeze', 'supresse', 'regressive', 'inward', 'chosen', 'dalmatians', 'major', 'elevator', 'aragorn', 'videobox', 'royalist', 'kevnjeff', 'unatmospherically', 'case', 'rucksack', 'reportage', 'hotel', 'frwl', 'brand', 'thatxc2xb4', 'jasbir', 'funfare', 'pee', 'oater', 'infant', 'quida', 'basso', 'genre', 'hyden', 'sketch', 'dip', 'gags', 'whomp', 'factotum', 'dino', 'arguing', 'pineapple', '1890', 'brokerage', 'en', 'leitmotifs', 'jammer', 'why', 'skit', 'zodiac', 'dynamic', 'corpulence', 'distortion', 'tracker', 'harold', 'nonevent', 'mathematic', 'decipherable', 'dawg', 'ride', 'chamomile', 'cloke', 'sle', 'eloquently', 'hollow', 'ghostintheshell', '1mln', 'slams', 'frank', 'dun', 'damien', 'squirm', 'unintenional', 'surfing', 'gabbing', 'blesse', 'starling', 'amnesty', 'irritating', 'return', 'parole', 'orbed', 'celebrate', 'suit', 'psychotically', 'rustler', 'backing', 'spaghetti', 'matts', 'appreciation', 'ooooooed', 'passage', 'ammo', 'adult', 'vomitte', 'din', 'feresten', 'piquant', 'marvellously', 'bouyant', 'apathetically', 'murder', 'tenenbaums', 'baaaaad', 'lancia', 'poseidon', 'scarllett', 'miniserie', 'ayurvedic', 'argentine', 'prague', 'unhesitatingly', 'villains', 'ignorance', 'kyle', 'sibling', 'reeeeally', 'ixc2xb4ve', 'lowbrow', 'pix', 'provolke', 'traditionale', 'hungry', 'dmd', 'ju', 'raine', 'michxc3xa8le', 'consoling', 'course', 'scoggin', 'swimsuit', 'adam', 'kart', 'shopkeeper', 'tofu', 'excellent', 'infiltrator', 'efron', 'unreasonable', 'wendt', 'nubile', 'nooooo', 'http', 'jill', 'slumming', 'porkys', 'heimat', 'garage', 'isoyc', 'atheist', 'duh', 'adultism', 'projected', 'license', 'drinker', 'uncharacteristically', '1919', 'poker', 'international', 'stonehenge', 'salle', 'mutiny', 'bewigged', 'epsecially', 'less', 'coocoo', 'reserved', 'unwind', 'seasoning', 'bitingly', 'ching', 'context', 'mcgavin', 'pattern', 'visitor', 'stepanik', 'frye', 'sociological', 'favreau', 'bizarre', 'honors', 'paean', 'trippy', 'existent', 'imprest', 'samardzic', 'hour', 'cooley', 'ballplayer', 'sparring', 'slothy', 'glorious', 'alf', 'hooker', 'manufacture', 'claudette', 'lidde', 'boogens', 'kz', 'consistently', 'oooo', 'judy', 'hetereosexual', 'forsaken', 'third', 'lodoss', 'doesnxc2xb4', 'comical', 'totem', 'blood', 'amuse', 'mainware', 'quotable', 'pastry', '37c', 'melancholiness', 'allegorical', 'blemish', 'wed', 'vacate', 'supersoldier', 'dodgy', 'eerie', 'passport', 'mole', 'xc2x96up', 'loser', 'acre', 'crispin', 'maxwell', 'stepparent', 'date', 'total', 'braindead', 'procedural', 'clonus', 'uzumaki', 'scorpione', 'egglady', 'newman', 'scandanavian', 'vh', 'bader', 'intervixc3xba', 'sizzle', 'whitehead', 'sorority', 'sudden', 'studi', 'level', 'policy', 'dry', 'portrayl', 'devilry', 'dud', 'borrow', 'beating', 'grubiness', 'foppishly', 'romola', 'goodhearte', 'delimma', 'dude', 'tissue', 'usa', 'shayne', 'floss', 'longs', 'cartwright', 'rat', 'snag', 'sofa', 'frxc3xa9dxc3xa9ric', 'medium', 'corn', 'pavement', 'safely', 'bdwy', 'shabby', 'culty', 'contextualize', 'spoonful', 'playful', 'laundromat', 'enterprising', 'rheumy', 'sitcom', 'unfavourable', 'sabriye', 'mutilate', 'yes', 'species', 'conditioning', 'popularity', 'disastor', 'input', 'because', 'lifeless', 'qin', 'notle', 'thomp', 'usage', 'hotshot', 'conn', 'sailplane', 'byzantine', 'femininism', 'ontario', 'heartbeat', 'hughes', 'confess', 'midlife', 'staggered', 'situation', 'affinity', 'concieve', 'lease', 'finely', 'critic', 'elvira', 'lucasart', 'applause', 'enrol', 'besides', 'loft', 'eave', 'pxc3xa1ll', 'damnit', 'mikado', 'intimate', 'shore', 'endingi', 'providence', 'herbal', 'white', 'conifer', 'loaf', 'bathhouse', 'pax', 'storie', 'laboratory', 'southern', 'wrestlemania', 'spoof', 'shumacher', 'uninventive', 'cheekboned', 'munching', 'ok', 'adaptable', 'christopher', 'hear', 'boldness', 'forewarn', 'auspex', 'nirvana', 'summery', 'propeganda', 'scoop', 'choke', 'gawd', 'securities', 'wonderland', 'sed', 'enlist', 'overpopulation', 'blessed', 'torment', 'cocky', 'tetsuo', 'chapter', 'foregone', 'microbe', 'fishing', 'pillow', 'displeasing', 'begining', 'invincibile', 'vip', 'recruit', '15', 'deficient', 'miles', 'drolly', 'juvenile', 'breathiness', 'eyewitness', 'informer', 'alltime', '1970', 'friedhofer', 'stead', '7', 'parsimony', 'suspender', 'combination', 'reminded', 'glandular', 'heavens', 'owner', 'pms', 'terrrrrrrrrrrrrrrriiiiiiiiiiiible', 'tap', 'drag', 'disappoint', 'crocodile', 'teja', 'fluffer', 'submerge', 'iguess', 'repore', 'unemployment', 'campaign', 'abiding', 'memoirs', 'eventhough', 'footage', 'move', 'homestead', 'pure', 'morrisey', 'crighton', 'scrappy', 'debauchery', 'unenlightene', 'ie', 'womanizer', 'xc2x91in', 'torpedo', 'car', 'sloppiness', 'edie', 'mastorakis', 'amy', 'islander', 'bevare', 'your', 'providentially', 'mythbuster', 'wisdom', 'reicher', 'boredom', 'tagline', 'loyalty', 'stadium', 'int', 'casomai', 'bowling', 'porklips', 'preoccupation', 'teammate', 'constitution', 'precept', 'lens', 'vanishes', 'pile', 'auteur', 'hippie', '80ish', 'guarantee', 'narrate', 'ellipsis', 'patented', 'kata', 'mentality', 'superfighter', 'precocious', 'cervantes', 'rubbiush', 'frontal', 'survivalist', 'fingersmith', 'muti', 'steel', 'pan', 'shihuang', 'honeymoon', 'prejudice', 'utterly', 'foreseable', 'liberate', 'receiver', 'disapoint', 'verve', 'allways', 'publishing', 'finese', 'salesman', 'astroturf', 'doormat', 'heavy', 'serpico', 'labotimize', 'resturant', 'hank', 'existentialist', 'prehensile', 'baking', 'wheel', 'apothacary', 'lukewarm', 'malhotra', 'inconceivably', 'fudge', 'che', 'cgi', 'duty', 'wherein', 'dessert', 'inxc3xa9s', 'belligerent', 'anyone', 'korsmo', 'yaowwww', 'evilmaker', 'entertainment', 'joiner', 'lodger', 'arousal', 'foreign', 'claude', 'kerwin', 'conquer', 'warhorse', 'ton', 'insect', 'professional', 'maroccan', 'thursday', 'xc2x91cartoonish', 'replaying', 'ruined', 'fishie', 'candoli', 'obsess', 'center', 'bothersome', 'raines', 'anarchist', 'db', 'massacrenot', 'subverting', 'nr', 'filial', 'ecclesiastical', 'surrogate', 'everbody', 'tuvok', 'sea', 'stultifying', 'underscripted', 'cathexis', 'heder', 'swell', 'solo', 'protagonist', 'hype', 'business', 'iwascalledclementine', 'umcompromise', 'fantafestival', 'protector', 'almost', '3x5', 'havnt', 'hole', 'synopsis', 'ww', 'bejo', 'leelee', 'daughters', 'interval', 'digger', 'exploitation', 'goldfish', 'wetsuit', 'sickroom', 'ff', 'hewitt', 'swipe', 'molest', 'foxx', 'acedemy', 'uncultured', 'santini', 'relocation', 'bisexual', 'claud', 'golightly', 'fluttery', 'precision', 'rowe', 'unusable', 'badasse', 'southerly', 'wardrobe', 'excursionist', 'warn', 'bukowski', 'cheesily', 'incase', 'newhart', 'mentalities', 'independant', 'waterdance', 'exhooker', 'scrub', 'hairpiece', 'unexpectedness', 'requests', 'crim', 'tail', 'much', 'sxc3xa5ng', 'pelham', 'undershort', 'harlequin', 'montrocity', 'coupe', 'opener', 'romano', 'lamb', 'uncluttered', 'expertly', 'vhs', 'massive', 'greyzone', 'jews', 'harpo', 'industrialism', 'eternity', 'rice', 'viciousness', 'untill', 'tkia', 'forgiving', 'sholay', 'coutney', 'tailer', 'sore', 'legal', 'rebelliousness', 'crapulous', 'portable', 'bong', 'feeder', 'pedofile', 'maestro', 'quada', 'simply', 'stressful', 'radiation', 'metulskie', 'keying', 'stylist', 'laddish', 'transmit', 'xylophone', 'inexplicability', 'deal', 'painless', 'luther', 'playing', 'coyote', 'hot', 'bearer', 'sup', 'unamusing', 'stranger', 'raggedy', 'ths', 'monstrous', 'rationality', 'blakmaile', 'renowned', 'masterman', 'greasier', 'fas', 'klasky', 'excel', 'cobra', 'adcox', 'thoughtlessness', 'dreamworks', 'bridge', 'geisha', 'cushing', 'spielberg', 'reassuring', 'prodigy', 'fingerprint', 'cynical', 'blitz', 'shed', 'abraham', 'abide', 'weirdsville', 'thisand', 'garofalo', 'sleazy', 'ghoulie', 'lecture', 'reveller', 'deforming', 'rhubarb', 'slutty', 'trivia', '77', 'pttp', 'dross', 'targets', 'ususally', 'reversible', 'cokehead', 'upon', 'vis', 'pc', 'unpleasantness', 'subtlety', 'pillaging', 'mannerism', 'minimize', 'deep', 'nonverbal', 'ghost', 'kane', 'nightmares', 'teabagging', 'what', 'wrinkly', 'discount', 'sensitiveness', 'hobnob', 'tape', 'daines', 'question', 'tu', 'dylan', 'horiible', 'agonisingly', 'operish', 'mar', 'improvisational', 'repetitious', 'stacy', 'clearing', 'crawl', 'if', 'gertz', 'unsurpassed', 'literacy', 'camino', 'adapter', 'shine', 'mangler', 'fedora', 'confederate', 'masochist', 'solemn', 'honor', 'mfn', 'cbtl', 'du', 'toys', 'speech', 'whacked', 'fugitive', 'budgeting', 'pussy', 'unexpecting', 'population', 'unplesasant', 'jeremy', 'embed', 'byer', 'brighten', 'dead', 'few', 'clumsily', 'people', 'accurately', 'wrinkle', 'breech', 'windtalker', 'miguel', 'sinks', 'earhole', 'transmittable', 'dilly', 'macist', 'explosion', 'sepia', 'dollmaker', 'stockings', 'trackwalker', 'burb', 'screwloose', 'shout', 'jarman', 'jeff', 'jejeune', 'skirt', 'pantierre', 'shitti', 'dome', 'cloak', 'spellbindingly', 'eon', 'xc2xad', 'trading', 'marinara', 'otherness', 'certifiably', 'detonator', 'deceve', 'witchcraft', 'priestly', 'iceberg', 'perdition', 'egomaniacs', 'playback', 'savier', 'forecaster', 'jared', 'pressly', 'pseud', 'disuse', 'compartment', 'heebie', 'moving', 'bibles', 'invades', 'sunrise', 'shove', 'furrowed', 'traitor', 'toute', 'hartnett', 'ulysse', 'sanction', 'affront', 'steiner', 'rosewood', 'clay', 'xc2x97', 'gameplay', 'stutter', 'undivided', 'wttw', 'gwyenth', 'foreseeing', 'rare', 'ignor', 'longish', 'cheerlead', 'blended', 'neuf', 'zzzzzzzzzzzz', 'offer', 'compositor', 'laces', 'drives', 'classmate', 'salute', 'sadomasochistic', 'fanclub', 'xc3xa2me', 'directer', 'microwave', 'perfs', 'dear', 'isolationism', 'participator', 'thru', 'taboo', 'grandparent', 'fecal', 'spijun', 'expressionist', 'rave', 'buffoon', 'slightest', 'earthly', 'gravel', 'spectre', 'fogged', 'intellectual', 'finish', 'snobbish', 'uninvited', 'connisuer', 'monogamy', 'francisville', 'constipation', 'hipness', 'kinda', 'ungenerous', 'collegue', 'belgian', 'situations', 'moment', 'watcher', 'costume', 'water', 'ascot', 'odyssey', 'effect', 'applecart', 'paxinou', 'cows', 'mobility', 'jeweler', 'sooooouullltakaaaa', 'dogme', 'genious', 'hhaha', 'sacrificial', 'ebts', 'croc', 'meagre', 'mardi', 'lowpoint', 'unrelievedly', 'wargames', 'mano', 'position', 'glitch', 'backwater', 'update', 'cellular', 'hundredth', '71', 'disappointing', 'consciousness', 'abahy', 'cappucino', 'kindegarden', 'somo', 'rewire', 'childish', 'quirk', 'ripps', 'indelible', 'bab', 'pips', 'compulsiveness', 'rune', 'feel', 'swayze', 'xc2xa8', 'fleece', 'pefectly', 'noggin', 'shaman', 'homevideo', 'coy', 'stott', 'rouste', 'reeve', 'personify', 'expence', 'feeb', 'democracy', 'frankenstien', 'cranial', 'orxc2x85xc2x85', 'brobdingnagian', 'xtianity', 'upshot', 'tad', 'blump', 'champ', 'drunk', 'nontraditional', 'aura', 'arrow', '90s', 'businessman', 'ullswater', 'lyle', 'acted', 'lazenby', 'rats', 'atc', 'garner', 'hessle', 'skank', 'becky', 'aroma', 'carton', 'understand', 'arretxc3xa9', 'depicttion', 'begley', 'criminal', 'traci', 'hah', 'see', 'nore', 'branagh', 'glamourise', 'finishing', 'testament', 'wedding', 'flo', 'softly', 'seen', 'sulfuric', 'alias', 'didn', 'locale', 'anorexic', 'predisposition', 'energize', 'youth', 'romuald', 'daughter', 'variety', 'sense', 'filmdirector', 'chilenian', 'hatch', 'farcry', 'soapbox', 'thorny', 'evan', 'fixate', 'soloman', 'hotd', 'omit', 'farting', 'underwhelmed', 'clumsey', 'alligator', 'vulnerablility', 'kvell', 'leaze', 'task', 'peurile', 'flailing', 'pumping', 'reinacte', 'cares', 'mom', 'salva', 'gravedancer', 'his', 'dnd', 'bolvian', 'stump', 'corny', 'showing', 'renny', 'subsidy', 'sunshine', 'rambos', 'niceness', 'finalexc2x85', 'untouchable', 'garp', 'flegma', 'stepper', 'vividly', 'remade', 'thoughtfull', 'conventional', 'transmogrification', 'plea', 'tame', 'duke', 'kiddifye', 'exorcist', 'servant', 'officially', 'dullsville', 'grant', 'y', 'bette', 'leathal', 'eraser', 'beeman', 'adulhood', 'spellbind', 'costumery', 'categorize', 'neophyte', 'abduction', 'incest', 'sleuth', 'eppe', 'headlining', 'baloone', 'fanatasie', 'veronica', 'mastroianni', 'junction', 'revolutionary', 'dugout', 'mildred', 'mindf', 'tenacity', 'wether', 'depression', 'complementary', 'spoken', 'roundup', 'holly', 'escapade', 'rattan', 'dialogue', 'azoid', 'fartsy', 'graff', 'fuzzie', 'stagger', 'wonderously', 'rest', 'stracultr', 'venue', 'outback', 'shocking', 'nipper', 'blasphemous', 'beeeatch', 'colour', 'bla', 'theatrical', 'petere', 'ambitious', 'troglodyte', 'shudder', 'costars', 'burgade', 'placard', 'snigger', 'specious', 'boone', 'templarios', 'tomatoes', 'unexpecte', 'comebacks', 'foulata', 'matthew', 'polemize', 'disillusionment', 'reconception', 'porter', 'ray', 'overripe', 'bot', 'terroristic', 'officialdom', 'wart', 'pinkett', 'consenting', 'bassinger', 'brillantly', 'xc2xa1can', 'dalmatian', 'premise', 'advice', 'swith', 'crossbow', 'unique', 'definite', 'consecutively', 'cassini', 'harling', 'golan', 'exiting', 'wilderness', 'capturing', 'lick', 'surreal', 'redeemable', 'wrapping', 'snuffy', 'tycoon', 'tmp', 'soloist', 'gabel', '79', 'ssy', 'innovative', 'mike', 'lan', 'biggen', 'various', 'roll', 'visionary', 'tantoo', 'oren', 'incriminate', 'physicality', 'alcock', '1941', 'crossword', 'defiantly', 'tt0115940', 'dance', 'tiere', 'donor', 'hunchback', 'appliance', 'ukrainian', 'shockingly', 'trapp', 'donno', 'daslow', 'hoodlums', 'maze', 'voorhees', 'fluidity', 'locally', 'disappear', 'scala', 'lippo', 'caine', 'orson', 'variation', 'al', 'volcano', 'squared', 'spock', 'bigwig', 'cryer', 'execution', 'spiffy', 'immune', 'mazurski', 'aerospace', 'humor', 'curvacious', 'onwards', 'neat', 'soooooooo', 'hackett', 'odor', 'solarisation', 'dictionary', 'lexa', 'handicapped', 'musicion', 'beyonce', 'wrist', 'agriculture', 'pungent', 'frailty', 'logical', 'shhot', 'truely', 'moonstruck', 'mockingbird', 'boyer', 'witch', 'rarity', 'peaks', 'appearance', 'entry', 'autopilot', 'endulge', 'pharoah', '8', 'mansfield', 'poll', 'anurag', 'soulseek', 'externalization', 'whodunit', 'corporate', 'vera', 'whoopdedoodle', 'their', 'snackin', 'spit', 'heels', 'together', 'dishwat', 'behind', 'farmer', 'gmail', 'zalman', 'smut', 'parent', 'gucht', 'overactive', 'laurent', 'blander', 'backup', 'cattleman', 'renter', 'dop', 'aish', 'irwin', 'dollar', '10mil', 'appalled', 'siam', 'sickos', 'spoofs', 'beautifule', 'candle', 'lafayette', 'z', 'happy', 'wheaton', 'panel', 'within', 'musical', 'armor', 'abortion', 'bizarreness', 'eight', 'seventy', 'oppurtunity', 'potyomkin', 'blackface', 'reason', 'hillybilly', 'cancer', 'symphony', 'marraige', 'poirots', 'uday', 'item', 'sunbacke', 'smalltown', 'verite', 'lecturer', 'notably', 'goof', 'trudgery', 'waddle', 'mary', 'canterville', 'goref', 'prolong', 'woo', 'mistreat', 'indemnity', 'cinematographical', 'cable', 'marsh', 'germanxc2xb4s', 'beta', 'fashioned', 'serisouly', 'plunk', 'selena', 'conductor', 'spiral', 'questionmark', 'kusturica', 'believer', 'outfield', 'bro', 'octo', 'pasqualino', 'unresolve', 'cumming', '2022', 'forgone', 'hunt', 'ticky', 'linc', 'limo', 'exultation', 'jodie', 'kovacs', 'scrupulous', 'knave', 'farnsworth', 'winery', 'nobler', 'schultz', 'uniform', 'manna', 'keach', 'destroying', 'wallpaper', 'appearantly', 'jbd', 'oddysey', 'remedie', 'photographer', 'shick', 'crime', 'exlusively', 'sister', 'medusa', 'nearly', 'secluded', 'visual', 'granddaughter', 'fartsys', 'philosopher', 'idiocracy', 'exagerate', 'breakfast', 'obfuscation', 'thunderously', 'perspective', 'melee', 'donny', 'starting', 'grittiness', 'blaxploitation', 'unrated', 'survive', 'track', 'transformation', 'sheets', 'childxc2xb4s', 'fluently', 'greast', 'monologue', 'gaijin', 'salsa', 'ownership', 'barne', 'greatest', 'underwood', 'saltmen', 'mistrust', 'psychical', 'docteur', 'delon', 'ruby', 'salient', 'girl', 'irreverent', 'dons', 'encouraging', 'orco', 'zuzz', 'intersplice', 'jokey', 'nap', 'skinny', 'arguments', 'ripley', 'defitnly', 'flynn', 'coupon', 'reitman', 'plaguerism', '30th', 'centurie', 'virginize', 'midsummers', 'ak', 'iris', 'sylvestra', 'vallxc3xa9e', 'cape', 'partner', 'john', 'sunlight', 'vulgur', 'margret', 'satire', 'emraan', 'heimlich', 'induct', 'miscast', 'altitude', 'noisily', 'driver', 'fi', 'faro', 'inconsistency', 'preacher', 'telekinetic', 'helmut', 'admirer', 'shines', 'qw', 'goood', 'expect', 'mechs', 'raphaelite', 'mindy', 'hutton', 'soup', 'wyld', 'separation', 'kissed', 'environmentalist', 'unintetionally', 'woodchuck', 'unawares', 'oppressive', 'comment', 'wonderful', 'we', 'elsewere', 'zim', 'nilsson', 'restaraunt', 'complain', 'crain', 'crossroads', 'didnxc2xb4', 'progression', 'tom', 'decision', 'toupee', 'franklins', 'madre', 'lifeforce', 'spending', 'puppet', 'excitable', 'ally', 'percentage', 'plonky', 'grizzle', 'igby', 'walks', 'homewrecke', 'debut', 'teletubbie', 'nighter', 'postman', 'cassavette', 'excoriate', 'battalion', 'prizzi', 'skipped', 'submission', 'troma', 'chloe', 'outisde', 'unexpected', 'unidimensional', 'mochanian', 'iritf', 'service', 'coen', 'accuse', 'cowgirl', 'clarification', 'play', 'morose', 'survivor', 'juttere', 'evolution', 'alienate', 'bbw', 'carman', 'dragon', 'engross', '51', 'educational', 'chimp', 'mst3000', 'unintentional', 'scarecrow', 'munster', 'verson', 'weirdo', 'yeah', 'deciphering', 'extremism', 'possess', '588', 'rerun', 'flow', 'ravish', 'dtv', 'parties', 'railway', 'enaction', 'personal', 'titillation', 'office', 'firstenberg', 'finale', 'bibbity', 'kiddy', 'unignorable', 'unsympathetic', 'thrift', 'backwood', 'udo', 'gandolfini', 'handedly', 'tantalising', 'sayle', 'cloth', 'sully', 'patriotic', 'ehn', 'grandstand', 'attract', 'spescially', 'closer', 'arguable', 'woth', 'thankfully', 'army', 'dismissal', 'todesking', 'poet', 'favoritism', 'brava', 'perfunctorily', 'tornado', 'inhale', 'thinner', 'hand', 'railsback', 'polish', 'memorable', 'stephan', '1and', 'progressively', 'splitting', 'snooty', 'bars', 'besties4lyf', 'utenriks', 'bloodline', 'remarkable', 'mouton', 'wave', 'require', 'anything', 'dechifere', 'sinking', 'funding', 'oddly', 'drew', 'persue', 'quandary', 'dion', 'brannagh', 'soppy', 'klimov', 'chinbotsu', 'shlock', 'apprarently', 'opposite', 'vicarious', 'loneliness', 'scavange', 'mortality', 'rank', 'iago', 'boomer', 'footprints', 'mechanical', 'surrealistic', 'fashionable', 'form', 'illness', 'routine', 'satisfactory', 'expection', 'painlessly', 'unbridled', 'casting', 'glitze', 'wisecracker', 'racing', 'knicker', 'meaningful', 'unenigmatic', 'team', 'resound', 'editor', 'aggravation', 'six', 'flannel', 'accomplish', 'philo', 'piney', 'over', 'kafkaesque', 'volatile', 'delivering', 'funny', 'fed', 'pehenti', 'relationship', 'biotoxic', 'colourfully', 'specialised', 'sacha', 'exibition', 'wag', 'darko', 'irresponsible', 'ruins', 'mirthful', 'stubby', 'mafia', 'bae', 'shut', 'pounds', 'vaccares', 'dipsh', 'irxc3xa8ne', 'falk', 'polari', 'cutie', 'answer', 'ding', 'sweets', 'blogtalkradio', 'riverbank', 'narcissism', 'unspenseful', 'princess', 'quart', 'civilisation', 'limp', 'faithfulness', 'fuzzy', 'bwitch', 'pricing', 'unreal', 'bummer', 'enigmas', 'letter', 'entertanment', 'lies', 'probablility', 'bordellos', 'emoted', 'unappeale', 'genevieve', 'rosenthal', 'awake', 'airtight', 'perverted', 'communist', '1931', 'macromeglia', 'quit', 'carny', 'harshness', 'parallel', 'pickard', 'everlovin', 'emergent', 'townsend', 'chxc3xa2teau', 'marmite', 'stinkeroo', 'scissors', 'lighting', 'brasilian', 'bxc3xa9jo', 'strong', 'marginally', 'wallop', 'flame', 'boatload', 'londonesque', 'redifined', 'material', 'sexploitation', 'virtioso', 'frog', 'permit', 'cyclonic', 'cold', 'colonialist', 'entwisle', 'pende', 'children', 'saddles', 'spite', 'campness', 'mockumentary', 'desire', 'resident', 'above', 'disapointment', 'sentimentalism', 'unrequited', 'unconsciously', 'manticore', 'disease', 'disfunction', 'someway', 'fourteen', 'respond', 'xc2x91best', 'mountie', 'orca', 'collector', 'clanton', 'premium', 'nymph', 'daisy', 'onstage', 'famine', 'downs', 'canto', 'cryin', 'humiliating', 'boggy', 'beast', 'cheater', 'firelight', 'manji', 'dissipated', 'civilian', 'clio', 'clumsy', 'incorporeal', 'dedicate', 'malay', 'superb', 'mig', 'diabolical', 'threesome', 'purvi', 'worryingly', 'executor', 'mcarthur', 'screenplay', 'ensnare', 'vrajesh', 'along', 'pseudocomedie', 'increduously', 'twin', 'canvas', 'jancie', 'greed', 'week', 'litle', 'rabbit', 'suitor', 'ayer', 'oherwise', 'daddy', 'mafioso', 'storied', 'cheesiness', 'loosly', 'digital', 'gullable', 'nurse', 'repeat', 'staging', 'distressing', 'klembecker', 'terrorist', 'demme', 'lance', 'chun', 'cloussou', 'difficulty', 'copulating', 'burlesque', 'ummmm', 'muller', 'rejection', 'litteraly', 'soufflxc3xa9', 'hmv', 'eschatologically', 'agreement', 'universal', 'robocop', 'supermarket', 'monk', 'sanatorium', 'psychology', 'toystory', 'stretchy', 'glumly', 'blink', 'thereof', 'suceed', 'psychotherapist', 'spiritited', 'devout', 'serenity', 'visualise', 'goldberg', 'kuch', 'kazan', 'arminian', 'trap', 'gym', 'coster', 'platters', 'asthetic', 'ahead', 'willard', 'disinherit', 'problem', 'stony', 'multimedia', 'saimin', 'ivanna', '50s', 'chassidic', 'next', 'diesel', 'twist', 'orchid', 'warmongere', 'gate', 'amalgamation', 'war', 'udit', 'p', 'nevertheless', 'wist', 'asian', 'trapping', 'theacting', 'brielfy', 'si', 'transitioning', 'pimpernel', 'share', 'sickboy', 'boxy', 'krusty', 'eloi', 'hugely', 'publicized', 'undramatic', 'jixc3xb8xc3xad', 'darkplace', 'eurotrip', 'palestinian', '345', 'wlaschiha', 'sickingly', 'leconte', 'political', 'otherworldly', 'whiskey', 'tsar', 'jet', 'mensonge', 'wildlife', 'plauge', 'mauseleum', 'issue', 'loyal', 'klever', 'load', 'spalsh', 'plumber', 'genie', 'carols', 'ma2412', 'no', 'moonwalk', 'pg', 'chillness', 'gorman', 'inconsistie', 'dehumanized', 'venoms', 'wintry', 'paper', 'straightaway', 'perfetic', 'camerawork', 'definable', 'machinist', 'campus', 'certainly', 'stange', 'fellowship', 'adorable', 'craze', 'dalai', 'boundary', 'extacy', 'dipping', 'robo', 'symptomatic', 'weridness', 'outsing', 'harassment', 'annabel', 'hunter', 'hi', 'millinium', 'idiotically', 'euro', 'rape', 'souler', 'wiedzmin', 'particular', 'polishing', '3po', 'timeliness', 'definitly', 'charles', 'comicbook', 'yap', 'indefinably', 'autobiography', 'unlikely', 'grain', 'fox', 'brel', 'industry', 'count', 'leather', 'speciality', 'conclusively', 'cr4p', 'destiny', 'weapon', 'refreshed', 'small', 'elixir', 'goodwill', 'boardinghouse', 'repoire', 'counter', 'bile', 'wadd', 'leprosy', 'meany', 'alistair', 'bgrade', 'exceptionally', 'unarmed', 'damnd', 'brothers', 'laborer', 'leonard', 'yugonostalgic', 'lobotomy', 'duckling', 'pls', 'favorites', 'metasonix', 'synthesizer', 'timeline', 'ninja', 'fragmentaric', 'inform', 'galaxy', 'norm', 'interwoven', 'knows', 'homeward', 'embarrasment', 'allthewhile', 'fess', 'sob', 'dimwit', 'spacecamp', 'manzanos', 'undoubtably', 'access', 'bodies', 'gimmeclassics', 'animations', 'intolerance', 'statuette', 'hara', 'conspirital', 'smk', 'bother', 'dial', 'embryo', 'sloppily', 'scream', 'typecast', 'rent', 'easterner', 'screenwriter', 'unattractiveness', 'stella', 'ya', 'second', 'black', 'sored', 'nemesisxc2x85', 'military', 'daffily', 'abrasive', 'mace', 'ridicoulus', 'jar', 'treck', 'aro', 'biography', 'kinky', 'godfather', 'tm', 'illiterate', 'mcdonnell', 'fig', 'remark', 'climbing', 'overspeedy', 'king', 'emmontional', 'day', 'flatulence', 'aaagh', 'anus', 'clone', 'flattered', 'chasers', 'carpenter', 'weepy', 'sect', 'conceit', 'rxc3x8ave', 'denigrati', 'brinkmanship', 'cara', 'writen', 'personation', 'fairly', 'hypnotism', 'boom', 'balsa', 'shortchanged', 'hairbraine', 'unwillingly', 'ashame', 'jabbering', 'silvestri', 'timed', 'cb', 'exaggeration', 'sloooow', 'pyare', 'grayscale', 'dwyer', 'astonished', 'pleasent', 'deteriorated', 'morlochs', 'lineup', 'coverup', 'sometimes', 'tub', 'needle', 'mini', 'jumpstart', 'glamorise', 'principle', 'spank', 'celtic', 'plastic', 'precious', 'wow', 'propably', 'soccer', 'faerie', 'breckinridge', 'undertow', 'turkish', 'surviver', '1971', 'ungoing', 'spoiler', 'intramural', 'goss', 'miracles', 'idiea', 'cheerios', 'farpoint', 'sharps', 'wicked', 'resurgence', 'strangle', 'bittersweetness', 'wouldn', 'momma', 'tootsie', 'landgrabber', 'contests', 'recommanded1', 'talkshow', 'stray', 'footstep', 'unbelievable', 'scorsese', 'tortuous', 'video', 'reginald', 'aftertaste', 'unhelpe', 'river', 'capraesque', 'choir', 'claus', 'enchance', 'hai', 'grinchmas', 'thrash', 'disrupt', 'nyugen', 'motion', 'operating', 'fanning', 'documenting', 'clarissa', 'purporting', 'publisher', 'novelette', 'desensitize', 'fluff', 'californication', 'glock', 'wonka', 'nurturer', 'stay', 'delirium', 'postmortem', 'fu', 'uuuuuuh', 'betty', 'cobble', 'lion', 'spiritedness', 'contrive', 'mabel', 'ungar', 'nut', 'minis', 'frollo', 'accurse', 'hungarian', 'farris', 'eraserhead', 'filmcritic', 'shoreditch', 'percent', 'ready', 'bogotxc3xa1', 'fufil', 'pim', 'riotously', 'follow', 'appallingness', 'flinstoneish', 'expressive', 'videoclip', 'jacobi', 'awstruck', 'kinga', 'attacker', 'curtis', 'cameraderie', 'ritter', 'riely', 'billionaire', 'hostess', 'persion', 'scrubber', 'upstairs', 'exagerating', 'stair', 'sucker', 'uranus', 'fallible', 'vallone', 'screamers', 'motivated', 'investor', 'drum', 'gal', 'characterful', 'anjos', 'amongst', 'edith', 'portrait', 'stars', 'defilers', 'film', 'dwarf', 'oxc3x95toolexc3x95s', 'lake', 'cleo', 'ladrone', 'teenager', 'performances', '1964', 'hotd2', 'spookhouse', 'masse', 'ellis', 'osteopath', 'disparage', 'nowadays', 'entrapment', 'collision', 'afv', 'clunk', 'sirtis', 'contaminate', 'rook', 'ingenue', 'painfull', 'healy', 'robbins', '911', 'fat', 'courtesy', 'quiet', 'millenium', 'mxc3xbcller', 'overcoming', 'odour', 'dujardin', 'spermatozoon', 'giant', 'leporid', '17', 'jibe', 'exposing', 'semblance', 'optical', 'ahahahahahhahahahahahahahahahhahahahahahahah', 'dorothy', 'dopey', 'pacy', 'rep', 'decorative', 'rush', 'patrol', 'creationism', 'yokai', 'privation', 'fatwa', 'liking', 'dinosaurs', 'unpaved', 'turtle', 'overconstructed', 'malxc3xa9fique', 'ranch', 'overman', 'demons', 'autobio', 'players', 'constabulary', 'dm', 'fridge', 'latterly', 'rotterdam', 'scamp', 'wilkison', 'goodfella', 'duchaussoy', 'troubled', 'trucker', 'stoner', 'credibility', 'television', 'childhood', 'unexplained', 'sexuality', 'passable', 'blackstar', 'pavarotti', 'festival', 'okey', 'meringue', 'tracey', 'fabrice', 'polyvalente', 'tamarind', 'disability', 'talented', 'flamenco', 'fencer', 'keeper', 'dame', 'negligence', 'triangle', 'veddy', 'romain', 'dabneys', 'tae', 'saloon', 'nightfall', 'station', 'dust', 'giraudeau', 'head', 'shirt', 'deliberate', 'polito', 'huit', 'unclaimed', 'thematic', 'life', 'mountainous', 'misstep', 'factxc2x85', 'eschelon', 'botulism', 'savage', 'townspeople', 'iff', 'photo', 'lovecraft', 'beyond', 'dramatized', 'commonplace', 'royally', 'dawdling', 'chattel', 'evoke', 'griswolds', 'homeopathic', 'trails', 'compare', 'farmland', 'envoke', 'dot', 'hobbit', 'multilevel', 'crate', 'academic', 'milligan', 'squire', 'cake', 'glass', 'jivetalking', 'being', 'aspirin', 'regurgitated', 'transgenere', 'unsubstantial', 'tully', 'jacques', 'gimmick', 'angora', 'ui', 'info', 'nerds', 'irony', 'rutherford', 'haze', 'witness', 'sayid', 'cambodia', 'plausibly', 'milbank', 'padre', 'punch', 'multiple', 'changeover', 'jouissance', 'cj', 'sell', 'overrule', 'gymnastic', 'imo', 'beaker', 'stack', 'booby', 'malplace', 'unspecific', 'healthy', 'krueger', 'accuracy', 'boogeyman', 'betacam', 'screener', 'proletarian', 'loc', 'khoi', 'robby', 'inhospitable', 'damp', 'shootemup', 'broken', 'senseless', 'spookily', 'federal', 'fiers', 'amplify', 'vol', 'anorexia', 'mixer', 'regime', 'yuks', 'description', '1972', 'resold', 'mulder', 'mayfield', 'joo', 'gunfighter', 'wire', 'josie', 'resurface', 'hostage', 'partcular', 'tribesman', 'masochism', 'zombief', 'spall', 'infamy', 'renart', 'expectancy', 'tent', 'stores', 'thiessan', 'kid', 'suprise', 'ghibli', 'encoding', 'dweeby', 'sioux', 'xc2x96', 'sanity', 'commenter', 'choose', 'dominion', 'sporchi', 'alpine', 'congratulation', 'phisique', 'climber', 'series', 'tch', 'saratoga', 'unsustainable', 'deter', 'code', 'scipt', 'ghengis', 'cxc3xa9dric', 'creepiness', 'collapse', 'inu', 'wendsday', 'nitch', 'divorcee', 'salinger', 'bale', 'shyness', 'appreciate', 'motocrossed', 'swordplay', 'ballerina', 'soo', 'interviewer', 'puppy', 'bravery', 'middling', 'stormy', 'perky', 'duryea', 'django', 'rollins', 'pumpkinhead', 'claudexc2xb4s', 'nightclub', 'how', 'sans', 'putt', 'superbug', 'valentino', 'villaronga', 'futuristic', 'desparation', 'grin', 'gabba', 'indistinguishable', 'antidote', 'sweeking', 'dramatize', 'coppy', 'reminiscent', 'drastically', 'mexican', 'sleptwalke', 'imagination', 'boob', 'merengie', 'shahrukh', 'wisecrack', 'jingo', 'lifetime', '14', 'windows', 'mclaglen', 'prank', 'deutschen', 'scull', 'choo', 'wiplash', 'drained', 'victor', 'unforgettable', 'rural', 'potted', 'watermelon', 'lynda', 'slug', 'innovation', 'mythology', 'dxt', 'orcas', 'hercules', 'lanes', 'psychoanalytical', 'pedal', 'befit', 'beanstalk', 'proscribed', 'beal', 'inki', 'xc2x91yours', 'alibi', 'tsotg', 'cannibalism', 'barbieri', 'cartload', 'hagen', 'shawshank', 'vile', 'righteous', 'franco', 'mimes', 'chinese', 'bucketfull', 'buisnesswoman', 'libelous', 'rehabbe', 'lowlight', 'cupid', 'enforced', 'fleapit', 'getup', 'sms', 'batty', 'lemon', 'swindle', 'haired', 'tomb', 'jack', 'element', 'riff', 'caveman', 'lino', 'mojo', 'unstylish', 'centavo', 'stark', 'sxsw', 'competent', 'closeup', 'broom', 'bauhaus', 'undermines', 'hurt', 'malpractice', 'thunderdome', 'nightkill', 'metal', 'chambara', 'lillie', 'barkin', 'papal', 'cargo', 'steed', 'pollack', 'sligthly', 'biopic', 'instillation', 'epos', 'roper', 'hikers', 'nearer', 'plane', 'does', 'misperception', 'chimpanzee', 'terribilism', 'tribute', 'mock', 'wasteful', 'setting', 'winter', 'sprezzatura', 'shootfighter', 'innsmouth', '4th', 'bureau', 'ashes', 'ff2', 'cruel', 'elephant', 'baise', 'fahcking', 'release', 'monsterism', 'balanced', 'tales', 'schmooze', 'superbad', 'heroically', 'pascow', 'marcin', 'notte', 'mailman', 'grift', 'shy', 'landscape', 'later', 'were', 'othewise', 'duran', 'poo', 'clover', 'biohazard', 'unnoticed', 'crap', 'roberts', 'buy', 'phantom', 'airspeed', 'weed', 'preschool', 'slaves', 'raw', 'sequels', 'proyect', 'blight', 'rain', 'ning', 'fruitcake', 'glare', '225', 'hanks', 'hellraising', 'reccommend', 'appears', 'ufo', 'camaraderie', 'lifestyle', 'catwalk', 'bodyguard', 'true', 'carachter', 'fagabeefe', 'mild', 'senses', 'servicable', 'bodrov', 'hysterectomy', 'essence', 'whaler', 'excruciatingly', 'skilled', 'enumerous', 'lactate', 'loooooooooooong', 'sector', 'unendurable', 'mother', 'obviusly', 'pis', 'heelers', 'dilouge', 'gurly', 'passionately', 'impartiality', 'joys', 'ego', 'camping', 'sensationalist', 'erika', 'bxc3xaate', 'fare', 'gettinf', 'provoking', 'practice', 'dirtbag', 'hander', 'beery', 'lengthy', 'hygenic', 'hunky', 'manuccie', 'market', 'lesson', 'compliant', 'ripper', 'ronin', 'humorous', 'connelly', 'jumpkick', 'tetzlaff', 'transportation', 'weber', 'gut', 'snugness', 'denise', 'aboutagirly', 'thrilling', 'struth', 'tyre', 'realistic', 'gangsta', 'crappy', 'boll', 'streets', 'proscenium', 'sybil', 'manipulation', 'overnighter', 'outdo', 'hampstead', 'baffele', 'buff', 'savant', 'humorlessness', 'bellyaching', 'oscars', 'challenge', 'mutant', 'hugh', 'actresses', 'erotically', 'status', 'austenxc2xb4s', 'dorkier', 'pat', 'inconsolable', 'chimeric', 'gearhead', 'cruisers', 'vagueness', 'vinterberg', 'unfailingly', 'charcter', 'hbo', 'pressed', 'algren', 'dalmation', 'om', 'gabby', 'everyone', 'pathos', 'dealer', 'ingenious', 'dialog', 'procession', 'toothache', 'love', 'golddigger', 'standout', 'starcrossed', 'crisp', 'ciarxc3xa1n', 'it', 'bondage', 'spelunk', 'kicking', 'where', 'embezzlement', 'seamlessly', 'scorecard', 'harebraine', 'harrass', 'ingratiate', 'philisophic', 'annoying', 'sub', 'reedus', 'stephen', 'dissapionte', 'recklessness', 'joki', 'tv', 'orphanage', 'austen', 'infomertial', 'manica', 'angular', 'f', 'tattooed', 'area', 'dancing', 'sellers', 'bola', 'culture', 'imax', 'unanswered', 'dragula', 'googely', 'schroeder', 'elderly', 'hehe', 'shattering', 'rewatchability', 'kellie', 'crapstory', 'blade', 'speleologist', 'turf', 'bor', 'filmroll', 'marshal', 'armament', 'egyptian', 'changeling', 'xoxo', 'discotheque', 'pumpkin', 'liar', 'surprisingly', 'salvage', 'fire', 'alternative', 'motels', 'wc', 'yech', 'teaming', 'dillute', 'regulator', 'genuinely', 'snider', 'lucklily', 'zen', 'solarbabie', 'hazily', 'marionette', 'calculator', '16mm', 'reveal', 'televison', 'goody', 'mans', 'tira', 'running', 'warp', 'pitiful', 'endless', 'medical', 'sayer', 'kidnap', 'gumbe', 'pig', 'scarily', 'pratically', 'unfocussed', 'free', 'album', 'stagecoach', 'hulkster', 'reanhauer', 'screwup', 'gooding', 'malkovich', 'antithesis', 'falangist', 'suprtb', 'boyfriend', 'wacthing', 'torque', 'stalinist', 'hairdo', 'pruner', 'doodlebop', 'quarreling', 'blabbering', 'laser', 'cravat', 'barnil', 'tool', 'beacher', 'schaffer', 'husband', 'awsome', 'mouthwash', 'superhero', 'gourmet', 'sanely', 'zoom', 'priceless', 'crazy', 'wonderous', 'outcast', 'valle', 'homage', 'holodeck', 'tombstone', 'blacks', 'cowrote', 'awoid', 'pessimism', 'ditsy', 'pharaoh', 'piazza', 'erkan', 'vacationland', 'dislocate', 'unsentimental', 'meinhoff', 'blend', 'gena', 'latin', 'haggish', 'reading', 'behave', 'selection', 'freethinker', 'defamation', 'dreamboat', 'unexploited', 'sourly', 'canxc2xb4', 'blockbutser', 'itune', 'prophet', 'sagging', 'pro', 'dual', 'man', 'mr', 'thank', 'losing', 'equipment', 'iggy', 'gyrate', 'backflashe', 'twisted', 'jersey', 'name', 'excited', 'screaming', 'roping', 'colossal', 'microscope', 'zealotry', 'sappy', 'rosalind', 'crucifi', 'dental', 'rxc3xados', 'asanine', 'ulli', 'punishment', 'partie', 'noose', 'tutu', 'lumpen', 'beatiful', 'liver', 'reinterpretation', 'bad', 'focused', 'schwartz', 'coffer', 'cheoreography', 'komodo', 'taupin', 'submerse', 'mcentire', 'spook', 'choreography', 'expletive', 'spinelessness', 'directv', 'seem', 'apple', 'maaaannnn', 'reflection', 'pheonix', 'reeal', 'read', 'beneath', 'shote', 'capitalist', 'wiseacre', 'pieczanski', 'austin', 'stumblebum', 'goriest', 'impenetrable', 'funnny', 'teaching', 'dali', 'clavell', 'swazy', 'schedual', 'cheungxc2xb4s', 'dull', 'breeding', 'ajooba', 'take', 'presto', 'th', 'peon', 'zing', 'final', 'riot', 'yike', 'sprightly', 'doink', 'cordial', 'hisself', 'disillusion', 'mi', 'sleeze', 'anaconda', 'milanese', 'farce', 'dysfunctional', 'transformer', 'acidy', 'mommy', 'towers', 'noodling', 'terribly', 'housewife', 'accursed', 'airport', 'filmproduct', 'chaney', 'amenabar', 'scroll', 'provocation', 'noiresque', 'martain', 've', 'swimmer', 'paparatzi', 'connectivity', 'polynesian', 'ferdy', 'payl', 'huxley', 'danning', 'paranoic', 'interest', 'chortle', 'tanyusha', 'anonymous', 'sift', 'effie', 'bloodsuckers', 'overplay', 'repackage', 'clause', 'steampile', 'unfocused', 'great', 'reich', 'alert', 'person', 'everyman', 'unembroidered', 'sportswriter', 'tt0077247', 'vieweing', 'rhine', 'catastrophically', 'emancipation', 'recordist', 'bhoomika', 'bead', 'costar', 'disc', 'like', 'marginal', 'earth', 'synchronize', 'race', 'mainstream', 'swedenxc2xb4s', 'schedule', 'easy', 'autobiographic', 'sofcore', 'greystoke', 'magnification', 'unsteadiness', 'sicker', 'cyborg', 'highly', 'heretic', 'hearse', 'sniper', 'factual', 'vivid', 'eliminate', 'lily', 'perfornmance', '25', 'tree', 'parris', 'scully', 'dosen', 'tvm', 'tlj', 'flipper', 'pathetic', 'betrayer', 'chippettes', 'skate', 'icarus', 'wargame', 'linguistic', 'xc2x91b', 'insinuated', '188', 'happyend', 'land', 'wasp', 'dwivedi', 'passed', 'renant', 'xander', 'starlift', 'uncomplicatedly', 'amazement', 'ramsey', 'shrubbery', 'general', 'christina', 'consxc3xa9quence', 'dutch', 'biomedical', 'physcological', 'yuppie', 'reshoot', 'meg', 'womano', 'holdover', 'endorsement', 'misfortune', 'finishs', 'laughometer', 'wazoo', 'instead', 'language', 'gila', 'ddlj', 'uhhh', 'potentially', 'marv', 'unloveable', 'heartbreakingly', 'ward', 'garrett', 'gung', 'sociology', 'funerial', 'apocalyptic', 'sopranos', 'beaudray', 'pare', 'nifty', 'extreme', 'defendable', 'dogkiller', 'driller', 'durango', 'creativeness', 'some', 'happily', 'cinemascope', 'muteness', 'workday', 'hatian', 'youxc2xb4ve', 'debonair', 'wired', 'adore', 'miscarriage', 'altho', 'thewlis', 'committed', 'erikkson', 'overdo', 'buffy', 'tivo', 'costarican', 'undersiege', 'pau', 'hispanic', 'raven', 'scroller', 'pickford', 'excuse', 'nixflix', 'satellite', 'dinoasaurs', 'lengthe', 'offensive', 'believability', 'channeler', 'tiresome', 'cherche', 'hve', 'cochlear', 'low', 'periphery', 'beattie', 'appriciate', 'fast', 'burroughs', 'aiello', 'production', 'movie', 'wickerman', 'considerable', 'independent', 'spawning', 'ponty', 'wildside', 'reformatte', 'vampyre', 'specially', 'restful', 'marc', 'timberlake', 'brechtian', 'ferociousness', 'dolemite', 'choregraphy', 'mama', 'ticklingly', 'may', 'confetti', 'heifer', 'sleep', 'revved', 'plaything', 'hunted', 'side', 'akimbo', 'hiphop', 'bull', 'lumberjack', 'appreciates', 'kidnapper', 'roughie', 'garibaldi', 'discomfort', 'ahet', 'reply', 'neo', 'kavanagh', 'scott', 'successful', 'worm', 'hoop', 'bride', 'lambasting', 'contradictive', 'randal', 'pos', 'chechen', 'paulie', 'way', 'gr', 'cliff', 'repeater', 'jekyll', 'slumber', 'humored', 'goat', 'claim', 'oriental', 'delighted', 'colorlessly', 'rube', 'lowest', 'cattle', 'flop', 'unnatural', 'bubba', 'wonder', 'mstk3', 'prowar', 'announce', 'chakkarvarthy', 'helms', 'clunkier', 'revitalise', 'massacre', 'tas', 'clambering', 'partition', 'convolute', 'anthology', 'bit', 'manon', 'becuase', 'bleaker', 'biting', 'unlike', 'stoppingly', 'settle', 'socialist', 'braniac', 'thanking', 'whoever', 'unchallenged', 'pester', 'thaw', 'garble', 'beals', 'alternate', 'gamera', 'burt', 'blonde', 'wynona', 'mst', 'condensed', 'vacation', 'completist', 'photograph', 'berlinale', 'correction', 'grunting', 'nuclear', 'rumbling', 'mask', 'chequered', 'trolls', 'flying', 'abuse', 'humanity', 'bille', 'gi', 'boyd', 'zentropa', 'irrestiblely', 'tuscan', 'redbox', 'fume', 'housekeeper', 'robotboy', 'psychosexual', 'completetly', 'aventura', 'hasting', 'nominally', 'listend', 'shakti', 'panahi', 'congruent', 'marry', 'gasing', 'catcher', 'tremblay', 'tsukamoto', 'medioacre', 'absoloutely', 'mishap', 'suyin', 'deflower', 'woodsman', 'idiotic', 'wildfell', 'samurai', 'cannibale', 'cliche', 'greenlit', 'astronomical', 'fallout', 'drab', 'onur', 'stepin', 'coat', 'fot', 'pole', 'treasure', 'combat', 'desktop', 'robot', 'expose', 'degrading', 'bites', 'runway', 'toff', 'author', 'overly', 'list', 'allthogh', 'imperioli', 'cowpie', 'eastender', 'entrench', 'beloved', 'soil', 'resources', 'dangan', 'cheorgraphe', 'spray', 'moriarity', 'bejeeber', 'marsden', 'ibrahimi', 'headsman', 'inspector', 'osbourne', 'ruse', 'lorry', 'spacy', 'gay', 'below', 'safty', 'purely', 'alas', 'sentimental', 'sophmoric', 'nimrod', 'cky', 'narrator', 'midsummer', 'aural', 'deputy', 'piano', 'everday', 'cruise', 'pretention', 'eniemy', 'sounds', 'semester', 'retrace', 'holmes', 'linney', 'prowler', 'ktla', 'klein', 'unaccepting', 'flipping', 'sock', 'brick', 'provoker', 'unrepeatable', 'arthritis', 'newsreader', 'sensor', 'collectible', 'ipecac', 'aerodynamic', 'astral', 'unthrilling', 'monstervision', 'cabby', 'titta', 'spirit', 'assumption', 'arquette', 'secretarial', 'lindemann', 'sciamma', 'amazingly', 'kind', 'snoring', 'grxc3xa2ce', 'scariness', 'resersal', 'eyepatch', 'monotonous', 'peerce', 'overstuffed', 'faithful', 'split', 'signal', 'reggae', 'plumpable', 'immortal', 'rescue', 'hellishly', 'zillion', 'monkees', 'economist', 'imperial', 'coup', 'mission', 'boobage', 'breast', 'vincenzo', 'kapur', 'cheeni', 'soporific', 'uxb', 'overaggressive', 'lds', 'gosset', 'cantata', 'reliever', 'nielsen', 'nonaquatic', 'parrot', 'eyes', 'baad', 'slingblade', 'crone', 'quantity', 'shop', 'brubeck', 'stealth', 'imaginative', 'ii', 'cashmere', 'mundaneness', 'lighthearted', 'inauspiciously', 'grinch', 'plunger', 'ironic', 'armed', 'typecasting', 'hang', 'phila', 'mistress', 'fisheye', 'ourselves', 'broadcast', 'jail', 'accapella', 'vampiric', 'baddest', 'rich', 'slauter', 'oirish', 'prefect', 'mention', 'indignant', 'eccentric', 'psychopath', 'street', 'dunn', 'hypercritical', 'surreality', 'darkman', 'honorable', 'org', 'decoration', 'helsinkian', 'splendored', 'sattire', 'carole', 'halve', 'mxc3xa9xico', 'responsibility', 'vocalist', 'spurlock', 'flagwave', 'ernesto', 'refract', 'jhalak', 'mall', 'cudo', 'million', 'buide', 'yosemite', 'heartthrob', 'heartbreaking', 'lederer', 'thie', 'conquest', 'confusingly', 'farming', 'technical', 'violence', 'continue', 'mugger', 'xizhao', 'dinocroc', 'plausible', 'scifi', 'manikin', 'animation', 'mambo', 'employee', 'civilized', 'fusillade', 'jelly', 'nationwide', 'extremal', 'tracked', 'sublimate', 'mumbler', 'unsung', 'skinned', 'massage', 'pelle', 'atf', '155xc2xbaf', 'myers', 'electrocution', 'immature', 'wight', 'ballroom', 'dominique', 'peer', 'brother', 'antoine', 'octopus', 'remorse', 'heartrende', 'court', 'tut', 'picutre', 'frederic', 'crue', 'chorus', 'locke', 'pinkerton', 'believe', 'reoccurre', 'conformity', 'radius', 'penal', 'nashawn', 'alimony', 'cooper', 'stunt', 'turnaround', 'cava', 'depressive', 'airmen', 'seafood', 'preschooler', 'swoon', 'tobacco', 'animated', 'ungallant', 'technically', 'moreau', 'punches', 'yashraj', 'macadder', 'netflix', 'expore', 'vocational', 'end', 'granola', 'cha', 'puny', 'sette', 'pacifistic', 'pertinency', 'soar', 'towards', 'dowse', 'wackos', 'charm', 'minimal', 'runteldat', 'nightstick', 'dock', 'voilxc3xa0', 'kindliness', 'progrmmer', 'maddy', 'uzi', 'fishman', 'molted', 'comet', 'taffy', 'lyrical', 'liable', 'london', 'beattle', 'clicheish', 'scurrilous', 'throughout', 'drift', 'feminist', 'impact', 'richmond', 'padded', 'satanist', 'disturbance', 'sympathetically', 'nintendo', 'insomnia', 'journalism', 'ecological', 'handfull', 'leasurely', 'bordihn', 'trait', 'strength', 'admin', 'jayhawkers', 'operative', 'guffman', 'loyalist', 'seed', 'melt', 'singse', 'buckaroo', 'campions', 'charitably', 'baptizing', 'argufying', 'trivial', 'ditty', 'russians', 'ullman', 'sham', 'videofilme', 'outlooking', 'styx', 'unfortunitaly', 'awile', 'argosy', 'coldbloode', 'mitigating', 'destine', 'specify', '8mm', 'misplace', 'chicago', 'cuckold', 'earnt', 'nothingness', 'captive', 'sisabled', 'hawk', 'blotched', 'afterworld', 'frink', 'millar', 'aristocat', 'wiseau', 'strada', '1970s', 'teen', 'lolololololololol', 'combine', 'quote', 'incarceration', 'rob', 'wender', 'recapture', 'undiplomatic', 'amiable', 'ha', 'sequal', 'sale', 'twisters', 'retold', 'bolger', 'plodding', 'territory', 'catiii', 'waster', 'dough', 'microfiche', 'inordinate', 'stowe', 'imx', 'baaaaaaaaaaaaaad', 'therefore', 'raspy', 'souls', 'intuitively', 'sw', 'overtly', 'geordie', 'salaryman', 'filter', 'knives', 'disenfranchised', 'donnel', 'lohan', 'subtelly', 'disadvantage', 'jangle', 'lombard', 'tin', 'jam', 'scheider', 'giggle', 'cassie', 'or', 'bamboo', 'tope', 'world', 'emma', 'prequel', 'rukh', 'sinese', 'piece', 'ohwon', 'door', 'fanboy', 'kpax', 'carla', 'numberless', 'gallactica', 'unredeemably', 'totally', 'bag', 'jost', 'vallejo', 'thunderbirds', 'keefe', 'sophomoronic', 'hk', 'blob', 'brainwashing', 'prestige', 'vaunted', 'slacker', 'busy', 'zuf', 'purple', 'thief', 'switch', 'cineastic', 'gaming', 'portuguese', 'maniacs', 'mov', 'foywonder', 'consensus', 'movielink', 'event', 'mendez', 'cafe', 'staten', 'nonplussed', 'met', 'prevent', 'overdevelope', 'nord', 'soldier', 'screming', 'superstring', 'gadgetmobile', 'kwon', 'firmine', 'alamo', 'marceau', 'earpeirce', 'sole', 'amount', 'caruso', 'bushwhacker', 'cahiers', 'trainspotting', 'liu', 'polygon', 'ryu', 'jug', 'homegrown', 'picec', 'cancan', 'history', 'highest', 'bloodsport', 'dreamgirls', 'historian', 'fabulous', 'desperadoes', 'devastatingly', 'trudy', 'dreary', 'surprising', 'main', 'tachigui', 'corruption', 'bone', 'untimely', 'yoyo', 'fartman', 'streisand', 'brindle', 'loggerhead', 'fullback', 'hollister', 'superstar', 'karate', 'flower', 'herilhy', 'astronishe', 'ideal', 'container', 'vestment', 'hurray', 'reed', 'hornpipe', 'crier', 'strand', 'solution', 'scared', 'rental', 'detmers', 'rugby', 'scare', 'meow', 'coin', 'hew', 'genghis', 'rpm', 'exsist', 'crispy', 'ed', 'interacting', 'dayton', 'parter', 'indefinsibly', 'roxborough', 'novice', 'epitomize', 'hitchcock', 'extent', '800', 'constituency', 'sensationalistic', 'imprint', 'wwii', 'money', 'confidence', 'gorilla', 'fetus', 'credit', 'rrrr', 'american', 'sledge', 'barreler', 'blu', 'wilson', 'idiosy', 'hubby', 'belly', 'weller', 'caratherisic', 'san', 'paddle', 'growling', 'retry', 'retribution', 'underage', 'chong', 'solino', 'astonishing', 'chise', 'copper', 'wesker', 'gagnon', 'romcom', 'brutal', 'jan', 'hits', 'thanx', 'wierder', 'pederast', 'phobia', 'graininess', 'nudge', 'allergy', 'films', 'skunker', 'salwar', 'grasps', 'flambxc3xa9', 'sematary', 'limited', 'apology', 'fuckwood', 'tit', 'treadworn', 'sobbingly', 'lavish', 'forefather', 'terrorize', 'simulated', 'jocks', 'couch', 'britche', 'groundless', 'thieves', 'skeltor', 'merimexc3xa9', 'actingwise', 'confusathon', 'sorghum', 'mislike', 'coproduction', 'once', 'ploy', 'barrier', 'tase', 'unedited', 'trout', 'photographed', 'recommand', 'chica', 'nguyen', 'assignment', 'york', 'unaffected', 'somewhat', 'filmy', 'ceylon', 'overwatched', 'sadly', 'holey', 'drunken', 'wrathful', 'loosely', 'ekman', 'arms', 'cr', 'cleavage', '182', 'better', 'digges', 'dragons', 'amanda', 'reign', 'jason', 'jigsaw', 'bourne', 'aunt', 'aloo', 'meltdown', 'juror', 'teigh', 'hallways', 'teensploitation', 'mader', 'druggie', 'horseman', 'technological', 'cornish', 'neighborhood', 'adlibe', 'avary', 'cc', 'unconventionally', '3am', 'newscaster', 'finger', 'mildre', 'vibrator', 'unengineered', 'psb', 'eeriness', 'difference', 'enchant', 'tollywood', 'aubrey', 'preponderance', 'mulholland', 'daycare', 'radium', 'philosophizing', 'scrooge', 'ele', 'shovel', 'prancer', 'velous', 'memento', 'heigth', 'volleyball', 'part', 'performer', 'prologue', 'tortoise', 'balchin', 'theron', 'lucille', 'uncare', 'unruhe', 'mechanic', 'interrogate', 'nonlinear', 'bashki', 'hasty', 'lycan', 'probably', 'reach', 'charac', 'fantasize', 'embracing', 'olden', 'slowed', 'astoundlingly', 'bosnian', 'blonder', 'upside', 'tall', 'reccoemnd', 'baldy', 'of', 'rv', 'presentational', 'will', 'version', 'bicenntinial', 'commentary', 'wendigo', 'satirical', 'dern', 'twisting', 'rm', 'lynching', 'cymbalist', 'phenomenal', 'hardman', 'pregnant', 'stage', 'motherf', 'unmarried', 'eel', 'rumour', 'millionth', 'paw', 'unlikeable', 'one', 'umderstand', 'kwai', 'coherant', 'citizen', 'bombeshell', 'anakin', 'stretch', 'promote', 'trashy', 'challenging', 'feature', 'hssh', 'recycled', 'regarding', 'hoppity', 'moral', 'rainbow', 'ofcaurse', 'speed', 'scenery', 'axe', 'denouement', 'inflexe', 'joefro', 'glib', 'propoghanda', 'smithxc2xb4s', 'churn', 'scool', 'forest', 'ep', 'yo', 'lowlife', 'tobago', 'enging', 'qestion', 'quint', 'midway', 'probable', 'afterwhich', 'lampoon', 'reg', 'snatched', 'ramis', 'mayall', 'severely', 'lookout', 'douchebag', 'sensual', 'mankind', 'tec', 'montage', 'daisies', 'accusse', 'cavegirl', 'heartbreakng', 'pretensiousless', 'huldre', '16', 'save', 'ameliorate', 'missouri', 'ignacio', 'boys', 'absent', 'tusshar', 'trek', 'contact', 'airman', 'excrutiate', 'likeable', 'racecar', 'recognizable', 'jorge', 'rohmer', 'getting', 'horendous', 'bargain', '2h', 'hatin', 'anti', 'discuss', 'gus', 'civilization', 'loonie', 'hensel', 'condie', 'dre', 'slavic', 'quincy', 'stephane', 'visor', 'peavey', 'generous', 'bash', 'pouty', 'likee', 'puzzle', 'environment', 'extremite', 'dearable', 'keitel', 'guinea', 'mecrury', 'violin', 'subconcious', 'chad', 'surprise', 'silverman', 'hat', 'closure', 'troble', 'cuss', 'suburbia', 'jerker', 'kiera', 'sailboat', 'vinyard', 'hack', 'sclerotic', 'warriors', 'unbeatable', 'scimitar', 'hardbody', 'revenge', 'clemens', 'sydney', 'mclellan', 'e', 'reckoning', 'trombone', 'tarkovskian', 'drooling', 'arggh', '1990ie', 'playe', 'flaxen', 'coverbox', 'creeps', 'imprimatur', 'recogniton', 'teletubbies', 'husbands', 'filmirage', 'stalker', 'necroborg', 'disastrous', 'troy', 'cavil', 'naturale', 'yeti', 'cosiness', 'highbrow', 'traditionalist', 'howsoever', 'droopy', 'screwfly', 'garde', 'cashxc2xa1', 'deviate', 'huuuuuge', 'dislocation', 'tightly', 'hypnosis', 'swing', 'daresay', 'transcendent', 'ungifted', 'kwan', 'year', 'vocal', 'comedus', 'advanced', 'waiste', 'serbia', 'clifts', 'puke', 'silvio', 'priest', 'cheesey', 'mayhem', 'view', 'journalist', 'flatliner', 'cult', 'sr', 'calibre', 'medal', 'union', 'jewish', 'epoch', 'tries', 'obtain', 'sjxc3xb6strxc3xb6ms', 'token', 'scapegoat', 'leeza', 'muccino', 'scorpion', 'robber', 'format', 'berserk', 'everyday', 'original', 'turistas', 'neverland', 'carlin', 'possesers', 'handy', 'waters', 'minority', 'xc2xa8directorxc2xa8spent', 'glacially', 'singaporean', 'fictively', 'gage', 'greatness', 'jabberwocky', 'royal', 'stroytelling', 'cataloger', 'prairie', 'stylization', 'bubble', 'amore', 'sepoy', 'hamper', 'christys', 'badanov', 'rewound', 'afganistan', 'menagerie', 'alston', 'intermingled', 'quantitative', 'barfly', 'hawn', 'undertaker', 'deco', 'german', 'stereotypical', 'cryptograf', 'revealing', 'hearld', 'stroking', 'illusionist', 'unthreatening', 'discouraged', 'taste', 'csi', 'gurl', 'larz', 'cutesy', 'jim', 'hazzard', 'programing', 'ali', 'pagan', 'found', 'cinematically', 'bam', 'lewis', 'physic', 'syndication', 'cocoon', 'diplomat', 'rolex', 'slumberness', 'pushing', 'darn', 'dope', 'pang', 'helplessness', 'waiting', 'patient', 'remake', 'visibly', 'inappropriate', 'gambon', 'room', 'andoit', 'whew', 'items', 'flopping', 'impractical', 'amateurishness', 'arcadian', 'plight', 'sheriff', 'mmpr', 'unwise', 'pierce', 'jess', 'aggressor', 'rapeist', 'electrify', 'clean', 'old', 'dumbe', 'doppelganger', 'garbagey', 'storytelling', 'clifton', 'heh', 'city', 'lava', 'honk', 'examination', 'score', 'veg', 'string', 'utlimately', 'tolerance', 'overaestheticization', 'lightsaber', 'deceiver', 'unwatchability', 'clubbing', 'behavior', 'simulation', 'mararxc3xada', 'dolt', 'keital', 'pouter', 'perpetual', 'paced', 'm1', 'initialize', 'misogynistic', 'pereira', 'reload', 'boogie', 'unger', 'carrera', 'sleeper', 'zaara', 'lenz', 'slow', 'preference', 'obnoxious', 'infinite', 'girlpower', 'ecoleaning', 'moya', 'hut', 'mating', 'oradour', 'slimiest', 'gorgs', 'bard', '150k', 'aladdin', 'iwerks', 'avantegardistic', 'lian', 'notre', 'repair', 'cypher', 'safety', 'gray', 'bushism', 'elliptic', 'tumbleweeds', 'serving', 'jailbird', 'mutante', 'escort', 'monotoned', '90', 'nene', 'topper', 'pfieffer', 'proximity', 'scry', 'anatomy', 'hickam', 'aesthetically', 'moses', 'armored', 'member', 'indication', 'mag', 'accusation', 'bogdanovich', 'sept', 'dog', 'caricature', 'horrific', 'hoopla', 'subcharacter', 'slobber', 'dreamwork', 'irenerose', 'tangerine', 'decimal', 'videoteque', 'caravans', 'innuendo', 'bo', 'ja', 'undescribable', 'turnip', 'elase', 'spiderman', 'allover', 'lip', 'supersize', 'wrap', 'recruiter', 'victorian', 'supose', 'annette', 'dx', 'horticulturalist', 'scorcese', 'guillotine', 'scaffolding', 'sympathy', 'marie', 'willy', 'asimov', 'dahl', 'timelessness', 'oracle', 'savior', 'adequtely', 'signify', 'solid', 'dari', 'avon', 'dahmer', 'nicklodeon', 'seam', 'skunk', 'alienating', 'sdiner82', 'sophistication', 'breakin', 'core', 'damned', 'golf', 'brooks', 'penpal', 'highpoint', 'crowne', 'tricker', 'predominately', 'unescapably', 'firetrap', 'rubric', 'greenaway', 'genera', 'bob', 'awkwardly', 'thorsen', 'goldbeg', 'flood', 'citify', 'unselfish', 'worthe', 'nachoo', 'jerk', 'belie', 'humour', 'poe', 'sabertooth', 'injection', 'kindergarten', 'memo', 'jot', 'ethel', 'emu', 'broklynese', 'isings', 'sincerity', 'caracters', 'jojo', 'thin', 'myth', 'suicidal', 'curly', 'ehole', 'evangelical', 'bem', 'synch', 'realism', 'lucasta', 'prepared', 'through', 'perception', 'improvise', 'plz', 'putz', '1960', 'penguin', 'standoff', 'brimley', 'luvy', 'kells', 'subgenre', 'filmstock', 'mahatma', 'sewer', 'wheelchair', 'little', 'intonation', 'waaaaay', 'character', 'hirsh', 'gravy', 'keeler', 'queens', 'offering', 'lt', 'quota', 'inadvertedly', 'hoe', 'dreadful', 'teller', 'suffer', 'capshaw', 'chace', 'goatherd', 'qc', 'adopted', 'starlet', 'chip', 'misdirection', 'grim', 'decipher', 'inspirational', 'par', 'landon', 'clever', 'comedienne', 'starrett', 'guccione', 'ultimately', 'inspired', 'displeasure', 'appartement', 'pota', 'tourneur', 'brassiere', 'goodlooking', 'bidder', 'arabs', 'tong', 'videodisc', 'philosophical', 'ringmaster', 'offset', 'merged', 'profile', 'lorelai', 'aardvark', 'corby', 'aniversy', 'desperate', 'cantakerous', 'others', 'prehistoric', 'deranged', 'damnest', 'work', 'ker', 'suchet', 'pranks', 'deepest', 'chopper', 'paydirt', 'asgard', 'frothy', 'wog', 'miserable', 'righteously', 'fehr', 'student', 'accent', 'stupidity', 'blakness', 'anyway', 'boarder', 'carnosaur', 'wide', 'hebrew', 'ultra', 'afraid', 'ueto', 'picnic', 'sickly', 'deadly', 'trying', 'teleprompter', 'crud', 'anesthesia', 'cassavete', 'lighthouse', 'joad', 'jaundiced', 'grammy', 'nancy', 'geena', 'aussie', 'hold', 'overwatche', 'sleepwalk', 'joe', 'huitixc3xa8me', 'wildey', 'apartheid', 'style', 'norp', 'invisible', 'brass', 'tiffani', 'pest', 'pertinence', 'footnote', 'clothing', 'friendship', 'cultural', 'taxpayers', 'brightest', 'opening', 'sirk', 'mercifully', 'weakness', 'ejames6342', 'wastage', 'radicalize', 'sunway', 'mackerel', 'viva', 'vandalise', 'mvp', 'stinkaroo', 'study', 'club', 'violate', 'struycken', 'disenfranchisement', 'pia', 'secrets', 'saga', 'fortitude', 'sxc3xb3', 'sales', '240z', 'acting', 'testosterone', 'r2d2', 'yardstick', 'faction', 'dw3', 'soaper', 'scanners', 'skating', 'amudha', 'quaid', 'killter', 'house', 'tennison', 'flick', 'leopard', 'elba', 'masks', 'disgusting', 'meaningfulness', 'pakistani', 'mulgrew', 'raunchiest', 'stimulate', 'poor', 'computergraphic', 'trinity', 'gamin', 'sway', 'heavenly', 'ground', 'inspire', 'overrun', 'truthful', 'mamooth', 'bulletproof', 'computer', 'macarbe', 'deuterium', 'hoedown', 'gerry', 'seller', 'reservation', 'conpiricy', 'succe', 'guitar', '75', 'manhattan', 'tyyyllerrr', 'reputable', 'unity', 'hopkirk', 'steps', 'oddball', 'harrer', 'unglamourous', 'overpay', 'sunny', 'merchent', 'vapoorize', 'batgirl', 'panama', 'cops', 'signifiant', 'battering', 'cinef', 'uncut', 'preston', 'irreplaceable', 'aeroplane', 'norme', 'handheld', 'buddha', 'mainstage', 'microcassette', 'keneth', 'oo7', 'ruman', 'monomania', 'mundane', 'refurbish', 'oop', 'patterson', 'apartment', 'hercule', 'pm', 'sumo', 'ewok', 'remember', 'sherwin', 'outshone', 'disguise', 'evoked', 'captioning', 'moralizing', 'cowritten', 'saltman', 'truncate', 'unfair', 'purposly', 'perversion', 'firmansyah', 'pale', 'germen', 'earthquake', 'flirtatious', 'rupture', 'latvian', 'waterston', 'touching', 'notorius', 'flail', 'goodman', 'tights', 'utilization', 'welldone', 'puzzler', 'absolve', 'journal', 'nation', 'amico', 'omniscient', 'cashback', 'racetrack', 'glory', 'deniz', 'soliti', 'sequences', 'postapocalyptic', 'fistfights', 'contend', 'artic', 'causality', 'oiran', 'gas', 'microfilm', 'nestle', 'sinister', 'paternalistic', 'presents', 'refuge', 'whaddaya', 'pleasure', 'expel', 'unforgivingly', 'obscenities', 'songs', 'socky', 'transparent', 'busby', 'kilmore', 'circulate', 'sixty', 'location', 'presidential', 'trevor', 'certify', 'tiffany', 'entertain', 'ultimatum', 'fastpace', 'artful', 'intentions', 'cheatin', 'everone', 'bolster', 'pecker', 'nb', 'mandarin', 'pdf', 'sensitize', 'strangely', 'ho', 'flatten', 'policeman', 'baldwins', 'prescott', 'scripture', 'pictorially', 'jrchovskxc3xbd', 'legend', 'upmanship', 'vendettas', 'sarnie', 'laughably', 'multicolored', 'pulp', 'pragmatic', 'underhanded', 'thumbtack', 'md', 'suzy', 'anytime', 'confine', 'miser', 'woodward', 'costumer', 'cum', 'kennel', 'bunnyguards', 'commode', 'iu', 'meaningless', 'squirmer', 'materialism', 'suspiciously', 'sill', 'lutz', 'cosby', 'yorkshire', 'baptist', 'convene', 'copy', 'dunno', 'necking', 'houst', 'parlour', 'gretchen', 'fay', 'broca', 'tragedy', 'inequity', 'hollywoodish', '40', 'undercover', 'halmi', 'gambler', 'orchestra', 'yard', 'manchu', 'cabinet', 'hinduism', 'sbif', 'maybee', 'horizons', 'twitch', 'peeve', 'reckon', 'restored', 'gun', 'verbaan', 'planet', 'rookie', 'zombi', 'rentalrack', 'dismiss', 'aground', 'unleashed', 'dumbed', 'ugghhh', 'welle', '81', 'caper', 'cate', 'shaun', 'apre', 'gangbuster', 'nous', 'beckettian', '6hour', 'dreadnought', 'nic', 'modernism', 'leah', 'closet', 'togan', 'schneider', 'soundtrack', 'incarnate', 'apart', 'janitor', 'help', 'gokbakar', 'imagery', 'deja', 'autistic', 'branaugh', 'as', 'battleship', 'predecessor', 'noirish', 'smattering', 'jig', 'enchanting', 'delineation', 'pirate', 'solve', 'unescapable', 'represent', 'stubbly', 'coholic', 'ing', 'hook', 'eric', 'weekday', 'epic', 'viewability', 'jr', 'joke', 'wiseguy', 'sensitively', 'male', 'superpower', 'biodoc', 'www', 'postscript', 'reader', 'picker', 'altern', 'aristotelian', 'gyllenhaalics', 'multible', 'fuhrer', 'unendingly', 'skinhead', 'conjure', 'hazy', 'viz', 'redline', 'spectrum', 'particually', 'tormented', 'cencoreguy', 'lyrics', 'lansbury', 'divulge', 'four', 'approach', 'intertwain', 'rapture', 'cosette', 'boiler', 'disaster', 'barefoot', 'newspaper', 'gallon', 'mellisa', 'consecutive', 'crickets', 'chuck', 'dj', 'soft', 'dye', 'fuckland', 'etat', 'ferch', 'troupe', 'steady', 'definitely', 'judas', 'intimite', 'blinge', 'embarkation', 'glitter', 'alain', 'lakers', 'bella', 'poolman', 'naked', 'levitt', 'lemuel', 'colombian', 'popular', 'screen', 'digit', 'resistable', 'trekkers', 'stammering', 'ripoff', 'robinson', 'ont', 'talent', 'attempt', 'shipwreck', 'perennial', 'sweater', 'souffle', 'specialize', 'haruhi', 'foreigner', 'grail', 'fugly', 'broad', 'woods', 'drain', 'farmhouse', 'omnipresent', 'astroesque', 'chimney', 'americain', 'hideously', 'expatriate', 'blandings', 'factor', 'approximate', 'accustomed', 'shepherdess', 'extra', 'immigration', 'paula', 'obtainable', 'hemophiliacs', 'kit', 'jazzy', 'scotsman', 'm', 'glowing', 'mentally', 'gijxc3xb3n', '0', 'ulagam', 'nightbreed', 'elon', 'xc2x91the', 'farmworker', 'knight', 'crook', 'morocco', 'mortuary', 'bleed', 'rally', 'congregation', 'certification', 'evolving', 'manech', 'vg', 'renting', 'sneak', 'davide', 'call', 'iconic', 'pandora', 'canthony', 'enlarge', 'carasso', 'dissilusione', 'coach', 'gentlemen', 'nick', 'sensationalized', 'dirty', 'calcium', 'nudity', 'babelicious', 'villager', 'ireally', 'consummately', 'oshawa', 'misue', 'electronic', 'quartier', 'listing', '181', 'neuro', 'lamp', '370', 'surrender', 'jpc', 'tooting', 'purpose', 'explosively', 'beserk', 'aquire', 'viking', 'boot', 'scamming', 'disinterested', 'fantastic', 'machism', 'wessel', 'aaaaagh', 'thorne', 'posthumously', 'cinemtography', 'innocent', 'ridiculous', 'pledge', 'emily', 'novela', 'lovesick', 'route', 'midwestern', 'publish', 'nope', 'sensible', 'reboot', 'northwest', 'recommmend', 'shadow', 'anschel', 'gadget', 'ranjit', 'eaten', 'emulate', 'yellow', 'recognise', 'bench', 'historic', 'psychokinetic', 'climactic', 'meet', 'plunder', 'glenne', 'hunger', 'manipulating', 'savoury', 'palmer', 'imbibe', 'plaster', 'sicence', 'examplary', 'boneless', 'haaga', 'don', 'local', 'edition', 'influencee', 'harbour', 'inauspicious', 'marion', 'communinity', 'utter', 'alaskan', 'counselor', 'jingofighter', 'else', 'treach', 'recording', 'gregson', 'hippy', 'boref', 'honesty', 'campy', 'simplistic', 'mathilda', 'nonsense', 'grimily', 'imagine', 'please', 'silverstone', 'nonchalant', 'wook', 'onestly', 'unfaithful', 'futurama', 'stardom', 'feauture', 'roomful', 'preserve', 'knockout', 'corridor', 'conservative', 'president', 'parsimonious', 'card', 'payer', 'forlani', 'shuffling', 'brutus', 'notionally', 'stepmotherhood', 'slush', 'reconnecte', 'by', 'graffitti', 'legislator', 'derailed', 'cissy', 'rebroadcast', 'sinker', 'staircase', 'beetle', 'philharmagic', 'edgy', 'pompeo', 'headmistress', 'unaffecte', 'pilot', 'amercians', 'horribly', 'astronaut', 'arghh', 'siren', 'even', 'postcard', 'pixc3xa9dras', 'rephrase', 'complete', 'misguised', 'momentum', 'co', 'loveable', 'primitiveness', 'endorse', 'jazz', 'sieve', 'stevenson', 'meyers', 'leith', 'fetish', 'seussian', 'misconception', 'dewey', 'caulfield', 'supernaturally', 'provensa', 'jellyfish', 'droid', 'schoolroom', 'gimme', 'hitlist', 'mannequin', 'foggy', 'wager', 'voo', 'cobain', 'thing', 'tigers', 'exhume', 'waste', 'plump', 'province', 'fairies', 'thinne', 'brett', 'branaghs', 'tetsurxc3xb4', 'absentee', 'anomaly', 'implausibility', 'differently', 'celestial', 'charly', 'phile', 'fulfilled', 'snowcone', 'forgetable', 'bright', 'coo', 'megalomanic', 'sabretooth', 'instinct', 'inneundo', 'florinda', 'coworker', 'bloodsucking', 'grateful', 'millionaire', 'pxc3x85', 'snappy', 'inhumanity', 'replaceable', 'generally', 'chiller', 'buddhist', 'pulverize', 'games', 'was', 'boxing', 'pontificate', 'standpoint', 'unappetize', 'designation', 'dawn', 'prior', 'jumper', 'endeavouring', 'villon', 'okiyas', 'unflappable', 'scruffy', 'denier', 'argument', 'unprejudiced', 'eaghhh', 'mysterious', 'artificial', 'burning', 'bechara', 'cipher', 'insulated', 'oss', 'gai', 'isn', 'microchip', 'warnie', 'barrister', 'seagal', 'haywood', 'composing', 'twice', 'brontxc3xab', 'directing', '99p', 'tweener', 'spookiness', 'rockstar', 'wrestling', '1200f', 'mule', 'embrace', 'lazy', 'significant', 'absoutley', 'unscripted', 'metwally', 'lumiere', 'embarrassed', 'emmanuelle', 'wooly', '8ftdf', 'kanes', 'gratified', 'grandpa', 'shortage', 'spookie', 'apparent', 'inkling', 'bogus', 'beatty', 'gary', 'collage', 'francisco', 'coward', 'order', 'redlight', 'chester', 'cognoscenti', 'operetta', 'tying', 'womaniser', 'marissa', 'curse', 'pasteurize', 'hillbilly', 'boyxc2x85', 'poli', 'homework', 'darkie', 'sokurov', 'high', 'inspite', 'mystical', 'sprinkled', 'madcap', 'enjoy', 'picard', 'crop', 'bbs', 'hitchhiking', 'prix', 'too', 'jets', 'chota', 'southward', 'magazine', 'devastating', 'cricket', 'mulva', 'climatologist', 'clerks', 'decoy', 'spelled', 'unsatisfying', 'comparision', 'velocity', 'ash', 'whit', 'stencil', 'aristocrat', 'moon', 'investment', 'gansters', 'elk', 'chav', 'dodger', 'yell', 'laboriously', 'set', 'porbably', 'pakula', 'magical', 'coroner', 'modelling', 'iwill', 'secret', 'alright', 'vandeuvres', 'glady', 'throughe', 'definitive', 'papier', 'cigar', 'egad', 'satchwell', 'sortie', 'niagara', 'drewbie', 'spacecraft', 'observationally', 'nj', 'nakadei', 'scotch', 'mormon', 'tourister', 'freeway', 'kernel', 'disneyesque', 'safe', 'icon', 'perps', 'mood', 'reasonbaly', 'flourecent', 'disneyish', 'comparison', 'vindictiveness', 'deathly', 'monotheistic', 'hough', 'prefigure', 'hateful', 'harem', 'occipital', 'doc', 'tedium', 'pointing', 'elasticity', 'hongkongmovieshootout', 'rocko', 'fathomless', 'clouding', 'portrayal', 'thelin', 'equation', 'fantastically', 'legendary', 'happiest', 'trudge', 'dumpster', 'commune', 'mourning', 'romulus', 'appeal', 'emilie', 'bitter', 'welcomed', 'archaeologist', 'organic', 'vermont', 'stormish', 'organzation', 'intrigiung', 'novello', 'lullaby', 'bruneau', 'joshing', 'masons', 'feast', 'development', 'aarp', 'these', 'menus', 'pando', 'watchman', 'button', 'companion', 'facelift', 'pace', 'infantilize', 'queer', 'crumby', 'knack', 'civil', 'protest', 'undated', 'fight', 'sturge', 'marvelous', 'uninflected', 'christ', 'atrocity', 'ex', 'schlock', 'commercials', 'settlefor', 'combining', 'untidy', 'soooooooooooooooooo', 'boggle', 'likeminded', 'frame', 'potboilerxc2x96inventive', 'nurses', 'trowel', 'dying', 'cartwheel', 'direness', 'screenwriters', 'churning', 'lindy', 'freshman', 'angst', 'transfer', 'dragonlord', 'shakiness', 'tear', 'cheese', 'edison', 'ambulance', 'fraud', 'rennt', 'dxc3xa9ja', 'homo', 'ishk', 'sexed', 'aksar', 'dramtic', 'output', 'transformative', 'ripsnorte', 'drama', 'monoplane', 'edible', 'basement', 'cycle', 'unable', 'though', 'gag', 'bore', 'fanatical', 'nynke', 'interview', 'seqence', 'globalization', 'unentertaine', 'bislane', 'basket', 'inflect', 'atmosphxc3xa8re', 'salmaan', 'forgives', 'bus', 'nc', 'junky', 'stationmaster', 'jiggling', 'andrenaline', 'oro', 'montagus', 'twiddle', 'iii', 'hoodlum', 'bvd', 'mister', 'elderbrush', 'sidekick', 'paraphrasing', 'junkyard', 'shabbily', 'humans', 'gloaming', 'tag', 'triads', 'freekin', 'exoneration', 'maltin', 'mower', 'forgettable', 'holloway', 'sue', 'foulmouthe', 'punks', 'frostbitten', 'sheltering', 'translation', 'dmx', 'aires', 'classy', 'dawky', 'flavoring', 'thon', 'ascension', 'exhibition', 'fur', 'symbolize', 'kilerow', 'audiobook', 'wildly', 'marathon', 'starfighter', 'ots', 'foster', 'machomovie', 'dork', 'appear', 'winking', 'experimentation', 'almenxc3xa1bar', 'relation', 'ornery', 'tube', 'vomiting', 'leifert', 'kyser', 'yetis', 'fools', 'ambiance', 'flute', 'parasite', 'fiddler', 'lilt', 'forsythe', 'palance', 'native', 'registering', 'tax', 'android', 'ambiguously', 'seasick', 'baum', 'tun', 'casket', 'fail', 'changeable', 'gh', 'afro', 'conroy', 'squinter', 'scottish', 'panic', 'flye', 'deadlock', 'promenade', 'honestly', 'gift', 'yuck', 'caregiver', 'frill', 'stereotypically', 'toward', 'definlty', 'cellar', 'search', 'unemotional', 'impregnate', 'lazer', 'unborn', 'gross', 'dubliners', 'overheade', 'unintelligent', 'bed', 'aprone', 'hyuck', 'almightly', 'trumpets', 'imran', 'bounty', 'kam', '58', 'appeasement', 'nakedly', 'slippery', 'butcher', 'bagdad', 'cemetery', 'hobgoblin', 'partially', 'idaho', 'impressed', 'veber', 'enthralling', 'identical', 'steamboat', 'trendy', 'unconvince', 'kempo', 'garlin', 'prisonner', 'unfunny', 'target', 'humane', 'sequence', 'prison', 'melandez', 'libertys', 'allenish', 'canadian', 'stink', 'domino', 'mona', 'orthodoxs', 'contrived', 'hsien', 'glacier', 'hart', 'forgive', 'unconvincing', 'diferent', 'overdramatize', 'insane', 'highmore', 'hockey', 'distinguishable', 'claymation', 'feelingless', 'revisited', 'opportunity', 'flub', 'meridian', 'masquarading', 'zaza', 'isms', 'ditch', 'americana', 'loony', 'honestlyxc2x85', 'omelette', 'eyesight', 'frome', 'ferry', 'booooo', 'terrific', 'health', 'tru', 'tsai', 'edifis', 'emptor', 'cant', 'chamber', 'acrobatic', 'disagreeable', 'hydrogen', 'cowboy', 'spacey', 'dubliner', 'kg', 'brendan', 'peculiar', 'pasta', 'tequila', 'fullxc2x85', 'purchase', 'possessed', 'convincedness', 'humprey', 'takeover', 'tsunami', 'foto', 'scotts', 'very', 'transgression', 'ducat', 'capacity', 'verhoeven', 'bigot', 'punish', 'sought', 'errand', 'preview', 'azure', 'demension', 'existentially', 'hummm', 'indescibably', 'cruse', 'lucid', 'literal', 'tycus', 'visually', 'inexperienced', 'bogosian', 'singe', 'messengers', 'pentium', 'rayne', 'thou', 'flip', 'snaggle', 'transfixing', 'assante', 'louie', 'traffic', 'traumatise', 'carroll', 'sensuous', 'von', 'appraised', 'cohen', 'interlock', 'waz', 'selectivity', 'chewbacca', 'slipper', 'dc', 'cat', 'analytic', 'iturbi', 'motif', 'zeoy101', 'interested', 'summerize', 'spoons', 'whooping', 'matador', 'fiancxc3xa9', 'making', 'jnr', 'gamesmanship', 'new', 'crucifixion', '1hr', 'ballet', 'mob', 'struck', 'cooter', 'daytime', 'virginian', 'stollery', 'aircraft', 'simian', 'excellence', 'eery', 'grudgingly', 'spellbook', 'costner', 'formulamatic', 'zemeckis', 'madperson', 'wife', 'vampire', 'whats', 'pothole', 'shark', 'amenable', 'anticlimax', 'homeguard', 'globus', 'tkeep', 'racketeering', 'thumping', 'crimes', 'nudist', 'fortify', 'hippo', 'tibetian', 'password', 'darkwolf', 'purvis', 'convent', 'temple', 'urbervilles', 'aireal', 'voice', 'built', 'postwar', 'renew', 'loafer', 'piven', 'coaster', 'unilaterally', 'depardieu', 'mediate', 'catty', 'vegetable', 'voluptupus', 'wtbs', 'slice', 'flashback', 'soul', 'sheeple', 'uninterrupted', 'elide', 'rightful', 'july', 'diary', 'begun', 'guillotines', 'awhile', 'groomed', 'spoilers', 'utilise', 'abe', 'hutzpah', 'skid', 'bowlo', 'inchworm', 'eighteen', 'heffner', 'conundrum', 'rocking', 'inherit', 'duper', 'idk', 'dynamite', 'sleaze', 'peado', 'hoon', 'apply', 'nobel', 'flourescent', 'important', 'primary', 'camera', 'animationxc2x85', 'shangra', 'sugar', 'ideology', 'arrival', 'cack', 'sorry', 'feldman', 'severed', 'loner', 'sunburn', 'coming', 'faster', 'fabulious', 'cliched', 'wackiness', 'novel', 'bully', 'peen', 'birth', 'relative', 'chandler', 'vegeburger', 'tennis', 'arstist', 'gilles', 'reinvention', 'sherlock', 'slackers', 'transplant', 'viacom', 'baseman', 'boston', 'fist', 'aids', 'fuse', 'lipp', 'nkosi', 'master', 'serve', 'hitxc2x85', 'foodstuff', 'shag', 'renye', 'voyage', 'talkies', 'magorian', 'pred', 'tessari', 'heartless', 'ghostie', 'slowly', 'crash', 'absolutley', 'run', 'crorepati', 'impeccably', 'squadder', 'interstitial', 'airwave', 'susie', 'scary', 'movieee', 'hairy', 'unrecoverable', 'adolph', 'gustav', 'concere', 'session', 'andrea', 'farley', 'shone', 'wimpy', 'oppose', 'crisis', 'ananka', 'panpipe', 'oi', 'control', 'almodxc3xb3var', 'commitee', 'messege', 'appalling', 'crochet', 'sausage', 'broughton', 'painstaking', 'mecha', 'miniature', 'straightheads', 'august', 'cheattip', 'trruck', 'overshoot', 'erm', 'filthy', 'tonelessly', 'cylons', 'fright', 'sensetivitie', 'enthrawle', 'rhys', 'arduous', 'tennant', 'friend', 'seething', 'digestible', 'rhino', 'cringingly', 'durbin', 'paul', 'naivete', 'tp', 'affect', 'bough', 'outing', 'desert', 'indestructible', 'lethargic', 'menu', 'munish', 'skool', 'lots', 'basset', 'painful', 'allure', 'am', '050', 'randomly', 'salvatores', 'uma', 'ramone', 'beerf', 'maa', 'missionary', 'abduct', 'eagles', 'song', 'callipygian', 'akshay', 'lahti', 'parminder', 'confused', 'n1', 'transmogrify', 'suzie', 'residence', 'squeemish', 'fez', 'airheadedness', 'venezuelan', 'sence', 'classic', 'disburse', 'spoon', 'felicity', 'leftover', 'montages', 'interrupted', 'wakeup', 'seals', 'angel', 'connect', 'shipment', 'to', 'amerterish', 'logically', 'outland', 'jere', 'building', 'nrfptp', 'icare', 'opinion', 'caddy', 'miou', 'lend', 'goldsworthy', 'stifler', 'comity', 'cockalorum', 'stuie', 'immigrant', 'mantis', 'daly', 'explosivo', 'bunuels', 'depravity', 'drizzle', 'barn', 'labyrinthine', 'exodus', 'sexist', 'nite', 'ambush', 'avoide', 'cartoon', 'textured', 'filmmmaker', 'mis', 'consent', 'tarr', 'lanc', 'tatumis', 'satyr', 'eighties', 'ghetto', 'munsters', 'aerobics', 'nigerian', 'marmeladova', 'melvyn', 'slashing', 'walk', 'filmaking', 'everybody', 'bat', 'wrecker', 'curious', 'still', 'current', 'lawerence', 'placed', 'wispy', 'badmouth', 'referenced', 'pei', 'freewheel', 'drame', 'porpoise', 'bounteous', 'scrip', 'dissappointe', 'triumph', 'aroundxc2x85', 'reef', 'zip', 'brokedown', 'jeter', 'spilsbury', 'irina', 'qaeda', 'lollipop', 'unfortuneatly', 'cream', 'hippies', 'masterful', 'manuscript', 'datedness', 'squib', 'gory', 'civilize', 'physics', 'occassionaly', 'wishywashy', 'uniformly', 'heated', 'heartwretche', 'whoa', 'yanquis', 'obfuscate', 'balance', 'toto', 'bioethic', 'luster', 'phoniness', 'analysis', 'justifiably', 'preform', 'prometheus', 'underachievement', 'dirth', 'politicka', 'heat', 'pirite', 'shrink', 'lefty', 'gregory', 'knockoff', 'lek', 'belabour', 'sit', 'enterprise', 'melodrama', 'raki', 'depiction', 'landxc2x85', 'dornhelm', 'therory', 'ninjutsu', 'amis', 'mop', 'repremandable', 'kristensen', 'skepticle', 'dramatic', 'ernest', 'excellency', 'archetypical', 'whaling', 'campfire', 'alienator', 'olxc3xa9ander', 'quo', 'canuck', 'bb', 'amicus', 'aswell', 'care', 'idiocyncracie', 'lethally', 'sining', 'surpasse', 'fienne', 'actionscene', 'attracting', 'realization', 'soberingly', 'riverbed', 'subject', 'misguide', 'firesign', 'letdown', 'manicurist', 'chic', 'col', 'stepmum', 'crow', 'vulva', 'disbelieve', 'delusion', 'unforgetable', 'guxc2xa8xc2xa6tary', 'automobiles', 'renxc3xa9', 'sheet', 'perplexed', 'genxyz', 'unexplainable', 'advertize', 'ziab', 'etcetera', 'sharecrop', 'chronological', 'barely', 'potential', 'neighbour', 'eva', 'monotone', 'vulgarity', 'silencer', 'metallic', 'linger', 'sing', 'herb', 'admission', 'forces', 'brita', 'outer', 'pirouette', 'is', 'yippy', 'acrobatty', 'accomplishment', 'reconfirm', 'option', 'camper', 'politeness', 'vandalism', 'hillarious', 'g4', 'paramour', 'hergxc3xa9', 'mothball', 'picerni', 'idiosyncracie', 'daphne', 'purposeful', 'costarre', 'boatman', 'ulee', 'crappi', 'singin', 'freewill', 'nolan', 'donnell', 'files', 'onside', 'labeling', 'inexact', 'vacuum', 'setter', 'humourous', 'yield', 'buckmaster', 'midts', 'untraditional', 'warm', 'darling', 'funky', 'georg', 'servo', 'buds', 'childs', 'horton', 'dcom', 'fillet', 'device', 'blank', 'apna', 'oppression', 'wholeness', 'rosebud', 'sorrow', 'gutsy', 'randy', 'ish', 'fanciful', 'maratonci', 'vassar', 'focus', 'cultist', 'deceiving', 'gunfire', 'theft', 'trash', 'catchy', 'tushie', 'pleanty', 'telephone', 'amjad', 'gaurd', 'prisoner', 'comprehension', 'rudy', 'sum', 'hacker', 'intimately', 'doom', 'ebeltoft', 'contrivedly', 'despict', 'enyclopedia', 'moley75', 'resurrect', 'aimlessly', 'portrai', 'frenzy', 'pay', 'buffalo', 'appraisal', 'supernova', 'cinemathxc3xa8que', 'monumental', 'nautical', 'pushover', 'distress', 'insomniac', 'minidresse', 'splatter', 'stanger', 'amusement', 'fiancee', 'pitcher', 'lover', 'ecranization', 'wardens', 'helen', 'feebly', 'insert', 'winona', 'thread', 'dad', 'traveller', 'uplift', 'grotesqueness', 'ther', 'prouder', 'critiquing', 'zu', 'welshman', 'butchers', 'cherbourg', 'incident', 'cosmology', 'gantlet', 'lube', 'kimble', 'appeared', 'verbalize', 'pistols', 'terrorism', 'contempory', 'bath', 'surveillance', 'best', 'ky', 'invention', 'reincarnate', 'heure', 'mcboing', 'harlem', 'hairdryer', 'unconditional', 'lovers', 'protect', 'harburg', 'jesse', 'composition', 'europen', 'premier', 'ladder', 'populace', 'vilest', 'exaggerated', 'veoh', 'underrate', 'repent', 'turn', 'impressive', 'phenomena', 'sisters', 'lackluster', 'teenkill', 'bigg', 'exposit', 'parody', 'madness', 'catatonia', 'nov', 'tester', 'wagonmaster', 'carface', 'unlit', 'silvestro', 'forget', 'foo', 'familiarity', 'paredes', 'convalesce', 'lettich', 'nutz', 'baseketball', 'selve', 'mason', 'rim', 'taxi', 'ganster', 'biker', 'bonfire', 'schnikey', 'botanist', '23', 'delt', 'sherwood', 'evince', 'interpersonal', 'khanna', 'bittorrent', 'spying', 'clown', 'dinos', 'filmindustry', 'recipe', 'mystic', 'stampede', 'juggle', 'merkel', 'nonetheless', 'dreamer', 'bills', 'reasoning', 'sixteen', 'avalanche', 'socialism', 'really', 'fong', 'successfully', 'jayhawker', 'columbos', 'ou', 'urn', 'duly', 'knightly', 'jitterbug', 'streetfight', 'trailler', 'desperado', 'moviemaking', 'homesteader', 'notify', 'goyxc3xb4kiba', 'aviation', 'deponent', 'bandits', 'bipolar', 'dubin', '147', 'cammeo', 'premchand', 'screwball', 'nithari', 'referring', 'debilitate', 'discernible', 'gigantismose', 'tomboy', 'sapp', 'sammi', 'naturalist', 'ohhhh', 'mordantly', 'knock', 'haack', 'spiritless', 'thuggee', 'banal', 'taking', 'studly', 'unfortuneately', 'unusually', 'gigi', 'lau', 'saying', 'hummmm', 'offencive', 'invader', 'ignore', 'mst3ke', 'sovjetian', 'alka', 'shredded', 'receive', 'brotherconflict', 'flinty', 'cheyenne', 'undertext', 'jackhammere', 'trailer', 'illan', 'late', 'steinem', 'scandavian', 'exact', 'wrackingly', 'stuarts', 'tripping', 'elvis', 'gigolo', 'oversold', 'worms', 'showed', 'hams', 'plagiarize', 'writing', 'hyperdermic', 'nt', 'danila', 'noninteresting', 'pancino', 'frost', 'unironic', 'pizza', 'borden', 'schools', 'overlooked', 'reductivist', 'ragga', 'stamina', 'violinist', 'audibly', 'willingly', 'sela', 'theodore', 'surf', '83min', 'levitate', 'animal', 'uniqueness', 'burstingly', 'eleniak', 'insight', 'posterior', 'convention', 'thakur', 'virgin', 'stereotypic', 'rodger', 'stalkfest', 'receptive', 'cinemaphotography', 'wisards', 'rarefied', 'fascism', 'protocol', 'shelf', 'granddaddy', 'louys', 'bye', 'retch', 'shoot', 'external', 'dispensable', 'carly', 'musa', 'tooth', 'waiter', 'rodding', 'aaarrrgh', 'analagous', 'thuggie', 'incredably', 'uk', 'placesxc2x85you', 'cord', 'bather', 'arab', 'congradulation', 'celebertis', 'uninspriring', 'men', 'subplot', 'kerri', 'watcheable', 'danny', 'oly', 'chatterly', 'heckle', 'electrician', 'pullman', 'alda', 'americanised', 'patria', 'butterfly', 'dostoyevskian', 'benny', 'la', 'swinger', 'blue', 'undergo', 'horrifically', 'forgiven', '1936', 'filmmakers', 'werewolve', 'ordination', 'motorcross', 'admissible', 'barker', 'basicaly', 'unbelief', 'hanso', 'excessive', 'insist', 'solely', 'dorm', 'motel', 'dieter', 'bouvier', 'pillar', 'psychotherapy', 'manone', 'colorful', 'queen', 'quastel', 'pegg', 'bent', 'rourke', 'thumb', 'priestley', 'fdoe', 'overpass', 'appropriate', 'amirs', 'cosmic', 'fantom', 'sky', 'stallion', 'terrier', 'mess', 'pakeezah', 'farsi', 'deprivation', 'needy', 'ondatje', 'bragging', 'bimbos', 'exposure', 'steckle', 'learn', 'sexually', 'fake', 'warlord', '678', 'addict', 'pakage', 'aw', 'resume', 'prosthelatizing', 'redeem', 'freddie', 'mxc3xbcllers', 'viewer', 'mental', 'cannon', 'puffy', 'lips', 'unnecessary', 'vieux', 'twink', 'teenie', 'k', 'misdemeanor', 'mastered', 'barres', 'father', 'ingrid', 'voyeur', 'redux', 'away', 'cantonese', 'infantry', 'bulimic', 'glorifie', 'wang', 'link', 'tt0098238', 'corkscrew', 'kidney', 'break', 'theologically', 'quarrel', 'venezuelian', 'grab', 'mutineer', 'ones', 'klatretxc2xa9xc2xaasen', 'francophile', 'pantheon', 'caliber', 'crawlingly', 'headliner', 'overall', 'transferral', 'scar', 'stalk', 'diva', 'universe', 'antifreeze', 'widdoes', 'ql', 'hxc3xa1na', 'breadstick', 'norwegian', 'pretencion', 'devilish', 'summarize', 'memerie', 'greenhouse', 'giorgino', 'headed', 'actioner', 'thanku', 'unbearable', 'grandaddy', 'shelby', 'swordsmen', 'forewarde', 'eff', 'obvious', 'boss', 'glam', 'straining', 'meal', 'dilemma', 'simpsons', 'fleet', 'grable', 'nomadic', 'lifelong', 'semra', 'hurter', 'slushy', 'ach', 'molt', 'heathers', 'nightmarish', 'balderdash', 'brotherhood', 'refund', 'hotshots', 'anticipation', 'lame', 'supercool', 'hahahaha', 'pita', 'outdoors', 'irregardless', 'testicular', 'bp', 'selleck', 'oust', 'turgid', 'khaki', 'skin', 'assume', 'hall', 'ouch', 'rebar', 'hayward', 'dxc3xb4', 'tritely', 'herre', 'ability', 'makeup', 'technique', 'symbiopsychotaxiplasm', 'amazing', 'hulbert', 'unbelieveably', 'brave', 'lib', 'enforcer', 'unrelease', 'orthodox', 'suitcase', 'rake', 'sooooooo', 'uriah', 'mise', 'cicatillo', 'kurth', 'sourpuss', 'locust', 'reissuer', 'billet', 'leaning', 'oscillate', 'metamorphose', 'hoper', 'supporting', 'notable', 'jordi', 'topline', 'anniversary', 'taht', 'reasonably', 'lonesome', 'platoon', 'sergio', 'liberals', 'heartlessness', 'smallpox', 'incite', 'welling', 'nastie', 'sleetaks', 'clichxc3xa9s', 'hogan', 'innumerable', 'blurring', 'regent', 'hymer', 'huntress', 'outhouse', 'special', 'slasher', 'assylum', 'whoopi', 'ae', 'peluso', 'math', 'fumbling', 'anil', 'horns', 'account', 'howler', 'calvet', 'retard', 'sideboard', 'phoebe', 'poltergeist', 'fahey', 'moms', 'posession', 'spider', 'testimonial', 'unpromoted', 'sack', 'duval', 'gen', 'pooch', 'hone', 'sensually', 'thoough', 'sludgy', 'bruce', 'typically', 'far', 'seductive', 'jxc3xa4rvi', 'adaption', 'isolation', 'cuba', 'bicarbonate', 'antagonist', 'replacdmetn', 'mangle', 'damme', 'lola', 'dumbtainment', 'seduce', 'sweeny', 'bulb', '38', 'porten', 'subtitler', 'stumbler', 'agony', 'dorito', 'title', 'gator', 'intentione', 'unmatchably', 'mainperson', 'horserace', 'reacts', 'carell', 'slick', 'humm', 'sg', 'dustbin', 'coincidence', 'monter', 'reputation', 'mammoth', 'pumas', 'doctor', 'estonian', 'suspense', 'looser', 'rio', 'mildy', 'fiber', 'yawn', 'nemo', 'rom', 'aimless', 'synchro', 'caller', 'you', 'batmobile', 'pet', 'spacial', 'fag', 'bended', 'bugsy', 'devda', 'tearful', 'hundstage', 'strenght', 'memoral', 'kee', 'gorier', 'lange', 'illusionary', 'adviser', 'stimpy', 'traffik', 'blige', 'cuti', 'yagyu', 'infomercial', 'dressing', 'canyon', 'portly', 'notation', 'bandolera', 'rerelease', 'cohesively', 'forceful', 'promise', 'tighty', 'digitized', 'pzazz', 'copycat', 'issues', 'jury', 'whiny', 'wartime', 'holding', 'european', 'prabhat', 'implant', 'unchallenging', 'loste', 'stylized', 'different', 'guernsey', 'tomato', 'busted', 'unfunniest', 'airline', 'subjugate', 'turtles', 'orient', 'vote', 'lindum', 'muni', 'flowery', 'wisecracking', 'retro', 'predict', 'brackish', 'vaporize', 'anar', 'haunted', 'turkey', 'word', 'claudine', 'instantly', 'unfold', 'reflect', 'billing', 'somnolence', 'vision', 'substance', 'supertank', 'chairman', 'crystal', 'incentive', 'xxist', 'waqt', 'gizzard', 'inscrutability', 'shooting', 'announcement', 'trail', 'childless', 'typical', 'completest', 'mxc3xa3o', 'pleather', 'genius', 'kaiju', 'mvc2', 'emmanuel', 'twentysomethe', 'rapping', 'amen', 'buit', 'virus', 'spattered', 'humongous', 'delice', 'integrate', 'bachelorhood', 'yule', 'slum', 'dom', 'dinner', 'kickboxing', 'schlocky', 'surface', 'sequencing', 'sexism', 'oolama', 'es', 'annihilator', 'grudge', 'shamed', 'whenever', 'cohere', 'bihn', 'devil', 'cultured', 'cb4', 'precog', 'proprietress', 'addition', 'afros', 'acus', 'lesbianism', 'reisman', 'classical', 'straiten', 'giants', '1433421', 'gizmo', 'briskly', 'despondent', 'debate', 'proactive', 'explainable', 'lookin', 'bathroom', 'oj', 'aime', 'hammerhead', 'bate', 'proctologist', 'kabhi', 'extreamely', 'monopolize', 'lynch', 'against', 'gatsby', 'interplay', 'tot', 'phonebook', 'peva', 'sidelight', 'championship', 'funeral', 'pekinpah', 'papery', 'ingredient', 'gashing', 'vivien', 'damningly', 'karma', 'eastern', 'renoir', 'armadillo', 'mellow', 'baddddd', 'flagging', 'gunplay', 'haziness', 'hood', 'edda', 'spoofer', 'rondo', 'mobster', 'laying', 'simple', 'begin', 'prehysteria', 'bible', 'sunken', 'untypical', 'hilly', 'rathbone', 'furhman', 'rockford', 'horta', 'cusacks', 'johansson', 'mine', 'cockeye', 'bleak', 'gawdy', 'arsxc3x88ne', 'downtown', 'rossitto', 'steep', 'dire', '1969', 'tarantinism', 'baio', 'overhyped', 'lizard', 'tinto', 'unhappy', 'made', 'bugged', 'skater', 'misleading', '1951', 'tt0408790', 'portsmouth', 'prediction', 'hightly', 'hush', 'eh', 'louise', 'antigone', 'sanitation', 'revelation', 'school', 'proof', 'cardos', 'recommende', 'armoury', 'neighbourliness', 'vilmos', 'bungle', 'belmondo', 'dunit', 'wrenching', 'oaag', 'harmonious', 'clandestinely', 'imaginable', 'sanchez', 'alma', 'mountain', 'passion', 'buoy', 'gunpowder', 'jeux', 'thunderbolts', 'kareena', 'liotta', 'kranks', 'sailor', 'smart', 'eine', 'asst', 'theology', 'rafter', 'stomach', 'tantrum', 'b5', 'cadet', 'youngest', 'segal', 'sign', 'diffuse', 'albiet', 'wooden', 'computerize', 'facsimile', 'fireman', 'mats', 'tar', 'jeeper', 'obstacle', 'kels', 'hide', 'chistina', 'redlitch', 'letjat', 'yahoo', 'mull', 'ref', 'prince', 'chavs', 'ril', 'source', 'ck', 'sera', 'okin', 'dawber', 'overrate', 'goosebump', 'tightwad', 'hr', 'lamer', 'bruck', 'pulps', 'designer', 'coffeshop', 'tisk', 'pub', 'whited', 'mots', 'lose', 'dress', 's01', 'whom', 'ruck', 'beanbag', 'amxc3xa9lie', 'awkwardness', 'szene', 'layabout', 'novak', 'iubit', 'irrepressibly', 'gunfight', 'chique', 'powers', 'record', 'blinken', 'gamer', 'believabilty', 'unformulaic', 'freighter', 'evaluation', 'anemic', 'ehhh', 'disembowelment', 'reassemble', 'carolina', '63', 'poplular', 'unwatchable', 'crit', 'taoist', 'shtrafbat', 'disprove', 'exposxc3xa9e', 'spaceball', 'priya', 'putter', 'kinghtly', 'tanning', 'dishum', 'uncaptivate', 'unknowns', 'macready', 'nato', 'masterfully', 'patchy', 'enid', 'descriptive', 'lucky', 'technicolour', 'cangey', 'grievous', 'prue', 'storyboard', 'egm', 'digging', 'limbo', 'drecky', 'gene', 'ibsen', 'lung', 'breslin', 'sumitra', 'polarity', 'pianist', 'starred', 'lodge', 'da', 'velly', 'schoolie', 'fosters', 'trumbo', 'nomination', 'keaton', 'unfortunately', 'whilst', 'frear', 'shemp', 'haha', 'clairborne', 'documentary', 'struggle', 'dolls', 'flawed', 'drawn', '1940', 'weeks', 'wild', 'supranatural', 'drugstore', 'daylight', 'lousy', 'rappin', 'delare', 'chainsaw', 'intensity', 'devourer', 'harvest', 'pops', 'dysfunction', 'actullly', 'kakka', 'vepsaian', 'shoddiness', 'ocar', 'frump', 'cashier', 'riffing', 'humbling', 'lump', 'yentl', 'thai', 'rebuttle', 'cancel', 'fibre', 'digestion', 'overact', 'falls', 'bruni', 'tpb', 'lemmon', 'headhunting', 'ski', 'outlaw', 'overladen', 'collapsing', 'angle', 'glamor', 'ds9', 'bug', 'x', 'sir', 'raver', 'gibney', 'span', 'gamblers', 'participation', 'tsh', 'sugg', 'narcissistic', 'warmingly', 'tsui', 'roadtrip', 'sutherland', 'windego', 'gaynigger', 'many', 'peel', 'humoristic', 'seasons', 'peck', 'persist', 'lending', 'realm', 'carrot', 'corpus', 'her', 'properly', 'rivite', 'satirise', 'force', 'nathan', 'egyptologist', 'impounding', 'athmosphere', 'coked', 'cheesiest', 'informative', 'enemie', 'kadee', 'bullsh', 'dustin', 'drill', 'subterranean', 'pathological', 'daringness', 'enrapture', 'hera', 's1', 'polemic', 'arnold', 'gooder', 'bengal', 'cheek', 'sander', 'spritely', 'disconnect', 'detecting', '20year', 'sender', 'senegal', 'eats', 'handbill', 'sociologically', 'just', 'unselfishness', 'islanders', 'justine', 'squawk', 'messaging', 'suddenly', 'winner', 'sprinting', 'crackerjack', 'spirt', 'flashpoint', 'reminding', 'badder', 'mediocre', 'rad', 'snorer', 'genii', 'inverse', 'fotography', 'inarticulately', 'ivers', 'therexc2xb4s', 'laundry', 'animatrix', 'bxc3xa9atrice', 'adotpe', 'scuddamore', 'scuffy', 'dropping', 'jud', 'reckless', 'proffesionalism', 'seymour', 'displaced', 'imitate', 'industrial', 'addiction', 'reccomend', 'doco', 'merk', 'cot', 'pierrot', 'citizenx', 'heartening', 'busters', 'bless', 'intellectualism', 'mvie', 'truffaut', 'peace', 'predation', 'fx', 'fisted', 'sad', 'unglamorous', 'sandal', 'paralysis', 'affair', 'potts', 'nell', 'unfriendliness', 'insult', 'thoughtless', 'aplomb', 'burstyn', 'springer', 'crunch', 'detachment', 'sxc3xa1nchez', 'sucide', 'martians', 'subpoint', 'someday', 'flounce', 'grimacing', 'pike', 'mulletrific', 'senior', 'standards', 'tending', 'tournament', 'fighter', 'castro', 'gregg', 'inbetweeners', 'uncode', 'retire', 'auberge', 'ramtha', 'example', 'commercial', 'sanctuary', 'object', 'hexer', 'howcome', 'jumble', 'g', 'ive', 'rpms', 'mrs', 'revisitation', 'leland', 'kidnapping', 'scripting', 'stone', 'assistant', '52000', 'kung', 'fiance', 'tell', 'manipulate', 'awip', 'unengage', 'morality', 'disagree', 'deniro', 'boa', 'game', 'ecchi', 'grantee', 'negro', 'remotely', 'derisory', 'colorblind', 'dae', 'guidelines', 'snn', 'onegin', 'hilarious', 'cartman', 'dramaticisation', 'damian', 'income', 'resfest', 'pathedic', 'filmaker', 'satan', 'guys', 'interwine', 'pornography', 'delta', 'weld', 'richer', 'whimsical', 'clique', 'education', 'entertaining', 'wonderfall', 'decrie', 'copying', 'smidgen', 'relate', 'confront', 'rough', 'caan', 'intend', 'duman', 'complicate', 'britpop', 'monastic', 'worn', 'flim', 'highschooler', 'serling', 'permissible', 'feinstone', 'bai', 'temptation', 'champion', 'fois', 'unreleased', 'rooms', 'fossils', 'bobs', 'grandson', 'leica', 'customers', 'wishmaster', 'sensationalise', 'locate', 'demention', 'ump', 'underutilize', 'shutout', 'televangelism', 'paranormal', 'helmet', 'baffle', 'provine', 'baseball', 'morti', 'misspell', 'bouncy', 'undergird', 'body', 'boat', 'accepted', 'constable', 'bruckner', 'ensign', 'attentive', 'cartoony', 'wgn', 'seismically', 'dxc3xadaz', 'geddit', 'phrase', 'trent', 'dangerously', 'rugged', 'assimilation', 'seamstress', 'lumage', 'enforcement', 'camels', 'naturally', 'nastiness', 'sux', 'disclamer', 'circumstance', 'weatherpaparazzi', 'agressive', 'vixen', 'plaudit', 'interrelated', 'premarital', 'jerky', 'breillat', 'marks', 'cyclop', 'uninvolving', 'sci', 'irreverently', 'factory', 'sport', 'commitment', 'medicated', 'conman', 'althought', 'scholar', 'ongoing', 'reggio', 'leaud', 'spoorloo', 'kissy', 'region', 'abhi', 'destitute', 'spanish', 'sacchi', 'predictably', 'koushun', 'delia', 'juggs', 'conservatory', 'astaire', 'undoubtedly', 'naming', 'probabley', 'mithi', 'jeepers', 'oc', 'storm', 'fishnet', 'radical', 'tradition', 'endlessly', 'jillian', 'brodie', 'carrie', 'quarrington', 'thrill', 'jewel', 'pillage', 'tourism', 'lowe', 'inn', 'catalog', 'derivative', 'wet', 'mott', 'brodskxc3xbd', 'dunnit', 'viewpoint', 'budget', 'flooze', 'trueba', 'depress', 'pokemon', 'gent', 'figurative', 'folkie', 'sceen', 'niece', 'oddness', 'pregnancy', 'beeing', 'check', 'rating', 'scam', 'simone', 'headstrong', 'stylish', 'whining', 'alia', 'ecclectic', 'trend', 'cheezy', 'orczy', 'colonal', 'pirated', 'african', 'seperate', 'ecstasy', 'grandfather', 'dipsomaniac', 'statue', 'realize', 'reuse', 'kaley', 'pleaser', 'wood', 'matheson', 'matrimonial', 'resistant', 'orderly', 'try', 'repellent', 'dethrone', 'underdog', 'hesitate', 'moviemag', 'conceive', 'receed', 'incongruent', 'theorist', 'overwrought', 'connolly', 'channel', 'trainable', 'knott', 'unstructured', 'senaglese', 'passionless', 'tides', 'rostov', 'indomitable', 'intriguing', 'snatchlike', 'likeability', 'guilelessly', 'unisol', 'fllm', 'deserving', 'filler', 'gloss', 'politic', 'weird', 'bajillion', 'swap', 'proposal', 'nabbit', 'unimpressively', 'saudi', 'sitka', 'canine', 'oklahoma', 'stoned', 'whatso', 'narcissist', 'coachman', 'currier', 'inacurrate', 'shape', 'walkman', 'salvageable', 'automagically', 'sf', 'possessor', 'kleenex', 'wierdo', 'excrement', 'graphically', 'nwh', 'horrid', 'rules', 'gripe', 'niether', 'leese', 'inimitable', 'explicit', 'gentleman', 'lacey', 'clamshell', 'fuddy', 'constrict', 'chaser', 'caver', '1955', 'bones', 'retarded', 'harmless', 'bi', 'williamson', 'stinkbomb', 'bestiality', 'spymate', 'psychiatrist', 'berth', 'extense', 'chesty', 'tenko', 'illiteracy', 'chrissake', 'dreamlike', 'expression', 'epilepsy', 'skeet', 'crimson', 'patriot', 'shiztz', 'orange', 'waist', 'noone', 'damn', 'com', 'passenger', 'teenage', 'recycling', 'graves', 'yearly', 'sculptor', 'portabellow', 'joscelyn', 'every', 'untraceable', 'selfindulgent', 'altman', 'skateboard', 'oui', 'ripa', 'shamefull', 'digge', 'establishment', 'misstake', 'buddy', 'giallo', 'average', 'inauthentic', 'mindblowe', 'protaganiste', 'zappati', 'cylon', 'monstrously', 'henriette', 'abandonment', 'vvv', 'vo12no18', 'colloca', 'formulaic', 'temperememt', 'super', 'israeli', 'belivably', 'gratuatious', 'protxc3xa9e', 'fbis', 'themes', 're', 'drss1942', 'rumor', 'offensiveness', 'gaynor', 'potato', 'uninvolved', 'fertility', 'rmt', 'munchie', 'exonerate', 'earlier', 'bustelo', 'bury', 'brainer', 'sally', 'chick', 'compared', 'psychic', 'alow', 'parador', 'adrien', 'projector', 'forward', '59', 'resaw', 'nutshell', 'literature', 'pickpockete', 'jackal', 'eggnog', 'cleverer', 'lead', 'wagner', 'misuse', 'overambitious', 'ossesione', 'reaper', 'seemingly', 'ridley', 'thouroughly', 'resivior', 'choices', 'southerner', 'pursue', 'ice', 'vermin', 'siecle', 'gere', 'nothing', 'occidental', 'nightmare', 'leoni', 'catholic', 'pyromaniac', 'comdey', 'confessor', 'albastrxc3xa4', 'incoherency', 'danish', 'chan', 'misrepresented', 'japs', 'shirley', '35min', 'bobbycrush', 'good', 'jurassic', 'measurement', 'standardization', 'insomniacs', 'balloon', 'duck', 'excon', 'divorced', 'girlfriend', 'camal', '74th', 'terebi', 'bezzerides', 'decay', 'transgenic', 'unconvinced', 'snail', 'umm', 'gether', 'succed', 'neff', 'haka', 'pharoh', 'inteligent', 'terrible', 'looooooong', 'dissy', 'leave', 'skipper', 'ripped', 'gangbanger', 'developer', 'dangerous', 'bisset', 'recommne', 'balkanize', 'border', 'historically', 'totality', 'agae', 'circus', 'betwen', 'logans', 'skull', 'staine', 'wish', 'suffocatingly', 'communistic', 'reality', 'rabbet', 'trivialise', 'flirt', 'allowance', 'multimillion', 'gorgeous', 'figurine', 'answering', 'rewriting', 'defoe', 'interactivity', 'ng', 'writerly', 'ten', 'usurious', 'ri', 'preceding', 'remarriage', 'rhythm', 'singlehandedly', 'trauma', 'reverse', 'velvet', 'pah', 'mecgreger', 'deathbed', 'jannings', 'artistic', 'rarely', 'dragnet', 'depth', 'austerely', 'payroll', 'movielover', 'manner', 'whackos', 'monopolist', 'unreviewe', 'heroin', 'jaq', 'canibalise', 'dairy', 'temperature', 'judges', 'encroachment', 'faultless', 'dissolute', 'prj', 'lennon', 'awards', 'megalopoli', 'krug', 'wholesale', 'zestful', 'satirize', 'ferrara', 'abudantly', 'regale', 'pyschic', 'memorize', 'striken', 'artifact', 'jz', 'schramm', 'loan', 'unpleasant', 'ravensbrxc3xbcck', 'severing', 'instant', 'poster', 'lesser', 'gpe', 'beastmaster', 'gloster', 'east', 'shield', '104', 'bussinessman', 'afrikaaner', 'speeders', 'turgidly', 'ooop', 'conventionalism', 'poke', 'insanity', 'gamers', 'mcbee', 'lamberto', 'wikipedia', 'aged', 'gratuitous', 'ridgemont', 'yimou', 'ordo', 'cellmate', 'laurel', 'cure', 'spaces', 'nested', 'bendix', 'excellently', 'olive', 'ator', 'living', 'son', 'pride', 'instinctivly', 'drearily', 'toasty', 'dubber', 'tal', 'stanwyck', 'booz', 'somnambulist', 'mogadon', 'clinic', 'librarian', 'hitter', 'fletch', 'losers', 'pretentious', 'unimaginary', 'martial', 'anyhow', 'library', 'venal', 'bootstrap', 'twistxc2x85', 'seethe', 'homoerotic', 'dar', 'courttv', 'megalon', 'breed', 'outspoken', 'lonliness', 'levon', 'bike', 'oilman', 'boring', 'ford', 'ridge', 'iridescent', 'colonel', 'tabooish', 'immensely', 'mate', 'emigration', 'daily', 'meadows', 'antxc3xb4nio', 'whorrel', 'hate', 'begrudge', 'perk', 'frustrating', 'poodlesque', 'preferred', 'estrada', 'religione', 'handgun', 'offending', 'pron', 'distance', 'laclos', 'rung', 'beed', 'tiger', 'reincarnation', 'bring', 'pull', 'reactive', 'studios', 'melancholic', 'hurtful', 'movement', 'downsyndrom', 'specter', 'unwritten', 'sorvino', 'superdome', 'bullshit', 'bazooka', 'itenglish', 'd', 'country', 'estevxc3x83o', 'capitxc3xa3es', 'wars', 'breathless', 'bedrooms', 'plussed', 'kettle', 'prize', 'armitage', 'commander', 'contain', 'boringus', 'unconscious', 'improvisation', 'browne', 'polly', 'cavity', 'caving', 'schiffer', 'bluegrass', 'necrophagus', 'filby', 'stormtrooper', 'morgan', 'mencia', 'minging', 'aforementione', 'crane', 'punk', 'timezone', 'summer', 'scepter', 'mean', 'unsatisfactorily', 'profound', 'cgs', 'subspecie', 'uncool', 'mcphillip', 'ancient', 'avp1', '80', 'trimming', 'elapse', 'spell', 'banter', 'humorously', 'french', 'reravel', 'presley', 'munchauhsen', 'buen', 'toilet', 'cahoot', 'nuf', 'swim', 'ps4', 'dekalog', 'mammarie', 'display', 'danger', 'intensly', 'jolson', 'executioner', 'smithee', 'bane', 'bunker', 'boogey', 'secretaries', 'perry', 'quirkiness', 'hille', 'courtroom', 'prune', 'glimcher', 'prescient', 'alice', 'emptiness', 'harbor', 'dream', 'ladies', 'enroll', 'exemplify', 'mcgowen', 'write', 'onus', 'eachother', 'hammed', 'always', 'freedman', 'aniston', 'stalactite', 'yada', 'consequence', 'frownbuster', 'discussions', 'distributor', 'uks', 'ginny', 'melodramatic', 'scowl', 'landrette', 'englund', 'overstep', 'adulation', 'perplex', 'pattonesque', 'cry', 'syrupy', 'gilded', 'mope', 'toyko', 'critique', 'somebody', 'conversational', 'messianistic', 'dingo', 'lsd', 'guin', 'lowbudget', 'atlantean', 'battling', 'silver', 'ass', 'mode', 'guarantied', 'toy', 'dogood', 'mellencamp', 'bijo', 'apposite', 'dicker', 'effeminate', 'salin', 'calcite', 'sushi', 'aweigh', 'sprit', 'underestimated', 'bland', 'relief', 'vortex', 'concert', 'serum', 'irena', 'gypsy', 'jean', 'mausoleum', 'agent', 'freindship', 'ub', 'plotwise', '2020', 'wondrous', 'unspeakable', 'doggie', 'babysit', 'heston', 'effervescent', 'verneuil', 'advancement', 'ick', 'sheesy', 'benet', 'punchiness', 'vh1', 'voyeuristic', 'lobotimize', 'gracelessness', 'implausible', 'thurman', 'elan', 'stairway', 'highlands', 'refer', 'gargle', 'stockshow', 'licence', 'twister', 'flare', 'trimester', 'oujii', 'uc', 'lovebird', 'close', 'loam', 'shuttle', 'pause', 'zombie', 'cuoco', 'cinemaxc2x85', 'fundraiser', 'yc', 'angie', 'crouche', 'enchanted', 'beaten', 'our', 'grandiose', 'jxl', 'glide', 'meer', 'butch', 'explorer', 'wilding', 'supper', 'candice', 'tossing', 'mind', 'mvovie', 'huntingdon', 'podgey', 'faffe', 'hindi', 'li', 'unsees', 'chapterplay', 'woeful', 'midnite', 'tatty', 'antisemitism', 'justice', 'mindbender', 'chain', 'multicolor', 'bios', 'held', 'laughing', 'b', 'southwest', 'exquisit', 'none', 'brazilian', 'ossessione', 'bowdlerization', 'intelliegence', 'causation', 'antimatter', 'schwimmer', 'assembly', 'acing', 'booee', 'koqs', 'loud', 'rabified', 'punster', 'limn', 'default', 'obstinate', 'misunderstanding', 'pterdactyl', 'lovelife', 'period', 'postitive', 'absoloutley', 'hyperrealism', 'outsiders', 'sequel', 'inelegant', 'souvenir', 'condition', 'yet', 'rickshaw', 'flag', 'latina', 'inhabit', 'direstion', 'prate', 'hap', 'adoption', 'pubis', 'storyteller', 'multiply', 'miscue', 'stanwick', 'outgrosse', 'left', 'clock', 'donxc2xb4', 'miracle', 'attain', 'sackhoff', 'adolf', 'jennie', 'must', 'superfluous', 'entertained', 'previous', 'terria', 'custer', 'trigun', 'underuse', 'tram', 'upbeat', 'gwizdo', 'whereabouts', 'czechoslovak', 'shunt', 'daraar', 'arts', 'quentin', 'demente', 'bhaer', 'sanitise', 'janne', 'ignoring', 'manage', 'cow', 'narcotic', 'graciousness', 'impersonate', 'endure', 'frosty', 'oral', 'child', 'dreamquest', 'peeping', 'grounding', 'magictrain', 'meditteranean', 'kong', 'gear', 'permutation', 'overpowering', 'judder', 'scout', 'seaman', 'advisory', 'urquidez', 'something', 'uprosing', 'bombshells', 'parlor', 'pizzazz', 'putain', 'sacdalan', 'announcer', 'succeed', 'selective', 'yow', 'nincompoop', 'nakata', 'foulmouthed', 'donavan', 'farmhand', 'br', 'sxc3xa9bastian', 'need', 'stand', 'holm', 'dagger', 'cloud', 'transvestite', 'wirework', 'flabbergast', 'gxc3xb3mez', 'matte', 'beginning', 'hogtie', 'exchang', 'attack', 'tromeo', 'gremlin', 'videogame', 'godforsaken', 'lamentable', 'strip', 'overanxious', 'paceless', 'recur', 'yan', 'untalented', 'peed', 'beholder', 'dorian', 'cnn', 'misserably', 'shock', 'schechter', 'overseer', 'mysteries', 'ediths', 'revision', 'laud', 'confronting', 'grief', 'killian', 'maximum', 'influence', 'aag', 'goodgfella', 'cheongsam', 'emitism', 'cockpit', 'rebel', 'simplicity', 'naik', 'minion', 'anderson', 'simmon', 'face', 'goddamned', 'f903', 'moronic', 'tongue', 'se', 'maint', 'esample', 'misjudged', 'burnett', 'disentangle', 'carrols', 'llama', 'lmn', 'weight', 'rediculousness', 'leiberman', 'shrug', 'preity', 'visible', 'mayor', 'kerr', 'grow', 'duologue', 'svu', 'dmytryk', 'pachabel', 'zafoid', 'punchline', '01', 'falutin', 'hospitals', 'inder', 'goblin', 'actively', 'leaf', 'trumpet', 'chou', 'quantum', 'preformance', 'doors', 'fluffee', 'grumpiness', 'transport', 'chupacabra', 'loretta', 'auto', 'eale', 'counseling', 'physically', 'sleezebag', 'joker', 'bisexuality', 'lever', 'bugle', 'resource', 'ecclestone', 'murders', 'dozor', 'interplanetary', 'cent', 'overexciting', 'wackyness', 'humphrey', 'evidence', 'pcp', 'farfetched', 'presentation', 'hokiness', 'gold', 'geek', 'campier', 'poopoo', 'regress', 'traditional', 'puff', 'hope', 'dxc3xa9calxc3xa9', 'rotter', 'backround', 'writhe', 'colourised', 'slot', 'stole', 'dewaere', 'joyride', 'shanghainese', 'fleischer', 'nonfiction', 'header', 'icarly', 'reunion', 'murmur', 'plotting', 'manliness', 'rodder', 'spielbergian', 'jo', 'republican', 'gitchy', 'stepson', 'convey', 'junket', 'worthless', 'fish', 'guilt', 'privlege', 'descend', 'christian', 'superstation', 'eckhart', 'clother', 'escapism', 'edgey', 'jones', 'inner', 'subsidize', 'feedback', 'breakdance', 'badass', 'passably', 'vo', 'purifier', 'ordinarily', 'winger', 'sceptical', 'gainsborough', 'boppy', 'akroyd', 'warsxc2x85', 'stinkpile', 'slickly', 'humma', 'frosting', 'excess', 'meteorite', '227', 'moneymaker', 'xc3x90', 'screamed', 'salutory', 'ear', 'caddyshack', 'email', 'lovely', 'afterwards', 'barnyard', 'ago', 'simpson', 'picking', 'pigsy', 'marketer', 'cenobite', 'today', 'vastly', 'defect', 'mute', 'spelling', 'yog', 'bloodletting', 'cost', 'gangland', 'romanticism', 'repulsion', 'convientantly', 'mi5', 'gasser', 'essense', 'neizvestnostlab', 'dunst', 'test', 'hague', 'rockbart', 'upa', 'elijah', 'eternally', 'pairing', 'gibson', 'unnaturally', 'conceived', 'speedskate', 'shepherd', 'protract', 'catastrophe', 'nights', 'lookit', 'unsalted', 'workout', 'town', 'roach', 'talky', 'histarical', 'allurement', 'particle', 'flashlight', 'forbid', 'snobs', 'product', 'apophis', 'cg', 'txc3xaate', 'operation', 'omen', 'clockwork', 'unziker', 'weekend', 'mutt', 'acholoic', 'pv', 'visionally', 'formulative', 'chaplin', 'wii', 'oscar', 'redhead', 'waterfall', 'adagietto', 'radiator', 'caddysack', 'surfin', 'describe', 'carpentry', 'straub', 'dobbin', 'goon', 'malvolio', 'proliferate', 'spy', 'coaching', 'cabin', 'titilate', 'proficient', 'cannes', 'incorrect', 'cq', 'picky', 'featurette', 'encounterd', 'lattanzi', 'botched', 'cupboard', 'arsehole', 'oafish', 'feather', 'iliopulos', 'unrelated', 'cockle', 'shug', 'aparna', 'tron', 'intruder', 'article', 'mm', 'summon', 'offend', 'lot', 'oceanfront', 'charisma', 'suucks', 'germ', 'climb', 'seagall', 'sabotage', 'nothe', 'suicide', 'sick', 'leakage', 'kelsey', 'colonoscophy', 'dozy', 'askey', 'handlebar', 'barr', 'since', 'several', 'ah', 'rxc3xa9gulier', '54', 'philistine', 'wast', 'roeper', 'wait', 'monkeys', 'r', 'anniko', 'californian', 'clinical', 'machatxc3xbd', 'clinching', 'presenter', 'spinning', 'screws', 'tucker', 'raptor', 'marrow', 'protestation', 'senator', 'golden', 'stuck', 'soho', 'ungrateful', 'caboose', 'patron', 'retrieve', 'greenlight', 'eglantine', 'cash', 'fretful', 'brasil', 'dumb', 'et', 'define', 'usual', 'unknowe', 'disgard', 'socket', 'chute', 'sin', 'unit', 'eagle', '97', 'hill', 'hundred', 'unsexy', 'ragbag', 'obstreperous', 'timing', 'iranian', 'anand', 'knightrider', 'fill', 'excerpt', 'lambs', 'nuts', 'horrifie', 'include', 'anymore', 'ranger', 'mawkishly', 'facilitator', 'poets', 'dafoe', 'everyplace', 'showroom', 'vapid', 'terror', 'niche', 'welcome', 'oats', 'digusted', 'suzanne', 'kitty', 'syndrome', 'cast', 'digest', 'davinci', 'glorified', 'redeploy', 'competency', 'surgery', 'dentist', 'dickian', 'adios', 'uncomfortable', 'genital', 'push', 'backlash', 'narration', 'cowpoke', 'dam', 'magnolia', 'merwin', 'cuddle', 'casual', 'emergency', 'bombing', 'whupping', 'superintelligent', 'trivialboring', 'racketeer', 'gentle', 'kick', 'immobile', 'explicitly', 'converter', 'filmmaker', 'awefully', 'bandwidth', 'award', 'flush', 'workmanship', 'birthdaypresent', 'turntablism', 'koo', 'apostrophe', 'serial', 'reworked', 'prime', 'schoolish', 'ekspres', 'forgettably', 'sentinel', 'kornbluth', 'de', 'thenxc2x85', 'looks', 'evacuee', 'interior', 'watchxc2x97you', 'slackly', 'southerland', 'disclose', 'romantique', 'xc2xa36', 'numb', 'barred', 'ingratiating', 'aspire', 'transplanting', 'rudely', 'scent', 'soles', 'voyeurism', 'foreseeable', 'sadomasochism', 'certain', 'bigoted', 'zombified', 'defa', 'gambling', 'judicial', 'formula', 'artist', 'hearst', 'touriste', 'chilling', 'gouge', 'cst', 'unimaginitive', 'ugly', 'sporatically', 'aim', 'transfusion', 'irritate', 'judge', 'send', 'djjohn', 'lunch', 'bank', 'confusion', 'undistinguishable', 'scamme', 'jackass', 'latronic', 'press', 'blackmail', 'document', 'space', 'fetched', 'pleasantly', 'rififi', 'fijian', 'setbound', 'barbarians', 'cola', 'ganja', 'poetry', 'obv', 'torgo', 'hit', 'society', 'bud', 'blatently', 'narratively', 'diamond', 'trought', 'flix', 'domestic', 'moustache', 'wuhrer', 'hurting', 'expend', 'lady', 'wine', 'edgar', 'nanny', 'uplifter', 'tis', 'rembrandt', 'tee', 'profiteer', 'hussle', 'eroticism', 'sabre', 'rapist', 'ream', 'astute', '1930', 'alive', 'indiscretion', 'coartship', 'favela', 'irene', 'scandal', 'btwn', 'cameo', 'talbot', 'oky', 'cruz', 'contraption', 'questionable', 'witts', 'horrormovie', 'indy', 'runner', 'sade', 'enthusiastic', 'uber', '2', 'allyson', 'epigram', 'hegelian', 'contortion', 'propel', 'freemason', 'ming', 'cause', 'paperhouse', 'ghostwriting', 'heaven', 'surpring', 'depict', 'gosling', 'corruptive', 'whassis', 'paperbag', 'corey', 'caracter', 'aa', 'picturing', 'breaker', 'donee', 'dresser', 'belittle', 'degenerate', 'fictionalising', 'roman', 'sonny', 'bastion', 'arbus', 'duration', 'tromatic', 'facade', 'doleful', 'reanimate', 'uncrowded', 'contrast', 'background', 'kills', 'scorpio', 'telly', 'hallmarklifetime', 'boardroom', 'sanitarium', 'mosher', 'win', 'clip', 'thay', 'lobotomize', 'contempt', 'pitfall', 'aito', 'canal', 'ring', 'plotline', 'cabbie', 'intervenxc3xa7xc3xa3o', 'jang', 'verboten', 'nickname', 'lisp', 'unnotice', 'broadcasting', 'gassed', 'reference', 'sarcastic', 'stilettos', 'paragraph', 'wat', 'missile', 'gingerbread', 'cousin', 'ladykiller', 'charlie', 'sciple', 'selfishness', 'portray', 'sarkar', 'worship', 'interessant', 'parse', 'flaky', 'iz', 'unimposing', 'admittadly', 'gothic', 'dodgson', 'frightening', 'musician', 'prospero', 'puszta', 'halfdan', 'emmy', 'gash', 'flack', 'dah', 'ballot', 'veronique', 'pentecostal', 'builder', 'niki', 'slinkys', 'villain', 'supposse', 'chitty', 'pod', 'tiag', 'understandably', 'intrude', 'onscreen', 'statement', 'debt', 'frenetic', 'ectoplasm', 'improvement', 'phlegm', 'hz', 'interactions', 'classist', 'pfennig', 'toad', 'eunuch', 'ark', 'espercially', 'fritter', 'missed', 'outrace', 'haphazard', 'duff', 'intriguingly', 'hardy', 'knowingly', 'gorno', 'etc', 'ratchet', 'trintignant', 'brewster', 'interpretive', 'false', 'mars', 'pacey', 'deftness', 'caramel', 'couple', 'f16', 'site', 'led', 'uni', 'note', 'conventionally', 'armageddon', 'wackjob', 'legacy', 'rebane', 'benefits', 'disturbing', 'exploitationer', 'separate', 'calculate', 'slang', 'swip', 'dowry', 'pressure', 'sunk', 'mingle', 'james', 'tenor', 'henchman', 'dreadfully', 'imitation', 'vault', 'oscarxc2xae', 'gunslinger', 'bushel', 'vomit', 'dansu', 'meaninglessly', 'availability', 'unjustifiable', 'geopolitic', 'basiaclly', 'campbell', 'psx', 'unheralded', 'flic', 'shrieking', 'scrabble', 'bloke', 'fp701', 'publicity', 'squid', 'luckless', 'suck', 'vibrance', 'trustworthy', 'quirky', 'repentance', 'drool', 'uncharming', 'ity', 'snowy', 'relase', 'natural', 'harley', 'dimitrios', 'muppets', 'sabotur', 'minutia', 'tedious', 'coool', 'sanz', 'pollination', 'heatwave', 'smiles', 'bros', 'conrack', 'kook', 'smile', 'smash', 'esteban', 'clam', 'dulany', 'unispired', 'enormously', 'upn', 'nerd', 'rise', 'predictible', 'tribal', 'screening', 'dissatisfied', 'basketball', 'dummheit', 'stooooooopiddddd', 'enticingly', 'loll', 'buba', 'simran', 'repressedwoman', 'font', 'fun', 'yawning', 'die', 'corporation', 'kat', 'mi4', 'trench', 'grouping', 'favourite', 'scarcity', 'noise', 'representation', 'eat', 'nth', 'oberman', 'worse', 'yeeeecchh', 'timetraveling', 'eg', 'asterix', 'l', 'predator', 'mouthpiece', 'srw', 'sharukh', 'peralta', 'kroc', 'oggi', 'laughton', 'descriptively', 'nula', 'crack', 'shelley', 'numero', 'aur', 'penquin', 'blaine', 'amock', 'backstage', 'urban', 'emasculated', 'noboby', 'lately', 'sphere', 'sealed', 'unwholesome', 'quack', 'believably', 'winer', 'attic', 'similar', 'schmaltze', 'amnesiac', 'limousin', 'threequel', 'overcast', 'letch', 'interestig', 'dum', 'jxc3xbcrgens', 'habit', 'lish', 'physique', 'washed', 'dub', 'sabretoothe', 'nutritional', 'shopgirl', 'taptieg24', 'screw', 'mixup', 'election', 'dorkness', 'buying', 'shlocky', 'archchristian', 'sharking', 'chew', 'bread', 'probe', 'womens', 'etta', 'trans', 'lordy', 'sandwich', 'honkers', 'roddy', 'dudette', 'fingers', 'condom', 'rover', 'warrier', 'alphabetically', 'billion', 'shake', 'wink', 'insurgent', 'attorney', 'chameleon', 'purse', 'effective', 'seen1', 'reactionary', 'jung', 'fine', 'committent', 'opera', 'ardent', 'catchphrase', 'dunaway', 'espically', 'national', 'fasbinder', 'kurdish', 'athleticism', 'bureaucrat', 'snowman', 'aboriginal', 'mayerling', 'sweety', 'bochner', 'hunting', 'messing', 'scantily', 'crocky', 'gossip', 'blooper', 'deserter', 'loeb', 'vaulting', 'positively', 'mesmeric', 'adventurous', 'curiousness', 'diversion', 'mcteer', 'sansabelt', 'ayn', 'foreman', 'rabbi', 'experimental', 'sappily', 'vet', 'orgy', 'winch', 'trekkies', 'cooperate', 'brokeback', 'praise', 'realise', 'ruggles', 'dunderklumpen', 'banana', 'dialogues', 'quieter', 'samourai', 'diane', 'medicinal', 'whackjob', 'graphic', 'discourage', 'beleive', 'endanger', 'stonker', 'lewd', 'patiently', 'arsenical', 'goo', 'thn', 'twenties', 'falling', 'throttle', 'underwater', 'monster', 'guru', 'gurantee', 'metamorphize', 'accurate', 'sentimentally', 'cheque', 'coating', 'dogfighting', 'fabric', 'complication', 'tywanna', 'pwog', 'academy', 'moonshiner', 'bison', '60tie', 'hiker', 'supersentimentality', 'enlisted', 'bigalc', 'follower', 'hysterically', 'borie', 'refugee', 'behaviour', 'erode', 'treatment', 'loooonnnnng', 'asylum', 'trier', 'coprophagia', 'xc2xa38000', 'surviving', 'piper', 'equivalent', 'buckwheat', 'lurking', 'revenation', 'secondary', 'henry', 'rothrock', 'primo', 'equality', 'jonestown', 'ascent', 'overcome', 'identify', 'hoyts', 'zany', 'abbott', 'prefab', 'willstown', 'also', 'porno', 'bunch', 'raucous', 'brawling', 'immersed', 'painting', 'stomu', 'dedlocks', 'shorty', 'evilly', 'cartoonishly', 'shedding', 'jockhole', 'coffee', '70s', 'shakespere', 'sturges', 'comic', 'shipbuilder', 'essay', 'salome', 'fic', 'bifurcated', 'plummer', 'incense', '113', 'guard', 'stylistically', 'similarity', 'star', 'singing', 'snxc3xa6r', 'berserker', 'swordsman', 'fanbase', 'obviously', 'frit', 'horseflies', 'carto', 'lotion', 'patroller', 'bacon', 's2', 'miiki', 'voiec', 'central', 'banishing', 'early', 'wray', 'fanfaberie', 'jolie', 'cahill', 'job', 'onto', 'seagual', 'plimsoul', 'pervading', 'scientific', 'sharpe', 'lithographic', 'doesnt', 'biggish', 'schlump', 'rickman', 'stowaway', 'abit', 'lad', 'extortionist', 'audrey', 'backstep', 'nonexistent', 'ooookkkk', 'zhan', 'nickleback', 'supurb', 'blaxpoitation', 'adventure', 'xxx', 'flemming', 'fully', 'nyc', 'eighty', 'glove', 'frivolity', 'biological', 'plus', 'als', 'birch', 'steretype', 'foley', 'nonbelieveability', 'jaco', 'deadened', 'blackwood', 'scintilla', 'geometrical', 'hurrricane', 'edge', 'blackmarket', 'gallic', 'dwight', 'scientist', 'aldolescent', 'rapidfire', 'offeecious', 'dombasle', 'weep', 'pool', 'humerous', 'tryin', 'barbra', 'virual', 'ame', 'existenz', 'faint', 'priyadarshan', 'misrepresentation', 'snore', 'storyline', 'sugest', 'pulse', 'travel', 'horrendou', 'flicks', 'lyonne', 'elegaic', 'derisive', 'homely', 'phantasm', 'gamut', 'woodstock', 'accustom', 'siska', 'fundamental', 'blockbust', 'choral', 'nia', 'backyard', 'loss', 'totty', 'playwright', 'uninvested', 'cringy', 'betting', '219', 'hoosiers', 'pszoniak', 'facility', 'commando', 'nanite', 'figuratively', 'nill', 'silk', 'upwardly', 'mmbm', 'schindler', 'carrott', 'atomic', 'interminable', 'tip', 'begotten', 'baleful', 'rap', 'creation', 'upsetting', 'xc3xa9migrxc3xa9s', 'baron', 'aborigine', 'cremator', 'long', 'chevy', 'meth', 'angles', 'leftist', 'foal', 'blase', 'vindicator', 'glue', 'streetcar', 'aussies', 'milafon', 'humpback', 'montgomery', 'laziness', 'dickerson', 'spiritually', 'doctrine', 'brogue', 'oppress', 'comedic', 'narrating', 'rationalization', 'deceased', 'caste', 'labyrinth', 'tony', 'slur', 'voamitus', 'yoghurt', 'happe', 'brigitte', 'watch', 'versatility', 'shall', 'dig', 'hells', 'amateur', 'pinto', 'sidewalk', 'glean', 'bullish', 'fingernail', 'freaky', 'oog', 'predictive', 'stableboy', 'beautifull', 'slapstick', 'bowl', 'transition', 'looking', 'sandler', 'indescribably', 'priety', 'disturbia', 'latex', 'costs', 'rehab', 'predictability', 'penny', 'monolith', 'hardly', 'possessiveness', 'terfel', 'flustered', 'immediately', 'undergarment', 'subway', 'tender', 'disagreement', 'stammer', 'sleepie', 'arguably', 'tarantinos', 'temp', 'actually', 'existant', 'rubber', 'n64', 'ballad', 'dedicative', 'unsettling', 'erotic', 'azz', 'bullock', 'hinder', 'takers', 'outfit', 'sulieman', 'betamax', 'honeycombs', 'intesifie', 'chaos', 'harrison', 'moonlighting', 'talking', 'errant', 'neighbor', 'plenty', 'shot', 'error', 'unedite', 'matlin', 'samba', 'gobbleygook', 'solarizing', 'vierde', 'glickenhaus', 'bullets', 'awil', 'forced', 'mockable', 'bog', 'savour', 'fantacy', 'origonal', 'hee', 'design', 'choppper', 'zone', 'comedian', 'phylicia', 'sloppish', 'defray', 'mastermind', 'appelation', 'enlighten', 'chalo', 'mirren', 'brocxc3xa9liande', 'indiana', 'bean', 'snapshot', 'shreck', 'commentator', 'lta', 'shadowcaster', 'endearing', 'defilement', 'unparticular', 'program', 'empowerment', 'cassanova', 'scooter', 'shameless', 'riotous', 'magicfest', 'fc', 'matilda', 'peacetime', 'download', 'grocery', 'rift', 'shorts', 'screamer', 'boxer', 'unite', 'reporter', 'tune', 'kitsch', 'iedereen', 'audition', 'sincronicity', 'additionally', 'kiyo', 'plot', 'patronize', 'fitted', 'dice', 'twilight', 'thhe2', 'voodoo', 'splatte', 'hammering', 'misfit', 'hammock', 'attempts', 'intertaining', 'bening', 'tagore', 'largley', 'clue', 'flemish', 'amimae', 'speck', 'lotr', 'rediscover', 'leaving', 'heavenxc2xb4s', 'storyplot', 'defender', 'matinxc3xa9es', 'sean', 'eeh', 'explanation', 'devalue', 'sethi', 'mystify', 'griswold', 'implosion', 'macgregor', 'maggot', 'allred', 'blindside', 'expenditure', 'starlight', 'delightful', 'wolf', 'bearable', 'egotism', 'manga', 'teetotal', 'masy', 'feminine', 'semana', 'playbook', 'superintendent', 'unclear', 'bet', 'casseus', 'mein', 'musta', 'rewrite', 'dadridge', '000', 'snarky', 'each', 'watson', 'identity', 'nietzche', 'expansion', 'prick', 'ixc2xb4', 'signer', 'taime', 'gathering', 'teevee', 'burbank', 'piquancy', 'megazone', 'parvenu', 'planting', 'saboteur', 'field', 'client', 'vcd', 'tarzan', 'unfortunatley', 'materialization', 'cheerleading', 'professionell', 'wellspring', 'woundere', 'cit', 'triangulate', 'h', 'arghhh', 'company', 'flighty', 'corridors', 'shambling', 'ancien', 'persnickety', 'midget', 'hindsight', 'dutiful', 'crude', 'highwayman', 'cardboard', 'pelicang', 'echance', 'affirm', 'stxc3xa9phane', 'process', 'be', 'caron', 'dysphoria', 'djinn', 'tumbleweed', 'subspecies', 'sherriff', 'ununderstandable', 'syrup', 'whack', 'diploma', 'valkyries', '19th', 'happend', 'expectant', 'jrd', 'ration', 'ounce', 'flamingos', 'sophisticated', 'clise', 'community', 'westie', 'westerns', 'cruelty', 'michalka', 'natured', 'rancher', 'venitian', 'horses', 'superman', 'repulsive', 'bali', 'lampooning', 'gurn', 'giblet', 'dish', 'neurosis', 'lie', 'elsehere', 'paedophiliac', 'petit', 'drape', 'goodnight', 'tudor', 'shearing', 'row', 'xc2x84batman', 'hetfield', 'fistful', 'offcource', 'regretable', 'sentence', 'lalouche', 'grandmother', 'brill', 'blockbusters', 'originator', 'manical', 'contessa', 'videoville', 'arrest', 'mumble', 'climatical', 'matinxc3xa9e', 'nique', 'vanity', 'anywhere', 'kapadia', 'sparrows', 'taiwanese', 'stuffy', 'technicolored', 'cosmos', 'foie', 'provoked', '125', 'weist', 'roommate', 'despot', 'dis', 'finnish', 'catholique', 'cyf', 'wretched', 'kinetic', 'peruvian', 'herpes', 'groundswell', 'dimensional', 'bungy', '60', 'timeframe', 'lousitude', 'lude', 'wallmart', 'descendent', 'address', 'topless', 'organisation', 'complicated', 'theremin', 'russel', 'monika', 'minimalistically', 'pu', 'molasse', 'snog', 'sensless', 'obsession', 'ogre', 'nutty', 'instrumental', 'women', 'moan', 'dalloway', 'whimsey', 'bluescreen', 'miserably', 'tribulation', 'plain', 'skeptic', 'carol', 'filmsthat', 'denial', 'rosemary', 'should', 'kwouk', 'limey', 'vice', 'addicting', 'widow', 'improvisatory', 'delinquents', 'tale', 'demonicus', 'rance', 'autobiographical', 'becouse', 'beautiful', 'daan', 'saphirjd', 'ock', 'diablo', 'tepid', 'correctly', 'exotic', 'played', 'spongeworthy', 'emasculate', 'undying', 'comxc3xa9die', 'yea', 'slash', 'kirkland', 'confrontation', 'ninotchka', 'sweat', 'horse', 'chimbotsu', 'i', 'hurl', 'height', 'remar', 'beer', 'borre', 'malkovichian', 'supercar', 'grenier', 'incompetent', 'hitcher', 'puckoon', 'jackson', 'suspects', 'babysitter', 'blowingly', 'holes', 'loch', 'bebe', 'putnam', 'xc2x84bubble', 'grave', 'bonham', 'injure', 'dreamt', 'jigokuhen', 'imprision', 'apocalypse', 'bust', 'fund', 'witching', 'friels', 'sorrento', 'moribund', 'evolvement', 'mumbo', 'unmatche', 'everlasting', 'scrambled', 'bungler', 'empress', 'ecstatic', 'virgina', 'outbreak', 'lalo', 'addressed', 'hanger', 'cassevette', 'discretionary', 'stereoscopic', 'audio', 'savitch', 'socially', 'plothole', 'badpuppy', 'uncomplicated', 'restraint', 'lepo', 'unresolved', 'kangwon', 'brillant', 'goofus', 'slump', 'w', 'yep', 'ajar', 'kite', 'beckham', 'indisputably', 'fields', 'failproof', 'ashalata', 'calamity', 'highlight', 'spirituality', 'fans', 'tuna', 'golding', 'burlap', 'demonous', 'quite', 'pinkie', 'preminger', 'hackman', 'ager', 'sigurrxc3xb3s', 'grip', 'pearl', 'spouse', 'develop', 'lord', '1950sxc2x85', 'cid', 'nimoy', '22h45', 'response', '19', 'capsize', 'eek', 'sinisterness', 'fulci', 'stricken', 'whizz', 'q', 'motorial', 'snake', 'xc2xa33', 'borchardt', 'lynchian', 'misogynist', 'grader', 'colby', 'rigamortis', 'contented', 'stoop', 'slaughter', 'support', 'rescuing', 'commender', 'toon', 'seenxc2x85considere', 'footprint', 'hibernian', 'glossy', 'facesxc2x97i', 'zombielike', 'momento', 'rubberneck', 'absurd', 'schlop', 'nonfictional', 'mollusk', 'swiftian', 'profoundly', 'dribble', 'classiness', 'colorous', 'slaven', 'kieslowski', 'splicing', 'cheerfully', 'global', '3k', 'tibb', 'oh', 'extremity', 'porgy', 'reinvigorate', 'suess', 'peppermint', 'ambiguous', 'disney', 'rouve', 'top', 'macdonald', 'unoriginal', 'simialr', 'eleanor', 'regional', 'crossing', 'cybermen', 'casino', 'point', 'bemused', 'twistedness', 'walker', 'belt', 'drug', 'nutzoid', 'arte', 'resovoir', 'keyed', 'floorboard', 'pick', 'ruefully', 'allah', 'tinfoil', 'famous', 'categorically', 'mediaeval', 'kiss', 'possibly', 'informant', 'carjacking', 'broadminde', 'timothy', 'zelah', 'cockpuncher', 'bravado', 'inca', 'gday', 'bhai', 'transcendence', 'cub', 'programmer', 'miscarrage', 'milious', 'klutzy', 'schooby', 'disapprove', 'verb', 'weak', 'tittle', 'acomplication', '5year', 'creative', 'crockett', 'perform', 'peach', 'substandard', 'amc', 'commericals', 'never', 'reproduce', 'courage', '113minutes', 'pufnstuf', 'reporting', 'exit', 'sap', 'syphili', 'snoop', 'puddle', 'resile', 'solimeno', 'quality', 'whooo', 'hypnotizing', 'amiss', 'fassbinder', 'doppelgxc3xa4nger', 'renee', 'introspection', 'embarassing', 'heating', 'saturnine', 'cinemagic', 'adapting', 'eden', 'assembling', 'assassin', 'hystericalness', 'programming', 'suitably', 'class', 'hardesty', 'police', 'chucky', 'kombat', 'innovator', 'contrasted', 'mutilation', 'truest', 'hairless', 'osama', 'wrung', 'tazer', 'walsh', 'match', 'categorical', 'heist', 'shrine', 'hollowness', 'suzi', 'rites', 'masochistically', 'pollan', 'titlesxc2x97you', 'ciccolina', 'poison', 'polloi', 'overdependence', 'discription', 'prayer', 'linnea', 'hea', 'damper', 'demolish', 'carnage', 'tize', 'urinate', 'debutante', 'amazons', 'exceptional', 'favorite', 'hapless', 'stills', 'untold', 'lushious', 'amenxc3xa1bar', 'butter', 'plantation', 'filmdom', 'reform', 'fantasyfilmf', 'pterodactyl', 'umbrella', 'giva', 'marenghi', 'fan', 'chemist', 'japenese', 'after', 'crawling', 'friends', 'widmark', 'dialougue', 'gameshow', 'cough', '9', 'rollick', 'iamerace', 'incidence', 'path', 'shortcoming', 'bettor', 'lasar', 'naomi', 'brain', 'ups', 'adivl', 'ensemble', 'centerer', 'intellect', 'bite', 'training', 'kaitan', 'liveliness', 'steeve', 'ee', 'jew', 'abyssmal', 'aversion', 'botch', 'meethi', 'sunsetxc2x85with', 'grubbing', '2am', 'gypsies', 'menzies', 'commandment', 'vuosi', 'seldom', 'kangaroo', 'stewardess', 'crosseyed', 'suuuuuuuuuuuuck', 'continually', 'briscoe', 'soultaker', 'scheme', 'brilliant', 'tarnish', 'sasquatch', 'raunch', 'printer', 'wuxie', 'ajay', 'pilmarkxc2xb4s', 'stab', 'biblical', 'contestant', 'brochure', 'philisopher', 'stable', 'intensive', 'mazursky', 'cumbersome', 'nonexistant', 'chef', 'silent', 'ba', 'therin', 'diversely', 'partisan', 'pray', 'whistler', 'religious', 'groove', 'line', 'irrelevent', 'bandwith', 'treks', 'difficult', 'snipe', 'dehumanising', 'pretense', 'baer', 'future', 'punctuate', 'fleshed', 'jamaican', 'yew', 'rudder', 'dissapointment', 'respectable', 'raoul', 'unavoidably', 'isolative', 'professor', 'singles', 'paint', 'imparting', 'disabled', 'jogging', 'beccket', 'ewoks', 'invetigator', 'doped', 'unforgiven', 'filmic', 'idealistic', 'smirk', 'attitude', 'lunatic', 'saleem', 'ashew', 'think', 'sapna', 'specialist', 'revolt', 'hypnotize', 'activity', 'leon', 'crab', 'exquisitly', 'loosening', 'illusions', 'pish', 'clint', 'viewable', 'marshalxc2xb4', 'ruin', 'megaplex', 'milklady', 'buster', 'celebrity', 'roof', 'destry', 'segemet', 'alchoholic', 'frech', 'personnaly', 'airlift', 'entelechy', 'whispering', 'ferox', 'barrymore', 'deflating', 'net', 'mudbank', 'taekwondo', 'offbeat', 'parenty', 'crocs', 'pr', 'anslinger', 'columnist', 'matched', 'composer', 'tamara', 'bullfighter', 'recognize', 'overexplanation', 'grower', 'witting', 'mashall', 'movieclip', 'sbs', 'swarthy', 'coulisse', 'erased', 'wrongdoer', 'undeserving', 'irreverant', 'italian', 'colossus', 'shaven', 'rajni', '100times', 'sow', 'hd', 'uniquely', 'unlikable', 'flat', 'zhen', 'stretcher', 'trilogy', 'highlander', 'revive', 'fusion', 'halestorm', 'junkie', 'boards', 'bittersweetly', 'frozen', 'doot', 'woodenly', 'pittxc2xb4s', '2008', 'hoot', 'geared', 'regretful', 'hitting', 'hag', 'ballyhoo', 'message', 'beguiled', 'babysat', 'hsyterical', 'gossit', 'pathmark', 'cinematography', 'kissless', 'overstatement', 'lightpost', 'despatch', 'outcropping', 'private', 'witherspoonxc2x96she', 'overbearingly', 'lovably', 'schooler', 'negative', 'marvelling', 'angry', 'wuhl', 'wicker', 'interconnect', 'bis', 'plateau', 'patter', 'zero', 'absorb', 'dreamscape', 'recomme', 'outlandishness', 'magnificently', 'dangereuse', 'fastfowarde', 'mansonites', 'wayan', 'powerfully', 'cutsie', 'puertorican', 'contemperaneous', 'crecendo', 'equally', 'tramp', 'plagiarism', 'feist', 'omnibus', 'inspiring', 'employ', 'vader', 'rediculous', 'irreal', 'malaise', 'pitch', 'psychological', 'belive', 'snowboard', 'egbert', 'stich', 'spaceship', 'xiao', 'sedate', 'culp', 'boulevard', 'hearby', 'bling', 'agate', 'exterminator', 'galvanize', 'oddest', 'sedative', 'observation', 'fakey', 'abhorrent', 'hydrosphere', 'counterpart', 'swit', 'crusade', 'o', 'egyptology', 'diner', 'snitch', 'instrument', 'embittered', 'allo', 'chatting', 'biggg', 'metcalfe', 'welles', 'warden', 'ordain', 'staccato', 'dreg', 'asse', 'peacefully', 'supernatural', 'spouter', 'minuites', 'rajnesh', 'thruway', 'sistah', 'renault', 'hare', 'similiar', 'headace', 'yr', 'drown', 'keep', 'pornographer', 'plague', '40mins', 'moynahan', 'scryeeee', 'gaga', 'gymkata', 'blackwater', 'pickax', 'schnass', 'perch', 'cinemax', 'pont', 'tollin', 'untested', 'wincingly', 'towelhead', 'laird', 'remmi', 'dumpy', 'translated', 'lengh', 'episode', 'former', 'kxc3xb4hxc3xae', 'pppenheimer', 'slater', 'darkhunter', 'west', 'unsophisticated', 'sodden', 'notld', 'cinematografic', 'magnifiscent', 'muslim', 'precinct', 'bloddy', 'regard', 'rottenest', 'rochon', 'ewwww', 'seated', 'snowballs', 'airhead', 'jaw', 'rant', 'erendira', 'bbc3', 'spice', 'ail', 'therapist', '24mar2001', 'nemesis', 'storytelle', 'documentry', 'quotidien', 'wack', 'boy', 'mccool', 'imply', 'inafame', 'perversity', 'eject', 'squalor', 'superbly', 'superstud', 'pits', 'usually', 'smell', 'peripherally', 'jobe', 'laserdisc', '6000', 'tjough', 'ranthorincus', 'carry', 'mario', 'beard', 'andre', 'minium', 'amulet', 'necromancy', 'armour', '900', 'drive', 'apollo', 'saura', 'howdy', 'cart', 'misdirect', 'temptress', 'metty', 'disappearance', 'escape', 'powderkeg', 'youngster', 'bumble', 'golfer', 'sui', 'rotation', 'anguishing', 'shanty', 'ax', 'kansas', 'seriocomic', 'miniscule', 'deterrance', 'bronson', 'fargo', 'replayable', 'audiance', 'vendetta', 'melvin', 'moneylender', 'pimply', 'passionatly', 'topflight', 'unexplainedly', 'hilariousness', 'policies', 'lotta', 'refocusing', 'acurate', 'reeeeeeallyyyy', 'replica', 'harmony', 'sultriness', 'meter', 'map', 'nominate', 'benkei', 'sinatra', 'occupier', 'jansen', 'breneman', 'printing', 'sneeze', 'silence', 'reversal', 'discredit', 'mileu', 'scarface', 'disparity', 'killle', 'birdcage', 'fearful', 'va', 'risky', 'bodycount', 'subclass', 'amalia', 'seppaku', 'chihuahua', 'roofie', 'cater', 'indecipherable', 'bologna', 'shepard', 'athleticisme', 'hustler', 'definate', 'reommended', 'munition', 'mouthed', 'crooked', 'occupation', 'chiche', 'turpitude', 'infecting', 'porcelain', 'siphon', 'fightfest', 'ulster', 'ambivalence', 'reptile', 'rage', 'herzog', 'arcati', 'quaids', 'jokingly', 'broadside', 'deol', 'tangential', 'villainizing', 'landscapes', 'kojak', 'suny', 'delores', 'hangover', 'einar', 'flank', 'woebegone', 'listen', 'dose', 'narcotics', 'virtual', 'lxc3xa9aud', 'eastwood', 'stunk', 'babesxc2x85', 'tarot', 'dowdy', 'clear', 'mucous', 'chamberlain', 'verrrryyyyyy', 'defendant', 'urbanity', 'mirrors', 'plowman', 'writeup', 'vito', 'prochnow', 'stimulating', 'vette', 'gallop', '9pm', 'unacknowledged', 'raider', '1978', 'xc2x84big', 'mulberry', 'amadeus', 'rigor', 'massochist', 'devoted', 'zellweger', 'currency', 'producer', 'daggers', 'intuition', 'lag', '305', 'luminous', 'checkbook', 'videodrome', 'effort', 'grandchild', 'handbag', 'dhoop', 'plasticky', 'wobblyhand', 'flirts', 'arr', 'litlle', 'bonnet', 'hearfelt', 'unmotivated', 'altair', 'martxc3xadnez', 'tet', 'diappointment', 'profanity', 'crater', 'khoda', 'tagliner', 'featherweight', 'agin', 'lanza', 'cd', 'striaght', 'platypus', 'carnosaurs', 'asses', 'cruell', 'grieco', 'scholl', 'inquisitive', 'rumble', 'contestent', 'internation', 'furlong', 'napkin', 'morse', 'agren', 'wage', 'bertrand', 'watcha', 'consultant', 'feistiness', 'powerful', 'pola', 'terrorizing', 'hardwork', 'miike', 'abo', 'outrageous', 'considering', 'diminutive', 'cameroonian', 'itxc3x95s', 'carbine', 'setup', 'assess', 'piracy', 'awaking', 'muhahahahaha', 'packaging', 'eggs', 'nibelungenlied', 'lief', 'robe', 'trenholm', 'socrates', 'u', 'gavras', 'cheapjack', 'weddings', 'hijacker', 'cuban', 'dialoge', 'bowtie', 'andres', 'buccaneers', 'ages', 'osa', 'homemake', 'ala', 'conveyor', 'oevre', 'pensively', 'mismatched', 'print', 'poitier', 'gish', 'sentiment', 'endurance', 'grimm', 'colonization', 'driveway', 'competition', 'palm', 'flytrap', 'soha', '88', 'scope', 'vick', 'continuously', 'scratch', 'witted', 'marathoner', 'solider', 'killing', 'rachel', 'gaillardian', 'coherence', 'antonioni', 'wail', 'oooh', 'philbin', 'ordinary', 'compelling', 'supposably', 'reviewer', 'temporary', 'haystack', 'marni', 'propaganda', 'hire', 'pedophile', 'punkette', 'odessa', 'dsm', 'wrongfully', 'graveling', 'worker', 'often', 'hologram', 'george', 'presidentxc2xb4s', 'overview', 'gadg', 'precariously', 'paully', 'shangri', 'inbreed', 'disconcertingly', 'au', 'realate', 'insubstantial', 'homicidal', 'virtuosity', 'rxc3xb6se', 'chair', 'electricity', 'deadpool', 'convincingly', 'parson', 'say', 'sideswipe', 'orbs', 'galactic', 'holiday', 'unremittingly', 'mccartney', 'rxc3xa5zone', 'j', 'detectives', 'motorcycle', 'beam', 'hijack', 'attenborough', 'pantheism', 'interstate', 'tone', 'curtain', 'embolden', 'marines', 'ethnicity', 'insteresting', 'fly', 'lulling', 'tremendous', 'jist', 'produce', 'stinkf', 'tobe', 'behold', 'chauncey', 'adaptation', 'connection', 'captain', 'hamster', 'evelyn', 'governor', 'apallingly', 'tomboyish', 'lumet', 'marvellous', 'bajaj', 'hairline', 'again', 'bacharach', 'moviegoing', 'monterey', 'staginess', 'historical', 'gymnast', 'executive', 'cornfield', 'rewinding', 'truley', 'emperor', 'operandi', 'recommendation', 'forgery', 'falcxc3xa3o', 'lavoisier', 'africans', 'state', 'unquestionably', 'winkle', 'omega', '146', 'overstylized', 'engrossing', 'tight', 'complement', 'taximeter', 'rhyme', 'surgically', 'flawless', 'allotment', 'xc2xbfspecial', 'inebriation', 'half', 'headless', 'anecdotic', 'okno', 'verisimilitude', 'cinemagraphic', 'leary', 'indicative', 'chucabra', 'ullmann', 'balky', 'rutger', 'larenz', 'skammen', 'bottoms', 'cluck', 'excrucriatingly', 'delude', 'musicologist', 'walt', 'hyphenate', 'spend', 'matching', 'consequences', 'sighs', 'particuarly', 'muntean', 'dates', 'videotape', 'uninstructive', 'loki', 'pasdar', 'wonderwoman', 'surveyor', 'outside', 'squidbillie', 'unmask', 'territorial', 'shamballa', 'sloppy', 'unrecommended', 'brussel', 'eighter', 'spore', 'crocker', 'wittiness', 'subploy', 'unknowingly', 'illogicalness', 'unconventional', 'unprotected', 'islamic', 'llyods', 'investigation', 'babaganoosh', 'hiv', 'strangler', 'tururro', 'vachtangi', 'tingle', 'glop', 'happen', 'slight', 'anisio', 'bridget', 'betrothed', 'zigzagged', 'escrow', 'fl', 'silverado', 'haunting', 'stinking', 'titillating', 'cinesound', 'tabu', 'everytime', 'retool', 'ocassionally', 'columbo', 'winslet', 'segment', 'tyranasaurus', 'ingenuous', 'due', 'feminst', 'bonanza', 'twig', 'wei', 'antediluvian', 'owl', 'droll', 'claustrophobia', 'dereks', 'originated', 'ating', 'wargaming', 'hills', 'rope', 'smoochy', 'chatter', 'assassination', 'mutton', 'carpathian', 'policemen', 'strictly', 'clichxc3xa8s', 'sortee', 'richthofen', 'smultronstxc3xa4llet', 'rodman', 'echuca', 'xc2xbd', 'pie', 'seduction', 'seventeen', 'griffith', 'redemption', 'random', 'xx', 'turnoff', 'skanky', 'sober', 'janos', 'enigmatic', 'dazzling', 'cringeable', 'moonwalker', 'wined', 'hitchhiker', 'umentary', 'insofar', 'treaty', '1950xc2xb4', 'writer', 'lb', 'effects', 'blethyn', 'sam', 'reproduction', 'valance', 'want', 'phycadelic', 'honour', 'lakeshore', 'nordic', 'flavia', '89', 'ishai', 'longoria', 'swedish', 'poetical', 'hmm', 'thatxc2xb4ll', 'miscasting', 'janice', 'perxc3xba', 'county', 'potrayal', 'ending', 'lok', 'daniels', 'schreiber', 'pyramid', 'mp3', 'doll', 'characterizations', 'wah', 'pronounce', 'bodysuckers', 'lundgren', 'soprano', 'canva', 'torture', 'death', 'fifty', 'haplessly', 'annivesery', 'rollercoaster', 'poetic', 'trower', 'psssssssssssssssycho', 'overacted', 'timeless', 'nanosecond', 'suckle', 'tropical', 'ant', 'deathstalker', 'fifties', '8pm', 'suburban', 'burly', 'truce', 'ps1', 'silvers', 'grier', 'erection', 'straightedge', 'warrant', 'imprisoned', 'hustle', 'standby', 'parkish', 'purser', 'insulted', 'pestilential', 'hervxc3xa9', 'junk', 'salvation', 'entire', 'beforehand', 'comanche', 'pretty', 'libido', 'compact', 'coppola', 'outlines', 'sheepishness', 'past', 'prone', 'reaaly', 'flowing', 'lerner', 'squall', 'detention', 'oppenhemiers', 'equilibrium', 'musicianship', 'degenerateness', 'quest', 'zeroni', 'bitterness', 'conversation', 'dudley', 'research', 'interrelationship', 'miglior', 'exam', 'delirious', 'synonomus', 'elegance', 'fuzz', 'mascot', 'westfront', 'gasp', 'jeopardized', 'alphabet', 'mortenson', 'daniell', 'mae', 'stevens', 'cates', 'ralphie', 'esoteric', 'techy', 'turbocharger', 'gaelic', 'armaggeddon', 'bottomless', 't', 'imposter', 'perfect', 'mcclure', 'balantree', 'lofl', 'loyalism', 'colman', 'bordello', 'throughly', 'uwe', 'story', 'subvalue', 'diolouge', 'pelvi', 'kurt', 'uplifted', 'screwer', 'definingly', 'subserviant', 'whinge', 'redford', 'kirstie', 'telegraph', 'captivate', 'semantics', 'inconsistent', 'delicacy', 'sagamore', 'cab', 'caleigh', 'naseeruddin', 'idiom', 'mummy', 'ladkee', 'racial', 'pillory', 'speakeasy', 'cronyn', 'britton', 'awash', 'supertrooper', 'capital', 'loooooong', 'heartily', 'nicely', 'intellectuality', 'tangentially', 'cudddles', 'unwavering', 'pinocchio', 'baaaad', 'ormsby', 'boop', 'price', 'boulder', 'guilty', 'othello', 'wot', 'bombsight', 'dna', 'notch', 'comedyxc2x85', 'capture', 'virtually', 'outs', 'tha', 'cavaliere', 'feat', 'speaker', 'joeseph', 'coolxc2xb4s', 'magic', 'defense', 'rees', 'eggbeater', 'nighthawks', 'iversen', 'doubt', 'fiste', 'ubiquitously', 'palace', '37', 'upbringe', 'farnham', 'human', 'comedys', 'incorporated', 'hemmingway', 'lila', 'moe', 'watsoever', 'hokum', 'moi', 'shrunken', 'griswald', 'nasty', 'deny', 'gymakta', 'deepen', 'lewdness', 'kids', 'assassins', 'individual', 'diversity', 'beauty', 'estate', '2dimensional', 'snowball', 'pimlico', 'cyberspace', 'machination', 'compositely', 'prem', 'vial', 'sayonara', 'rollerskate', 'blahblahblahblahblahblahblahblahblahblahblahblahblahblahblahblahblahblah', 'absolute', 'convict', 'pasty', 'prosecutor', 'sweaty', 'drugs', 'emilio', 'gwangi', 'streep', 'vicious', 'district', 'segway', 'host', 'comparably', 'skateboarder', 'falsifier', 'goebbel', 'uhf', 'housesitter', 'grunge', 'rip', 'part1', 'bont', 'nastassja', 'agenda', 'tour', 'solder', 'first', 'maupassant', 'fyc', 'geniousness', 'skyscraper', 'brunt', 'derek', 'dusty', 'cris', 'ageless', 'worldwide', 'offended', 'gruner', 'crackhead', 'actual', 's1m0ne', 'reissue', 'gutless', 'fixit', 'stodgy', 'problemsxc2x97and', 'freewheelers', 'padding', 'unintelligible', 'movies', 'soad', 'unpredictable', 'embalmer', 'mist', 'zelweger', 'inaccurate', 'insn', 'rascally', 'wiest', 'vs', 'positive', 'coincident', 'wickedness', 'cavalry', 'snip', 'rising', 'predictable', 'republic', 'seamen', 'rocker', 'goldsmith', 'aya', 'poem', 'iq', 'normal', 'swd', 'threat', 'popcorn', 'scallop', 'bionic', 'hocus', '623', 'upbringing', 'prospective', 'buggy', 'drifter', 'invest', 'method', 'riddle', 'passe', 'tilman', 'enraged', 'yelnat', 'xc2xb4till', 'available', 'w7evbears', 'schaffner', 'evil', 'janis', 'skier', 'interaction', 'sitter', 'trepidation', 'stinko', 'laughed', 'afterward', 'muppet', 'caa', 'however', 'fictionalize', 'tatami', 'pad', 'sheffer', 'float', 'bernhard', 'rockumentary', 'vengeance', 'island', 'payment', 'infect', 'home', 'undone', 'skim', 'creek', 'courageous', 'keeyes', 'technic', 'manhunt', 'xc2x85', '78', 'hongkong', 'cockiness', 'obliterated', 'renewal', 'unromantic', 'invitation', 'retrospect', 'significent', 'tempo', 'loca', 'tori', 'saxony', 'sunglass', 'luis', 'bond', 'dodgers', 'funhouse', 'jade', 'pudde', 'kammerud', 'romantic', 'unanimously', 'tradeoff', 'anchor', 'performance', 'folktale', 'dispassionate', 'raj', 'dismal', 'ravine', 'wocka', 'hissable', 'uncanny', 'thomersonxc2xb4s', 'blah', 'luna', 'astrxc3xa9e', 'excellant', 'knowledge', 'winds', 'milk', 'autopsy', 'moscow', 'slovenian', 'tearing', 'un', 'sematically', 'melinda', 'ossuary', 'notion', 'sweethearts', 'digitizing', 'softcore', 'tart', 'endpiece', 'amerindian', 'avenet', 'kathryn', 'fabian', 'agency', 'rooney', 'ghoulardi', 'matriarch', 'soulessly', 'fairmindedness', 'spencer', 'pontificator', 'colleague', 'mnnage', 'open', 'strongman', 'semitism', 'tonk', 'comeback', 'muddle', 'skillfully', 'whistling', 'liberating', 'concept', 'isherwood', 'haynes', 'sxc3xbcnden', 'occultism', '1', 'collection', 'hurlyburly', 'potency', 'burger', 'mumari', 'fantasticly', 'dumbassed', 'redeeming', 'pornstar', 'etienne', 'coservationist', 'ozark', 'capitol', 'fictionalization', 'reworking', 'gumpf', 'tempe', 'schizophrenia', 'analyze', 'aggrivating', 'docu', 'killer', 'russain', 'muskets', 'noble', 'countertypes', 'tense', 'squirrel', 'defined', 'vulcan', 'cardinal', 'contract', 'stripper', 'frustrated', 'unicorn', 'reflexe', 'hiatus', 'kermit', 'noir', 'chat', 'spring', 'icicle', 'terminator', 'bobbing', 'exactly', 'motto', 'musically', 'canon', 'recurring', 'monosyllabic', 'unrealistic', 'tiring', 'experience', 'obliged', 'singleton', 'rangers', 'rights', 'wauters', 'schwiefka', 'fmc', 'cloning', 'compelled', 'ps', 'moviegoer', 'besson', 'platt', 'exemplar', 'tile', 'atypical', 'profundity', 'detectable', 'teeny', 'survivors', 'gasping', 'louis', 'dallesandro', 'silberling', 'teledrama', 'ethnic', 'baddy', 'smudgy', 'basic', 'hash', 'grease', 'scarring', '86', 'fisher', 'albany234', 'keller', 'riddance', 'wear', 'asteroid', 'imdber', 'sacrifice', 'dictator', 'ausente', 'heroine', 'foxy', 'ban', 'accountant', 'common', 'mercurio', 'network', '80ie', 'discpline', 'snippit', 'buyer', 'liek', 'jungle', 'luck', 'penis', 'vampirism', 'shogun', 'scrooged', 'haddrick', 'xc2xabhotxc2xbb', 'broomsticks', 'quatermains', 'piscopo', 'crashingly', 'michael', 'bogie', 'trisha', 'sweetness', 'dt', 'carrier', 'ignoramus', 'marleen', 'morphin', 'oldham', 'breezily', 'davy', 'shard', 'altioklar', 'english', 'scanne', 'nadia', 'occupied', 'unecessary', 'cutting', 'growth', 'someone', 'otherwise', 'wexc2xb4ll', 'bittersweet', 'frisco', 'provincial', 'interestingly', 'charactor', 'resonate', 'outtake', 'vignette', '00000001', 'cheat', 'nickel', 'purgatory', 'stripbar', 'lapyuta', 'kui', 'opposition', 'marschall', 'memory', 'tsuchiya', 'palsey', 'busey', 'feline', 'lane', 'pass', 'smuggling', 'lariat', 'carnality', 'symmetric', 'els', 'file', 'jittery', 'defecation', 'shlitz', 'replace', 'peep', 'arun', 'perils', 'bing', 'additionaally', 'vaginas', 'nauseous', 'humourless', 'indulgent', 'erroneously', 'visualization', 'speaking', 'perfectness', 'disrepute', 'unconsiousness', 'huckabees', 'hygiene', 'cabana', 'embarasse', 'pinku', 'yuen', 'hillman', 'xc2x97xc2xa0which', 'borat', 'mia', 'wor', 'repel', 'patronisingly', 'swastikas', 'ordinal', 'evident', 'misfire', 'stolen', 'village', 'alheimsin', 'sunset', 'muncher', 'mortal', 'interweaving', 'disco', 'ke', 'pastor', 'conspiracy', 'plasticene', 'entile', 'maturely', 'discretion', 'miss', 'assasination', 'masses', 'power', 'sala', 'sarandon', 'lea', 'rory', 'humble', 'phenomenon', 'flair', 'telenovela', 'anime', 'misleadingly', 'yuk', 'snipes', 'prof', 'arachnoid', 'cursing', 'nominee', 'farnworth', 'environmental', 'algie', 'pair', 'coed', 'grreat', 'extasy', 'helmer', 'xc2x91till', 'enclose', 'sexual', 'disinter', 'imperialism', 'splatterf', 'worthwhile', 'increasingly', 'nuovo', 'amitabhs', 'unspeakably', 'who', 'vijay', 'hatsumo', 'stargate', 'subconscious', 'required', 'pom', 'lone', 'surname', 'fattish', 'disturbed', 'lambropoulou', 'akcent', 'convergent', 'nitrate', 'contention', 'tokyo', 'tchh', 'discovery', 'hokey', 'arc', 'notorious', 'fanservice', 'skifee', 'depressed', 'catalogue', 'ranking', 'whatever', 'patriotxc2xbb', 'horror', 'things', 'destruction', 'starship', 'dressed', 'inadequately', 'spleen', 'ebola', 'aerosol', 'fallon', 'segregate', 'davos', 'mopar', 'cut', 'project', 'niro', 'unabsorbe', 'shockmovie', 'submarine', 'pardner', 'poeple', 'posting', 'stooges', 'unsaid', 'audiocassette', 'uneasily', 'plt', 'stupid', 'sobbing', 'steer', 'lugosi', 'teaser', 'horrorf', 'ship', 'critter', 'information', 'fackin', 'chinatown', 'grimace', 'sureprise', 'rearveiw', 'offense', 'jaws', 'mile', 'caribou', 'iraqi', 'maynot', 'planted', 'margot', 'desiree', 'mispelle', 'started', 'sockpuppet', 'charlatan', 'ce', 'zombies', 'victim', 'unstoppable', 'faqrscape', 'fagging', 'magnavision', 'tallman', 'eve', 'exist', 'eli', 'halloween', 'slugs', 'incommunicability', 'ermey', 'bikini', 'tahitian', 'nanavati', 'pmrc', 'osborne', 'waldau', 'hound', 'pajama', 'sublimity', 'awesomely', 'conceptualization', 'outstay', 'spun', '4out5', 'hoggin', 'prepare', 'noni', 'lotus', 'mississippi', 'sucking', 'cabal', 'slipping', 'hesitance', 'stubborn', 'spooks', 'spurting', 'upgrade', 'such', 'alien', 'fumbler', 'luxury', 'merit', 'hammer', 'weissmuller', 'raja', 'chickenpox', 'brainless', 'steve', 'folklore', 'normality', 'zonked', 'guzman', 'inherent', 'badly', 'handwriting', 'guadalcanal', 'superfriend', 'cool', 'tribunal', 'onj', 'obscenity', 'nicholson', 'reviews', 'pacfier', 'ludicrosity', 'parolee', 'tenderfoot', 'oftenly', 'commission', 'occasion', 'ghoulies', 'misinterpretate', '28', 'grubby', 'commericial', 'multidrama', 'helicopter', 'steev', 'seagull', 'numbingly', 'footwear', 'racket', 'sideline', 'oversimplification', 'specie', 'definently', 'allow', 'wich', 'lust', 'prazer', 'haine', 'hrs', 'lilliput', 'kate', 'chariot', 'pratfall', 'battlestar', 'avenge', 'cubicle', 'homicide', 'swordsmanship', 'booger', 'craptitude', 'squad', 'rut', 'surfer', 'blunt', 'truant', 'forever', 'bomberg', 'phewww', 'cuter', 'memorized', 'chauffer', 'achingly', 'morbidly', 'ashamed', 'correct', 'bomber', 'curiosity', 'videowork', 'goebbels', 'bbcamerica', 'wellesian', '3rd', 'encompassing', 'more', 'deserve', 'intergenerational', 'abound', 'bankable', 'cheesy', 'ugh', 'me', 'odd', 'ideologie', 'clout', 'airplane', 'hos', 'balkan', 'courtmartial', 'dirtball', 'unmade', 'mazurki', 'married', 'lensman', 'skeletal', 'gordon', 'ascendant', 'babette', 'those', 'controlling', 'plots', 'atleast', 'tearjerker', 'briefest', 'unwatchably', 'ood', 'believeable', 'centurions', 'emotion', 'canaanite', 'the', 'fundamentalist', 'realisation', 'charistmatic', 'annoy', 'whately', 'enjoyable', 'adabte', 'ixe2x80x99', 'zenith', 'madsen', 'monsta', 'dimmer', 'initial', 'greek', 'datum', 'bigfoot', 'allegation', 'shoe', 'chris', 'coz', 'n', 'novella', 'amistad', 'marylee', 'playmate', 'cohesion', 'gob', 'legionnaire', 'caldwell', 'xc2x91red', 'pain', 'coldness', '1939', 'twat', 'jimbo', 'detail', 'decline', 'blinder', 'kk2840', 'edit', 'snippet', 'kirk', 'exploited', 'geography', 'fallen', 'truly', 'complex', 'courtiaud', 'sidestep', 'christy', 'ts', 'happened', '16k', 'escapee', 'riverdance', 'marine', 'wegener', '6', 'shahid', 'kinder', 'resoloution', 'nazi', 'misunderstood', 'loust', 'balanguerxc3xb3', 'abysmally', 'snoozefest', 'spooky', 'ivy', 'shade', 'snarl', 'violent', 'soviet', '1910', 'embarrass', 'realist', 'changin', 'misty', 'decent', 'sentimentality', 'particullary', 'induce', 'softporn', 'whedonettes', 'rooster', 'medallion', 'squaresoft', 'weirdly', 'cacaphonous', 'customizer', 'murderously', 'dominican', 'steroid', 'goldblum', 'maitresse', 'blier', 'necklace', 'unrehearsed', 'snafuperman', 'ireland', 'margera', 'rajnikanth', 'bottle', 'hamming', 'lyric', 'tweety', 'overloud', 'nevil', 'gerda', 'archive', 'crosse', 'insurance', 'conflict', 'stuff', 'innerviews', 'darkwave', 'heal', 'sanctimonious', 'calvin', 'irreconcilable', 'dimestore', 'stoical', 'na', 'interesting', 'rudolph', 'impressionist', 'honey', 'doofus', 'transparency', 'cultivation', 'puffin', 'adept', 'scenario', 'grey', 'firestarter', 'lestat', 'scour', 'calabrese', 'dickory', 'nightingale', 'toyiji', 'porsche', 'favs', 'party', 'residual', 'constant', 'gilchrist', 'babies', 'sctv', 'damsel', 'saver', 'sharp', 'distribute', 'sissily', 'unknown', 'adv', 'expresssion', 'abroad', 'nanette', 'archer', 'rehash', 'discernment', 'pidgin', 'reconciliation', 'turd', 'cassavetes', 'smuggle', 'combustible', 'mimi', 'sorcery', 'recommendable', 'rejuvinate', 'hazardous', 'bourbon', 'crappiness', 'oldster', 'disappointed', 'vr', 'itxc2xb4s', 'wrecking', 'ocean', 'elektra', 'infantryman', 'topsy', 'poppins', 'belzer', 'execrable', 'bettie', 'camadrie', 'itami', 'lunchtime', 'purposeless', 'chastity', 'sc', 'extenuate', 'dr', 'thebg', 'hoo', 'rememberance', 'kramp', 'goddamne', 'gardener', 'precictable', 'destructiveness', 'unpretentious', 'soze', 'copywrite', 'incubus', 'jog', 'inferno', 'dan7', 'tautly', 'intellectualize', 'waltari', 'barcleona', 'creature', 'ketchup', 'linklater', 'korman', 'msg', 'kilimanjaro', 'pabulum', 'miriad', 'leiji', 'bears', 'carfare', 'leguizamo', 'rocket', 'masterpiece', 'ninga', 'ceo', 'legends', 'intelligibly', 'heavyweight', 'niggle', 'unerringly', 'repitive', 'scan', 'drawer', 'walking', 'migraine', 'steroids', 'amusing', 'whet', 'wowsers', 'starrer', 'ritchie', 'sic', 'definiately', 'warhols', 'model', 'dissapointe', 'automotive', '5', 'gooey', 'girls', 'hardie', 'communicate', 'appreciative', 'objectively', 'wax', 'videotaping', 'treater', 'sorcerer', 'marche', 'scandalously', 'egg', 'gorehound', 'landlord', 'duckle', 'deer', 'caravan', 'sloooowwwww', 'snap', 'tyrannous', 'llbean', 'awful', 'separated', 'novelty', 'stkinks', 'cockney', 'cleaning', 'scandinivian', 'folkloric', 'fever', 'wannabe', 'bronxy', 'family', 'kingdom', 'howie', 'ultralight', 'sweet', '1hour', 'rather', 'brainsucke', 'hobgobblin', 'schiess', 'animate', 'spader', 'ishimoto', 'hateeeeeeedddd', 'terrestrial', 'alarm', 'sixpack', 'progress', 'vogue', 'shadowlands', 'cassette', 'reformatory', 'air', 'thug', 'ms', 'caricuture', 'machaty', 'irrepressible', 'accusee', 'carousel', 'artsy', 'guest', 'misspent', 'plagiarist', 'adjoining', '1950', '45', 'obligation', 'inexcuseable', 'entrail', 'overwhelming', 'wounds', 'step', 'moby', 'replay', 'hive', 'dunderheade', 'peasant', 'tainted', 'hey', 'cheapy', 'supermodels', 'explantion', 'hours', 'gainax', 'inheritance', 'elegant', 'demagogic', 'swanky', 'xtro', 'interrogation', 'cetera', 'bizzzzare', 'zsrr', 'bindingly', 'laceration', 'unusual', 'selma', 'eastalgia', 'regiman', 'soid', 'connors', 'heel', 'cheer', 'invisibly', 'careful', 'headgame', 'abilityof', 'etherial', 'developed', 'goth', 'pricelessly', 'time', 'lieberman', 'holden', 'uncle', 'clockwise', 'nunez', 'unflattering', 'pants', 'smorgasboard', 'toth', 'magdelena', 'plantage', 'positivity', 'worst', 'tgif', 'rugrats', 'ribisi', 'suspenseful', 'labour', 'evening', 'department', 'characther', 'caalle', 'ozon', 'sporting', 'yoon', 'binding', 'idjit', 'waterfront', 'prosciutto', 'episope', 'ishtar', 'parking', 'tykwer', 'utiful', 'beute', 'lauter', 'halfway', 'possible', 'hospital', 'exhibit', 'despite', 'deodorant', 'hermiting', 'partying', 'anicee', 'insolently', 'fixation', 'vulture', 'stu', 'stockton', 'tromatize', 'mccamus', 'judd', 'creatures', 'ledger', 'sherri', 'bladder', 'zipper', 'baba', 'sexy', 'robbery', 'crockzilla', 'blithe', 'blind', 'proctology', 'parallax', 'beach', 'thingie', 'valley', 'whale', 'fascist', 'serlingesque', 'underpar', 'boxes', 'eyecatcher', 'awww', 'butt', 'phenix', 'restrained', 'lachy', 'mst3k', 'itv', 'torrent', 'crispen', 'wining', 'trumpeter', 'importance', 'zai', 'horor', 'lelouch', 'photog', 'wwe', 'fortune', 'continuois', 'syn', 'prostitution', 'repentant', 'seine', 'swithen', 'hankie', 'fence', 'attendant', 'killjoy', 'pow', 'stagehand', 'enshrine', 'minded', 'pov', 'fictional', 'elephants', 'betrayal', 'fade', 'dat', 'watery', 'nude', 'gnat', 'vilification', 'anglos', 'definetly', 'personified', 'overboard', 'machine', 'jiggle', 'compromise', 'enjoyed', 'alterego', 'axiom', 'vagabond', 'meritocratic', 'spalding', 'filmmuseum', 'grumpy', 'sure', 'clare', 'mitchell', 'discussion', 'advert', 'juno', 'launch', 'plods', 'mesmerising', 'tacky', 'dishrag', 'nk', 'sprint', '10', 'sanderson', 'offcourse', 'deconstructed', 'ook', 'tow', 'compilation', 'whip', 'inhibition', 'unusal', 'climax', 'knots', 'bulgarian', 'ritchy', 'untestable', 'crescent', 'slap', 'widowed', 'millionairess', 'repetoire', 'goofiest', 'freedom', 'selling', 'fredrikstad', 'soundman', 'night', 'avenger', 'expedition', 'touchstone', 'headlight', 'cheap', 'gw', 'stuffed', 'nose', 'theopolis', 'trip', 'berkowitz', 'shekel', 'newsroom', 'paranoia', 'explosive', 'redo', 'cybersix', 'rotoscoping', 'untouchables', 'bulldog', 'annoyance', 'rivet', 'ceiling', 'tthe', 'fatale', 'cheeseyness', 'busker', 'restricting', 'mooney', 'naughty', 'har', 's', 'provider', 'adventurer', 'tz', 'reeducate', 'table', 'heroic', 'mac', 'fakumentarie', 'anne', 'onhand', 'skip', 'trade', 'mad', 'hollywoodise', 'savales', 'mutha', 'thirtysomething', 'daniel', 'gimmicky', 'cylinder', 'schmalz', 'sm', 'tremors', 'needless', 'acid', 'mandatory', 'enoy', 'spill', 'extremley', 'gant', 'greens', 'reputedly', 'babylon', 'boost', 'letterboxe', 'greenwich', 'aestheically', 'sorted', 'dennis', 'uncertain', 'elation', 'cooledit', 'antwerp', 'base', 'thema', 'commodification', 'shanghai', 'someplace', 'scriptwriters', 'astxc3xa9rix', 'effortlessly', 'whine', 'mam', 'diehard', 'cinematician', 'dentists', 'rock', 'boo', 'frustratedly', 'structure', 'blythe', 'upstaging', 'touch', 'gallery', 'restoration', 'realistically', 'symbol', 'placement', 'steamroll', 'callousness', 'peary', 'sleepwalker', 'dreamin', 'villa', 'confessed', 'hidden', 'suggestive', 'setback', 'revolution', 'taps', 'bestow', 'trademark', 'pimp', 'tricheur', 'gang', 'femur', 'peters', 'messiah', 'waitress', 'lettuce', 'tenfold', 'brantxc2xb4s', 'scrotal', 'hinterholz', 'filmography', 'western', 'acupuncturist', 'motor', 'extrapolate', 'player', 'participate', 'fuel', 'gable', 'cocaine', 'stewart', 'orthodoxy', 'saiyan', 'curmudgeon', 'user', 'batman', 'aaaaaaahhhhhhggg', 'risk', 'flash', 'fellow', 'insignia', 'psychoactive', 'straws', 'feasibly', 'zeppelin', 'honkeytonk', 'maid', 'perm', 'ahhh', 'platinum', 'spectacular', 'shinny', 'feoutus', 'depravation', 'engrose', '68', 'sync', 'escavate', 'right', '74', 'vigilante', 'mountaineer', 'cineatique', 'roundabout', 'athlete', 'ridiculing', 'wraparound', 'soundstage', 'favour', 'mgm', 'nicolas', 'elton', 'gov', 'planter', 'congragulation', 'ran', 'starfish', 'kokaku', 'somehow', 'fiscal', 'harder', 'dancer', 'beware', 'unattractive', 'cover', 'glacial', 'ppl', 'brycer', 'dandys', 'explain', 'sympathize', 'meatloaf', 'seltzer', 'would', 'starpower', 'assinge', 'dumberer', 'godzilla', 'fairytale', 'hoard', 'beguile', 'iwant', 'liner', 'vicar', 'parenting', 'roland', 'lillard', 'altay', 'doo', 'deliver', 'regardsless', 'overrated', 'muscle', 'basquit', 'remorsed', 'shaggy', 'oneness', 'shakespeare', 'dump', 'splendour', 'yahoos', 'tlw', 'beginnings', 'quel', 'tank', 'weirder', 'woa', 'figure', 'dildo', 'czar', 'adjust', 'victrion', 'shalom', '230', 'terashita', 'concernene', 'colours', 'implied', 'gxc3xb6ran', '571', 'tarintino', 'castle', 'sleuthing', 'saleswoman', 'gelled', 'crotch', 'bachman', 'hidde', 'spotlight', 'bio', 'wipe', 'snl', 'northt', 'constraint', 'darkly', '0000000000001', 'hell', 'scanner', 'pinup', 'appropriated', 'clansman', 'bmoviefreak', 'abridged', 'chemistry', 'runaway', 'practitioner', 'swang', 'hero', 'knowle', 'helena', 'marmalade', 'tommy', 'quickie', 'verbatim', 'buzz', 'mousey', 'crematorium', 'teleplay', 'persecution', 'warehouse', 'circle', 'commedia', 'theater', 'carnosour', 'silva', 'bottom', 'brothel', 'emasculation', 'butler', 'cancelled', 'tish', 'muffin', 'audience', 'roeg', 'wizardry', 'thicken', 'barbershop', 'swamp', 'udder', 'mather', 'blaring', 'eclipse', 'tredje', 'runtime', 'horizontal', 'boarding', 'saw', 'strenuously', 'giri', 'incredibly', 'ny', 'lost', 'xmas', 'wache', 'cimarron', 'grownup', 'loop', 'vannoord', 'stormbreaker', 'bfi', 'navy', 'wifes', 'mcewan', 'hamfiste', 'heart', 'chips', 'midproduction', 'crackly', 'pythonesque', 'build', 'laught', 'zoe', 'shown', 'completely', 'twins', 'barf', 'young', 'sproute', 'stag', 'parachutist', 'pyche', 'sermon', 'stock', 'chemestry', 'filmmaking', 'pinhead', 'peckinpah', 'jargon', 'streetfighter', 'nanoo', 'tesich', 'footie', 'alienation', 'dystrophy', 'verry', 'loose', 'maschocist', 'plasticness', 'enticing', 'tastefulness', 'discern', 'astounded', 'slowmotion', 'repetition', 'americans', 'drivel', 'officer', 'esther', 'ooooof', 'self', 'darkening', 'under', 'housemaid', 'moodiest', 'interconnectivity', 'extended', 'improvising', 'brat', 'scalpel', 'duality', 'norrland', 'remedy', 'leatherhead', 'describes', 'impost', 'hwo', 'buch', 'wick', 'reasons', 'argentoxc2xb4s', 'almighty', 'dandelion', 'extermination', 'bondian', 'xc2x80', 'fabray', 'continuncy', 'meatmen', 'norweagian', 'prolly', 'nonosyllabic', 'carbon', 'masters', 'imperium', 'margaret', 'cliffhangin', 'resistance', 'wenders', 'pakistan', 'resonant', 'covert', 'interrogative', 'argued', 'venom', 'studder', 'architect', 'dormal', 'throat', 'enough', 'singapore', 'peter', 'unbeliever', 'critisim', 'babu', 'pope', 'wrinkler', 'custody', 'oedipus', 'roadie', 'isle', 'suitable', 'danver', 'nuke', 'xc2xa34', 'bill', 'fullframe', 'lynchophile', 'slobby', 'mod', 'about', 'kill', 'hello', 'fishtail', 'seedy', 'suggessted', 'untouched', 'ezio', 'thinker', 'transportive', 'rubbish', 'demon', 'freebird', 'hoki', 'ove', 'preceede', 'fortress', 'semitic', 'taker', 'augusten', 'threate', 'expressionistic', 'qualities', 'phasor', 'nightline', 'thatcher', 'pervert', 'nuace', 'habour', 'bismol', 'informercial', 'moviemaker', 'subtraction', 'crucially', 'overkille', 'dozen', 'sickle', 'corset', 'screenlay', 'eater', 'hud', 'forklift', 'counterproductive', 'martian', 'atractive', 'alot', 'southeast', 'unhinged', 'happiness', 'ty', 'marseille', 'online', 'warner', 'enjoyability', 'kayak', 'wai', 'korean', 'bowery', 'extremelly', 'dolore', 'saturate', 'caviar', 'fittingly', 'titanic', 'limits', 'frequently', 'tigh', 'smoke', 'installment', 'presque', 'obcession', 'idle', 'afford', 'blondy', 'ft', 'pitty', 'flanders', 'asleep', 'standup', 'predeccesor', 'holocaust', 'admiral', 'sulfurous', 'drek', 'oneself', 'misrepresentative', 'bruise', 'invisibility', 'unused', 'channing', 'thirty', 'accumulator', 'mannered', 'demonise', 'cinema', 'couli', 'fairy', 'aka', 'mere', 'totoro', 'dalton', 'backdraft', 'logic', 'hurrz', 'artticle', 'retelling', 'bogans', 'shiny', 'corpulent', 'creditable', 'hpd2', 'zoo', 'miklxc3xb3s', 'roses', 'austrian', 'clichxc3xa9', 'amnesic', 'mumblecore', 'heroistic', 'fairyfloss', 'greedy', 'robowar', 'between', 'column', 'interpretation', 'wing', 'proficiency', 'shapeless', 'pretender', 'a', 'genderbender', 'starfleet', 'modest', 'mislead', 'recital', 'wonderment', 'ives', 'graveyard', 'columbian', 'expectation', 'investigator', 'conduce', '103', 'kielty', 'rodeo', 'timewise', 'h6', 'catfighting', 'lifer', 'cookoo', 'comedy', 'persistence', 'shiloh', 'petition', 'nine', 'maximally', 'clenching', 'supposable', 'shriek', 'elucidate', 'corday', 'labor', 'contest', 'peanut', 'woody', 'advantage', 'revealed', 'definatly', 'clink', 'mitt', 'trapper', 'euphemism', 'shrimp', 'actress', 'millions', 'shallow', 'telling', 'apolitical', 'broadly', 'harrold', 'fastidious', 'sampler', 'consign', 'pack', 'driscoll', 'herendous', 'seaport', 'summary', 'dainty', 'acknowledgment', 'spoil', 'amply', 'toothbrush', 'maniac', 'swatch', 'constipated', 'atcha', 'dewaana', 'whoop', 'meaning', 'earning', 'dw', 'distribution', 'pupil', 'forwards', 'barky', 'wll', 'inexplicable', 'batwoman', 'mucky', 'clonking', 'c1', 'web', 'arachnia', 'rudimentary', 'look', 'badmitton', 'underway', 'fundamentalism', 'incomplete', 'irascibly', 'interrogator', 'football', 'sweetish', 'bloated', 'focusse', 'humping', 'gig', 'jeon', 'filth', 'queirxc3xb3s', 'alec', 'lobster', 'indifferent', 'vonneguty', 'wacke', 'correctional', 'adolescent', 'condtion', 'braggadocio', 'tandem', 'holistic', 'morton', 'bozo', 'paedophile', 'principalle', 'light', 'licker', 'monopoly', 'wrestler', 'groovadelic', 'mila', 'fi9lm', 'awtwb', 'absence', 'widower', 'cannibal', 'bubbly', 'twisty', 'epitaph', 'fele', 'vincent', 'dave', 'contagious', 'kabbadi', 'joint', 'finance', 'subversive', 'creightons', 'underdressed', 'finalist', 'dante', 'herein', 'puerto', 'rilly', 'tala', 'barrels', 'naturedness', 'alienware', '9lbs', 'reigonal', 'crossfire', 'during', 'waterworld', 'transatlantic', 'wind', 'suite', 'rummage', 'cyberman', 'persevere', 'flan', 'roughest', 'wit', 'exaggerating', 'funniest', 'jayenge', 'bergmanxc2xb4s', 'iresistable', 'recompense', 'housesitte', 'frat', 'abc', 'fog', 'sabatini', 'himmel', '98', 'cage', 'v', 'personally', 'conon', 'filipino', 'wa', 'hemp', 'depot', 'hula', 'ethical', 'ladys', 'inaccuaracie', 'lieutenant', 'fothergill', 'johnson', 'puhleasssssee', 'locker', 'neal', 'webber', 'spiritual', 'commercialization', 'preachy', 'outpost', 'fort', 'stones', 'hoosier', 'trye', 'hurricane', 'floozie', 'hanky', 'emission', 'exaggerate', 'diarhhoea', 'gossett', 'independently', 'funney', 'shower', 'animitronic', 'skeptico', 'shyamalan', 'guignol', 'relentlessly', 'chunk', 'sox', 'mung', 'lacking', 'genetic', 'vivacity', 'shakedown', 'armani', 'jacka', 'concise', 'wheter', 'therapy', 'marlow', 'christening', 'heartstre', 'belushi', 'decently', 'journey', 'verses', 'marriage', 'hubba', 'kipling', 'ben', 'divination', 'precisely', 'nature', 'grenade', 'lock', 'ashish', 'fontaine', 'madrigal', 'freebie', 'excusable', 'athelete', 'topcoat', 'mya', 'vague', 'legit', 'barbet', 'splattering', '100min', 'actionpacked', 'undisputed', 'till', 'miko', 'bloat', 'rickety', 'sorely', 'encounter', 'plowright', 'methinks', 'mathew', 'fury', 'dramatical', 'vincend', 'frustration', 'darkness', 'mccallum', 'sorpasso', 'tanishaa', 'morrison', 'molly', 'allende', 'tao', 'underground', 'transform', 'excpet', 'submariner', 'shiksa', 'newstart', 'trever', 'magician', 'racially', 'elm', 'stigmata', 'kyun', 'inept', 'definitively', 'lifestory', 'autumnal', 'eb', 'dint', 'potter', 'replacement', 'assure', 'unclothed', 'italiano', 'wagons', 'blacken', 'kinnear', 'terracotta', 'carnaby', 'reteam', 'mil', 'unintereste', 'himesh', 'conservatism', 'potty', 'cassandra', 'nudie', 'fruits', 'dinosaur', 'orsino', 'antenna', 'piranhas', 'either', 'bonbon', 'trinian', 'copyist', 'bandito', 'rowland', 'park', 'offender', 'damon', 'narrow', 'franxc3xa7oise', 'laugh', 'meat', 'pickup', 'surely', 'poignancy', 'vagina', 'dreck', 'cky2', 'absolutly', 'acknowledge', 'buck', 'otherside', 'glendyn', 'flimsy', 'wordless', 'coast', 'cheep', 'critters', 'witchery', 'desi', 'cowboys', 'fonda', 'flabbergastingly', 'caitlin', 'theme', 'bronte', 'naxc3xafve', 'isabel', 'der', 'donuts', 'snit', 'bogroll', 'indian', 'alongside', 'mass', 'footy', 'aneurysm', 'inertia', 'ipsmith', 'dont', 'spurt', 'ohdear', 'north', 'bots', 'perceive', 'monkeydellic', 'monkey', 'eun', 'caligulia', 'serie', 'valkyrians', 'bulimia', 'sheldon', 'champlain', 'talents', 'sever', 'videostores', 'vine', 'handicap', 'official', 'willoughby', 'cheaply', 'ozzie', 'carson', 'coffin', 'moviedom', 'bald', 'rks', 'mewl', 'missfortune', 'hepatitis', 'governess', 'nasaan', 'deathtrap', 'mermaid', 'bun', 'ajit', 'tat', 'blatent', 'overload', 'convida', 'contained', 'frankenheimer', 'obi', 'honky', 'sirbossman', 'limbs', 'anticristo', 'ler', 'resourcefulness', 'redemming', 'babel', 'fifteen', 'enormity', 'unutterably', 'bbcs', 'uhum', 'intern', 'loot', 'indolently', 'kyoto', 'curry', 'udy', 'homeschooler', 'woop', 'figurehead', 'pop', 'snobbishness', 'hitchcockian', 'diddle', 'bonus', 'rh3', 'warning', 'courtyard', 'stupidy', 'edited', 'contrastingly', 'shootout', 'cassarole', 'glad', 'forte', 'tenant', 'veteran', 'evel', 'minister', 'disengaged', 'sheep', 'mosntre', 'chewy', 'dryer', 'intimidating', 'institution', 'mockery', 'allyway', 'titain', 'paycock', 'guntenberg', 'stuart', 'unidentified', 'vince', 'nourishment', 'arty', 'footlight', 'repugnantly', 'transylvania', 'hands', 'full', 'modicum', 'buffoonery', 'transgressive', 'clouds', 'wrote', 'rag', 'role', 'wholesome', 'worth', 'coiffured', 'brookmyres', 'claptrap', 'weary', 'bomb', 'detmer', 'pacino', 'quantification', 'revival', 'consigliori', 'nott', 'kumble', 'northanger', 'conclusion', 'mon', 'exasperating', 'voiceover', 'pronunciation', 'supremacist', 'inaccuracy', 'voltage', 'excepte', 'hazing', 'parkway', 'celebs', 'lovable', 'gouging', 'rely', 'desecration', 'singlet', 'unrealized', 'unrurly', 'humanoid', '5ive', 'dislikably', 'programme', 'psychologist', 'spiteful', 'aside', 'itch', 'sequiter', 'scooby', 'formulate', 'direction', 'escaped', 'disorder', 'bose', 'unwaivere', 'warped', 'vaughan', 'ended', 'hp', 'wracking', 'lousiness', 'elmes', 'escapist', 'jl', 'repository', 'medicine', 'infidelity', 'bearing', 'chocolate', 'codename', '70ie', 'cramp', 'prosatanos', 'apparently', 'politician', 'censor', 'inappropriately', 'repugnant', 'layer', 'trapeze', 'thomas', 'gusto', 'julianne', 'hemo', 'tyte', 'misbehaving', 'congratulatoins', 'packet', 'butchery', 'strengthen', 'complexity', 'jhoom', 'thrush', 'blake', 'without', 'monorail', 'yzma', 'branch', 'ducky', 'earring', 'jetsons', 'pascoe', 'favoirite', 'weclome', 'sez', 'valuation', 'productions', 'attonment', 'hip', 'fear', 'subtlely', 'moneybags', 'magnific', 'sass', 'unify', 'pedestrian', 'ensure', 'plant', 'chandu', 'megan', 'internationale', 'havoc', 'both', 'connor', 'wreckage', 'callibre', 'foul', 'lab', 'prudish', 'extreamly', 'viver', 'headedness', 'rink', 'regfreshe', 'activist', 'china', 'church', 'inadvertent', 'draw', 'somewhow', 'pageant', 'soap', 'laughable', 'hoke', 'accidently', 'hongsheng', 'penlight', 'ape', 'ramones', 'vangelo', 'limburg', 'origional', 'potemkin', 'hydro', 'dueringer', 'monstruous', 'feministic', 'watkin', 'ever', 'theflickguy', 'tails', 'practically', 'kelly', 'tolerably', 'robotics', 'hxc3xb4tel', 'sharer', 'garden', 'lamely', 'schtook', 'bigotry', 'def', 'neverending', 'diver', 'dare', 'henson', 'wanna', 'sides', 'doodle', 'zealander', 'hedgehog', 'isbn', 'modern', 'melting', 'snafu', 'emigrant', 'gangster', 'hypothermic', 'art', 'wilfully', 'disrespect', 'censored', 'tripe', 'inglourious', 'hint', 'lacquered', 'flikere', 'comedically', 'woulda', 'seniority', 'nighclub', 'cantor', 'intemperate', 'secs', 'unappreciated', 'voter', 'bureaucracy', 'hail', 'sings', 'meekness', 'psycho', 'bohlen', 'alheimsins', 'advocate', 'controversial', 'cellblock', 'tough', 'eddie', 'mush', 'carney', 'winsomeness', 'maureen', 'advisor', 'brunette', 'bxc3xa9art', 'cradle', 'xe2x80x93', 'cheeziness', 'exorcism', 'dimness', 'kiran', 'desegregation', 'twi', 'latifah', 'ummm', 'unearp', 'bilingual', 'roque', 'noire', 'toxie', 'fulcixc2xb4s', 'appropriation', 'fotp', 'mining', 'manasota', 'rude', 'merely', 'ribaldry', 'unutilized', 'mansion', 'explode', 'iron', 'classie', 'canny', 'scarf', 'rile', 'pikachu', 'eaglexc2xb4s', 'coupling', 'bird', 'chase', 'sho', 'therefrom', 'propitious', 'relay', 'slyvester', 'tobias', 'deaf', '211772166650071408', 'peaknuckle', 'tango', 'salve', 'lya', 'las', 'beaut', 'niner', 'elf', 'channe', 'okay', 'lull', 'wolfman', 'triple', 'bellucci', 'appaule', 'swearing', 'proper', 'hal', 'dramaturgy', 'absinthe', 'moonshine', 'casio', 'butthrough', 'courtin', 'snorks', 'harshly', 'hooked', 'woman', 'tweedle', 'bluffing', 'colony', 'rollseye', 'preppe', 'populism', 'corp', 'intermeshe', 'blackout', 'scant', 'stigma', 'dev', 'epiphanal', 'warren', 'alexanders', 'belter', 'smuttishness', 'tonight', 'decontamination', 'scumbag', 'framing', 'supplication', 'untruthful', 'planktonrule', 'sen', 'amateurism', 'property', 'science', 'overhaul', 'mas', 'beaver', 'matt2', 'spirits', 'stare', 'juggling', 'prom', 'script', 'criticize', 'handcuff', 'eglimata', 'bandit', 'outstanding', 'volume', 'chess', 'galla', 'tous', 'capote', 'poirxc3xa9', 'imaging', 'unkown', 'alone', 'fastmoving', 'eeeb', 'chug', 'dissertation', 'archdeacon', 'razorblade', 'blotch', 'dreariest', 'delicious', 'goalie', 'farily', 'butthorn', 'puppetmaster', 'mortician', 'victory', 'wrongful', 'su', 'thanatos', 'colloquialism', 'arm', 'survival', 'gunbuster', 'stingers', 'understandable', 'windmill', 'backstory', 'pea', 'whole', 'asheville', 'treacherous', 'screentime', 'watros', 'temerity', 'disappointment', '13th', 'texture', 'benjamenta', 'indahouse', 'liberal', 'warlock', 'btw', 'heyerdahl', 'ai', 'busta', 'thoughout', 'identic', 'heartwarme', 'probally', 'scoreboard', 'incestuous', 'xc3xa9tat', 'add', 'improvisationally', 'rumination', 'waaaaaay', 'shrek', 'unfaile', 'assault', 'polically', 'empty', 'nauseatingly', 'trully', 'hipspeak', 'raise', 'clubberin', 'dvd', 'tourist', 'carradine', 'svend', 'sentai', 'slooooooooow', 'rockies', 'verrrrry', 'nice', 'toledo', 'menstruation', 'aerial', 'frankenstein', 'dillon', 'dialectic', 'mojave', 'stoopid', 'absorption', 'hurriedly', 'anglophile', 'cassevete', 'hock', 'returns', 'ada', 'renauld', 'mangal', 'inferiority', 'oz', 'topic', 'backbite', 'vinterbergs', 'jacknife', 'hypothesis', 'indianised', 'communism', 'garbage', 'delinquency', 'expat', 'pioneer', 'whatsoever', 'motive', 'cormen', 'succede', 'fiende', 'gnome', 'rename', 'post', 'ineffectiveness', 'bushwood', 'bunny', 'flaw', 'wig', 'unearthed', 'gods', 'occult', 'wells', 'strange', 'homespun', 'icee', 'raunchy', 'herd', 'warrior', '27', 'resemblence', 'window', 'freak', 'stubbornness', 'monogatari', 'divine', 'fresh', 'roamer', 'moose', 'excruiciate', 'inglorious', 'hair', 'undue', 'imbd', 'geeration', 'supercarrier', 'neolithic', 'spellbinding', 'vaccine', 'redneck', 'nitty', 'teach', 'conserve', 'overwork', 'carrxc3xa8re', 'defenitly', 'unjustly', 'fullscreen', 'ogle', 'van', 'grade', 'sacarstic', 'gamble', 'xc2xa0', 'pyrotechnic', 'sat', 'commencement', 'crackers', 'commandments', 'fath', 'sophisticatedlyness', 'teed', 'geeky', 'direct', 'enema', 'contemplative', 'straight', 'wildness', 'mullet', 'walters', 'highballe', 'hooper', 'destroy', 'distracted', 'barnum', 'band', 'steeman', 'gimpy', 'blossom', 'chance', 'resurect', 'ad', 'maimed', 'sicken', 'scarlatina', 'dungeon', 'quitte', 'poorly', 'group', 'avoid', 'virtue', 'optically', 'cellulose', 'talkie', 'joy', 'strat', 'lubitsch', 'alarmingly', 'mongolian', 'schumacher', 'franchise', 'fando', 'part2', 'merging', 'electrocute', 'harlin', 'mail', 'pentameter', 'volontxc3xa9', 'drowsily', 'shame', 'aid', 'dagwood', 'pantie', 'democratic', 'obscene', 'ghotst', 'dirge', 'heinlein', 'maby', 'sjxc3xb6strxc3xb6', 'tamper', 'swinging', 'posidon', 'daym', 'peddler', 'consternation', 'korine', 'christie', 'commend', 'box', 'singer', 'homosexual', 'mid', 'hopeful', 'clunky', 'jap', 'xc2xa37', 'identifiable', 'orientation', 'witchboard', 'preadolescent', 'bopper', 'quin', 'frederick', 'triad', 'shuddering', 'sundance', 'binary', 'keven', 'rappenau', 'tech', 'superlgue', 'beforexc2x85only', 'chipmunk', 'improv', 'mcghee', 'thrust', 'shoplifting', 'doktor', 'demagoguery', 'fmv', 'boatworker', 'crapola', 'xc2xa0xc2xa0xc2xa0xc2xa0film', 'absurdist', 'clowning', 'robin', 'misinformation', '20c', '62229249', 'key', 'felonious', 'cumentery', 'hardiness', 'drip', 'ahista', 'await', 'organized', 'innocence', 'prophetic', 'competitor', 'masterbrain', 'premiere', 'okish', 'sxc3xa1', 'beep', 'ambersons', 'thunderbolt', 'trifecta', 'embarase', 'nailbiter', 'command', 'nervous', 'unassured', 'jewellery', 'suggest', 'system', 'lecherousness', 'greas', 'undiagnosed', 'technomusic', 'versus', 'ginty', 'outdate', 'agatha', 'variable', 'rewatch', 'polanco', 'collosal', 'railroad', 'indonesian', 'insensitivity', 'ludicrously', 'actor', '7even', 'hallucinatory', 'boothe', 'rossano', 'strengh', 'likes', 'footrace', 'achieve', 'shinobu', 'atrotious', 'futility', 'technology', 'bosie', 'recognition', 'personage', 'lines', 'paymer', 'excperience', 'distant', 'bask', 'baby', 'niamh', 'hellion', 'nare', 'cabot', 'drivvle', 'mockage', 'tulipe', 'alcohol', 'transvestitism', 'ignite', 'pa', 'brimely', 'tiff', 'compress', 'specials', 'emotionalism', 'ourday', 'mayve', 'perhas', 'freezer', 'corpses', 'beginner', 'steckler', 'castmember', 'hidebound', 'pancake', 'sound', 'cracker', 'candidate', 'airy', 'andersson', 'horsie', 'unpretensive', 'dollars', 'benigni', 'league', 'santa', 'crashers', 'maker', 'tactic', 'greeting', 'milos', 'greeks', 'misery', 'chiasmus', 'completeist', 'saber', 'takeaway', 'foch', 'superbowl', 'accompanying', 'cherce', 'poverty', 'marthe', 'tie', 'porn', 'remaining', 'blaise', 'klayman', 'moviexc2x97just', 'consideration', 'mill', 'drone', '9th', 'hauser', '2001', 'shooter', 'rendition', 'hubristic', 'inaudibly', '20', 'remind', 'swordfighting', 'bianco', 'hector', 'rose', 'completly', 'seamless', 'handyman', 'snuff', 'preach', 'foursome', 'pandos', 'tl', 'lejanos', 'assy', 'type', 'pauly', 'talentless', 'tapehead', 'madly', 'born', 'eivor', 'sycophant', 'lil', 'afterlife', 'sodomy', 'arsonist', 'daage', 'resent', 'website', 'weather', '100th', 'transformers', 'cassavettes', 'camouflage', 'circuit', 'crocdodile', 'saving', 'vc', 'probobly', 'artyfartyrati', 'normally', 'dishonest', 'british', 'chacun', 'fantastiks', 'nought', 'cats', 'incoherence', 'animalism', 'multifarious', 'shakespearean', 'dedication', 'turnabout', 'awoke', 'freakily', 'hollywoodized', 'enactment', 'veritably', 'cleaner', 'proliferation', 'shoo', 'c2', 'sanitised', 'docudrama', 'abbie', 'quotient', 'cave', 'action', 'cryogenic', 'seemy', 'tbs', 'duvall', 'romanian', 'gothos', 'mobile', 'benchmark', 'c', 'comedygenre', 'brideless', 'cain', 'trejo', 'painter', 'masterstroke', 'jump', 'millie', 'hauer', 'predicatability', 'foldes', 'operator', 'stereotype', 'legged', 'detective', 'unsuspecte', 'bandwagon', 'europa', 'improbably', 'ravi', 'battle', 'mouse', 'bend', 'northern', 'heavier', 'stooge', 'clubhouse', 'neighborliness', 'oxford', 'stylize', 'flea', 'debra', 'gong', 'mime', 'xc2xb7', 'baddie', 'teleporter', 'lieve', 'dramas', 'paradise', 'embraceable', 'distressingly', 'carriage', 'conceptual', 'blond', 'doctresse', 'spotting', 'sebastain', 'somewhere', 'sot', 'supersmooth', 'comlex', 'actioneer', 'remove', 'assemble', 'pornographic', 'midsection', 'partridge', 'color', 'irresponsibly', 'videophile', 'mobocracy', 'madden', 'japanese', 'authentic', 'towel', 'exciting', 'characature', 'lupe', 'barber', 'stork', 'downey', 'murphy', 'instalment', 'unimagine', 'minotaur', 'cinemetography', 'subsp', 'munna', 'weaponry', 'representational', 'nihonjin', 'wolfgang', 'temptations', 'nekromantiks', 'libidinal', 'kingsley', 'apologize', 'elmo', 'sparklingly', 'ucla', 'bouncier', 'yash', 'unprofessional', 'dandy', 'yuzna', 'ar', 'reheat', 'jawaharlal', 'kryptonite', 'favirote', 'savoir', 'clicker', 'puerile', 'foss', 'learning', 'jeffrie', 'artiness', 'alzheimer', 'torturer', 'forum', 'yakuza', 'woooooohooooo', 'climaxing', 'flagstaff', 'susann', 'soylent', 'harmonize', 'confiscate', 'quigley', 'beautifully', 'snow', 'silently', 'midsomer', 'winfield', 'implodes', 'curiculum', 'vicey', 'fraternal', 'creep', 'pistol', 'pondering', 'squarley', 'deconstructionism', 'hardwick', 'infected', 'incoming', 'milo', 'homeless', 'bilal', 'professionalism', 'thiller', 'gingesh', 'waterproof', 'hunk', 'bunkum', 'hoppy', 'stylishly', 'neglect', 'nor', 'richie', 'wendie', 'supense', 'troop', 'fencing', 'rival', 'cockrocker', 'enter', 'atrophy', 'soundtracks', 'spike', 'referee', 'grot', 'boundlessly', 'springtime', 'splice', 'niemann', 'cremate', 'loveably', 'streethawk', 'unproveable', 'simultaniously', 'ritual', 'cherish', 'malden', 'retraction', 'preggo', 'criticism', 'useless', 'sibbling', 'sidelines', 'nuttin', 'fella', 'countryside', 'contractor', 'banyo', 'imnsho', 'burgerler', 'confound', 'appellation', 'nowhere', 'streeter', 'inseparably', 'undersold', 'educate', 'promoting', 'frightning', 'attraction', 'speculative', 'supspense', 'lookalike', 'widescreen', 'opine', 'credible', 'age', 'czech', 'compass', 'unreliability', 'aluminium', 'jewelry', 'tend', 'hanging', 'tote', 'gered', 'cusack', 'flixmedia', 'viewers', 'resolution', 'sherif', 'explore', 'sharkey', 'unsuspende', 'edel', 'repugnancy', 'transistor', 'klinker', 'colloquial', 'swag', 'bliep', 'blouse', 'subset', 'rejects', 'metaphoric', 'unless', 'rebuilt', 'spookf', 'tricks', 'matthau', 'encounte', 'scheduling', 'miikes', 'wall', 'vandal', 'round', 'whistle', 'hasnxc2xb4', 'cement', 'tomatoey', 'idea', 'compere', 'scrivener', 'slave', 'magnificent', 'agility', 'sweeping', 'hansom', 'forgiveness', 'wives', 'signpost', 'syncing', 'rankle', 'georgian', 'bbc4', 'triumphs', 'deneuve', 'pamela', 'wastrel', 'vitti', 'lond', 'lightweight', 'calliber', 'solomon', 'excrutiatingly', 'thorn', 'pintilie', 'nunchuks', 'hardgore', 'lets', 'acceptable', 'morland', 'baker', 'barfing', 'untraced', 'engine', 'predilection', 'midnight', 'schoyen', 'ymca', 'interfeare', 'stress', 'convertible', 'calmer', 'mandylor', 'woodoo', 'marcia', 'cor', 'electric', 'reese', 'stretched', 'intra', 'rig', 'theatre', 'directed', 'subtle', 'chimpazee', 'aha', 'naiive', 'ramxc3xb3n', 'fiendish', 'sunday', 'samotxc3xa1ri', 'leonards', 'baroness', 'hairstylist', 'prosecution', 'hye', 'portal', 'hallucination', 'frontier', 'murky', 'translate', 'yogurt', 'serious', 'pendulous', 'godber', 'cess', 'bungalow', 'offside', 'poirot', 'radio', 'wacky', 'namer', 'formless', 'penalty', 'enhance', 'playmates', 'keyboard', 'expensive', 'short', 'cursed', 'hawksian', 'motivation', 'silences', 'salty', 'realness', 'grammies', 'choosy', 'elsewise', 'gastronomy', 'becase', 'frisian', 'coiffed', 'dors', 'carter', 'fatherly', 'larson', 'newsagent', 'teahouse', 'picture', 'rosario', '105', 'roomie', 'intente', 'herbig', 'energy', 'heading', 'yeastless', 'corpse', 'canoeing', 'fiume', 'unto', 'wideescreen', 'dated', 'exaggeratedly', 'stiflers', 'amatuer', 'sniveler', 'poories', 'olaf', 'idyll', 'deformity', 'stinker', 'embarrassing', 'khan', 'angelfire', 'cpt', 'encumbrance', 'panorama', 'incorporate', 'objet', 'tenacious', 'matrix', 'laughf', 'blademaster', 'watched', 'fable', 'candy', 'cigarette', 'unaware', 'sharon', 'horrible', 'lelands', 'sexiest', 'upper', 'timon', 'seriuosly', 'leftish', 'scarlet', 'witherspooon', 'lithely', 'ellison', 'lesbian', 'curlingly', 'seal', 'vitality', 'vehicle', 'number', 'ameteurish', 'muted', 'cell', 'chungke', 'ninjas', 'semi', 'fascinating', 'mixed', 'miaoooou', 'occassionally', 'stribor', 'pleased', 'koontz', 'gla', 'carlos', 'akimoto', 'mystery', 'psychiatry', 'goitre', 'chauvinism', 'remarkably', 'establish', 'kibbutz', 'cutscene', '19thc', 'faceted', 'gabble', 'heiress', 'inter', 'rohinton', 'torn', 'hitched', 'platter', 'unavailable', 'determination', 'blacksmith', 'schoolteacher', 'cantaloupe', 'poupees', 'excution', 'tasteless', 'whitchurch', 'posey', 'mural', 'bookend', 'fee', 'ejiofor', 'viewing', 'altering', 'broeck', 'macross', 'change', 'vessel', 'prosecute', 'internetconnection', 'meteor', 'sinclair', 'stunning', 'chidlren', 'adapt', 'flashdance', 'snark', 'narrated', 'sorta', 'security', 'bladk', 'shiner', 'blankfield', 'vittles', 'clipper', 'recomende', 'awed', 'angels', 'arcs', 'shambler', 'shearer', 'swill', 'constellation', 'nervracke', 'inacessible', 'big', 'relatonship', 'auntie', 'superstructure', 'fandom', 'calparsoro', 'rifle', 'liberated', 'south', 'achronological', 'feeling', 'illustrated', 'possum', 'mutual', 'newton', 'atrocious', 'loners', 'forster', 'inasmuch', 'whirl', 'tucci', 'pepe', 'real', 'berlinxc2xb4s', 'dislike', 'dopiest', 'werewolf', 'pointless', 'clarinet', 'nun', 'gain', 'caw', 'tension', 'absorbing', 'text', 'rearranging', 'uncharacteristic', 'autumn', 'witty', 'pane', 'darkling', 'eumaeus', 'female', 'won', 'wench', 'board', 'aloknath', 'aztec', 'cuing', 'refreshingly', 'reenact', 'unnoticeable', 'rootbeer', 'incredible', 'pinkly', 'seahunt', 'gritty', '50', 'schadenfreude', 'newspaperflash', 'act', 'exquisite', 'radu', 'elmore', 'villians', 'coliseum', '12', 'aisle', 'problemo', 'anually', 'report', 'mirror', 'he', 'phillippe', 'letterman', 'shusuke', 'literary', 'pink', 'mozart', 'large', 'henchwoman', 'lonely', '30', 'awaited', 'neofolk', 'readin', 'yrs', 'annoyed', 'te', 'devine', 'turk', 'especially', 'bar', 'pimpy', 'thermal', 'followable', 'hackneye', 'manager', 'cuddly', 'mature', 'folk', 'worthy', 'sfx', 'strongly', 'spectator', 'zooming', 'mosey', 'taxidermist', 'straczynski', 'junior', 'driftwood', 'kahn', 'draining', 'seong', 'infective', 'flunkie', 'brundruge', 'stethoscope', 'cheapen', 'content', 'ewww', 'reel', 'boobie', 'government', 'subtitling', 'armaggedon', 'hamiltons', 'disturb', 'kenji', 'xe2x80x9citxe2x80x99s', 'brainwash', 'impactive', 'obligated', 'moore', 'twentish', 'shiver', '20x', 'rider', 'adopt', 'superstition', 'rimi', 'miner', 'ghostbuster', 'moovie', 'automaker', 'reduction', 'monument', 'mandate', 'wiki', 'explination', 'cos', 'cookbook', 'mathau', 'suspenseless', 'overprint', 'aborted', 'unhollywoodized', 'twelve', 'yourself', 'roxbury', 'africa', 'selwyn', 'srk', 'trial', 'journeyman', 'highball', 'train', 'clan', 'noes', 'road', 'metephorically', 'requirement', 'corner', 'mushroom', '1985', 'boil', 'tolls', 'sundry', 'blair', 'prominence', 'friggin', 'rodrigue', 'plotter', 'aj', 'cephallonian', 'cameraman', 'milieu', 'ninny', 'karmen', 'music', 'daywalker', 'evolve', 'possessive', 'sunways', 'ros', 'det', 'sergeant', 'critisism', 'parxc3xa9s', 'unamused', 'college', 'unsure', 'mismatch', 'departure', 'vividness', 'moloney', 'burgundy', 'nwt', 'frankel', 'meeting', 'indie', 'middle', 'rustling', 'clark', 'leprechaun', 'burton', 'disrobe', 'same', 'rivette', 'despicable', 'nonesense', 'permissiveness', 'mulrooney', 'law', 'irreverence', 'feder', 'aik', 'eleven', 'drilling', 'news', 'ridiculously', 'granny', 'minorpiece', 'grinder', 'yards', 'freakshow', 'unbearably', 'serbian', 'innovativeness', 'conniving', 'boggling', 'layeredness', 'oxygen', 'relevant', 'leading', 'glaci', 'huang', 'industrializing', 'stroke', 'andie', 'whitebread', 'melodious', 'quarterback', 'amazinly', 'divulging', 'strawberry', 'arli', 'seatbelt', 'principal', 'arranger', 'robotically', 'stv', 'conglomeration', 'relax', 'landing', 'falsify', 'ringwalde', 'dubbing', 'bendy', 'ern', 'sh', 'splendiferous', 'lightheartedly', 'staff', 'frisson', 'masuji', 'sant', 'bogge', 'arrrrrggghhhhhh', 'trailers', 'coping', 'campaigner', 'likable', 'forseee', 'surround', 'pill', 'bear', 'shrewdly', 'arnie', 'f0rs4k3n', 'trouser', 'taught', 'hopefully', '1998', 'smartassy', 'psychotic', 'monotonically', 'sitr', 'russian', 'machete', 'messy', 'breakup', 'torch', 'cute', 'longsuffere', 'globe', 'montagne', 'hatred', 'lmfao', 'transsexual', 'calvados', 'showcase', 'reaction', 'acromegaly', 'irrelevance', 'boyhood', 'inmate', 'lyricist', 'lovability', 'eulogy', 'embarased', 'thud', 'huge', 'gohst', 'napoleone', 'broker', 'bugs', 'chill', 'fallow', 'skateboarding', 'septic', 'davies', 'waterworks', 'embarrassment', 'jock', 'crouching', 'bwahaha', 'impregnable', 'superficial', 'perfectly', 'boar', 'deflector', 'drink', 'min', 'rituals', 'assasin', 'travelator', 'divorce', 'rf', 'ble', 'dorky', 'itxc2x85', 'modesty', 'nolo', 'dippie', 'layout', 'dateness', 'racist', 'liebman', 'stoke', 'distraction', 'engrish', 'xc3xads', 'fav', 'matinees', 'hollies', 'sanders', 'sensationalising', 'linaweaver', 'dunwich', 'reynolds', 'babe', 'germaine', 'shared', 'settingscostume', 'five', 'organization', 'contributory', 'dogma', 'tzu', 'illuminate', 'deeply', 'justness', 'inevitability', 'torchwood', 'meatball', 'overplayed', 'npc', 'kindergartner', 'swear', 'impromptu', 'listened', 'terence', 'australian', 'slide', 'gialli', 'shirelle', 'pesci', 'kissing', 'trick', 'boutonnat', 'helpless', 'unbrushed', 'internet', 'di', 'ans', 'loved', 'crew', 'dbdumonteil', 'red', 'fantasic', 'mcmusicnotes', 'unexceptionally', 'knit', 'xc2x95', 'delete', 'catchier', 'brookmyre', 'banning', 'hardcore', 'huh', 'ana', 'aluminum', 'christmas', '73', 'bum', 'junta', 'mum', 'pothead', 'blackadder', 'ferrell', 'vietnamese', 'inadvisable', 'pb', 'schrecklich', 'prey', 'which', 'caption', 'paintball', 'hoods', 'selenium', 'burmese', 'extemporaneous', 'god', 'knucklehead', 'metaphor', 'imelda', 'waltzer', 'bailiff', 'tv8', 'jericho', 'softheaded', 'tearjerke'}\n"
          ]
        }
      ]
    },
    {
      "cell_type": "code",
      "source": [
        "##Interesting Observation\n",
        "\n",
        "len(allBest1) "
      ],
      "metadata": {
        "colab": {
          "base_uri": "https://localhost:8080/"
        },
        "id": "maCRHaQUj83h",
        "outputId": "2df964de-8ea3-4cff-cf1c-7a022e65b99d"
      },
      "execution_count": 45,
      "outputs": [
        {
          "output_type": "execute_result",
          "data": {
            "text/plain": [
              "17102"
            ]
          },
          "metadata": {},
          "execution_count": 45
        }
      ]
    },
    {
      "cell_type": "code",
      "source": [
        "#create a tokenized dictionary of words for positive reviews\n",
        "pos_tokenized=readDocumentCollection(pos_reviews)"
      ],
      "metadata": {
        "id": "TVeQVPMqinV7"
      },
      "execution_count": 40,
      "outputs": []
    },
    {
      "cell_type": "code",
      "source": [
        "#get best n terms based on TFIDF score from positive reviews\n",
        "posBest1 = bestTFIDF(pos_tokenized, T, n=1)\n",
        "print(posBest1)"
      ],
      "metadata": {
        "colab": {
          "base_uri": "https://localhost:8080/"
        },
        "id": "azheG6q5izE2",
        "outputId": "5cf368b2-5fb5-4a10-cb45-9cafbc25482a"
      },
      "execution_count": 41,
      "outputs": [
        {
          "output_type": "stream",
          "name": "stdout",
          "text": [
            "{'cardos', 'declare', 'krishna', 'recommende', 'neighbourliness', 'bullet', 'belmondo', 'aldys', 'wrenching', 'happenstance', 'kongfu', 'harmonious', 'clandestinely', 'uproarish', 'imaginable', '3', 'stepsister', 'hartley', 'sanchez', 'alma', 'diabolic', 'apathy', 'dickens', 'mountain', 'passion', 'gunpowder', 'epitomise', 'esque', 'tisch', 'cranny', 'liotta', 'kranks', 'sailor', 'elongate', 'eine', 'gem', 'asst', 'theology', 'philadelpia', 'pointlessness', 'tantrum', 'oldxc2x97fashioned', 'lemonade', 'b5', 'graphical', 'cadet', 'phase', 'haunt', 'thoughtfulness', 'sign', 'promenant', 'segal', 'albiet', 'tightrope', 'stallone', 'computerize', 'surprised', 'beffe', 'fireman', 'irish', 'blackmarketer', 'express', 'mats', 'jeeper', 'obstacle', 'kels', 'hide', 'chistina', 'redlitch', 'letjat', 'mull', 'ref', 'prince', 'argentinian', 'voting', 'ril', 'heartfelt', 'sera', 'heap', 'puzzlement', 'okin', 'obssession', 'breeze', 'farly', 'dawber', 'fantasy', 'dadoo', 'goosebump', 'customer', 'sanctify', 'sun', 'bruck', 'pulps', 'argento', 'designer', 'castaways', 'carmen', 'tisk', 'barbarian', 'pub', 'whited', 'mots', 'lose', 'thoroughbred', 'whorehouse', 'dress', 's01', 'whom', 'extraordinary', 'ruck', 'antz', 'ambition', 'recall', 'layabout', 'novak', 'notwithstanding', 'iubit', 'irrepressibly', 'palpatine', 'drk', 'gunfight', 'hardship', 'beazely', 'powers', 'record', 'blinken', 'gamer', 'got', 'conscience', 'dummy', 'fungal', 'firefighter', 'regain', 'evaluation', 'graduate', 'czerny', 'aesthetic', 'flight', '63', 'poplular', 'luc', 'qv', 'taoist', 'navigator', 'shtrafbat', 'priya', 'putter', 'multimillionaire', 'dishum', 'macready', 'nato', 'carlyle', 'masterfully', 'patchy', 'recomend', 'astound', 'descriptive', 'lucky', 'technicolour', 'unbeliaveble', 'storyboard', 'prue', 'limbo', 'drecky', 'maybe', 'gene', 'ibsen', 'lung', 'raid', 'sumitra', 'polarity', 'dumple', 'pianist', 'starred', 'da', 'velly', 'investigatory', 'lodge', 'schoolie', 'farm', 'fosters', 'jude', 'per', 'nomination', 'keaton', 'unfortunately', 'whilst', 'firt', 'sage', 'heather', 'shemp', 'book', 'clairborne', 'documentary', 'englishman', 'struggle', 'filmde', 'dolls', 'algerian', 'disparate', 'flawed', 'drawn', 'madne', 'wild', 'entomology', 'generation', 'supranatural', 'drugstore', 'daylight', 'sweetest', 'utilize', 'religion', 'delare', 'chainsaw', 'sugiyama', 'pops', 'comtemporary', 'dysfunction', 'vepsaian', 'slob', 'ocar', 'frump', 'cashier', 'riffing', 'angelica', 'humbling', 'thai', 'pipe', 'rebuttle', 'enchilada', 'ac', 'cancel', 'romance', 'ladyslipper', 'fibre', 'guardian', 'pooh', 'section', 'shoudln', 'kajol', 'digestion', 'dunce', 'instal', 'tpb', 'lemmon', 'involve', 'wexler', 'outlaw', 'collapsing', 'mariner', '35', 'excommunicate', 'terrified', 'glamor', 'trudi', 'pap', 'housecleaner', 'x', 'bug', 'enemy', 'page', 'sir', 'blow', 'raver', 'gibney', 'gamblers', 'participation', 'tsh', 'thirsty', 'accept', 'selflessness', 'construction', 'warmingly', 'tsui', 'roadtrip', 'sutherland', 'remastered', 'purposely', 'cheapshot', 'shyster', 'last', 'many', 'vivant', 'faith', 'peel', 'humoristic', 'avenue', 'anthropologist', 'seasons', 'homophobia', 'evr', 'peck', 'eye', 'filmwork', 'lending', 'realm', 'blockbuster', 'corpus', 'her', 'impersonator', 'rivite', 'curr', 'force', 'impounding', 'disk', 'imdb', 'informative', 'enemie', 'kadee', 'probalby', 'tired', 'dustin', 'daringness', 'enrapture', 'masami', 'lore', 'arnold', 'parable', 'gooder', 'cheek', 'sander', 'nest', 'minute', 'detecting', 'might', 'powerboard', 'ga', 'afghan', 'handbill', 'sociologically', 'double', 'unselfishness', 'islanders', 'trough', 'oceanside', 'imperfectly', 'messaging', 'petite', 'winner', 'scene', 'crackerjack', 'spirt', 'flashpoint', 'parillaud', 'data', 'reminding', 'crowhurst', 'genii', 'corney', 'fotography', 'ivers', 'laundry', 'animatrix', 'unannounced', 'adotpe', 'softball', 'scuffy', 'preaching', 'jud', 'proffesionalism', 'seymour', 'imitate', 'bricusse', 'swiss', 'lamarr', 'addiction', 'reccomend', 'fido', 'doco', 'liza', 'herp', 'pen', 'draht', 'bay', 'pierrot', 'citizenx', 'heartening', 'molesting', 'knights', 'busters', 'bless', 'mvie', 'truffaut', 'peace', 'predation', 'fx', 'medieval', 'sad', 'sigel', 'bee', 'paralysis', 'wally', 'restaurant', 'lawyer', 'affair', 'thine', 'tribe', 'martin', 'birthday', 'thoughtless', 'aplomb', 'rippin', 'burstyn', 'springer', 'mccall', 'crunch', 'component', 'overlook', 'detachment', 'show', 'sxc3xa1nchez', 'martians', 'sucide', 'subpoint', 'deity', 'someday', 'flounce', 'dyan', 'interconnectedness', 'cal', 'pike', 'senior', 'trolley', 'puri', 'fighter', 'castro', 'gregg', 'uncode', 'auberge', 'example', 'englishmen', 'commercial', 'sanctuary', 'object', 'howcome', 'g', 'studio', 'tomorrow', 'aseptic', 'mrs', 'couldnxc2xb4', 'ponderous', 'revisitation', 'russo', 'leland', 'cathedral', 'kidnapping', 'stone', 'cope', 'infiltrating', 'voight', 'assistant', 'wry', '52000', 'kung', 'tell', 'shuddup', 'morality', 'disagree', 'photogrsphe', 'game', 'ecchi', 'perfume', 'thriller', 'grantee', 'bragged', 'silly', 'fraile', 'reecommend', 'complaint', 'hilarious', 'cartman', 'damian', 'topical', 'carre', 'resfest', 'sjxc3xb6man', 'lawnmow', 'biggie', 'filmaker', 'satan', 'guys', 'pornography', 'raquel', 'fraternity', 'vargas', 'richer', 'whimsical', 'clique', 'bump', 'minnie', 'entertaining', 'wonderfall', 'decrie', 'subtitle', 'surgeon', 'relate', 'confront', 'teos', 'rough', 'caan', 'epatha', 'intend', 'tboe', 'duman', 'desplat', 'adapted', 'um', 'trequel', 'trouble', 'wwiixc2x97no', 'boe', 'permissible', 'symbolism', 'bodybuilding', 'bai', 'feinstone', 'temptation', 'enlightment', 'odysseus', 'fois', 'sneakers', 'unreleased', 'rooms', 'bobs', 'meatballs', 'grandson', 'leica', 'customers', 'sensationalise', 'locate', 'and', 'rib', 'ump', 'underutilize', 'intellectually', 'warming', 'provoke', 'unvarnished', 'ciannelli', 'paranormal', 'hurrah', 'helmet', 'ofcourse', 'sayers', 'baseball', 'morti', 'heir', 'misspell', 'bouncy', 'undergird', 'body', 'boat', 'minx', 'accepted', 'ensign', 'attentive', 'cartoony', 'cheerleader', 'wgn', 'yukio', 'dxc3xadaz', 'schmid', 'phrase', 'dangerously', 'rugged', 'assimilation', 'seamstress', 'lumage', 'marijuana', 'deliverance', 'raab', 'travolta', 'bedknobs', 'naturally', 'showerman', 'encourage', 'fault', 'disclamer', 'skeleton', 'dexter', 'agressive', 'vixen', 'plaudit', 'interrelated', 'dildar', 'premarital', 'stealing', 'breillat', 'mistake', 'perhaps', 'cyclop', 'choice', 'sci', 'factory', 'sport', 'crowd', 'commitment', 'medicated', 'conman', 'scholar', 'dogmatix', 'ongoing', 'lwr', 'hysterical', 'distrust', 'leaud', 'spoorloo', 'region', 'abhi', 'spanky', 'spanish', 'sacchi', 'stimulant', 'conservatory', 'hairdresser', 'astaire', 'naming', 'probabley', 'mithi', 'jeepers', 'oc', 'storm', 'vulturine', 'monitoring', 'controller', 'radical', 'tradition', 'uplifting', 'med', 'oneupmanship', 'roadhouse', 'lol', 'daunting', 'riches', 'carrie', 'quarrington', 'jewel', 'wound', 'catalog', 'couleur', 'mott', 'brodskxc3xbd', 'grace', 'dunnit', 'viewpoint', 'budget', 'mix', 'trueba', 'tarantino', 'descent', 'pokemon', 'depress', 'gent', 'figurative', 'niece', 'phallic', 'single', 'escobarian', 'zep', 'check', 'rating', 'scam', 'smits', '70', 'unproven', 'hearte', 'headstrong', 'protester', 'whining', 'ara', 'coral', 'trend', 'improbable', 'tourette', 'ecclectic', 'cheezy', 'cutter', 'colonal', 'gore', 'satanise', 'pubert', 'african', 'seperate', 'bored', 'rachels', 'shakespearian', 'grandfather', 'dipsomaniac', 'statue', 'cob', '0093638', 'kaley', 'pleaser', 'underrated', 'wood', 'matheson', 'concubine', 'gove', 'hoppor', 'wedde', 'try', 'ka', '666', 'cosa', 'underdog', 'consuming', 'connolly', 'reshuffle', 'channel', 'stepmother', 'inveterate', 'knott', 'authorization', 'tides', 'rostov', 'fighting', 'indomitable', 'depressing', 'elly', 'guilelessly', 'rockets', 'deserving', 'politic', 'stunningly', 'weird', 'girolamo', 'jiggly', 'swap', 'leg', 'blisse', 'proposal', 'listener', 'flags', 'shack', 'solar', 'awesome', 'sitka', 'canine', 'oklahoma', 'narcissist', 'coachman', 'currier', 'stalwartly', 'superficiality', 'shape', 'accident', 'labute', 'salvageable', 'delicate', 'kleenex', 'wierdo', 'phone', 'diversive', 'niether', 'nwh', 'rules', 'gripe', 'inimitable', 'surperb', 'draftsman', 'explicit', 'gentleman', 'con', 'mateship', 'fuddy', 'dolphin', 'chaser', 'enjoyment', 'astor', '1955', 'beverly', 'retarded', 'billy', 'rnrhs', 'estevez', 'bi', 'pincer', 'robim', 'creepy', '3d', 'emory', 'spymate', 'migration', 'psychiatrist', 'pot', 'reunite', 'extense', 'tenko', 'frf', 'illiteracy', 'compassion', 'dreamlike', 'sympathetic', 'expression', 'epilepsy', 'patriot', 'textile', 'delivery', 'orange', 'noone', 'panaghoy', 'resort', 'individually', 'sparkle', 'chapa', 'beejesus', 'passenger', 'teenage', 'bombs', 'permission', 'portabellow', 'joscelyn', 'every', 'quicken', 'altman', 'skateboard', 'oui', 'experiment', 'succession', 'ripa', 'digge', 'mofo', 'establishment', 'doozie', 'gustad', 'misstake', 'buddy', 'giallo', 'average', 'took', 'camp', 'naff', 'mindblowe', 'protaganiste', 'zappati', 'abandonment', 'formulaic', 'fourth', 'super', 'belivably', 'germanic', 'israeli', 'protxc3xa9e', 'fbis', 'fluctuation', 'rumor', 'offensiveness', 'intent', 'potato', 'glennon', 'kickoff', 'cindy', 'rmt', 'recompile', 'jackman', 'esp', 'exonerate', 'wawa', 'bustelo', 'bury', 'brainer', 'chick', 'gromit', 'twitching', 'definately', 'psychic', 'cop', 'shantytown', 'extremely', 'symbolic', 'parador', 'adrien', 'projector', 'nutshell', 'noll', 'palma', 'literature', 'jitter', 'cooking', 'jackal', 'eggnog', 'grammar', 'aegean', 'mat', 'cleverer', 'vue', 'essex', 'lead', 'ironside', 'image', 'indolent', 'choices', 'max', 'higher', 'charecter', 'pursue', 'ice', 'ferland', 'spolier', 'siecle', 'gere', 'winchester', 'chicken', 'despair', 'nothing', 'occidental', 'enterntainment', 'catholic', 'pyromaniac', 'whiner', 'comdey', 'convert', 'varney', 'spic', 'confessor', 'albastrxc3xa4', 'incoherency', 'danish', 'chan', 'relaxing', 'plug', 'wonderfalls', 'oil', 'shirley', 'sword', 'brigade', 'gr8', 'sex', '35min', 'nurture', 'good', 'bobbycrush', 'ryan', 'scented', 'measurement', 'standardization', 'screechingly', 'gynecologist', 'balloon', 'excon', 'duck', 'divorced', 'elite', 'girlfriend', 'tyne', '74th', 'ticket', 'bow', 'pleasant', 'terebi', 'food', 'bezzerides', 'decay', 'transgenic', 'perf', 'snail', 'timemachine', 'gether', 'wantabedde', 'inteligent', 'fac', 'gender', 'gabin', 'pokxc3xa9mon', 'leave', 'skipper', 'cyberpunk', 'attend', 'dangerous', 'bisset', 'balkanize', 'border', 'totality', 'blockbuter', 'ultimate', 'agae', 'circus', 'teacher', 'untrumpeted', 'sporadic', 'logans', 'staine', 'wish', 'charming', 'reilly', 'kar', 'communistic', 'reality', 'rabbet', 'trivialise', 'flirt', 'heartwrenche', 'instructor', 'allowance', 'gorgeous', 'rated', 'usurious', 'ten', 'preceding', 'rhythm', 'freestyle', 'singlehandedly', 'erotica', 'review', 'trauma', 'value', 'reverse', 'velvet', 'pun', 'hop', 'pah', 'mecgreger', 'store', 'blowing', 'gladiator', 'jannings', 'artistic', 'rarely', 'wrench', 'dragnet', 'firm', 'austerely', 'manner', 'revolver', 'monopolist', 'heroin', 'jaq', 'wagon', 'encroachment', 'faultless', 'prj', 'lennon', 'awards', 'atmosphere', 'megalopoli', 'multiplayer', 'krug', 'wholesale', 'feral', 'expert', 'satirize', 'hiltons', 'easiness', 'striken', 'memorize', 'knieper', 'loan', 'unpleasant', 'provide', 'gratify', 'abuser', 'instant', 'poster', 'range', 'lesser', 'gpe', 'bubblegum', 'valiente', 'beastmaster', 'gloster', 'east', 'shield', 'crusader', 'afrikaaner', 'speeders', 'boorman', 'conventionalism', 'poke', 'devestate', 'fiction', 'insanity', 'gamers', 'dukakis', 'mcbee', 'wikipedia', 'gratuitous', 'ridgemont', 'yimou', 'cellmate', 'cure', 'quinn', 'glorify', 'bendix', 'excellently', 'baha', 'olive', 'unseen', 'fodder', 'ator', 'confidant', 'living', 'son', 'clouded', 'yoshinaga', 'prophecy', 'pride', 'toasty', 'dubber', 'tal', 'stanwyck', 'booz', 'crowning', 'toaster', 'subtly', 'clinic', '02', 'librarian', 'arrange', 'recurrent', 'hitter', 'find', 'beirut', 'chief', 'locatione', 'season', 'rate', 'martial', 'library', 'centennial', 'bootstrap', 'venal', 'whorish', 'homoerotic', 'dar', 'jilted', 'courttv', 'flicker', 'ham', 'outspoken', 'awakening', 'intention', 'lonliness', 'duchovny', 'spinal', 'attractive', 'thought', 'coddle', 'sabato', 'superordinate', 'hessian', 'dispair', 'physical', 'cheadle', 'ford', 'iridescent', 'colonel', 'guy', 'biographic', 'criticise', 'immensely', 'mate', 'effet', 'banish', 'emigration', 'bobbie', 'meadows', 'antxc3xb4nio', 'dogtown', 'limit', 'truck', 'hate', 'discontinue', 'whorrel', 'bernal', 'subtile', 'estrada', 'except', '4ever', 'edvard', 'handgun', 'inconceivable', 'spire', 'pron', 'serpent', 'distance', 'career', 'rung', 'tiger', 'chorister', 'bring', 'pull', 'studios', 'melancholic', 'racism', 'movement', 'specter', 'yarn', 'bullshit', 'impossible', 'nonstop', 'd', 'country', 'estevxc3x83o', 'capitxc3xa3es', 'wars', 'breathless', 'intense', 'bedrooms', 'prop', 'liqueur', 'prize', 'partly', 'theory', 'commander', 'contain', 'inward', 'dalmatians', 'major', 'aragorn', 'improvisation', 'kevnjeff', 'case', 'schiffer', 'bluegrass', 'rucksack', 'hotel', 'stormtrooper', 'frwl', 'brand', 'thatxc2xb4', 'jasbir', 'aforementione', 'punk', 'pee', 'summer', 'mean', 'quida', 'profound', 'cgs', 'subspecie', 'basso', 'genre', 'mcphillip', 'hyden', 'sketch', 'ancient', '80', 'banter', 'humorously', 'dino', 'french', 'reravel', 'pineapple', 'munchauhsen', 'buen', 'toilet', 'leitmotifs', 'jammer', 'why', 'skit', 'swim', 'dynamic', 'ps4', 'dekalog', 'danger', 'intensly', 'jolson', 'bane', 'bunker', 'dawg', 'ride', 'secretaries', 'cloke', 'eloquently', 'hollow', 'ghostintheshell', 'quirkiness', 'courtroom', 'dun', 'prescient', 'squirm', 'alice', 'emptiness', 'surfing', 'harbor', 'dream', 'ladies', 'enroll', 'blesse', 'exemplify', 'amnesty', 'write', 'return', 'onus', 'eachother', 'orbed', 'celebrate', 'suit', 'always', 'aniston', 'spaghetti', 'yada', 'frownbuster', 'matts', 'discussions', 'appreciation', 'ooooooed', 'passage', 'adult', 'ammo', 'vomitte', 'din', 'feresten', 'piquant', 'marvellously', 'bouyant', 'murder', 'perplex', 'pattonesque', 'cry', 'syrupy', 'scarllett', 'miniserie', 'prague', 'toyko', 'unhesitatingly', 'conversational', 'messianistic', 'dingo', 'guin', 'sibling', 'lowbudget', 'ixc2xb4ve', 'provolke', 'traditionale', 'atlantean', 'battling', 'hungry', 'dmd', 'ass', 'silver', 'mode', 'guarantied', 'toy', 'dogood', 'consoling', 'scoggin', 'bijo', 'apposite', 'effeminate', 'excellent', 'aweigh', 'efron', 'sprit', 'nubile', 'underestimated', 'nooooo', 'relief', 'vortex', 'concert', 'porkys', 'irena', 'gypsy', 'heimat', 'mausoleum', 'agent', 'freindship', 'ub', 'plotwise', 'atheist', 'license', 'drinker', '1919', 'doggie', 'poker', 'babysit', 'international', 'stonehenge', 'salle', 'sheesy', 'benet', 'reserved', 'unwind', 'punchiness', 'vh1', 'seasoning', 'bitingly', 'voyeuristic', 'lobotimize', 'context', 'mcgavin', 'pattern', 'implausible', 'elan', 'stairway', 'highlands', 'gargle', 'stockshow', 'twister', 'frye', 'sociological', 'stepanik', 'bizarre', 'honors', 'oujii', 'loam', 'trippy', 'shuttle', 'zombie', 'cinemaxc2x85', 'fundraiser', 'angie', 'crouche', 'enchanted', 'imprest', 'our', 'jxl', 'cooley', 'ballplayer', 'sparring', 'slothy', 'butch', 'glorious', 'alf', 'wilding', 'supper', 'candice', 'manufacture', 'mind', 'mvovie', 'huntingdon', 'podgey', 'claudette', 'lidde', 'hindi', 'chapterplay', 'midnite', 'judy', 'hetereosexual', 'third', 'justice', 'lodoss', 'mindbender', 'comical', 'chain', 'multicolor', 'bios', 'blood', 'held', 'amuse', 'mainware', 'laughing', 'quotable', 'b', 'pastry', 'melancholiness', 'exquisit', 'allegorical', 'brazilian', 'supersoldier', 'ossessione', 'passport', 'mole', 'loser', 'acre', 'crispin', 'maxwell', 'stepparent', 'date', 'koqs', 'loud', 'total', 'procedural', 'obstinate', 'uzumaki', 'lovelife', 'scorpione', 'period', 'absoloutley', 'hyperrealism', 'egglady', 'outsiders', 'sequel', 'newman', 'souvenir', 'scandanavian', 'vh', 'latina', 'flag', 'bader', 'adoption', 'pubis', 'storyteller', 'sizzle', 'multiply', 'miscue', 'sorority', 'sudden', 'studi', 'level', 'policy', 'portrayl', 'dry', 'left', 'donxc2xb4', 'miracle', 'attain', 'borrow', 'grubiness', 'must', 'entertained', 'terria', 'custer', 'romola', 'goodhearte', 'underuse', 'delimma', 'trigun', 'tissue', 'usa', 'shayne', 'longs', 'upbeat', 'cartwright', 'gwizdo', 'rat', 'snag', 'czechoslovak', 'sofa', 'frxc3xa9dxc3xa9ric', 'medium', 'arts', 'quentin', 'safely', 'shabby', 'culty', 'contextualize', 'spoonful', 'playful', 'bhaer', 'sanitise', 'enterprising', 'ignoring', 'rheumy', 'sitcom', 'manage', 'sabriye', 'cow', 'graciousness', 'yes', 'impersonate', 'species', 'popularity', 'child', 'dreamquest', 'disastor', 'because', 'grounding', 'qin', 'notle', 'thomp', 'magictrain', 'sailplane', 'byzantine', 'femininism', 'gear', 'ontario', 'permutation', 'heartbeat', 'scout', 'seaman', 'midlife', 'staggered', 'situation', 'affinity', 'urquidez', 'concieve', 'lease', 'bombshells', 'finely', 'parlor', 'critic', 'elvira', 'lucasart', 'pizzazz', 'putain', 'sacdalan', 'applause', 'succeed', 'enrol', 'eave', 'pxc3xa1ll', 'damnit', 'mikado', 'intimate', 'yow', 'shore', 'providence', 'herbal', 'white', 'sxc3xa9bastian', 'loaf', 'bathhouse', 'stand', 'pax', 'holm', 'transvestite', 'storie', 'wirework', 'laboratory', 'southern', 'wrestlemania', 'gxc3xb3mez', 'matte', 'exchang', 'attack', 'spoof', 'tromeo', 'shumacher', 'cheekboned', 'gremlin', 'videogame', 'ok', 'adaptable', 'strip', 'hear', 'boldness', 'forewarn', 'recur', 'yan', 'scoop', 'peed', 'beholder', 'dorian', 'wonderland', 'overpopulation', 'shock', 'blessed', 'schechter', 'torment', 'cocky', 'tetsuo', 'mysteries', 'ediths', 'chapter', 'confronting', 'microbe', 'foregone', 'fishing', 'begining', 'grief', 'killian', 'invincibile', 'vip', 'recruit', 'maximum', 'influence', 'miles', 'juvenile', 'informer', 'cheongsam', 'emitism', '1970', 'friedhofer', 'naik', 'simplicity', 'stead', '7', 'rebel', 'parsimony', 'combination', 'anderson', 'reminded', 'simmon', 'face', 'owner', 'goddamned', 'tap', 'drag', 'crocodile', 'teja', 'submerge', 'repore', 'weight', 'leiberman', 'shrug', 'preity', 'memoirs', 'eventhough', 'mayor', 'footage', 'kerr', 'grow', 'duologue', 'pure', 'svu', 'dmytryk', 'pachabel', 'scrappy', 'debauchery', 'zafoid', 'ie', '01', 'falutin', 'hospitals', 'xc2x91in', 'car', 'actively', 'edie', 'leaf', 'trumpet', 'islander', 'your', 'chou', 'providentially', 'preformance', 'doors', 'grumpiness', 'transport', 'wisdom', 'loretta', 'auto', 'eale', 'joker', 'loyalty', 'stadium', 'bisexuality', 'int', 'resource', 'murders', 'interplanetary', 'cent', 'casomai', 'bowling', 'porklips', 'preoccupation', 'teammate', 'presentation', 'constitution', 'gold', 'lens', 'vanishes', 'traditional', 'puff', 'backround', 'hippie', '80ish', 'slot', 'dewaere', 'guarantee', 'fleischer', 'nonfiction', 'ellipsis', 'mentality', 'reunion', 'superfighter', 'murmur', 'precocious', 'cervantes', 'rodder', 'frontal', 'jo', 'republican', 'fingersmith', 'muti', 'prejudice', 'fish', 'guilt', 'utterly', 'privlege', 'disapoint', 'christian', 'verve', 'publishing', 'eckhart', 'clother', 'escapism', 'finese', 'edgey', 'salesman', 'astroturf', 'doormat', 'inner', 'heavy', 'feedback', 'breakdance', 'badass', 'hank', 'existentialist', 'purifier', 'prehensile', 'baking', 'wheel', 'apothacary', 'sceptical', 'malhotra', 'fudge', 'gainsborough', 'boppy', 'che', 'warsxc2x85', 'duty', 'wherein', 'dessert', 'inxc3xa9s', 'slickly', 'belligerent', 'anyone', 'excess', 'korsmo', 'meteorite', '227', 'moneymaker', 'xc3x90', 'entertainment', 'salutory', 'joiner', 'ear', 'caddyshack', 'lovely', 'email', 'afterwards', 'arousal', 'simpson', 'foreign', 'picking', 'pigsy', 'ton', 'vastly', 'insect', 'defect', 'mute', 'yog', 'professional', 'maroccan', 'cost', 'thursday', 'xc2x91cartoonish', 'ruined', 'romanticism', 'repulsion', 'candoli', 'obsess', 'essense', 'dunst', 'upa', 'test', 'hague', 'bothersome', 'raines', 'elijah', 'anarchist', 'nr', 'ecclesiastical', 'everbody', 'tuvok', 'pairing', 'sea', 'gibson', 'unnaturally', 'cathexis', 'solo', 'protagonist', 'hype', 'shepherd', 'business', 'nights', 'umcompromise', 'protector', 'almost', 'unsalted', 'havnt', 'workout', 'town', 'talky', 'roach', 'hole', 'histarical', 'synopsis', 'allurement', 'bejo', 'ww', 'leelee', 'daughters', 'digger', 'forbid', 'snobs', 'product', 'apophis', 'cg', 'exploitation', 'goldfish', 'txc3xaate', 'wetsuit', 'unziker', 'weekend', 'foxx', 'acedemy', 'formulative', 'visionally', 'uncultured', 'wii', 'relocation', 'bisexual', 'oscar', 'waterfall', 'adagietto', 'radiator', 'precision', 'unusable', 'describe', 'carpentry', 'wardrobe', 'dobbin', 'warn', 'malvolio', 'spy', 'cabin', 'proficient', 'incorrect', 'newhart', 'featurette', 'encounterd', 'mentalities', 'lattanzi', 'independant', 'exhooker', 'waterdance', 'unexpectedness', 'requests', 'cupboard', 'crim', 'sxc3xa5ng', 'pelham', 'iliopulos', 'coupe', 'opener', 'romano', 'cockle', 'lamb', 'uncluttered', 'shug', 'intruder', 'expertly', 'vhs', 'greyzone', 'jews', 'lot', 'industrialism', 'eternity', 'climb', 'rice', 'sabotage', 'leakage', 'suicide', 'kelsey', 'sore', 'askey', 'legal', 'since', 'several', 'ah', 'rxc3xa9gulier', '54', 'roeper', 'wait', 'monkeys', 'r', 'maestro', 'anniko', 'californian', 'clinical', 'machatxc3xbd', 'simply', 'screws', 'radiation', 'metulskie', 'keying', 'inexplicability', 'raptor', 'protestation', 'playing', 'coyote', 'senator', 'hot', 'stuck', 'golden', 'bearer', 'sup', 'stranger', 'patron', 'raggedy', 'ths', 'monstrous', 'eglantine', 'cash', 'rationality', 'blakmaile', 'brasil', 'renowned', 'masterman', 'fas', 'dumb', 'klasky', 'excel', 'et', 'define', 'usual', 'unknowe', 'cobra', 'sin', 'bridge', 'geisha', 'unit', 'eagle', 'reassuring', 'prodigy', 'hill', 'blitz', 'shed', 'hundred', 'abraham', 'abide', 'weirdsville', 'thisand', 'sleazy', 'ghoulie', 'lecture', 'timing', 'iranian', 'anand', 'knightrider', 'fill', 'excerpt', 'include', 'rhubarb', 'slutty', 'trivia', 'pttp', 'mawkishly', 'reversible', 'facilitator', 'vis', 'subtlety', 'unpleasantness', 'pc', 'mannerism', 'minimize', 'deep', 'terror', 'nonverbal', 'ghost', 'welcome', 'kane', 'oats', 'nightmares', 'kitty', 'syndrome', 'cast', 'wrinkly', 'sensitiveness', 'surgery', 'dentist', 'hobnob', 'adios', 'uncomfortable', 'push', 'tape', 'question', 'cowpoke', 'magnolia', 'merwin', 'cuddle', 'dylan', 'casual', 'operish', 'mar', 'gentle', 'kick', 'improvisational', 'immobile', 'explicitly', 'converter', 'filmmaker', 'stacy', 'award', 'crawl', 'workmanship', 'unsurpassed', 'literacy', 'camino', 'koo', 'apostrophe', 'turntablism', 'serial', 'shine', 'prime', 'fedora', 'ekspres', 'solemn', 'honor', 'sentinel', 'speech', 'whacked', 'fugitive', 'budgeting', 'unexpecting', 'population', 'evacuee', 'interior', 'embed', 'disclose', 'romantique', 'brighten', 'dead', 'xc2xa36', 'few', 'ingratiating', 'aspire', 'clumsily', 'transplanting', 'rudely', 'people', 'accurately', 'wrinkle', 'windtalker', 'miguel', 'scent', 'soles', 'voyeurism', 'sinks', 'foreseeable', 'certain', 'dollmaker', 'defa', 'stockings', 'gambling', 'trackwalker', 'burb', 'formula', 'shout', 'jeff', 'skirt', 'artist', 'hearst', 'touriste', 'dome', 'chilling', 'cloak', 'spellbindingly', 'eon', 'xc2xad', 'trading', 'otherness', 'ugly', 'transfusion', 'judge', 'send', 'witchcraft', 'djjohn', 'lunch', 'bank', 'undistinguishable', 'perdition', 'jackass', 'press', 'blackmail', 'document', 'space', 'pleasantly', 'rififi', 'forecaster', 'barbarians', 'cola', 'poetry', 'hit', 'compartment', 'society', 'heebie', 'invades', 'sunrise', 'diamond', 'trought', 'shove', 'traitor', 'ulysse', 'domestic', 'moustache', 'lady', 'wine', 'steiner', 'nanny', 'xc2x97', 'clay', 'gameplay', 'tis', 'rembrandt', 'wttw', 'profiteer', 'tee', 'foreseeing', 'rare', 'hussle', 'sabre', 'rapist', 'offer', 'compositor', 'laces', 'astute', '1930', 'drives', 'alive', 'indiscretion', 'coartship', 'salute', 'favela', 'sadomasochistic', 'xc3xa2me', 'directer', 'btwn', 'microwave', 'cameo', 'perfs', 'participator', 'thru', 'cruz', 'grandparent', 'witts', 'indy', 'spijun', 'runner', 'expressionist', 'uber', '2', 'buffoon', 'slightest', 'earthly', 'spectre', 'finish', 'snobbish', 'cause', 'hipness', 'kinda', 'paperhouse', 'ghostwriting', 'collegue', 'heaven', 'surpring', 'depict', 'situations', 'moment', 'costume', 'whassis', 'ascot', 'odyssey', 'paxinou', 'mobility', 'jeweler', 'picturing', 'genious', 'donee', 'sacrificial', 'dresser', 'croc', 'belittle', 'meagre', 'roman', 'glitch', 'sonny', 'duration', 'tromatic', 'facade', 'doleful', '71', 'consciousness', 'abahy', 'contrast', 'background', 'somo', 'childish', 'bab', 'sanitarium', 'mosher', 'pips', 'win', 'clip', 'pitfall', 'aito', 'ring', 'feel', 'swayze', 'xc2xa8', 'jang', 'fleece', 'unnotice', 'pefectly', 'broadcasting', 'gassed', 'stott', 'rouste', 'personify', 'feeb', 'democracy', 'paragraph', 'wat', 'gingerbread', 'missile', 'cousin', 'ladykiller', 'charlie', 'sciple', 'selfishness', 'portray', 'tad', 'parse', 'champ', 'iz', 'arrow', 'gothic', 'musician', 'businessman', 'prospero', 'ullswater', 'puszta', 'lyle', 'acted', 'emmy', 'atc', 'skank', 'becky', 'dah', 'ballot', 'veronique', 'builder', 'understand', 'arretxc3xa9', 'villain', 'chitty', 'criminal', 'pod', 'tiag', 'understandably', 'nore', 'statement', 'onscreen', 'debt', 'frenetic', 'branagh', 'phlegm', 'glamourise', 'finishing', 'hz', 'testament', 'wedding', 'softly', 'interactions', 'seen', 'sulfuric', 'alias', 'toad', 'didn', 'locale', 'fritter', 'outrace', 'haphazard', 'intriguingly', 'hardy', 'predisposition', 'energize', 'knowingly', 'youth', 'romuald', 'daughter', 'variety', 'sense', 'etc', 'ratchet', 'hatch', 'trintignant', 'brewster', 'interpretive', 'thorny', 'false', 'mars', 'pacey', 'deftness', 'couple', 'site', 'led', 'note', 'wackjob', 'legacy', 'underwhelmed', 'clumsey', 'disturbing', 'vulnerablility', 'kvell', 'dowry', 'pressure', 'sunk', 'mingle', 'pumping', 'james', 'tenor', 'vault', 'bushel', 'dansu', 'mom', 'salva', 'availability', 'his', 'bolvian', 'geopolitic', 'corny', 'unheralded', 'showing', 'flic', 'sunshine', 'bloke', 'niceness', 'finalexc2x85', 'fp701', 'publicity', 'untouchable', 'suck', 'flegma', 'vibrance', 'stepper', 'trustworthy', 'vividly', 'remade', 'quirky', 'repentance', 'plea', 'tame', 'duke', 'ity', 'exorcist', 'snowy', 'dullsville', 'natural', 'harley', 'dimitrios', 'muppets', 'sabotur', 'minutia', 'y', 'bette', 'leathal', 'coool', 'smiles', 'costumery', 'bros', 'categorize', 'abduction', 'incest', 'kook', 'conrack', 'smile', 'headlining', 'baloone', 'veronica', 'revolutionary', 'enormously', 'dugout', 'upn', 'rise', 'predictible', 'tribal', 'screening', 'basketball', 'mindf', 'tenacity', 'enticingly', 'loll', 'depression', 'complementary', 'buba', 'spoken', 'simran', 'roundup', 'fun', 'holly', 'dialogue', 'die', 'corporation', 'fuzzie', 'mi4', 'trench', 'grouping', 'wonderously', 'rest', 'favourite', 'scarcity', 'venue', 'eat', 'shocking', 'oberman', 'nipper', 'eg', 'asterix', 'l', 'predator', 'colour', 'bla', 'srw', 'sharukh', 'peralta', 'ambitious', 'nula', 'crack', 'aur', 'costars', 'burgade', 'penquin', 'backstage', 'urban', 'boone', 'noboby', 'tomatoes', 'unexpecte', 'lately', 'sealed', 'matthew', 'unwholesome', 'quack', 'believably', 'disillusionment', 'schmaltze', 'threequel', 'ray', 'dum', 'overripe', 'physique', 'dub', 'terroristic', 'officialdom', 'wart', 'shopgirl', 'taptieg24', 'screw', 'dorkness', 'election', 'buying', 'brillantly', 'dalmatian', 'premise', 'sharking', 'bread', 'unique', 'definite', 'cassini', 'harling', 'honkers', 'fingers', 'wilderness', 'capturing', 'rover', 'warrier', 'billion', 'wink', 'surreal', 'chameleon', 'purse', 'effective', 'seen1', 'reactionary', 'snuffy', 'jung', 'fine', 'committent', 'tycoon', 'soloist', 'opera', 'ardent', 'national', 'kurdish', 'athleticism', 'snowman', 'innovative', 'aboriginal', 'mike', 'lan', 'sweety', 'bochner', 'hunting', 'various', 'roll', 'gossip', 'visionary', 'loeb', 'vaulting', 'positively', 'mesmeric', 'tantoo', 'incriminate', 'adventurous', 'alcock', '1941', 'defiantly', 'dance', 'hunchback', 'appliance', 'ayn', 'foreman', 'ukrainian', 'daslow', 'experimental', 'orgy', 'vet', 'winch', 'maze', 'voorhees', 'fluidity', 'trekkies', 'brokeback', 'praise', 'scala', 'lippo', 'ruggles', 'orson', 'variation', 'al', 'banana', 'quieter', 'squared', 'samourai', 'dialogues', 'cryer', 'whackjob', 'graphic', 'execution', 'discourage', 'endanger', 'stonker', 'aerospace', 'humor', 'patiently', 'neat', 'hackett', 'arsenical', 'solarisation', 'thn', 'lexa', 'falling', 'handicapped', 'musicion', 'monster', 'agriculture', 'accurate', 'frailty', 'pungent', 'logical', 'truely', 'moonstruck', 'coating', 'fabric', 'complication', 'witch', 'rarity', 'tywanna', 'pwog', 'academy', 'bison', 'entry', '60tie', 'pharoah', 'supersentimentality', '8', 'mansfield', 'enlisted', 'bigalc', 'poll', 'hysterically', 'borie', 'refugee', 'behaviour', 'externalization', 'whodunit', 'corporate', 'vera', 'asylum', 'trier', 'coprophagia', 'whoopdedoodle', 'surviving', 'xc2xa38000', 'piper', 'equivalent', 'spit', 'buckwheat', 'together', 'parent', 'henry', 'overactive', 'laurent', 'backup', 'rothrock', 'renter', 'primo', 'aish', 'equality', 'dollar', 'jonestown', 'ascent', 'overcome', 'spoofs', 'candle', 'zany', 'abbott', 'z', 'happy', 'wheaton', 'panel', 'willstown', 'musical', 'porno', 'also', 'raucous', 'armor', 'abortion', 'bizarreness', 'brawling', 'immersed', 'eight', 'painting', 'stomu', 'seventy', 'oppurtunity', 'dedlocks', 'potyomkin', 'evilly', 'cancer', 'shedding', 'jockhole', 'coffee', 'symphony', 'marraige', 'poirots', 'comic', 'shipbuilder', 'item', 'sunbacke', 'essay', 'salome', 'smalltown', 'verite', 'notably', 'plummer', 'incense', 'goof', 'guard', 'goref', 'prolong', 'woo', 'similarity', 'mistreat', 'star', 'singing', 'snxc3xa6r', 'cable', 'swordsman', 'germanxc2xb4s', 'fashioned', 'frit', 'conductor', 'horseflies', 'spiral', 'questionmark', 'patroller', 'believer', 'miiki', 'voiec', 'central', 'early', 'pasqualino', 'wray', 'fanfaberie', 'cumming', '2022', 'job', 'onto', 'hunt', 'exultation', 'jodie', 'plimsoul', 'kovacs', 'scrupulous', 'farnsworth', 'pervading', 'nobler', 'uniform', 'manna', 'keach', 'sharpe', 'lithographic', 'doesnt', 'biggish', 'jbd', 'rickman', 'oddysey', 'stowaway', 'photographer', 'lad', 'extortionist', 'crime', 'exlusively', 'sister', 'backstep', 'zhan', 'visual', 'supurb', 'granddaughter', 'fartsys', 'philosopher', 'adventure', 'idiocracy', 'exagerate', 'nyc', 'eighty', 'glove', 'breakfast', 'frivolity', 'perspective', 'biological', 'plus', 'als', 'birch', 'donny', 'starting', 'foley', 'grittiness', 'nonbelieveability', 'blaxploitation', 'jaco', 'unrated', 'survive', 'blackwood', 'scintilla', 'track', 'geometrical', 'transformation', 'edge', 'blackmarket', 'gallic', 'greast', 'scientist', 'monologue', 'gaijin', 'weep', 'pool', 'ownership', 'barne', 'humerous', 'greatest', 'saltmen', 'barbra', 'virual', 'ame', 'docteur', 'existenz', 'delon', 'ruby', 'girl', 'encouraging', 'orco', 'zuzz', 'storyline', 'jokey', 'skinny', 'arguments', 'travel', 'lyonne', 'flynn', 'homely', 'reitman', 'gamut', 'accustom', 'siska', '30th', 'fundamental', 'centurie', 'virginize', 'nia', 'ak', 'loss', 'playwright', 'iris', 'cringy', 'vallxc3xa9e', '219', 'partner', 'john', 'pszoniak', 'vulgur', 'facility', 'commando', 'margret', 'satire', 'heimlich', 'induct', 'upwardly', 'atomic', 'fi', 'tip', 'begotten', 'baleful', 'faro', 'preacher', 'rap', 'creation', 'upsetting', 'aborigine', 'admirer', 'shines', 'goood', 'mechs', 'raphaelite', 'angles', 'soup', 'foal', 'wyld', 'separation', 'vindicator', 'glue', 'kissed', 'streetcar', 'milafon', 'humpback', 'montgomery', 'doctrine', 'spiritually', 'unawares', 'oppressive', 'brogue', 'comment', 'oppress', 'comedic', 'wonderful', 'narrating', 'deceased', 'caste', 'elsewere', 'zim', 'labyrinth', 'nilsson', 'tony', 'complain', 'didnxc2xb4', 'happe', 'tom', 'brigitte', 'versatility', 'shall', 'franklins', 'dig', 'hells', 'pinto', 'sidewalk', 'lifeforce', 'glean', 'bullish', 'puppet', 'ally', 'freaky', 'percentage', 'predictive', 'beautifull', 'slapstick', 'bowl', 'looking', 'sandler', 'disturbia', 'grizzle', 'igby', 'debut', 'penny', 'teletubbie', 'nighter', 'postman', 'cassavette', 'possessiveness', 'terfel', 'skipped', 'submission', 'flustered', 'troma', 'outisde', 'subway', 'unexpected', 'tender', 'mochanian', 'service', 'coen', 'accuse', 'play', 'arguably', 'tarantinos', 'temp', 'survivor', 'alienate', 'rubber', 'n64', 'carman', 'bbw', 'dragon', 'unsettling', 'erotic', 'azz', 'engross', '51', 'bullock', 'takers', 'outfit', 'betamax', 'scarecrow', 'intesifie', 'harrison', 'moonlighting', 'yeah', 'deciphering', 'errant', 'possess', 'ravish', 'flow', 'plenty', 'parties', 'shot', 'error', 'railway', 'enaction', 'personal', 'office', 'vierde', 'firstenberg', 'finale', 'bibbity', 'unignorable', 'savour', 'backwood', 'fantacy', 'design', 'gandolfini', 'handedly', 'tantalising', 'zone', 'comedian', 'cloth', 'phylicia', 'attract', 'spescially', 'appelation', 'enlighten', 'chalo', 'arguable', 'woth', 'thankfully', 'army', 'dismissal', 'todesking', 'poet', 'bean', 'snapshot', 'brava', 'shreck', 'tornado', 'lta', 'hand', 'railsback', 'polish', 'memorable', 'endearing', 'defilement', 'program', 'empowerment', 'stephan', 'scooter', 'shameless', 'progressively', 'riotous', 'magicfest', 'splitting', 'bars', 'fc', 'utenriks', 'matilda', 'peacetime', 'remarkable', 'mouton', 'rift', 'wave', 'require', 'shorts', 'boxer', 'reporter', 'tune', 'drew', 'persue', 'dion', 'brannagh', 'klimov', 'chinbotsu', 'kiyo', 'plot', 'patronize', 'vicarious', 'loneliness', 'mortality', 'fitted', 'rank', 'iago', 'boomer', 'footprints', 'mechanical', 'surrealistic', 'twilight', 'hammering', 'misfit', 'attempts', 'form', 'intertaining', 'tagore', 'largley', 'routine', 'satisfactory', 'flemish', 'unbridled', 'lotr', 'rediscover', 'leaving', 'casting', 'heavenxc2xb4s', 'defender', 'matinxc3xa9es', 'sean', 'eeh', 'explanation', 'devalue', 'racing', 'knicker', 'team', 'editor', 'six', 'flannel', 'implosion', 'accomplish', 'philo', 'macgregor', 'kafkaesque', 'blindside', 'volatile', 'funny', 'fed', 'delightful', 'relationship', 'colourfully', 'darko', 'egotism', 'irresponsible', 'mirthful', 'manga', 'masy', 'stubby', 'feminine', 'mafia', 'superintendent', 'pounds', 'bet', 'casseus', 'irxc3xa8ne', 'dadridge', 'falk', 'polari', '000', 'answer', 'ding', 'sweets', 'blogtalkradio', 'riverbank', 'princess', 'each', 'faithfulness', 'watson', 'identity', 'nietzche', 'expansion', 'prick', 'pricing', 'signer', 'taime', 'letter', 'entertanment', 'lies', 'enigmas', 'probablility', 'emoted', 'burbank', 'piquancy', 'rosenthal', 'airtight', 'communist', 'saboteur', 'carny', 'pickard', 'vcd', 'tarzan', 'everlovin', 'materialization', 'emergent', 'wellspring', 'chxc3xa2teau', 'marmite', 'scissors', 'lighting', 'triangulate', 'cit', 'h', 'bxc3xa9jo', 'company', 'flighty', 'strong', 'wallop', 'boatload', 'redifined', 'material', 'sexploitation', 'midget', 'virtioso', 'frog', 'permit', 'highwayman', 'pelicang', 'affirm', 'cyclonic', 'cold', 'colonialist', 'pende', 'stxc3xa9phane', 'process', 'be', 'children', 'saddles', 'mockumentary', 'desire', 'resident', 'sentimentalism', 'unrequited', 'manticore', 'dysphoria', 'disease', 'djinn', 'subspecies', 'sherriff', 'respond', 'xc2x91best', 'whack', '19th', 'valkyries', 'happend', 'collector', 'clanton', 'premium', 'expectant', 'ration', 'flamingos', 'sophisticated', 'famine', 'community', 'downs', 'canto', 'westerns', 'cryin', 'natured', 'beast', 'rancher', 'venitian', 'firelight', 'horses', 'superman', 'clio', 'clumsy', 'bali', 'superb', 'giblet', 'dish', 'lie', 'paedophiliac', 'worryingly', 'petit', 'mcarthur', 'tudor', 'goodnight', 'screenplay', 'shearing', 'row', 'xc2x84batman', 'vrajesh', 'fistful', 'sentence', 'along', 'pseudocomedie', 'lalouche', 'grandmother', 'brill', 'twin', 'originator', 'manical', 'contessa', 'week', 'litle', 'rabbit', 'anywhere', 'kapadia', 'sparrows', 'taiwanese', 'oherwise', 'daddy', 'stuffy', 'technicolored', 'mafioso', 'digital', 'nurse', 'repeat', 'foie', 'staging', 'provoked', 'distressing', 'klembecker', '125', 'terrorist', 'demme', 'roommate', 'chun', 'cloussou', 'difficulty', 'dis', 'finnish', 'copulating', 'catholique', 'burlesque', 'wretched', 'rejection', 'litteraly', 'agreement', 'supermarket', 'robocop', 'groundswell', 'monk', 'bungy', 'sanatorium', '60', 'timeframe', 'descendent', 'address', 'thereof', 'suceed', 'complicated', 'spiritited', 'russel', 'theremin', 'goldberg', 'serenity', 'molasse', 'snog', 'kuch', 'obsession', 'ogre', 'whimsey', 'nutty', 'instrumental', 'dalloway', 'tribulation', 'trap', 'carol', 'gym', 'denial', 'coster', 'platters', 'asthetic', 'ahead', 'willard', 'vice', 'addicting', 'problem', 'multimedia', 'improvisatory', 'ivanna', 'tale', '50s', 'becouse', 'next', 'diesel', 'beautiful', 'twist', 'saphirjd', 'warmongere', 'gate', 'amalgamation', 'war', 'ock', 'udit', 'nevertheless', 'p', 'asian', 'correctly', 'exotic', 'trapping', 'played', 'brielfy', 'undying', 'yea', 'confrontation', 'share', 'boxy', 'ninotchka', 'krusty', 'hugely', 'sweat', 'publicized', 'horse', 'jixc3xb8xc3xad', 'darkplace', 'i', 'eurotrip', 'beer', 'supercar', '345', 'grenier', 'jackson', 'suspects', 'babysitter', 'political', 'blowingly', 'otherworldly', 'holes', 'tsar', 'jet', 'bebe', 'putnam', 'wildlife', 'xc2x84bubble', 'grave', 'mauseleum', 'issue', 'loyal', 'klever', 'bonham', 'dreamt', 'spalsh', 'plumber', 'genie', 'apocalypse', 'bust', 'no', 'moonwalk', 'sorrento', 'pg', 'chillness', 'evolvement', 'gorman', 'venoms', 'wintry', 'paper', 'straightaway', 'unmatche', 'everlasting', 'camerawork', 'machinist', 'campus', 'certainly', 'stange', 'outbreak', 'addressed', 'fellowship', 'cassevette', 'stereoscopic', 'adorable', 'audio', 'plothole', 'badpuppy', 'dalai', 'boundary', 'uncomplicated', 'restraint', 'extacy', 'unresolved', 'kangwon', 'brillant', 'weridness', 'goofus', 'slump', 'w', 'yep', 'harassment', 'ajar', 'hunter', 'kite', 'beckham', 'fields', 'hi', 'failproof', 'ashalata', 'calamity', 'euro', 'highlight', 'fans', 'rape', 'souler', 'particular', 'golding', '3po', 'quite', 'preminger', 'timeliness', 'hackman', 'ager', 'charles', 'comicbook', 'sigurrxc3xb3s', 'grip', 'spouse', 'lord', 'unlikely', '1950sxc2x85', 'response', 'grain', '19', 'fox', 'brel', 'industry', 'count', 'leather', 'speciality', 'eek', 'destiny', 'weapon', 'fulci', 'refreshed', 'small', 'goodwill', 'boardinghouse', 'repoire', 'wadd', 'q', 'meany', 'alistair', 'exceptionally', 'snake', 'unarmed', 'laborer', 'borchardt', 'yugonostalgic', 'duckling', 'lynchian', 'grader', 'colby', 'timeline', 'ninja', 'support', 'rescuing', 'commender', 'inform', 'galaxy', 'interwoven', 'knows', 'seenxc2x85considere', 'footprint', 'glossy', 'homeward', 'facesxc2x97i', 'momento', 'rubberneck', 'fess', 'spacecamp', 'profoundly', 'undoubtably', 'gimmeclassics', 'animations', 'colorous', 'intolerance', 'slaven', 'hara', 'conspirital', 'typecast', 'kieslowski', 'unattractiveness', 'stella', 'cheerfully', 'ya', 'black', 'military', 'oh', 'daffily', 'porgy', 'reinvigorate', 'suess', 'ambiguous', 'jar', 'aro', 'disney', 'biography', 'rouve', 'top', 'macdonald', 'godfather', 'simialr', 'illiterate', 'eleanor', 'mcdonnell', 'remark', 'crossing', 'climbing', 'cybermen', 'king', 'day', 'casino', 'point', 'twistedness', 'aaagh', 'clone', 'flattered', 'chasers', 'carpenter', 'sect', 'belt', 'drug', 'arte', 'keyed', 'rxc3x8ave', 'denigrati', 'cara', 'ruefully', 'allah', 'famous', 'personation', 'balsa', 'boom', 'hairbraine', 'kiss', 'possibly', 'informant', 'silvestri', 'timothy', 'zelah', 'cb', 'bravado', 'transcendence', 'milious', 'programmer', 'acomplication', 'grayscale', '5year', 'astonished', 'deteriorated', 'creative', 'coverup', 'crockett', 'sometimes', 'tub', 'perform', 'commericals', 'amc', 'needle', 'never', 'mini', 'reproduce', 'courage', 'pufnstuf', 'reporting', 'jumpstart', 'sap', 'resile', 'whooo', 'hypnotizing', 'celtic', 'fassbinder', 'precious', 'wow', 'doppelgxc3xa4nger', 'soccer', 'faerie', 'turkish', 'saturnine', '1971', 'ungoing', 'spoiler', 'goss', 'assembling', 'idiea', 'assassin', 'hystericalness', 'sharps', 'wicked', 'resurgence', 'class', 'bittersweetness', 'momma', 'hardesty', 'police', 'chucky', 'landgrabber', 'recommanded1', 'talkshow', 'footstep', 'contrasted', 'truest', 'scorsese', 'wrung', 'video', 'walsh', 'match', 'heist', 'shrine', 'rites', 'aftertaste', 'river', 'ciccolina', 'choir', 'hai', 'grinchmas', 'discription', 'prayer', 'linnea', 'hea', 'damper', 'motion', 'carnage', 'tize', 'fanning', 'debutante', 'documenting', 'clarissa', 'publisher', 'novelette', 'exceptional', 'favorite', 'desensitize', 'fluff', 'californication', 'stills', 'untold', 'lushious', 'amenxc3xa1bar', 'nurturer', 'plantation', 'delirium', 'filmdom', 'reform', 'fantasyfilmf', 'pterodactyl', 'fu', 'giva', 'marenghi', 'fan', 'chemist', 'after', 'betty', 'lion', 'friends', 'widmark', 'nut', 'gameshow', 'cough', '9', 'rollick', 'iamerace', 'incidence', 'path', 'minis', 'shortcoming', 'hungarian', 'farris', 'eraserhead', 'percent', 'naomi', 'bogotxc3xa1', 'brain', 'ups', 'ensemble', 'centerer', 'follow', 'training', 'flinstoneish', 'expressive', 'jacobi', 'awstruck', 'kinga', 'aversion', 'meethi', 'attacker', 'curtis', 'cameraderie', 'ritter', 'riely', 'gypsies', 'menzies', 'billionaire', 'hostess', 'vuosi', 'seldom', 'kangaroo', 'upstairs', 'exagerating', 'stair', 'crosseyed', 'fallible', 'vallone', 'screamers', 'motivated', 'briscoe', 'drum', 'scheme', 'characterful', 'gal', 'anjos', 'edith', 'portrait', 'brilliant', 'film', 'raunch', 'dwarf', 'lake', 'wuxie', 'ladrone', 'teenager', 'performances', 'pilmarkxc2xb4s', 'biblical', 'contestant', 'philisopher', 'spookhouse', 'stable', 'mazursky', 'masse', 'nonexistant', 'ellis', 'osteopath', 'silent', 'therin', 'diversely', 'partisan', 'nowadays', 'pray', 'religious', 'groove', 'line', 'treks', 'difficult', 'snipe', 'dehumanising', 'rook', 'ingenue', 'pretense', 'healy', 'robbins', 'baer', 'future', 'fat', 'punctuate', 'fleshed', 'jamaican', 'respectable', 'raoul', 'quiet', 'millenium', 'unavoidably', 'mxc3xbcller', 'professor', 'overcoming', 'odour', 'imparting', 'disabled', 'dujardin', 'jogging', 'beccket', 'spermatozoon', 'giant', 'invetigator', 'leporid', 'unforgiven', 'jibe', 'idealistic', 'semblance', 'optical', 'attitude', 'pacy', 'rep', 'ashew', 'rush', 'think', 'patrol', 'creationism', 'yokai', 'specialist', 'hypnotize', 'privation', 'leon', 'liking', 'dinosaurs', 'crab', 'exquisitly', 'loosening', 'malxc3xa9fique', 'illusions', 'clint', 'ranch', 'overman', 'demons', 'viewable', 'autobio', 'marshalxc2xb4', 'megaplex', 'milklady', 'celebrity', 'roof', 'dm', 'fridge', 'destry', 'segemet', 'latterly', 'scamp', 'personnaly', 'wilkison', 'airlift', 'entelechy', 'barrymore', 'troubled', 'net', 'mudbank', 'taekwondo', 'credibility', 'offbeat', 'crocs', 'television', 'childhood', 'sexuality', 'columnist', 'passable', 'matched', 'pavarotti', 'festival', 'meringue', 'fabrice', 'polyvalente', 'disability', 'overexplanation', 'grower', 'witting', 'talented', 'flamenco', 'keeper', 'sbs', 'triangle', 'swarthy', 'veddy', 'romain', 'coulisse', 'erased', 'irreverant', 'italian', 'saloon', 'nightfall', 'station', 'dust', 'giraudeau', 'deliberate', 'hd', 'uniquely', 'huit', 'flat', 'zhen', 'thematic', 'trilogy', 'life', 'mountainous', 'misstep', 'factxc2x85', 'junkie', 'eschelon', 'bittersweetly', 'botulism', 'savage', 'townspeople', 'iff', 'photo', 'doot', 'commonplace', 'chattel', 'evoke', 'geared', 'hoot', 'hitting', 'message', 'envoke', 'compare', 'beguiled', 'babysat', 'dot', 'hsyterical', 'gossit', 'hobbit', 'cinematography', 'multilevel', 'crate', 'overstatement', 'squire', 'cake', 'private', 'glass', 'jivetalking', 'lovably', 'being', 'negative', 'marvelling', 'transgenere', 'tully', 'angry', 'wuhl', 'interconnect', 'plateau', 'patter', 'jacques', 'gimmick', 'angora', 'ui', 'zero', 'info', 'dreamscape', 'irony', 'rutherford', 'recomme', 'witness', 'sayid', 'magnificently', 'cambodia', 'plausibly', 'powerfully', 'punch', 'cutsie', 'multiple', 'changeover', 'cj', 'equally', 'sell', 'tramp', 'overrule', 'plagiarism', 'feist', 'omnibus', 'stack', 'booby', 'employ', 'rediculous', 'pitch', 'healthy', 'psychological', 'krueger', 'egbert', 'accuracy', 'spaceship', 'sedate', 'culp', 'boulevard', 'proletarian', 'agate', 'loc', 'khoi', 'robby', 'inhospitable', 'damp', 'galvanize', 'broken', 'oddest', 'spookily', 'federal', 'observation', 'fiers', 'amplify', 'counterpart', 'vol', 'crusade', 'o', 'egyptology', 'mixer', 'diner', 'snitch', 'regime', 'instrument', '1972', 'metcalfe', 'welles', 'mulder', 'mayfield', 'joo', 'ordain', 'gunfighter', 'wire', 'josie', 'resurface', 'supernatural', 'partcular', 'spouter', 'rajnesh', 'thruway', 'tribesman', 'renault', 'hare', 'zombief', 'spall', 'infamy', 'similiar', 'expectancy', 'yr', 'stores', 'tent', 'keep', 'thiessan', 'kid', 'suprise', 'pornographer', 'ghibli', 'plague', 'encoding', 'sioux', 'xc2x96', 'scryeeee', 'gaga', 'choose', 'dominion', 'sporchi', 'pont', 'alpine', 'tollin', 'congratulation', 'untested', 'climber', 'series', 'remmi', 'lengh', 'saratoga', 'episode', 'unsustainable', 'deter', 'code', 'cxc3xa9dric', 'creepiness', 'collapse', 'pppenheimer', 'slater', 'salinger', 'bale', 'shyness', 'appreciate', 'west', 'swordplay', 'ballerina', 'soo', 'notld', 'puppy', 'bravery', 'cinematografic', 'stormy', 'duryea', 'pumpkinhead', 'claudexc2xb4s', 'magnifiscent', 'muslim', 'nightclub', 'rottenest', 'how', 'ewwww', 'seated', 'valentino', 'villaronga', 'futuristic', 'desparation', 'airhead', 'jaw', 'rant', 'erendira', 'spice', 'ail', '24mar2001', 'nemesis', 'gabba', 'indistinguishable', 'antidote', 'quotidien', 'sweeking', 'boy', 'mccool', 'imply', 'dramatize', 'reminiscent', 'superbly', 'drastically', 'mexican', 'smell', 'peripherally', 'imagination', 'merengie', 'jobe', 'shahrukh', 'laserdisc', '6000', 'ranthorincus', 'jingo', 'lifetime', 'beard', 'mclaglen', 'prank', 'andre', 'deutschen', 'armour', '900', 'drive', 'apollo', 'saura', 'unforgettable', 'howdy', 'cart', 'rural', 'metty', 'escape', 'innovation', 'powderkeg', 'youngster', 'dxt', 'bumble', 'golfer', 'sui', 'rotation', 'pedal', 'beanstalk', 'shanty', 'inki', 'seriocomic', 'xc2x91yours', 'alibi', 'miniscule', 'bronson', 'cannibalism', 'barbieri', 'cartload', 'replayable', 'audiance', 'melvin', 'moneylender', 'pimply', 'passionatly', 'mimes', 'chinese', 'hilariousness', 'policies', 'rehabbe', 'acurate', 'enforced', 'fleapit', 'getup', 'batty', 'sultriness', 'sinatra', 'nominate', 'benkei', 'occupier', 'jansen', 'silence', 'element', 'lino', 'discredit', 'mileu', 'scarface', 'disparity', 'centavo', 'stark', 'sxsw', 'bauhaus', 'birdcage', 'fearful', 'va', 'risky', 'bodycount', 'metal', 'amalia', 'chambara', 'papal', 'pollack', 'sligthly', 'biopic', 'cater', 'instillation', 'roper', 'hikers', 'hustler', 'plane', 'definate', 'reommended', 'crooked', 'misperception', 'occupation', 'turpitude', 'infecting', 'siphon', 'tribute', 'mock', 'ambivalence', 'setting', 'winter', 'herzog', 'sprezzatura', 'innsmouth', '4th', 'bureau', 'broadside', 'deol', 'cruel', 'tangential', 'elephant', 'release', 'landscapes', 'balanced', 'suny', 'delores', 'schmooze', 'heroically', 'pascow', 'einar', 'flank', 'listen', 'dose', 'marcin', 'notte', 'grift', 'shy', 'virtual', 'lxc3xa9aud', 'later', 'eastwood', 'were', 'tarot', 'dowdy', 'othewise', 'clover', 'verrrryyyyyy', 'defendant', 'unnoticed', 'urbanity', 'stimulating', '9pm', 'crap', 'raider', '1978', 'roberts', 'rigor', 'devoted', 'buy', 'currency', 'phantom', 'producer', 'daggers', 'intuition', 'lag', 'preschool', 'slaves', 'raw', 'sequels', 'rain', 'ning', 'grandchild', 'handbag', '225', 'hellraising', 'flirts', 'arr', 'litlle', 'reccommend', 'bonnet', 'ufo', 'hearfelt', 'lifestyle', 'catwalk', 'bodyguard', 'true', 'carachter', 'fagabeefe', 'mild', 'altair', 'martxc3xadnez', 'tet', 'profanity', 'khoda', 'essence', 'whaler', 'enumerous', 'featherweight', 'agin', 'sector', 'mother', 'obviusly', 'heelers', 'lanza', 'cd', 'asses', 'cruell', 'joys', 'grieco', 'internation', 'camping', 'furlong', 'morse', 'sensationalist', 'erika', 'bxc3xaate', 'fare', 'provoking', 'dirtbag', 'feistiness', 'powerful', 'hander', 'beery', 'terrorizing', 'lengthy', 'miike', 'abo', 'outrageous', 'diminutive', 'considering', 'cameroonian', 'itxc3x95s', 'carbine', 'manuccie', 'setup', 'piracy', 'awaking', 'lesson', 'muhahahahaha', 'nibelungenlied', 'ripper', 'ronin', 'lief', 'robe', 'humorous', 'trenholm', 'socrates', 'u', 'connelly', 'weddings', 'cuban', 'weber', 'gut', 'snugness', 'andres', 'buccaneers', 'ages', 'aboutagirly', 'thrilling', 'struth', 'homemake', 'tyre', 'realistic', 'gangsta', 'conveyor', 'streets', 'proscenium', 'print', 'poitier', 'grimm', 'manipulation', 'colonization', 'outdo', 'overnighter', 'driveway', 'baffele', 'competition', 'savant', 'oscars', 'soha', 'challenge', 'mutant', 'hugh', 'scope', 'erotically', 'austenxc2xb4s', 'vick', 'continuously', 'pat', 'scratch', 'witted', 'killing', 'chimeric', 'vinterberg', 'gaillardian', 'charcter', 'hbo', 'antonioni', 'wail', 'pressed', 'algren', 'ordinary', 'compelling', 'supposably', 'temporary', 'reviewer', 'dalmation', 'om', 'haystack', 'propaganda', 'everyone', 'odessa', 'dealer', 'ingenious', 'dialog', 'graveling', 'procession', 'worker', 'often', 'love', 'george', 'presidentxc2xb4s', 'gadg', 'paully', 'shangri', 'standout', 'starcrossed', 'au', 'crisp', 'homicidal', 'it', 'virtuosity', 'bondage', 'where', 'embezzlement', 'say', 'seamlessly', 'harebraine', 'ingratiate', 'holiday', 'unremittingly', 'mccartney', 'sub', 'reedus', 'dissapionte', 'j', 'motorcycle', 'joki', 'tv', 'attenborough', 'tone', 'curtain', 'f', 'tattooed', 'embolden', 'area', 'dancing', 'ethnicity', 'insteresting', 'culture', 'fly', 'tremendous', 'jist', 'imax', 'produce', 'googely', 'behold', 'schroeder', 'elderly', 'hehe', 'shattering', 'adaptation', 'kellie', 'chauncey', 'connection', 'blade', 'captain', 'turf', 'governor', 'marshal', 'egyptian', 'lumet', 'marvellous', 'bajaj', 'bacharach', 'again', 'moviegoing', 'changeling', 'xoxo', 'monterey', 'staginess', 'discotheque', 'historical', 'gymnast', 'executive', 'truley', 'emperor', 'liar', 'recommendation', 'forgery', 'falcxc3xa3o', 'surprisingly', 'fire', 'alternative', 'wc', 'teaming', '146', 'engrossing', 'tight', 'complement', 'taximeter', 'genuinely', 'snider', 'lucklily', 'zen', 'flawless', '16mm', 'reveal', 'televison', 'goody', 'half', 'headless', 'tira', 'anecdotic', 'okno', 'running', 'cinemagraphic', 'leary', 'medical', 'sayer', 'ullmann', 'pig', 'kidnap', 'pratically', 'rutger', 'larenz', 'free', 'skammen', 'delude', 'album', 'walt', 'consequences', 'reanhauer', 'screwup', 'gooding', 'particuarly', 'muntean', 'videotape', 'malkovich', 'antithesis', 'pasdar', 'wonderwoman', 'squidbillie', 'boyfriend', 'unmask', 'territorial', 'stalinist', 'sloppy', 'hairdo', 'pruner', 'doodlebop', 'brussel', 'quarreling', 'tool', 'beacher', 'crocker', 'husband', 'awsome', 'superhero', 'wittiness', 'unknowingly', 'priceless', 'zoom', 'crazy', 'unconventional', 'unprotected', 'investigation', 'outcast', 'valle', 'holodeck', 'babaganoosh', 'strangler', 'tingle', 'vachtangi', 'glop', 'slight', 'blacks', 'anisio', 'betrothed', 'zigzagged', 'escrow', 'pessimism', 'ditsy', 'pharaoh', 'haunting', 'titillating', 'piazza', 'erkan', 'cinesound', 'everytime', 'unsentimental', 'meinhoff', 'winslet', 'segment', 'blend', 'ingenuous', 'due', 'gena', 'bonanza', 'latin', 'twig', 'wei', 'antediluvian', 'owl', 'claustrophobia', 'freethinker', 'originated', 'ating', 'dreamboat', 'sourly', 'chatter', 'assassination', 'carpathian', 'itune', 'prophet', 'policemen', 'pro', 'dual', 'man', 'mr', 'sortee', 'thank', 'losing', 'smultronstxc3xa4llet', 'rodman', 'echuca', 'pie', 'iggy', 'seventeen', 'twisted', 'jersey', 'griffith', 'redemption', 'random', 'name', 'excited', 'screaming', 'roping', 'sappy', 'janos', 'enigmatic', 'rxc3xados', 'dazzling', 'punishment', 'partie', 'tutu', 'moonwalker', 'reinterpretation', 'bad', 'wined', 'focused', 'coffer', 'treaty', 'writer', 'effects', 'taupin', 'sam', 'valance', 'want', 'phycadelic', 'expletive', 'lakeshore', 'nordic', 'flavia', '89', 'seem', 'ishai', 'swedish', 'poetical', 'reflection', 'read', 'miscasting', 'janice', 'pieczanski', 'county', 'austin', 'potrayal', 'goriest', 'ending', 'lok', 'funnny', 'schreiber', 'teaching', 'dali', 'doll', 'clavell', 'characterizations', 'cheungxc2xb4s', 'dull', 'lundgren', 'soprano', 'th', 'canva', 'zing', 'torture', 'final', 'death', 'riot', 'sprightly', 'fifty', 'haplessly', 'cordial', 'hisself', 'mi', 'rollercoaster', 'milanese', 'poetic', 'farce', 'psssssssssssssssycho', 'dysfunctional', 'suckle', 'transformer', 'acidy', 'towers', 'amenabar', 'fifties', '8pm', 'scroll', 'suburban', 'burly', 'truce', 'ps1', 'silvers', 'grier', 'paparatzi', 'straightedge', 'warrant', 'payl', 'huxley', 'imprisoned', 'paranoic', 'purser', 'chortle', 'sift', 'salvation', 'overplay', 'comanche', 'pretty', 'libido', 'great', 'compact', 'prone', 'past', 'everyman', 'person', 'reaaly', 'unembroidered', 'flowing', 'sportswriter', 'oppenhemiers', 'equilibrium', 'vieweing', 'rhine', 'musicianship', 'quest', 'zeroni', 'conversation', 'research', 'dudley', 'bhoomika', 'bead', 'costar', 'disc', 'synonomus', 'delirious', 'elegance', 'fuzz', 'mascot', 'westfront', 'synchronize', 'mainstream', 'race', 'gasp', 'earth', 'daniell', 'mae', 'schedule', 'easy', 'esoteric', 'techy', 'greystoke', 'sicker', 'gaelic', 'armaggeddon', 'cyborg', 'bottomless', 'highly', 't', 'hearse', 'sniper', 'perfect', 'mcclure', 'vivid', 'eliminate', 'colman', 'lily', 'loyalism', 'perfornmance', '25', 'throughly', 'story', 'tree', 'parris', 'scully', 'tvm', 'subvalue', 'flipper', 'kurt', 'betrayer', 'chippettes', 'skate', 'uplifted', 'icarus', 'screwer', 'definingly', 'subserviant', 'semantics', 'insinuated', 'captivate', 'telegraph', 'land', 'dwivedi', 'wasp', 'passed', 'sagamore', 'renant', 'cab', 'uncomplicatedly', 'amazement', 'idiom', 'ramsey', 'general', 'mummy', 'pillory', 'dutch', 'biomedical', 'speakeasy', 'meg', 'cronyn', 'capital', 'heartily', 'nicely', 'language', 'tangentially', 'cudddles', 'unwavering', 'boop', 'price', 'boulder', 'heartbreakingly', 'ward', 'garrett', 'gung', 'sociology', 'bombsight', 'dna', 'apocalyptic', 'sopranos', 'notch', 'capture', 'nifty', 'extreme', 'defendable', 'dogkiller', 'tha', 'cavaliere', 'cinemascope', 'feat', 'muteness', 'coolxc2xb4s', 'workday', 'magic', 'defense', 'nighthawks', 'hatian', 'iversen', 'debonair', 'adore', 'doubt', 'upbringe', 'altho', 'committed', 'erikkson', 'human', 'comedys', 'incorporated', 'buffy', 'lila', 'tivo', 'pau', 'raven', 'deny', 'deepen', 'lewdness', 'individual', 'pickford', 'beauty', 'nixflix', 'estate', 'satellite', 'pimlico', 'snowball', 'cyberspace', 'prem', 'dinoasaurs', 'lengthe', 'blahblahblahblahblahblahblahblahblahblahblahblahblahblahblahblahblahblah', 'cherche', 'absolute', 'convict', 'low', 'periphery', 'pasty', 'prosecutor', 'fast', 'burroughs', 'sweaty', 'drugs', 'production', 'movie', 'emilio', 'wickerman', 'streep', 'considerable', 'independent', 'district', 'segway', 'host', 'ponty', 'wildside', 'reformatte', 'uhf', 'grunge', 'specially', 'part1', 'bont', 'restful', 'tour', 'dolemite', 'solder', 'choregraphy', 'mama', 'ticklingly', 'fyc', 'confetti', 'heifer', 'revved', 'plaything', 'hunted', 'derek', 'cris', 'ageless', 'lumberjack', 'hiphop', 'bull', 'worldwide', 'actual', 'garibaldi', 'reissue', 'fixit', 'discomfort', 'reply', 'neo', 'freewheelers', 'kavanagh', 'scott', 'worm', 'bride', 'hoop', 'contradictive', 'movies', 'randal', 'paulie', 'unpredictable', 'gr', 'embalmer', 'mist', 'repeater', 'insn', 'jekyll', 'slumber', 'humored', 'rascally', 'goat', 'claim', 'oriental', 'delighted', 'rube', 'vs', 'positive', 'coincident', 'lowest', 'cattle', 'flop', 'wickedness', 'cavalry', 'snip', 'bubba', 'republic', 'seamen', 'wonder', 'rocker', 'chakkarvarthy', 'poem', 'iq', 'clunkier', 'swd', 'threat', 'revitalise', 'popcorn', 'bionic', 'massacre', 'tas', 'upbringing', 'partition', 'drifter', 'invest', 'anthology', 'bit', 'method', 'riddle', 'bleaker', 'passe', 'yelnat', 'biting', 'unlike', 'stoppingly', 'available', 'settle', 'socialist', 'braniac', 'schaffner', 'evil', 'interaction', 'pester', 'thaw', 'alternate', 'afterward', 'muppet', 'however', 'burt', 'fictionalize', 'blonde', 'vacation', 'rockumentary', 'vengeance', 'island', 'home', 'infect', 'undone', 'skim', 'berlinale', 'creek', 'courageous', 'nuclear', 'technic', 'xc2x85', 'mask', 'chequered', 'trolls', 'flying', 'abuse', 'humanity', 'cockiness', 'boyd', 'zentropa', 'invitation', 'irrestiblely', 'significent', 'tempo', 'saxony', 'sunglass', 'housekeeper', 'bond', 'luis', 'dodgers', 'funhouse', 'psychosexual', 'jade', 'anchor', 'romantic', 'unanimously', 'tradeoff', 'hasting', 'performance', 'listend', 'dispassionate', 'shakti', 'panahi', 'hissable', 'luna', 'blah', 'excellant', 'knowledge', 'catcher', 'absoloutely', 'milk', 'suyin', 'deflower', 'woodsman', 'slovenian', 'tearing', 'un', 'sematically', 'melinda', 'wildfell', 'notion', 'samurai', 'cliche', 'digitizing', 'softcore', 'astronomical', 'fallout', 'onur', 'coat', 'fot', 'pole', 'treasure', 'combat', 'agency', 'desktop', 'robot', 'expose', 'rooney', 'ghoulardi', 'matriarch', 'fairmindedness', 'author', 'overly', 'list', 'spencer', 'colleague', 'mnnage', 'entrench', 'beloved', 'semitism', 'tonk', 'dangan', 'cheorgraphe', 'moriarity', 'skillfully', 'whistling', 'marsden', 'ibrahimi', 'inspector', 'osbourne', 'ruse', 'lorry', 'gay', 'isherwood', 'safty', 'haynes', 'purely', 'occultism', 'sentimental', 'sophmoric', '1', 'collection', 'nimrod', 'potency', 'burger', 'cky', 'mumari', 'fantasticly', 'midsummer', 'aural', 'piano', 'everday', 'etienne', 'coservationist', 'holmes', 'linney', 'fictionalization', 'ktla', 'schizophrenia', 'analyze', 'unaccepting', 'sock', 'brick', 'docu', 'killer', 'russain', 'muskets', 'noble', 'arthritis', 'sensor', 'tense', 'squirrel', 'ipecac', 'aerodynamic', 'defined', 'vulcan', 'cardinal', 'contract', 'monstervision', 'cabby', 'titta', 'spirit', 'secretarial', 'reflexe', 'sciamma', 'hiatus', 'amazingly', 'snoring', 'kermit', 'noir', 'chat', 'spring', 'icicle', 'motto', 'musically', 'canon', 'experience', 'rights', 'faithful', 'schwiefka', 'compelled', 'rescue', 'moviegoer', 'besson', 'zillion', 'monkees', 'economist', 'imperial', 'tile', 'atypical', 'profundity', 'mission', 'coup', 'breast', 'vincenzo', 'kapur', 'uxb', 'teeny', 'gasping', 'gosset', 'lds', 'louis', 'cantata', 'reliever', 'silberling', 'nonaquatic', 'ethnic', 'parrot', 'baddy', 'eyes', 'basic', 'hash', 'grease', 'scarring', 'shop', 'imaginative', 'fisher', 'albany234', 'keller', 'cashmere', 'lighthearted', 'inauspiciously', 'grinch', 'plunger', 'imdber', 'dictator', 'heroine', 'foxy', 'ban', 'accountant', 'phila', 'network', 'mistress', 'ourselves', 'broadcast', 'jail', 'snippit', 'jungle', 'luck', 'vampiric', 'penis', 'rich', 'vampirism', 'prefect', 'indignant', 'street', 'haddrick', 'dunn', 'hypercritical', 'surreality', 'honorable', 'org', 'broomsticks', 'quatermains', 'decoration', 'helsinkian', 'splendored', 'sattire', 'piscopo', 'michael', 'carole', 'mxc3xa9xico', 'bogie', 'responsibility', 'vocalist', 'trisha', 'sweetness', 'dt', 'carrier', 'ernesto', 'refract', 'cudo', 'breezily', 'davy', 'shard', 'buide', 'english', 'heartthrob', 'heartbreaking', 'nadia', 'occupied', 'lederer', 'thie', 'conquest', 'cutting', 'growth', 'violence', 'wexc2xb4ll', 'xizhao', 'bittersweet', 'provincial', 'interestingly', 'resonate', 'outtake', 'vignette', 'scifi', 'purgatory', 'manikin', 'animation', 'fusillade', 'civilized', 'jelly', 'nationwide', 'lapyuta', 'kui', 'opposition', 'marschall', 'memory', 'extremal', 'unsung', 'skinned', 'massage', 'palsey', 'busey', 'feline', 'lane', 'pass', 'lariat', 'atf', 'carnality', 'electrocution', 'file', 'immature', 'wight', 'ballroom', 'shlitz', 'dominique', 'brother', 'arun', 'antoine', 'heartrende', 'visualization', 'speaking', 'perfectness', 'court', 'disrepute', 'picutre', 'huckabees', 'frederic', 'crue', 'hillman', 'locke', 'believe', 'borat', 'reoccurre', 'conformity', 'ordinal', 'evident', 'village', 'alheimsin', 'sunset', 'penal', 'mortal', 'cooper', 'disco', 'stunt', 'pastor', 'turnaround', 'conspiracy', 'plasticene', 'seafood', 'preschooler', 'maturely', 'miss', 'assasination', 'animated', 'power', 'moreau', 'lea', 'rory', 'humble', 'phenomenon', 'flair', 'macadder', 'expore', 'end', 'anime', 'yuk', 'arachnoid', 'nominee', 'puny', 'farnworth', 'grreat', 'extasy', 'helmer', 'soar', 'minimal', 'dock', 'xc2x91till', 'enclose', 'sexual', 'imperialism', 'kindliness', 'nuovo', 'progrmmer', 'maddy', 'fishman', 'comet', 'who', 'lyrical', 'vijay', 'liable', 'subconscious', 'pom', 'lone', 'surname', 'clicheish', 'fattish', 'lambropoulou', 'throughout', 'contention', 'tchh', 'impact', 'hokey', 'arc', 'notorious', 'sympathetically', 'disturbance', 'fanservice', 'nintendo', 'journalism', 'leasurely', 'bordihn', 'strength', 'catalogue', 'jayhawkers', 'guffman', 'melt', 'singse', 'patriotxc2xbb', 'horror', 'baptizing', 'russians', 'dressed', 'ullman', 'outlooking', 'ebola', 'styx', 'aerosol', 'awile', 'davos', 'coldbloode', 'mitigating', 'mopar', 'cut', 'destine', 'specify', 'project', 'cuckold', 'captive', 'sisabled', 'hawk', 'frink', 'afterworld', 'submarine', 'posting', 'aristocat', 'unsaid', 'strada', 'teen', 'uneasily', 'plt', 'quote', 'incarceration', 'stupid', 'lugosi', 'steer', 'undiplomatic', 'amiable', 'ship', 'ha', 'critter', 'information', 'sale', 'chinatown', 'retold', 'territory', 'catiii', 'rearveiw', 'mile', 'microfiche', 'caribou', 'maynot', 'mispelle', 'started', 'stowe', 'zombies', 'imx', 'victim', 'souls', 'intuitively', 'sw', 'faqrscape', 'salaryman', 'knives', 'incommunicability', 'ermey', 'tahitian', 'nanavati', 'pmrc', 'subtelly', 'osborne', 'disadvantage', 'jangle', 'lombard', 'waldau', 'tin', 'hound', 'pajama', 'jam', 'scheider', 'giggle', 'sublimity', 'bamboo', 'tope', 'awesomely', 'world', 'conceptualization', 'emma', 'prequel', 'rukh', 'piece', 'ohwon', 'door', 'kpax', '4out5', 'carla', 'lotus', 'numberless', 'mississippi', 'cabal', 'gallactica', 'slipping', 'stubborn', 'spooks', 'upgrade', 'totally', 'bag', 'alien', 'fumbler', 'weissmuller', 'vallejo', 'raja', 'hk', 'blob', 'vaunted', 'steve', 'folklore', 'slacker', 'busy', 'normality', 'zonked', 'guzman', 'zuf', 'thief', 'purple', 'switch', 'guadalcanal', 'gaming', 'cool', 'portuguese', 'maniacs', 'tribunal', 'mov', 'obscenity', 'nicholson', 'movielink', 'event', 'cafe', 'tenderfoot', 'oftenly', 'met', 'prevent', 'overdevelope', 'occasion', 'ghoulies', 'nord', 'soldier', 'commericial', 'multidrama', 'kwon', 'seagull', 'firmine', 'footwear', 'specie', 'definently', 'allow', 'wich', 'caruso', 'bushwhacker', 'lust', 'liu', 'trainspotting', 'haine', 'homegrown', 'lilliput', 'cancan', 'kate', 'history', 'chariot', 'pratfall', 'highest', 'fabulous', 'homicide', 'desperadoes', 'devastatingly', 'trudy', 'dreary', 'surprising', 'main', 'squad', 'surfer', 'rut', 'tachigui', 'truant', 'blunt', 'corruption', 'cuter', 'untimely', 'chauffer', 'achingly', 'fartman', 'streisand', 'brindle', 'fullback', 'bomber', 'superstar', 'karate', 'flower', 'herilhy', 'astronishe', 'goebbels', 'wellesian', '3rd', 'vestment', 'encompassing', 'hurray', 'reed', 'more', 'hornpipe', 'intergenerational', 'solution', 'strand', 'scared', 'rugby', 'scare', 'cheesy', 'coin', 'rpm', 'exsist', 'crispy', 'odd', 'ideologie', 'dayton', 'parter', 'airplane', 'hos', 'balkan', 'roxborough', 'hitchcock', 'epitomize', 'courtmartial', 'extent', 'dirtball', 'mazurki', 'married', 'lensman', 'imprint', 'wwii', 'money', 'gordon', 'ascendant', 'confidence', 'babette', 'gorilla', 'credit', 'american', 'tearjerker', 'barreler', 'ood', 'believeable', 'centurions', 'emotion', 'blu', 'wilson', 'the', 'idiosy', 'charistmatic', 'annoy', 'belly', 'enjoyable', 'caratherisic', 'paddle', 'zenith', 'retribution', 'solino', 'astonishing', 'greek', 'wesker', 'gagnon', 'bigfoot', 'allegation', 'brutal', 'shoe', 'jan', 'chris', 'hits', 'thanx', 'wierder', 'n', 'novella', 'marylee', 'playmate', 'films', 'grasps', 'legionnaire', 'sematary', 'caldwell', 'pain', 'tit', 'twat', 'decline', 'lavish', 'kk2840', 'edit', 'snippet', 'kirk', 'geography', 'couch', 'truly', 'complex', 'courtiaud', 'christy', 'ts', 'thieves', 'riverdance', 'escapee', 'merimexc3xa9', 'mislike', 'shahid', '6', 'coproduction', 'once', 'ploy', 'barrier', 'unedited', 'resoloution', 'nazi', 'misunderstood', 'recommand', 'nguyen', 'assignment', 'spooky', 'ivy', 'york', 'shade', 'unaffected', 'violent', 'ceylon', 'overwatched', 'sadly', 'drunken', 'soviet', '1910', 'arms', 'cleavage', 'realist', 'changin', 'misty', 'better', 'digges', 'decent', 'amanda', 'reign', 'jason', 'medallion', 'bourne', 'aunt', 'aloo', 'squaresoft', 'weirdly', 'hallways', 'teensploitation', 'steroid', 'druggie', 'technological', 'cornish', 'blier', 'neighborhood', 'necklace', 'cc', 'unconventionally', '3am', 'margera', 'newscaster', 'rajnikanth', 'bottle', 'lyric', 'tweety', 'psb', 'nevil', 'gerda', 'archive', 'crosse', 'insurance', 'difference', 'enchant', 'tollywood', 'conflict', 'stuff', 'innerviews', 'darkwave', 'preponderance', 'mulholland', 'radium', 'scrooge', 'ele', 'na', 'interesting', 'velous', 'rudolph', 'memento', 'impressionist', 'heigth', 'honey', 'part', 'doofus', 'transparency', 'prologue', 'cultivation', 'tortoise', 'scenario', 'grey', 'balchin', 'theron', 'scour', 'lestat', 'dickory', 'nightingale', 'toyiji', 'favs', 'mechanic', 'interrogate', 'nonlinear', 'party', 'residual', 'constant', 'hasty', 'probably', 'reach', 'gilchrist', 'babies', 'sctv', 'fantasize', 'saver', 'sharp', 'distribute', 'damsel', 'embracing', 'unknown', 'abroad', 'blonder', 'upside', 'tall', 'of', 'rv', 'will', 'version', 'reconciliation', 'commentary', 'cassavetes', 'smuggle', 'wendigo', 'combustible', 'satirical', 'mimi', 'dern', 'sorcery', 'twisting', 'recommendable', 'lynching', 'rejuvinate', 'cymbalist', 'phenomenal', 'pregnant', 'stage', 'unmarried', 'rumour', 'paw', 'oldster', 'one', 'itxc2xb4s', 'coherant', 'ocean', 'citizen', 'bombeshell', 'infantryman', 'topsy', 'promote', 'trashy', 'challenging', 'belzer', 'bettie', 'feature', 'camadrie', 'itami', 'lunchtime', 'hssh', 'hoppity', 'moral', 'dr', 'thebg', 'rainbow', 'speed', 'kramp', 'goddamne', 'gardener', 'unpretentious', 'joefro', 'glib', 'churn', 'ep', 'yo', 'inferno', 'tobago', 'tautly', 'enging', 'waltari', 'quint', 'midway', 'probable', 'barcleona', 'creature', 'snatched', 'mayall', 'lookout', 'linklater', 'sensual', 'douchebag', 'mankind', 'pabulum', 'leiji', 'bears', 'montage', 'carfare', 'daisies', 'leguizamo', 'rocket', 'accusse', 'cavegirl', 'masterpiece', 'heartbreakng', 'huldre', 'ameliorate', 'heavyweight', 'ceo', 'ignacio', 'boys', 'niggle', 'unerringly', 'scan', 'trek', 'drawer', 'contact', 'amusing', 'whet', 'likeable', 'racecar', 'recognizable', 'jorge', 'rohmer', 'getting', 'hatin', 'definiately', 'warhols', 'discuss', 'anti', 'model', 'gus', 'dissapointe', 'civilization', 'automotive', '5', 'hensel', 'condie', 'girls', 'dre', 'hardie', 'communicate', 'quincy', 'appreciative', 'wax', 'stephane', 'peavey', 'likee', 'puzzle', 'environment', 'egg', 'gorehound', 'dearable', 'subconcious', 'landlord', 'duckle', 'deer', 'caravan', 'chad', 'surprise', 'snap', 'silverman', 'tyrannous', 'hat', 'closure', 'troble', 'separated', 'suburbia', 'kiera', 'sailboat', 'jerker', 'vinyard', 'hack', 'cockney', 'cleaning', 'unbeatable', 'scimitar', 'folkloric', 'revenge', 'reckoning', 'drooling', 'bronxy', 'family', 'kingdom', 'flaxen', 'sweet', 'rather', 'brainsucke', 'schiess', 'imprimatur', 'animate', 'terrestrial', 'stalker', 'necroborg', 'cavil', 'progress', 'yeti', 'vogue', 'droopy', 'garde', 'cashxc2xa1', 'shadowlands', 'reformatory', 'huuuuuge', 'air', 'tightly', 'ms', 'thug', 'machaty', 'hypnosis', 'irrepressible', 'swing', 'carousel', 'daresay', 'transcendent', 'artsy', 'guest', 'misspent', 'kwan', 'plagiarist', 'vocal', '1950', '45', 'advanced', 'obligation', 'entrail', 'overwhelming', 'clifts', 'step', 'silvio', 'priest', 'peasant', 'mayhem', 'view', 'hey', 'gainax', 'flatliner', 'elegant', 'cult', 'interrogation', 'sr', 'calibre', 'medal', 'jewish', 'obtain', 'sjxc3xb6strxc3xb6ms', 'token', 'scapegoat', 'scorpion', 'unusual', 'robber', 'format', 'everyday', 'original', 'turistas', 'eastalgia', 'neverland', 'soid', 'connors', 'heel', 'cheer', 'invisibly', 'headgame', 'abilityof', 'handy', 'etherial', 'waters', 'developed', 'goth', 'pricelessly', 'time', 'minority', 'lieberman', 'holden', 'uncle', 'clockwise', 'fictively', 'nunez', 'gage', 'greatness', 'pants', 'royal', 'smorgasboard', 'stroytelling', 'toth', 'cataloger', 'magdelena', 'plantage', 'prairie', 'positivity', 'stylization', 'bubble', 'amore', 'tgif', 'sepoy', 'suspenseful', 'christys', 'evening', 'department', 'menagerie', 'caalle', 'sporting', 'quantitative', 'waterfront', 'hawn', 'undertaker', 'deco', 'episope', 'parking', 'german', 'stereotypical', 'tykwer', 'cryptograf', 'utiful', 'beute', 'revealing', 'hearld', 'hospital', 'illusionist', 'despite', 'unthreatening', 'discouraged', 'csi', 'gurl', 'cutesy', 'hermiting', 'ali', 'anicee', 'found', 'insolently', 'bam', 'lewis', 'stu', 'syndication', 'stockton', 'tromatize', 'mccamus', 'dope', 'waiting', 'patient', 'remake', 'judd', 'ledger', 'sherri', 'inappropriate', 'zipper', 'baba', 'sexy', 'robbery', 'crockzilla', 'gambon', 'room', 'blithe', 'andoit', 'blind', 'items', 'beach', 'arcadian', 'valley', 'sheriff', 'fascist', 'serlingesque', 'eyecatcher', 'jess', 'phenix', 'lachy', 'old', 'dumbe', 'itv', 'doppelganger', 'crispen', 'storytelling', 'clifton', 'city', 'trumpeter', 'heh', 'importance', 'examination', 'zai', 'score', 'utlimately', 'photog', 'lelouch', 'tolerance', 'repentant', 'clubbing', 'seine', 'swithen', 'hankie', 'fence', 'behavior', 'simulation', 'pow', 'keital', 'minded', 'pov', 'fictional', 'paced', 'elephants', 'betrayal', 'dat', 'pereira', 'nude', 'carrera', 'gnat', 'sleeper', 'vilification', 'preference', 'definetly', 'personified', 'machine', 'jiggle', 'girlpower', 'compromise', 'ecoleaning', 'alterego', 'moya', 'mating', 'filmmuseum', 'oradour', 'clare', 'sure', 'slimiest', 'gorgs', 'bard', 'iwerks', 'avantegardistic', 'discussion', 'lian', 'advert', 'repair', 'cypher', 'safety', 'mesmerising', 'bushism', 'elliptic', 'tumbleweeds', 'serving', 'jailbird', 'escort', 'monotoned', 'nene', '10', 'topper', 'scry', 'anatomy', 'hickam', 'moses', 'armored', 'member', 'indication', 'accusation', 'bogdanovich', 'dog', 'hoopla', 'subcharacter', 'whip', 'inhibition', 'unusal', 'irenerose', 'climax', 'decimal', 'videoteque', 'caravans', 'innuendo', 'bo', 'elase', 'bulgarian', 'spiderman', 'untestable', 'allover', 'crescent', 'widowed', 'millionairess', 'annette', 'repetoire', 'goofiest', 'freedom', 'dx', 'scorcese', 'selling', 'guillotine', 'fredrikstad', 'scaffolding', 'sympathy', 'marie', 'night', 'willy', 'asimov', 'dahl', 'avenger', 'timelessness', 'touchstone', 'savior', 'cheap', 'adequtely', 'nose', 'theopolis', 'solid', 'trip', 'dari', 'skunk', 'shekel', 'newsroom', 'core', 'golf', 'redo', 'cybersix', 'highpoint', 'untouchables', 'bulldog', 'annoyance', 'rivet', 'predominately', 'unescapably', 'fatale', 'greenaway', 'bob', 'restricting', 'mooney', 'thorsen', 'flood', 'har', 'jerk', 's', 'belie', 'provider', 'adventurer', 'humour', 'poe', 'tz', 'reeducate', 'heroic', 'fakumentarie', 'mac', 'anne', 'onhand', 'mad', 'hollywoodise', 'mutha', 'broklynese', 'thirtysomething', 'daniel', 'isings', 'sincerity', 'cylinder', 'schmalz', 'sm', 'suicidal', 'curly', 'enoy', 'synch', 'realism', 'greens', 'lucasta', 'prepared', 'through', 'perception', 'letterboxe', 'aestheically', '1960', 'penguin', 'standoff', 'elation', 'antwerp', 'base', 'luvy', 'kells', 'thema', 'shanghai', 'mahatma', 'wheelchair', 'someplace', 'scriptwriters', 'astxc3xa9rix', 'little', 'effortlessly', 'character', 'cinematician', 'gravy', 'rock', 'keeler', 'boo', 'queens', 'frustratedly', 'structure', 'offering', 'blythe', 'upstaging', 'restoration', 'realistically', 'symbol', 'hoe', 'teller', 'suffer', 'peary', 'goatherd', 'villa', 'confessed', 'qc', 'hidden', 'starlet', 'chip', 'suggestive', 'grim', 'setback', 'inspirational', 'revolution', 'par', 'landon', 'bestow', 'clever', 'pimp', 'comedienne', 'starrett', 'tricheur', 'appartement', 'gang', 'tourneur', 'peters', 'messiah', 'goodlooking', 'tenfold', 'bidder', 'brantxc2xb4s', 'scrotal', 'tong', 'videodisc', 'western', 'motor', 'ringmaster', 'extrapolate', 'offset', 'profile', 'lorelai', 'aardvark', 'participate', 'corby', 'aniversy', 'desperate', 'others', 'prehistoric', 'gable', 'cocaine', 'stewart', 'deranged', 'work', 'ker', 'suchet', 'curmudgeon', 'deepest', 'user', 'batman', 'paydirt', 'flash', 'fellow', 'asgard', 'psychoactive', 'miserable', 'righteously', 'zeppelin', 'fehr', 'student', 'honkeytonk', 'accent', 'maid', 'blakness', 'anyway', 'boarder', 'wide', 'ahhh', 'afraid', 'picnic', 'platinum', 'sickly', 'deadly', 'spectacular', 'engrose', '68', 'sync', 'right', '74', 'mountaineer', 'roundabout', 'cassavete', 'athlete', 'joad', 'ridiculing', 'wraparound', 'jaundiced', 'mgm', 'nancy', 'geena', 'aussie', 'hold', 'elton', 'gov', 'planter', 'sleepwalk', 'overwatche', 'joe', 'ran', 'huitixc3xa8me', 'wildey', 'apartheid', 'style', 'kokaku', 'norp', 'invisible', 'fiscal', 'harder', 'dancer', 'tiffani', 'pertinence', 'beware', 'clothing', 'cover', 'friendship', 'ppl', 'cultural', 'brightest', 'dandys', 'opening', 'explain', 'sirk', 'radicalize', 'sunway', 'viva', 'study', 'fairytale', 'club', 'hoard', 'beguile', 'disenfranchisement', 'liner', 'parenting', 'saga', 'lillard', 'altay', 'doo', 'deliver', 'overrated', 'muscle', 'sales', 'remorsed', 'shaggy', 'oneness', 'shakespeare', 'testosterone', 'yahoos', 'dw3', 'tlw', 'beginnings', 'soaper', 'scanners', 'tank', 'weirder', 'skating', 'amudha', 'quaid', 'killter', 'house', 'czar', 'adjust', 'victrion', 'shalom', 'tennison', '230', 'terashita', 'flick', 'leopard', 'elba', 'masks', 'disgusting', 'colours', 'implied', 'concernene', 'meaningfulness', 'mulgrew', 'castle', 'poor', 'sleuthing', 'saleswoman', 'heavenly', 'ground', 'gelled', 'bachman', 'inspire', 'spotlight', 'overrun', 'truthful', 'mamooth', 'snl', 'northt', 'darkly', 'computer', 'hell', 'scanner', 'macarbe', 'deuterium', 'hoedown', 'clansman', 'gerry', 'reservation', 'abridged', 'succe', 'chemistry', 'practitioner', 'hero', 'helena', 'manhattan', 'tyyyllerrr', 'reputable', 'tommy', 'hopkirk', 'verbatim', 'buzz', 'steps', 'oddball', 'teleplay', 'unglamourous', 'overpay', 'sunny', 'theater', 'silva', 'batgirl', 'cops', 'cinef', 'butler', 'preston', 'cancelled', 'audience', 'irreplaceable', 'norme', 'handheld', 'buddha', 'roeg', 'wizardry', 'thicken', 'oo7', 'ruman', 'swamp', 'mundane', 'oop', 'mather', 'apartment', 'hercule', 'sumo', 'eclipse', 'runtime', 'ewok', 'remember', 'saw', 'giri', 'disguise', 'evoked', 'lost', 'saltman', 'wache', 'unfair', 'cimarron', 'perversion', 'germen', 'vannoord', 'stormbreaker', 'bfi', 'navy', 'wifes', 'mcewan', 'heart', 'chips', 'pythonesque', 'build', 'latvian', 'waterston', 'shown', 'touching', 'goodman', 'completely', 'tights', 'utilization', 'twins', 'barf', 'welldone', 'young', 'journal', 'parachutist', 'nation', 'pyche', 'chemestry', 'amico', 'filmmaking', 'omniscient', 'glory', 'nanoo', 'soliti', 'fistfights', 'contend', 'tesich', 'footie', 'artic', 'causality', 'alienation', 'dystrophy', 'verry', 'oiran', 'gas', 'microfilm', 'plasticness', 'sinister', 'paternalistic', 'discern', 'presents', 'astounded', 'refuge', 'slowmotion', 'pleasure', 'expel', 'unforgivingly', 'americans', 'officer', 'esther', 'obscenities', 'self', 'socky', 'darkening', 'moodiest', 'kilmore', 'circulate', 'extended', 'location', 'improvising', 'tiffany', 'entertain', 'ultimatum', 'fastpace', 'duality', 'artful', 'describes', 'impost', 'bolster', 'wick', 'nb', 'mandarin', 'reasons', 'argentoxc2xb4s', 'strangely', 'almighty', 'flatten', 'policeman', 'baldwins', 'pictorially', 'jrchovskxc3xbd', 'legend', 'upmanship', 'bondian', 'fabray', 'meatmen', 'laughably', 'multicolored', 'pulp', 'nonosyllabic', 'pragmatic', 'underhanded', 'cliffhangin', 'md', 'suzy', 'anytime', 'resonant', 'covert', 'interrogative', 'argued', 'venom', 'miser', 'studder', 'architect', 'dormal', 'kennel', 'bunnyguards', 'peter', 'unbeliever', 'critisim', 'babu', 'squirmer', 'materialism', 'custody', 'oedipus', 'isle', 'suitable', 'danver', 'cosby', 'nuke', 'xc2xa34', 'slobby', 'copy', 'houst', 'kill', 'gretchen', 'fay', 'suggessted', 'untouched', 'inequity', 'tragedy', 'thinker', 'hollywoodish', '40', 'transportive', 'gambler', 'demon', 'freebird', 'preceede', 'orchestra', 'semitic', 'taker', 'yard', 'cabinet', 'threate', 'phasor', 'nightline', 'thatcher', 'pervert', 'nuace', 'habour', 'peeve', 'gun', 'planet', 'rookie', 'subtraction', 'zombi', 'crucially', 'overkille', 'dismiss', 'aground', 'sickle', 'corset', 'screenlay', 'welle', 'cate', 'caper', 'shaun', 'apre', '6hour', 'martian', 'atractive', 'nic', 'alot', 'southeast', 'happiness', 'ty', 'online', 'leah', 'warner', 'closet', 'wai', 'kayak', 'korean', 'togan', 'soundtrack', 'apart', 'saturate', 'help', 'gokbakar', 'imagery', 'titanic', 'limits', 'branaugh', 'frequently', 'as', 'battleship', 'predecessor', 'noirish', 'smoke', 'installment', 'presque', 'jig', 'obcession', 'enchanting', 'idle', 'afford', 'pirate', 'solve', 'represent', 'coholic', 'ing', 'eric', 'hook', 'standup', 'admiral', 'sulfurous', 'epic', 'oneself', 'bruise', 'jr', 'invisibility', 'unused', 'joke', 'sensitively', 'superpower', 'thirty', 'accumulator', 'biodoc', 'www', 'mannered', 'postscript', 'cinema', 'reader', 'altern', 'fairy', 'mere', 'aristotelian', 'multible', 'totoro', 'fuhrer', 'hazy', 'conjure', 'dalton', 'particually', 'tormented', 'artticle', 'bogans', 'cencoreguy', 'shiny', 'divulge', 'creditable', 'four', 'intertwain', 'roses', 'austrian', 'clichxc3xa9', 'amnesic', 'mumblecore', 'heroistic', 'greedy', 'disaster', 'between', 'column', 'interpretation', 'barefoot', 'newspaper', 'wing', 'mellisa', 'crickets', 'dj', 'a', 'genderbender', 'fuckland', 'etat', 'modest', 'mislead', 'wonderment', 'steady', 'definitely', 'ives', 'expectation', 'graveyard', 'intimite', 'investigator', 'blinge', '103', 'kielty', 'rodeo', 'glitter', 'timewise', 'h6', 'lakers', 'bella', 'poolman', 'levitt', 'lemuel', 'colombian', 'lifer', 'popular', 'cookoo', 'screen', 'trekkers', 'comedy', 'persistence', 'petition', 'talent', 'nine', 'sweater', 'souffle', 'elucidate', 'corday', 'labor', 'haruhi', 'peanut', 'woody', 'advantage', 'grail', 'broad', 'definatly', 'mitt', 'trapper', 'farmhouse', 'shrimp', 'actress', 'telling', 'apolitical', 'chimney', 'expatriate', 'blandings', 'fastidious', 'approximate', 'consign', 'accustomed', 'pack', 'driscoll', 'shepherdess', 'seaport', 'immigration', 'paula', 'obtainable', 'summary', 'acknowledgment', 'kit', 'spoil', 'jazzy', 'm', 'amply', 'maniac', 'swatch', 'atcha', '0', 'nightbreed', 'distribution', 'forwards', 'xc2x91the', 'farmworker', 'barky', 'wll', 'knight', 'batwoman', 'crook', 'congregation', 'web', 'badmitton', 'underway', 'vg', 'renting', 'irascibly', 'interrogator', 'football', 'davide', 'call', 'iconic', 'pandora', 'canthony', 'enlarge', 'carasso', 'gig', 'nick', 'coach', 'gentlemen', 'jeon', 'dirty', 'nudity', 'babelicious', 'villager', 'alec', 'lobster', 'vonneguty', 'wacke', 'adolescent', 'consummately', 'braggadocio', 'tandem', 'misue', 'electronic', 'paedophile', 'quartier', '181', 'light', '370', 'surrender', 'wrestler', 'groovadelic', 'mila', 'awtwb', 'jpc', 'purpose', 'explosively', 'beserk', 'cannibal', 'aquire', 'bubbly', 'twisty', 'viking', 'boot', 'epitaph', 'scamming', 'disinterested', 'fantastic', 'vincent', 'machism', 'dave', 'contagious', 'kabbadi', 'joint', 'wessel', 'subversive', 'aaaaagh', 'posthumously', 'creightons', 'underdressed', 'innocent', 'naturedness', 'herein', 'ridiculous', 'barrels', 'emily', 'novela', 'lovesick', 'crossfire', 'during', 'route', 'publish', 'sensible', 'transatlantic', 'reboot', 'wind', 'suite', 'rummage', 'cyberman', 'recommmend', 'shadow', 'roughest', 'ranjit', 'exaggerating', 'funniest', 'jayenge', 'bergmanxc2xb4s', 'iresistable', 'abc', 'recognise', 'himmel', '98', 'cage', 'historic', 'bench', 'psychokinetic', 'v', 'meet', 'personally', 'glenne', 'conon', 'manipulating', 'wa', 'hula', 'ethical', 'lieutenant', 'fothergill', 'johnson', 'examplary', 'don', 'local', 'edition', 'webber', 'spiritual', 'influencee', 'inauspicious', 'commercialization', 'marion', 'fort', 'hoosier', 'trye', 'alaskan', 'counselor', 'floozie', 'hanky', 'jingofighter', 'else', 'recording', 'diarhhoea', 'gregson', 'gossett', 'independently', 'funney', 'hippy', 'shower', 'honesty', 'campy', 'animitronic', 'simplistic', 'mathilda', 'guignol', 'sox', 'please', 'lacking', 'wook', 'futurama', 'vivacity', 'armani', 'concise', 'therapy', 'preserve', 'knockout', 'marlow', 'belushi', 'conservative', 'president', 'card', 'journey', 'verses', 'shuffling', 'marriage', 'hubba', 'kipling', 'stepmotherhood', 'slush', 'precisely', 'nature', 'reconnecte', 'legislator', 'lock', 'cissy', 'ashish', 'madrigal', 'rebroadcast', 'excusable', 'staircase', 'mya', 'beetle', 'philharmagic', 'barbet', 'splattering', 'headmistress', 'undisputed', 'till', 'miko', 'pilot', 'bloat', 'amercians', 'horribly', 'sorely', 'encounter', 'methinks', 'astronaut', 'dramatical', 'postcard', 'pixc3xa9dras', 'vincend', 'frustration', 'mccallum', 'darkness', 'sorpasso', 'momentum', 'co', 'molly', 'loveable', 'morrison', 'jazz', 'transform', 'excpet', 'stevenson', 'newstart', 'magician', 'elm', 'misconception', 'kyun', 'lifestory', 'autumnal', 'eb', 'dint', 'potter', 'replacement', 'blacken', 'droid', 'kinnear', 'reteam', 'carnaby', 'terracotta', 'mannequin', 'mil', 'wager', 'potty', 'cobain', 'voo', 'fruits', 'dinosaur', 'tigers', 'orsino', 'waste', 'thinne', 'branaghs', 'tetsurxc3xb4', 'absentee', 'celestial', 'implausibility', 'differently', 'charly', 'either', 'phile', 'fulfilled', 'trinian', 'rowland', 'park', 'megalomanic', 'instinct', 'florinda', 'damon', 'grateful', 'narrow', 'franxc3xa7oise', 'inhumanity', 'replaceable', 'laugh', 'pickup', 'buddhist', 'pulverize', 'poignancy', 'games', 'was', 'acknowledge', 'boxing', 'buck', 'standpoint', 'glendyn', 'flimsy', 'coast', 'dawn', 'desi', 'cowboys', 'endeavouring', 'villon', 'caitlin', 'okiyas', 'theme', 'bronte', 'unflappable', 'snit', 'indian', 'alongside', 'mass', 'footy', 'inertia', 'spurt', 'denier', 'argument', 'north', 'unprejudiced', 'artificial', 'bots', 'perceive', 'monkeydellic', 'bechara', 'gai', 'oss', 'eun', 'monkey', 'serie', 'microchip', 'warnie', 'barrister', 'haywood', 'seagal', 'brontxc3xab', 'valkyrians', 'bulimia', 'champlain', 'rockstar', 'wrestling', 'videostores', 'embrace', 'significant', 'unscripted', 'absoutley', 'metwally', 'handicap', 'official', 'lumiere', 'willoughby', 'emmanuelle', 'wooly', 'kanes', 'gratified', 'school', 'grandpa', 'shortage', 'ozzie', 'carson', 'moviedom', 'rks', 'governess', 'deathtrap', 'mermaid', 'inkling', 'bogus', 'beatty', 'gary', 'collage', 'ajit', 'overload', 'francisco', 'coward', 'redlight', 'contained', 'chester', 'frankenheimer', 'obi', 'tying', 'honky', 'womaniser', 'curse', 'limbs', 'hillbilly', 'boyxc2x85', 'poli', 'anticristo', 'homework', 'high', 'inspite', 'resourcefulness', 'sprinkled', 'madcap', 'enjoy', 'picard', 'fifteen', 'bbs', 'too', 'bbcs', 'magazine', 'devastating', 'cricket', 'climatologist', 'clerks', 'pop', 'unsatisfying', 'snobbishness', 'ash', 'whit', 'stencil', 'aristocrat', 'moon', 'investment', 'warning', 'chav', 'dodger', 'yell', 'edited', 'contrastingly', 'stupidy', 'shootout', 'glad', 'forte', 'tenant', 'magical', 'coroner', 'minister', 'veteran', 'modelling', 'disengaged', 'sheep', 'secret', 'mosntre', 'vandeuvres', 'definitive', 'cigar', 'satchwell', 'intimidating', 'institution', 'niagara', 'titain', 'unidentified', 'spacecraft', 'observationally', 'nj', 'nakadei', 'footlight', 'freeway', 'hands', 'kernel', 'safe', 'icon', 'perps', 'transgressive', 'clouds', 'mood', 'wrote', 'rag', 'reasonbaly', 'role', 'wholesome', 'worth', 'coiffured', 'comparison', 'monotheistic', 'bomb', 'pacino', 'revival', 'prefigure', 'mon', 'harem', 'voiceover', 'exasperating', 'doc', 'pronunciation', 'supremacist', 'hongkongmovieshootout', 'rocko', 'voltage', 'excepte', 'clouding', 'portrayal', 'thelin', 'equation', 'fantastically', 'legendary', 'happiest', 'parkway', 'commune', 'celebs', 'lovable', 'mourning', 'appeal', 'humanoid', 'emilie', 'bitter', 'welcomed', 'programme', 'psychologist', 'organic', 'itch', 'stormish', 'sequiter', 'scooby', 'intrigiung', 'novello', 'escaped', 'disorder', 'bose', 'warped', 'masons', 'feast', 'development', 'ended', 'pando', 'elmes', 'escapist', 'button', 'companion', 'jl', 'medicine', 'infidelity', 'bearing', 'facelift', 'pace', 'infantilize', 'queer', 'cramp', 'crumby', 'politician', 'knack', 'censor', 'civil', 'inappropriately', 'undated', 'fight', 'layer', 'trapeze', 'marvelous', 'gusto', 'julianne', 'christ', 'hemo', 'atrocity', 'tyte', 'ex', 'congratulatoins', 'schlock', 'commercials', 'settlefor', 'combining', 'untidy', 'soooooooooooooooooo', 'complexity', 'thrush', 'blake', 'boggle', 'without', 'frame', 'monorail', 'nurses', 'trowel', 'ducky', 'earring', 'dying', 'cartwheel', 'favoirite', 'weclome', 'screenwriters', 'sez', 'valuation', 'productions', 'hip', 'churning', 'fear', 'lindy', 'subtlely', 'moneybags', 'magnific', 'angst', 'transfer', 'dragonlord', 'shakiness', 'tear', 'sass', 'unify', 'ensure', 'homo', 'plant', 'ishk', 'chandu', 'internationale', 'havoc', 'both', 'wreckage', 'dramtic', 'connor', 'output', 'transformative', 'ripsnorte', 'foul', 'lab', 'drama', 'prudish', 'monoplane', 'edible', 'basement', 'cycle', 'viver', 'rink', 'regfreshe', 'though', 'gag', 'fanatical', 'nynke', 'interview', 'activist', 'seqence', 'globalization', 'china', 'bislane', 'church', 'inflect', 'atmosphxc3xa8re', 'bus', 'junky', 'stationmaster', 'somewhow', 'oro', 'montagus', 'soap', 'accidently', 'iii', 'hongsheng', 'hoodlum', 'ape', 'ramones', 'elderbrush', 'sidekick', 'junkyard', 'origional', 'potemkin', 'humans', 'tag', 'triads', 'watkin', 'ever', 'freekin', 'maltin', 'mower', 'practically', 'holloway', 'punks', 'kelly', 'hxc3xb4tel', 'sharer', 'translation', 'schtook', 'bigotry', 'diver', 'classy', 'wanna', 'flavoring', 'sides', 'doodle', 'fur', 'isbn', 'modern', 'audiobook', 'wildly', 'melting', 'snafu', 'emigrant', 'gangster', 'art', 'foster', 'machomovie', 'disrespect', 'almenxc3xa1bar', 'comedically', 'relation', 'ornery', 'tube', 'woulda', 'seniority', 'kyser', 'fools', 'ambiance', 'cantor', 'flute', 'unappreciated', 'voter', 'bureaucracy', 'parasite', 'hail', 'sings', 'meekness', 'fiddler', 'psycho', 'lilt', 'forsythe', 'palance', 'native', 'registering', 'tax', 'android', 'alheimsins', 'advocate', 'eddie', 'carney', 'maureen', 'afro', 'conroy', 'scottish', 'panic', 'xe2x80x93', 'cheeziness', 'dimness', 'kiran', 'desegregation', 'gift', 'twi', 'latifah', 'ummm', 'unearp', 'caregiver', 'frill', 'noire', 'fotp', 'rude', 'mining', 'manasota', 'toward', 'merely', 'cellar', 'ribaldry', 'search', 'unemotional', 'explode', 'iron', 'classie', 'canny', 'scarf', 'gross', 'rile', 'dubliners', 'eaglexc2xb4s', 'bed', 'almightly', 'bounty', 'coupling', 'bird', 'kam', 'chase', '58', 'therefrom', 'propitious', 'relay', 'slyvester', 'tobias', '211772166650071408', 'tango', 'nakedly', 'butcher', 'bagdad', 'beaut', 'elf', 'channe', 'impressed', 'enthralling', 'steamboat', 'prisonner', 'garlin', 'target', 'humane', 'sequence', 'hal', 'prison', 'melandez', 'allenish', 'canadian', 'absinthe', 'domino', 'harshly', 'hooked', 'glacier', 'woman', 'bluffing', 'diferent', 'overdramatize', 'colony', 'preppe', 'populism', 'hockey', 'corp', 'intermeshe', 'stigma', 'dev', 'epiphanal', 'tonight', 'decontamination', 'scumbag', 'feelingless', 'framing', 'opportunity', 'supplication', 'planktonrule', 'flub', 'sen', 'meridian', 'zaza', 'property', 'isms', 'science', 'ditch', 'overhaul', 'mas', 'americana', 'eyesight', 'spirits', 'ferry', 'terrific', 'prom', 'eglimata', 'health', 'bandit', 'outstanding', 'volume', 'tsai', 'chess', 'edifis', 'galla', 'chamber', 'acrobatic', 'cowboy', 'dubliner', 'tous', 'kg', 'capote', 'peculiar', 'purchase', 'alone', 'possessed', 'eeeb', 'humprey', 'takeover', 'archdeacon', 'scotts', 'very', 'dreariest', 'ducat', 'capacity', 'farily', 'butthorn', 'bigot', 'mortician', 'punish', 'sought', 'errand', 'preview', 'su', 'thanatos', 'demension', 'colloquialism', 'cruse', 'gunbuster', 'lucid', 'visually', 'stingers', 'bogosian', 'windmill', 'singe', 'whole', 'asheville', 'treacherous', 'snaggle', 'assante', '13th', 'texture', 'indahouse', 'liberal', 'traffic', 'warlock', 'carroll', 'heyerdahl', 'ai', 'busta', 'thoughout', 'heartwarme', 'probally', 'incestuous', 'interlock', 'xc3xa9tat', 'add', 'waz', 'rumination', 'selectivity', 'shrek', 'dc', 'cat', 'iturbi', 'empty', 'motif', 'trully', 'interested', 'spoons', 'summerize', 'clubberin', 'whooping', 'dvd', 'matador', 'fiancxc3xa9', 'gamesmanship', 'new', 'ballet', 'tourist', 'mob', 'carradine', 'svend', 'virginian', 'daytime', 'rockies', 'simian', 'nice', 'excellence', 'eery', 'grudgingly', 'spellbook', 'menstruation', 'aerial', 'formulamatic', 'dialectic', 'wife', 'vampire', 'stoopid', 'pothole', 'anglophile', 'cassevete', 'hock', 'shark', 'returns', 'mangal', 'homeguard', 'oz', 'topic', 'backbite', 'crimes', 'nudist', 'fortify', 'jacknife', 'hypothesis', 'communism', 'garbage', 'expat', 'pioneer', 'password', 'motive', 'cormen', 'convent', 'temple', 'gnome', 'aireal', 'voice', 'postwar', 'rename', 'renew', 'post', 'coaster', 'mediate', 'bunny', 'flaw', 'vegetable', 'slice', 'wtbs', 'occult', 'flashback', 'strange', 'wells', 'soul', 'herd', 'homespun', 'icee', '27', 'resemblence', 'warrior', 'freak', 'stubbornness', 'uninterrupted', 'monogatari', 'divine', 'fresh', 'roamer', 'diary', 'moose', 'begun', 'awhile', 'inglorious', 'groomed', 'hair', 'spoilers', 'undue', 'geeration', 'abe', 'hutzpah', 'supercarrier', 'bowlo', 'inchworm', 'heffner', 'neolithic', 'spellbinding', 'conundrum', 'nitty', 'teach', 'rocking', 'inherit', 'overwork', 'carrxc3xa8re', 'unjustly', 'sleaze', 'peado', 'fullscreen', 'hoon', 'apply', 'nobel', 'van', 'grade', 'sacarstic', 'commencement', 'important', 'animationxc2x85', 'crackers', 'sophisticatedlyness', 'shangra', 'sugar', 'ideology', 'direct', 'arrival', 'contemplative', 'feldman', 'loner', 'coming', 'faster', 'fabulious', 'wildness', 'cliched', 'walters', 'novel', 'bully', 'highballe', 'birth', 'relative', 'hooper', 'band', 'tennis', 'steeman', 'gilles', 'sherlock', 'transplant', 'viacom', 'boston', 'chance', 'fist', 'aids', 'ad', 'maimed', 'nkosi', 'scarlatina', 'master', 'quitte', 'group', 'hitxc2x85', 'optically', 'cellulose', 'talkie', 'joy', 'strat', 'lubitsch', 'voyage', 'talkies', 'renye', 'alarmingly', 'magorian', 'tessari', 'heartless', 'schumacher', 'fando', 'crash', 'merging', 'harlin', 'run', 'mail', 'impeccably', 'squadder', 'interstitial', 'pentameter', 'susie', 'scary', 'volontxc3xa9', 'gustav', 'concere', 'aid', 'andrea', 'farley', 'shone', 'wimpy', 'oppose', 'crisis', 'control', 'ghotst', 'maby', 'messege', 'commitee', 'almodxc3xb3var', 'sjxc3xb6strxc3xb6', 'broughton', 'posidon', 'mecha', 'christie', 'trruck', 'box', 'singer', 'mid', 'hopeful', 'xc2xa37', 'filthy', 'identifiable', 'cylons', 'witchboard', 'sensetivitie', 'enthrawle', 'preadolescent', 'bopper', 'tennant', 'friend', 'quin', 'digestible', 'triad', 'shuddering', 'durbin', 'paul', 'sundance', 'naivete', 'keven', 'rappenau', 'affect', 'bough', 'chipmunk', 'outing', 'thrust', 'doktor', 'desert', 'menu', 'skool', 'fmv', 'lots', 'basset', 'xc2xa0xc2xa0xc2xa0xc2xa0film', 'absurdist', 'clowning', 'robin', '62229249', 'randomly', 'key', 'felonious', 'uma', 'ramone', 'cumentery', 'hardiness', 'maa', 'ahista', 'await', 'innocence', 'song', 'prophetic', 'lahti', 'competitor', 'parminder', 'sxc3xa1', 'beep', 'n1', 'nailbiter', 'suzie', 'squeemish', 'fez', 'airheadedness', 'nervous', 'suggest', 'system', 'classic', 'greas', 'versus', 'ginty', 'outdate', 'spoon', 'lecherousness', 'agatha', 'rewatch', 'polanco', 'railroad', 'indonesian', 'insensitivity', 'interrupted', 'actor', 'wakeup', 'angel', '7even', 'connect', 'shipment', 'boothe', 'hallucinatory', 'to', 'rossano', 'strengh', 'jere', 'building', 'achieve', 'icare', 'caddy', 'miou', 'shinobu', 'lend', 'goldsworthy', 'futility', 'technology', 'comity', 'stuie', 'bosie', 'immigrant', 'explosivo', 'recognition', 'bunuels', 'personage', 'lines', 'paymer', 'distant', 'drizzle', 'baby', 'barn', 'sexist', 'mockage', 'tulipe', 'alcohol', 'transvestitism', 'cartoon', 'textured', 'pa', 'mis', 'consent', 'specials', 'emotionalism', 'ourday', 'freezer', 'eighties', 'ghetto', 'nigerian', 'steckler', 'marmeladova', 'walk', 'filmaking', 'pancake', 'everybody', 'sound', 'bat', 'cracker', 'current', 'candidate', 'airy', 'placed', 'andersson', 'dollars', 'league', 'pei', 'freewheel', 'drame', 'crashers', 'maker', 'porpoise', 'dissappointe', 'tactic', 'triumph', 'milos', 'aroundxc2x85', 'chiasmus', 'zip', 'saber', 'takeaway', 'foch', 'brokedown', 'jeter', 'accompanying', 'cherce', 'poverty', 'porn', 'blaise', 'moviexc2x97just', 'cream', 'hippies', 'masterful', 'mill', 'gory', 'civilize', 'physics', '9th', 'wishywashy', '2001', 'shooter', 'rendition', 'heartwretche', 'whoa', 'hubristic', 'yanquis', '20', 'remind', 'swordfighting', 'balance', 'toto', 'bianco', 'seamless', 'rose', 'completly', 'snuff', 'preach', 'foursome', 'analysis', 'pandos', 'tl', 'assy', 'type', 'justifiably', 'preform', 'prometheus', 'politicka', 'pauly', 'heat', 'shrink', 'madly', 'born', 'sycophant', 'lil', 'afterlife', 'enterprise', 'melodrama', 'website', 'depiction', 'raki', 'weather', 'landxc2x85', 'transformers', 'cassavettes', 'crocdodile', 'saving', 'skepticle', 'ernest', 'excellency', 'probobly', 'normally', 'campfire', 'dishonest', 'olxc3xa9ander', 'canuck', 'british', 'quo', 'chacun', 'amicus', 'aswell', 'care', 'bb', 'fantastiks', 'idiocyncracie', 'cats', 'surpasse', 'animalism', 'attracting', 'multifarious', 'realization', 'shakespearean', 'riverbed', 'subject', 'dedication', 'awoke', 'firesign', 'hollywoodized', 'veritably', 'manicurist', 'sanitised', 'col', 'stepmum', 'delusion', 'unforgetable', 'guxc2xa8xc2xa6tary', 'automobiles', 'renxc3xa9', 'sheet', 'cave', 'action', 'seemy', 'unexplainable', 'etcetera', 'sharecrop', 'duvall', 'romanian', 'chronological', 'mobile', 'gothos', 'potential', 'neighbour', 'benchmark', 'comedygenre', 'eva', 'vulgarity', 'silencer', 'linger', 'brideless', 'sing', 'herb', 'painter', 'admission', 'forces', 'brita', 'outer', 'masterstroke', 'acrobatty', 'yippy', 'accomplishment', 'millie', 'reconfirm', 'operator', 'stereotype', 'option', 'camper', 'detective', 'hillarious', 'paramour', 'hergxc3xa9', 'idiosyncracie', 'daphne', 'europa', 'battle', 'purposeful', 'mouse', 'boatman', 'bend', 'singin', 'northern', 'freewill', 'nolan', 'donnell', 'files', 'stooge', 'onside', 'labeling', 'neighborliness', 'inexact', 'humourous', 'yield', 'buckmaster', 'stylize', 'flea', 'midts', 'untraditional', 'warm', 'mime', 'xc2xb7', 'darling', 'funky', 'georg', 'childs', 'baddie', 'lieve', 'dramas', 'horton', 'carriage', 'conceptual', 'blond', 'doctresse', 'spotting', 'somewhere', 'sot', 'device', 'supersmooth', 'comlex', 'apna', 'wholeness', 'rosebud', 'assemble', 'sorrow', 'pornographic', 'gutsy', 'midsection', 'partridge', 'ish', 'color', 'videophile', 'mobocracy', 'maratonci', 'vassar', 'japanese', 'authentic', 'exciting', 'characature', 'theft', 'trash', 'barber', 'stork', 'catchy', 'pleanty', 'downey', 'unimagine', 'gaurd', 'prisoner', 'rudy', 'intimately', 'doom', 'ebeltoft', 'despict', 'moley75', 'weaponry', 'nihonjin', 'portrai', 'wolfgang', 'temptations', 'nekromantiks', 'libidinal', 'buffalo', 'appraisal', 'sparklingly', 'monumental', 'bouncier', 'yash', 'dandy', 'jawaharlal', 'favirote', 'insomniac', 'savoir', 'clicker', 'minidresse', 'splatter', 'amusement', 'fiancee', 'foss', 'pitcher', 'lover', 'wardens', 'learning', 'helen', 'jeffrie', 'insert', 'yakuza', 'winona', 'woooooohooooo', 'climaxing', 'thread', 'soylent', 'harmonize', 'quigley', 'beautifully', 'dad', 'traveller', 'midsomer', 'uplift', 'winfield', 'prouder', 'critiquing', 'zu', 'vicey', 'fraternal', 'squarley', 'incident', 'cosmology', 'hardwick', 'gantlet', 'lube', 'infected', 'incoming', 'milo', 'verbalize', 'homeless', 'terrorism', 'thiller', 'bath', 'hunk', 'best', 'ky', 'invention', 'reincarnate', 'mcboing', 'hoppy', 'hairdryer', 'unconditional', 'harburg', 'wendie', 'premier', 'fencing', 'populace', 'rival', 'cockrocker', 'exaggerated', 'veoh', 'underrate', 'repent', 'soundtracks', 'impressive', 'referee', 'grot', 'sisters', 'bigg', 'boundlessly', 'parody', 'splice', 'niemann', 'madness', 'nov', 'streethawk', 'carface', 'simultaniously', 'cherish', 'malden', 'retraction', 'familiarity', 'criticism', 'sibbling', 'paredes', 'convalesce', 'nutz', 'sidelines', 'countryside', 'confound', 'baseketball', 'selve', 'rim', 'ganster', 'taxi', 'biker', 'schnikey', 'inseparably', 'delt', '23', 'sherwood', 'evince', 'educate', 'promoting', 'attraction', 'interpersonal', 'khanna', 'bittorrent', 'widescreen', 'opine', 'spying', 'credible', 'age', 'czech', 'unreliability', 'jewelry', 'filmindustry', 'tend', 'mystic', 'hanging', 'stampede', 'juggle', 'gered', 'merkel', 'dreamer', 'bills', 'viewers', 'resolution', 'avalanche', 'explore', 'sharkey', 'really', 'transistor', 'jayhawker', 'columbos', 'klinker', 'colloquial', 'swag', 'urn', 'knightly', 'jitterbug', 'rejects', 'streetfight', 'spookf', 'tricks', 'notify', 'matthau', 'encounte', 'goyxc3xb4kiba', 'aviation', 'miikes', 'scheduling', 'whistle', 'hasnxc2xb4', 'deponent', 'bandits', 'bipolar', 'dubin', 'tomatoey', 'agility', 'idea', 'slave', 'magnificent', 'sweeping', 'hansom', 'cammeo', 'premchand', 'screwball', 'debilitate', 'georgian', 'sammi', 'bbc4', 'naturalist', 'triumphs', 'wastrel', 'vitti', 'lond', 'lightweight', 'calliber', 'mordantly', 'knock', 'solomon', 'thuggee', 'thorn', 'nunchuks', 'unusually', 'gigi', 'baker', 'hummmm', 'sovjetian', 'midnight', 'ymca', 'interfeare', 'alka', 'brotherconflict', 'calmer', 'mandylor', 'receive', 'cor', 'flinty', 'cheyenne', 'reese', 'intra', 'rig', 'theatre', 'directed', 'subtle', 'trailer', 'chimpazee', 'late', 'scandavian', 'ramxc3xb3n', 'exact', 'sunday', 'samotxc3xa1ri', 'stuarts', 'leonards', 'tripping', 'hairstylist', 'worms', 'writing', 'hyperdermic', 'nt', 'danila', 'pancino', 'hallucination', 'pizza', 'yogurt', 'murky', 'translate', 'frontier', 'borden', 'serious', 'pendulous', 'overlooked', 'ragga', 'bungalow', 'violinist', 'offside', 'poirot', 'radio', 'wacky', 'theodore', 'surf', '83min', 'penalty', 'enhance', 'playmates', 'animal', 'uniqueness', 'expensive', 'short', 'cursed', 'eleniak', 'burstingly', 'salty', 'insight', 'realness', 'grammies', 'elsewise', 'gastronomy', 'convention', 'frisian', 'virgin', 'stereotypic', 'carter', 'stalkfest', 'newsagent', 'picture', 'rarefied', 'fascism', 'protocol', 'shelf', 'energy', 'granddaddy', 'bye', 'canoeing', 'unto', 'carly', 'stiflers', 'musa', 'waiter', 'sniveler', 'olaf', 'thuggie', 'uk', 'khan', 'angelfire', 'placesxc2x85you', 'encumbrance', 'cord', 'panorama', 'incorporate', 'bather', 'arab', 'tenacious', 'matrix', 'congradulation', 'celebertis', 'men', 'danny', 'blademaster', 'oly', 'fable', 'chatterly', 'candy', 'cigarette', 'pullman', 'unaware', 'sharon', 'lelands', 'sexiest', 'americanised', 'upper', 'timon', 'scarlet', 'butterfly', 'dostoyevskian', 'witherspooon', 'benny', 'lithely', 'ellison', 'swinger', 'la', 'blue', 'lesbian', 'undergo', 'horrifically', 'ordination', 'vitality', 'number', 'barker', 'muted', 'cell', 'semi', 'chungke', 'hanso', 'fascinating', 'excessive', 'mixed', 'solely', 'miaoooou', 'occassionally', 'motel', 'stribor', 'pleased', 'dieter', 'bouvier', 'carlos', 'mystery', 'psychiatry', 'manone', 'remarkably', 'colorful', 'queen', 'pegg', 'bent', 'rourke', 'cutscene', 'priestley', 'fdoe', '19thc', 'faceted', 'heiress', 'rohinton', 'amirs', 'cosmic', 'torn', 'sky', 'stallion', 'hitched', 'platter', 'terrier', 'unavailable', 'determination', 'mess', 'blacksmith', 'schoolteacher', 'pakeezah', 'farsi', 'poupees', 'deprivation', 'whitchurch', 'posey', 'ondatje', 'bookend', 'exposure', 'altering', 'viewing', 'steckle', 'broeck', 'learn', 'fake', 'warlord', 'addict', 'macross', 'change', 'vessel', 'freddie', 'mxc3xbcllers', 'viewer', 'mental', 'cannon', 'stunning', 'chidlren', 'lips', 'unnecessary', 'vieux', 'adapt', 'snark', 'teenie', 'narrated', 'sorta', 'bladk', 'k', 'security', 'mastered', 'barres', 'father', 'ingrid', 'redux', 'away', 'infantry', 'bulimic', 'recomende', 'awed', 'angels', 'link', 'arcs', 'tt0098238', 'shambler', 'shearer', 'break', 'theologically', 'constellation', 'quarrel', 'venezuelian', 'relatonship', 'auntie', 'superstructure', 'grab', 'klatretxc2xa9xc2xaasen', 'rifle', 'liberated', 'south', 'achronological', 'feeling', 'illustrated', 'pantheon', 'caliber', 'mutual', 'overall', 'loners', 'scar', 'stalk', 'universe', 'whirl', 'real', 'ql', 'hxc3xa1na', 'norwegian', 'dislike', 'dopiest', 'pretencion', 'werewolf', 'memerie', 'giorgino', 'headed', 'clarinet', 'actioner', 'nun', 'thanku', 'gain', 'grandaddy', 'caw', 'shelby', 'tension', 'absorbing', 'forewarde', 'obvious', 'text', 'boss', 'glam', 'uncharacteristic', 'autumn', 'witty', 'meal', 'simpsons', 'eumaeus', 'female', 'grable', 'won', 'nomadic', 'lifelong', 'board', 'semra', 'cuing', 'refreshingly', 'ach', 'unnoticeable', 'nightmarish', 'brotherhood', 'rootbeer', 'incredible', 'anticipation', 'seahunt', 'gritty', '50', 'schadenfreude', 'supercool', 'pita', 'outdoors', 'bp', 'selleck', 'exquisite', 'radu', 'oust', 'elmore', 'khaki', 'skin', 'hall', 'villians', 'coliseum', '12', 'aisle', 'anually', 'dxc3xb4', 'hayward', 'report', 'he', 'phillippe', 'literary', 'ability', 'pink', 'makeup', 'large', 'henchwoman', 'technique', 'lonely', 'awaited', 'neofolk', 'yrs', 'symbiopsychotaxiplasm', 'amazing', 'hulbert', 'brave', 'te', 'devine', 'enforcer', 'especially', 'bar', 'orthodox', 'suitcase', 'rake', 'followable', 'manager', 'cuddly', 'mature', 'sooooooo', 'folk', 'worthy', 'cicatillo', 'sfx', 'strongly', 'spectator', 'kurth', 'mosey', 'taxidermist', 'straczynski', 'locust', 'junior', 'reissuer', 'kahn', 'billet', 'leaning', 'seong', 'infective', 'supporting', 'notable', 'brundruge', 'stethoscope', 'anniversary', 'lonesome', 'liberals', 'sergio', 'government', 'smallpox', 'incite', 'welling', 'armaggedon', 'kenji', 'blurring', 'regent', 'xe2x80x9citxe2x80x99s', 'special', 'impactive', 'slasher', 'assylum', 'twentish', 'shiver', 'whoopi', 'superstition', 'rimi', 'ae', 'peluso', 'math', 'miner', 'moovie', 'fumbling', 'automaker', 'reduction', 'monument', 'horns', 'account', 'mandate', 'wiki', 'cookbook', 'calvet', 'mathau', 'retard', 'unhollywoodized', 'phoebe', 'twelve', 'yourself', 'fahey', 'trial', 'journeyman', 'spider', 'highball', 'train', 'clan', 'unpromoted', 'gen', 'road', 'metephorically', 'sensually', 'thoough', 'requirement', 'corner', 'bruce', 'far', 'seductive', 'jxc3xa4rvi', 'adaption', 'boil', 'sundry', 'isolation', 'cuba', 'rodrigue', 'plotter', 'bicarbonate', 'antagonist', 'damme', 'lola', 'aj', 'sweeny', 'dumbtainment', 'seduce', 'cephallonian', 'bulb', 'cameraman', 'subtitler', 'milieu', 'music', 'daywalker', 'evolve', 'possessive', 'sunways', 'agony', 'ros', 'det', 'title', 'sergeant', 'critisism', 'unmatchably', 'reacts', 'college', 'unsure', 'sg', 'coincidence', 'departure', 'monter', 'mammoth', 'vividness', 'moloney', 'burgundy', 'frankel', 'meeting', 'pumas', 'doctor', 'indie', 'rustling', 'estonian', 'suspense', 'looser', 'clark', 'fiber', 'nemo', 'rom', 'synchro', 'rivette', 'permissiveness', 'law', 'pet', 'spacial', 'fag', 'irreverence', 'aik', 'eleven', 'devda', 'tearful', 'hundstage', 'news', 'strenght', 'granny', 'kee', 'gorier', 'lange', 'yards', 'adviser', 'stimpy', 'traffik', 'serbian', 'innovativeness', 'cuti', 'boggling', 'layeredness', 'oxygen', 'relevant', 'huang', 'industrializing', 'rerelease', 'andie', 'tighty', 'digitized', 'melodious', 'quarterback', 'amazinly', 'divulging', 'strawberry', 'arli', 'wartime', 'arranger', 'european', 'relax', 'implant', 'unchallenging', 'loste', 'stylized', 'different', 'ern', 'sh', 'splendiferous', 'lightheartedly', 'busted', 'staff', 'turtles', 'orient', 'masuji', 'vote', 'muni', 'flowery', 'retro', 'predict', 'bogge', 'arrrrrggghhhhhh', 'anar', 'coping', 'haunted', 'campaigner', 'word', 'likable', 'claudine', 'forseee', 'surround', 'reflect', 'billing', 'pill', 'bear', 'vision', 'supertank', 'crystal', 'incentive', 'f0rs4k3n', 'xxist', 'trouser', 'taught', 'shooting', 'announcement', 'trail', 'typical', 'sitr', 'russian', 'mxc3xa3o', 'genius', 'twentysomethe', 'longsuffere', 'globe', 'hatred', 'transsexual', 'buit', 'showcase', 'virus', 'integrate', 'bachelorhood', 'yule', 'slum', 'boyhood', 'dom', 'inmate', 'lyricist', 'dinner', 'kickboxing', 'schlocky', 'surface', 'gohst', 'sequencing', 'sexism', 'napoleone', 'annihilator', 'bugs', 'chill', 'cohere', 'skateboarding', 'davies', 'waterworks', 'devil', 'cb4', 'jock', 'crouching', 'impregnable', 'superficial', 'perfectly', 'boar', 'addition', 'rituals', 'lesbianism', 'reisman', 'travelator', 'divorce', 'classical', 'straiten', 'rf', 'gizmo', 'briskly', 'despondent', 'modesty', 'explainable', 'lookin', 'nolo', 'debate', 'bathroom', 'oj', 'dippie', 'layout', 'dateness', 'aime', 'racist', 'liebman', 'hammerhead', 'bate', 'distraction', 'xc3xads', 'fav', 'matinees', 'hollies', 'kabhi', 'extreamely', 'sanders', 'monopolize', 'reynolds', 'lynch', 'babe', 'against', 'settingscostume', 'gatsby', 'interplay', 'five', 'tot', 'peva', 'sidelight', 'championship', 'dogma', 'funeral', 'illuminate', 'deeply', 'justness', 'inevitability', 'meatball', 'eastern', 'renoir', 'armadillo', 'npc', 'swear', 'mellow', 'impromptu', 'flagging', 'hood', 'australian', 'slide', 'gialli', 'pesci', 'spoofer', 'trick', 'mobster', 'helpless', 'internet', 'laying', 'simple', 'di', 'ans', 'sunken', 'loved', 'crew', 'dbdumonteil', 'red', 'hilly', 'fantasic', 'rathbone', 'furhman', 'delete', 'catchier', 'hardcore', 'rockford', 'horta', 'ana', 'johansson', 'mine', 'christmas', 'cockeye', '73', 'bleak', 'arsxc3x88ne', 'downtown', 'junta', 'rossitto', 'mum', 'pothead', 'steep', 'blackadder', '1969', 'pb', 'overhyped', 'baio', 'which', 'lizard', 'unhappy', 'made', 'skater', 'misleading', '1951', 'tt0408790', 'burmese', 'extemporaneous', 'god', 'knucklehead', 'prediction', 'hightly', 'hush', 'imelda', 'louise', 'waltzer', 'bailiff', 'antigone', 'jericho', 'sanitation', 'revelation', 'slaughterhouse'}\n"
          ]
        }
      ]
    },
    {
      "cell_type": "code",
      "source": [
        "len(posBest1)"
      ],
      "metadata": {
        "colab": {
          "base_uri": "https://localhost:8080/"
        },
        "id": "IBgsdcwaj_Zm",
        "outputId": "9e073950-8f9b-479a-d439-a95a18d1f787"
      },
      "execution_count": 46,
      "outputs": [
        {
          "output_type": "execute_result",
          "data": {
            "text/plain": [
              "9708"
            ]
          },
          "metadata": {},
          "execution_count": 46
        }
      ]
    },
    {
      "cell_type": "code",
      "source": [
        "#create a tokenized dictionary of words for negative reviews\n",
        "neg_tokenized=readDocumentCollection(neg_reviews)"
      ],
      "metadata": {
        "id": "uk06KgMIjNqH"
      },
      "execution_count": 42,
      "outputs": []
    },
    {
      "cell_type": "code",
      "source": [
        "#get best n terms based on TFIDF score from negative reviews\n",
        "negBest1 = bestTFIDF(neg_tokenized, T, n=1)\n",
        "print(negBest1)"
      ],
      "metadata": {
        "colab": {
          "base_uri": "https://localhost:8080/"
        },
        "id": "JtPv6ZBfjS1S",
        "outputId": "62f37d4e-3043-4912-8d9d-e1b4c69eeb21"
      },
      "execution_count": 43,
      "outputs": [
        {
          "output_type": "stream",
          "name": "stdout",
          "text": [
            "{'proof', 'declare', 'stockyard', 'figuration', 'armoury', 'vilmos', 'bungle', 'bullet', 'belmondo', 'dunit', 'goldies', 'oaag', 'sandlot', 'fiendishly', '3', 'shining', 'machinegun', 'mountain', 'passion', 'buoy', 'suckitude', 'jeux', 'esque', 'secdonly', 'thunderbolts', 'kareena', 'reorganization', 'sloppiest', 'liotta', 'smart', 'integrity', 'psychodrama', 'envelop', 'rafter', 'stomach', 'b5', 'haunt', 'cadet', 'phase', 'muster', 'youngest', 'segal', 'sign', 'diffuse', 'wooden', 'hastey', 'infancy', 'facsimile', 'fireman', 'irish', 'express', 'tar', 'hide', 'funfair', 'yahoo', 'manufacturing', 'parabens', 'prince', 'chavs', 'cells', 'voting', 'source', 'ck', 'heap', 'loathing', 'hyung', 'overrate', 'fantasy', 'tightwad', 'hr', 'disarm', 'hardbodies', 'lamer', 'sun', 'argento', 'designer', 'coffeshop', 'homosexuality', 'stoicism', 'barbarian', 'dress', 'whom', 'beanbag', 'storming', 'amxc3xa9lie', 'saugage', 'troopers', 'caffeine', 'ambition', 'awkwardness', 'sara', 'szene', 'recall', 'beachfront', 'gunfight', 'chique', 'record', 'gamer', 'believabilty', 'melody', 'unformulaic', 'entertaingly', 'freighter', 'creaking', 'got', 'dummy', 'citycenter', 'nipple', 'nbtn', 'firefighter', 'anemic', 'ehhh', 'fightclub', 'spear', 'aesthetic', 'disembowelment', 'neame', 'reassemble', 'flight', 'boobies', 'carolina', 'qv', 'unwatchable', 'crit', 'disprove', 'exposxc3xa9e', 'spaceball', 'strobing', 'kinghtly', 'tanning', 'uncaptivate', 'gracelessly', 'unknowns', 'cloutish', 'carlyle', 'enid', 'aguilar', 'synchronization', 'cangey', 'grievous', 'bruceploitation', 'gammera', 'storyboard', 'panegyric', 'egm', 'digging', 'maybe', 'sensei', 'breslin', 'paki', 'instil', 'superwoman', 'pianist', 'lodge', 'schoolie', 'reawaken', 'energies', 'farm', 'per', 'thereafter', 'whince', 'trumbo', 'nomination', 'frear', 'unaccountable', 'whilst', 'shemp', 'heather', 'book', 'haha', 'documentary', 'struggle', 'grater', 'disparate', '1940', 'weeks', 'wild', 'perishable', 'manatee', 'generation', 'daylight', 'lousy', 'rappin', 'religion', 'alex', 'intensity', 'drawl', 'devourer', 'harvest', 'trained', 'actullly', 'kakka', 'shoddiness', 'slob', 'brining', 'intuitive', 'cashier', 'pygmy', 'standable', 'trickiness', 'lump', 'yentl', 'thai', 'pipe', 'pooh', 'romance', 'section', 'eartha', 'overact', 'falls', 'bruni', 'tpb', 'palabra', 'involve', 'headhunting', 'ski', 'overladen', 'spenny', '35', 'angle', 'pap', 'ds9', 'bug', 'enemy', 'hereby', 'page', 'sir', 'blow', 'wander', 'size', 'span', 'gum', 'participation', 'hartmen', 'waltons', 'pretend', 'accept', 'oman', 'sugg', 'narcissistic', 'filmfour', 'unprovoked', 'sutherland', 'windego', 'gaynigger', 'carer', 'displeased', 'seagalology', 'arff', 'last', 'notice', 'dain', 'faith', 'playas', 'frown', 'mst3', 'cube', 'persist', 'compactor', 'carrot', 'her', 'properly', 'kant', 'untethered', 'advertising', 'impersonator', 'satirise', 'force', 'nathan', 'egyptologist', 'athmosphere', 'imaginary', 'coked', 'cheesiest', 'imdb', 'dark', 'informative', 'bullsh', 'tired', 'technofest', 'bilgewater', 'narrative', 'drill', 'subterranean', 'ye', 'iv', 'pathological', 'ditzy', 'hera', 's1', 'polemic', 'arnold', 'bengal', 'sander', 'spritely', 'disconnect', 'minute', 'pasted', 'might', '20year', 'sender', 'ga', 'ocd', 'senegal', 'eats', 'handbill', 'yipe', 'surya', 'just', 'double', 'trough', 'justine', 'squawk', 'recycle', 'suddenly', 'mstied', 'winner', 'scene', 'sprinting', 'moviexc2x85or', 'jay', 'badder', 'rad', 'mediocre', 'snorer', 'inverse', 'inarticulately', 'therexc2xb4s', 'bxc3xa9atrice', 'decompose', 'disobey', 'scuddamore', 'dropping', 'jud', 'meoli', 'reckless', 'displaced', 'industrial', 'reccomend', 'merk', 'cot', '15th', 'intellectualism', 'peace', 'fx', 'medieval', 'fisted', 'sad', 'unglamorous', 'dicide', 'sandal', 'bee', 'maul', 'restaurant', 'daneliuc', 'lawyer', 'affair', 'potts', 'nell', 'unfriendliness', 'tribe', 'martin', 'insult', 'liked', 'akki', 'thoughtless', 'sloww', 'eurasion', 'springer', 'component', 'overlook', 'show', 'martians', 'vinci', 'grimacing', 'superannuated', 'mulletrific', 'senior', 'standards', 'tending', 'tournament', 'fighter', 'implement', 'bearly', 'inbetweeners', 'retire', 'ramtha', 'commercial', 'kindergartener', 'watchin', 'object', 'hexer', 'jumble', 'g', 'ive', 'studio', 'tomorrow', 'years', 'rpms', 'microsystem', 'mrs', 'couldnxc2xb4', 'skiing', 'kidnapping', 'scripting', 'stone', 'cope', 'assistant', 'perverseness', 'kung', 'fiance', 'awip', 'manipulate', 'murixc3xabl', 'beergutted', 'unengage', 'battleaxe', 'deniro', 'boa', 'flap', 'game', 'condemned', 'thriller', 'negro', 'remotely', 'derisory', 'colorblind', 'silly', 'dae', 'guidelines', 'snn', 'unlimited', 'complaint', 'horrorible', 'onegin', 'null', 'dramaticisation', '96', 'opt', 'squalid', 'cheepnis', 'income', 'pathedic', 'biggie', 'filmaker', 'satan', 'commissioner', 'guys', 'interwine', 'pornography', 'delta', 'innocuously', 'fraternity', 'weld', 'whimsical', 'education', 'nicol', 'entertaining', 'copying', 'awfully', 'subtitle', 'acadmey', 'smidgen', 'leafs', 'caan', 'intend', 'll', 'workprint', 'blacksnake', 'complicate', 'britpop', 'monastic', 'worn', 'flim', 'trouble', 'migene', 'highschooler', 'serling', 'rode', 'hummh', 'cynic', 'champion', 'madhouse', 'fossils', 'grandson', 'wheat', 'pit', 'wishmaster', 'demention', 'and', 'rib', 'substantially', 'mannage', 'caretaker', 'confusing', 'warming', 'shutout', 'televangelism', 'plumb', 'paranormal', 'rife', 'baffle', 'helmet', 'provine', 'ayers', 'illogical', 'baseball', 'misspell', 'meen', 'juke', 'body', 'constable', 'bruckner', 'rte', 'peg', 'bolo', 'cheerleader', 'nombre', 'grandma', 'seismically', 'geddit', 'analog', 'phrase', 'casserole', 'trent', 'pharmacist', 'pandemic', 'enforcement', 'deliverance', 'beggar', 'camels', 'synchronisation', 'travolta', 'supremely', 'bedknobs', 'terrify', 'nastiness', 'sux', 'encourage', 'circumstance', 'harassing', 'dexter', 'weatherpaparazzi', 'vixen', 'jerky', 'perhaps', 'marks', 'mistake', 'uninvolving', 'sci', 'promotional', 'irreverently', 'sport', 'commitment', 'clechxc3xa9', 'althought', 'hysterical', 'reggio', 'trancer', 'sediment', 'beginging', 'snicker', 'spoorloo', 'kissy', 'region', 'crumbling', 'preservation', 'gipharts', 'destitute', 'spanish', 'predictably', 'lv2', 'koushun', 'delia', 'dillman', 'juggs', 'dynamism', 'spin', 'astaire', 'undoubtedly', 'nonprofessional', 'gbmg', 'fishnet', 'endlessly', 'equivalence', 'roadhouse', 'jillian', 'tracy', 'convoluted', 'brodie', 'portier', 'thrill', 'wound', 'pillage', 'sucki', 'grendel', 'dim', 'tourism', 'prisinor', 'lowe', 'hulu', 'inn', 'advise', 'derivative', 'wet', 'dunnit', 'mix', 'budget', 'nihilist', 'flooze', 'descent', 'pokemon', 'booooooooooooooooooooooooooooooooooooooooooooooo', 'depress', 'complimentary', 'mimzy', 'fatuous', 'sceen', 'folkie', 'oddness', 'acually', 'shoddy', 'centered', 'pregnancy', 'beeing', 'check', 'rating', 'scam', 'discrimination', 'smits', '70', 'simone', 'raiders', 'stylish', 'jw', 'y2', 'alia', 'editing', 'duel', 'improbable', 'trend', 'cheezy', 'orczy', 'gore', 'badboy', 'pirated', 'homophobic', 'curler', 'galloner', 'ines', 'african', 'questionnaire', 'ecstasy', 'shakespearian', 'statue', 'realize', 'motiveless', 'reuse', 'plasma', 'materialize', 'intuitor', 'structuralism', 'buddies', 'wood', 'matrimonial', 'masculin', 'concubine', 'resistant', 'orderly', 'triptych', 'try', 'repellent', 'aftermath', 'frighten', 'dethrone', 'underdog', 'ciao', 'idris', 'hesitate', 'username', 'moviemag', 'conceive', 'receed', 'nielson', 'incongruent', 'theorist', 'stratten', 'overwrought', 'channel', 'trainable', 'ramplingxc2xb4s', 'unstructured', 'senaglese', 'passionless', 'fighting', 'green', 'depressing', 'intriguing', 'snatchlike', 'elly', 'likeability', 'mildew', 'mulcher', 'unisol', 'unsuspensful', 'interject', 'fllm', 'filler', 'gloss', 'jiggly', 'weird', 'syntactical', 'hard', 'bajillion', 'leg', 'liam', 'listener', 'solar', 'gradually', 'unimpressively', 'function', 'nabbit', 'saudi', 'awesome', 'stop', 'stoned', 'shaving', 'whatso', 'retroactive', 'inacurrate', 'superficiality', 'prodution', 'accident', 'matriarchal', 'walkman', 'automagically', 'sf', 'rex', 'possessor', 'phone', 'excrement', 'graphically', 'scriptwritter', 'horrid', 'leese', 'wud', 'lacey', 'con', 'raining', 'disapprovement', 'clamshell', 'museum', 'constrict', 'dolphin', 'enjoyment', 'caver', 'uncircumcised', 'maddeningly', 'bones', 'retarded', 'shat', 'billy', 'harmless', 'stick', 'craven', 'creepy', 'williamson', '3d', 'stinkbomb', 'bestiality', 'psychiatrist', 'barrel', 'pot', 'baaaaaad', 'kristofferson', 'berth', 'chesty', 'zd', 'dix', 'wez', 'compassion', 'chrissake', 'washroom', 'elizabethan', 'skeet', 'crimson', 'patriot', 'shiztz', 'draaaaaaaawl', 'orange', 'cybersex', 'waist', 'noone', 'damn', 'toot', 'zeta', 'k9', 'haim', 'resort', 'cutis', 'com', 'esthetic', 'passenger', 'motifs', 'teenage', 'sousa', 'mostly', 'recycling', 'fruit', 'graves', 'bellybutton', 'yearly', 'bombs', 'sculptor', 'sensational', 'throw', 'storywise', 'every', 'untraceable', 'selfindulgent', 'shamefull', 'beaudine', 'establishment', 'slouching', 'facetious', 'buddy', 'giallo', 'average', 'camp', 'inauthentic', 'pinkxc2x96', 'cylon', 'monstrously', 'flicka', 'henriette', 'abandonment', 'vvv', 'vo12no18', 'colloca', 'formulaic', 'temperememt', 'israeli', 'gratuatious', 'nepotism', 'conscious', 'dane', 'snoref', 'bernstein', 'themes', 're', 'drss1942', 'annnndddddd', 'vacuous', 'rumor', 'tremor', 'gaynor', 'potato', 'dissatisfyingly', 'listless', 'uninvolved', 'fertility', 'amaze', 'liason', 'plastique', 'munchie', 'garber', 'gumby', 'duffer', 'assignation', 'earlier', 'bury', 'brainer', 'dawdle', 'sally', 'chick', 'compared', 'vonnegut', 'feelgood', 'definately', 'psychic', 'cop', 'alow', 'extremely', 'storey', 'shaq', 'forward', '59', 'resaw', 'palma', 'pickpockete', 'jitter', 'cooking', 'jackal', 'eggnog', 'extensively', 'lead', 'wagner', 'essex', 'misuse', 'overambitious', 'deprecating', 'ossesione', 'reaper', 'image', 'seemingly', 'ridley', 'resivior', 'thouroughly', 'max', 'pornos', 'generate', 'bony', 'southerner', 'ice', 'vermin', 'drawing', 'draaaaaag', 'chicken', 'orion', 'dubba', 'lye', 'nothing', 'nightmare', 'leoni', 'catholic', 'burley', 'convert', 'mines', 'varney', 'belief', 'hotrod', 'unhand', 'danish', 'woodbury', 'misrepresented', 'japs', 'oil', 'shirley', 'sword', 'sex', 'good', 'jurassic', 'screechingly', 'engel', 'insomniacs', 'request', 'futureworld', 'recent', 'corringa', 'duck', 'muttered', 'elite', 'girlfriend', 'camal', 'ticket', 'food', 'trollop', 'themovie', 'perf', 'unconvinced', 'snail', 'umm', 'succed', 'neff', 'haka', 'pharoh', 'amorphic', 'parricide', 'doorstop', 'fac', 'terrible', 'shootin', 'looooooong', 'dissy', 'pokxc3xa9mon', 'leave', 'moshpit', 'philly', 'ripped', 'gangbanger', 'attend', 'fandango', 'bre', 'jacket', 'developer', 'corral', 'dangerous', 'sadistic', 'nullity', 'recommne', 'border', 'historically', 'ultimate', 'kristin', 'circus', 'teacher', 'betwen', 'sporadic', 'toxic', 'skull', 'charming', 'suffocatingly', 'bullseye', 'reality', '12th', 'instructor', 'conceptwise', 'allowance', 'multimillion', 'mindfuck', 'figurine', 'answering', 'rewriting', 'defoe', 'interactivity', 'ng', 'writerly', 'ten', 'ri', 'neither', 'discreditation', 'remarriage', 'rupee', 'rhythm', 'singlehandedly', 'erotica', 'review', 'trauma', 'value', 'clxc3xa9ment', 'tunnel', 'tambor', 'fitfully', 'hop', 'pah', 'degeneracy', 'store', 'mindless', 'deathbed', 'gladiator', 'artistic', 'firm', 'unbalanced', 'sxc3xa4llskapsresan', 'depth', 'payroll', 'movielover', 'whackos', 'revolver', 'unreviewe', 'canibalise', 'dairy', 'wagon', 'temperature', 'lemma', 'judges', 'dbz', 'loup', 'dissolute', 'lennon', 'atmosphere', 'distort', 'intially', 'burnout', 'jemma', 'zestful', 'satirize', 'umpire', 'affleck', 'ferrara', 'abudantly', 'regale', 'pyschic', 'excresence', 'uhura', 'memorize', 'dramaticness', 'barbie', 'artifact', 'jz', 'schramm', 'unpleasant', 'ize', 'ravensbrxc3xbcck', 'severing', 'poster', 'gpe', 'mug', 'melanie', 'beastmaster', 'east', 'bussinessman', '104', 'putrid', 'river', 'dilute', 'boorman', 'turgidly', 'ooop', 'poke', 'fiction', 'dukakis', 'lamberto', 'womb', 'aged', 'gratuitous', 'ordo', 'laurel', 'cure', 'glorify', 'spaces', 'nested', 'broderick', 'ator', 'living', 'son', 'prophecy', 'undermine', 'instinctivly', 'drearily', 'aalcc', 'somnambulist', 'bertram', 'toaster', 'mogadon', 'snooze', '123', 'duped', 'nibby', 'fletch', 'losers', 'morlock', 'pretentious', 'chief', 'season', 'rate', 'unimaginary', 'martial', 'anyhow', 'bollywood', 'passively', 'twistxc2x85', 'papercut', 'seethe', 'taken', 'megalon', 'ham', 'breed', 'proclaim', 'unbelievably', 'shirts', 'rack', 'blatant', 'intention', 'lonliness', 'levon', 'scarper', 'fisherman', 'spinal', 'attractive', 'bike', 'sabato', 'oilman', 'boring', 'physical', 'ridge', 'colonel', 'dyeing', 'guy', 'obituary', 'disgrace', 'tabooish', 'criticise', 'employer', 'mate', 'repu', 'banish', 'daily', 'cheated', 'clubber', 'mystique', 'truck', 'hate', 'begrudge', 'perk', 'papayas', 'discontinue', 'frustrating', 'poodlesque', 'harts', 'preferred', 'bachan', 'dislikeable', 'memories', 'moistened', 'alternately', 'except', 'lack', 'religione', 'huuuuuuuarrrrghhhhhh', 'inconceivable', 'offending', 'pron', 'laclos', 'serpent', 'career', 'beed', 'tiger', 'reincarnation', 'bring', 'reactive', 'longingly', 'talk', 'hurtful', 'denominator', 'racism', 'movement', 'downsyndrom', 'unwritten', 'sorvino', 'superdome', '82', 'impossible', 'bazooka', 'nonstop', 'itenglish', 'd', 'country', 'furnace', 'logger', 'characterisiation', 'wars', 'rocketship', 'strasberg', 'breathless', 'kilt', 'linesxc2x85', 'supersonic', 'plussed', 'sophia', 'kettle', 'prop', 'romcomic', 'undead', 'partly', 'theory', 'armitage', 'freeze', 'supresse', 'regressive', 'contain', 'boringus', 'chosen', 'dalmatians', 'major', 'elevator', 'unconscious', 'videobox', 'royalist', 'unatmospherically', 'browne', 'polly', 'cavity', 'caving', 'case', 'reportage', 'hotel', 'necrophagus', 'filby', 'morgan', 'mencia', 'minging', 'thatxc2xb4', 'funfare', 'crane', 'pee', 'oater', 'punk', 'timezone', 'infant', 'scepter', 'mean', 'unsatisfactorily', 'profound', 'subspecie', 'genre', 'uncool', 'sketch', 'ancient', 'avp1', '80', 'trimming', 'elapse', 'spell', 'dip', 'gags', 'banter', 'whomp', 'factotum', 'dino', 'french', 'arguing', 'presley', '1890', 'toilet', 'brokerage', 'en', 'why', 'zodiac', 'skit', 'cahoot', 'nuf', 'dynamic', 'corpulence', 'distortion', 'tracker', 'harold', 'nonevent', 'mammarie', 'mathematic', 'danger', 'display', 'decipherable', 'executioner', 'smithee', 'bane', 'boogey', 'ride', 'chamomile', 'perry', 'sle', 'hollow', 'hille', '1mln', 'courtroom', 'prune', 'slams', 'glimcher', 'damien', 'frank', 'unintenional', 'alice', 'harbor', 'surfing', 'dream', 'gabbing', 'ladies', 'exemplify', 'starling', 'mcgowen', 'irritating', 'parole', 'eachother', 'hammed', 'celebrate', 'psychotically', 'rustler', 'freedman', 'backing', 'spaghetti', 'stalactite', 'yada', 'consequence', 'distributor', 'uks', 'ammo', 'adult', 'ginny', 'melodramatic', 'scowl', 'landrette', 'englund', 'overstep', 'apathetically', 'adulation', 'murder', 'tenenbaums', 'baaaaad', 'lancia', 'poseidon', 'miniserie', 'ayurvedic', 'argentine', 'gilded', 'mope', 'critique', 'somebody', 'villains', 'dingo', 'lsd', 'ignorance', 'kyle', 'reeeeally', 'lowbrow', 'pix', 'silver', 'ass', 'ju', 'toy', 'mellencamp', 'raine', 'michxc3xa8le', 'course', 'swimsuit', 'adam', 'dicker', 'kart', 'effeminate', 'shopkeeper', 'tofu', 'excellent', 'salin', 'calcite', 'sushi', 'infiltrator', 'unreasonable', 'wendt', 'bland', 'http', 'concert', 'jill', 'slumming', 'serum', 'gypsy', 'jean', 'agent', '2020', 'garage', 'isoyc', 'duh', 'adultism', 'projected', 'uncharacteristically', 'wondrous', 'unspeakable', 'poker', 'international', 'heston', 'effervescent', 'mutiny', 'verneuil', 'advancement', 'ick', 'bewigged', 'epsecially', 'less', 'coocoo', 'voyeuristic', 'ching', 'gracelessness', 'implausible', 'thurman', 'elan', 'visitor', 'refer', 'licence', 'twister', 'favreau', 'flare', 'bizarre', 'trimester', 'uc', 'lovebird', 'close', 'paean', 'shuttle', 'existent', 'pause', 'zombie', 'cuoco', 'yc', 'angie', 'beaten', 'samardzic', 'our', 'grandiose', 'hour', 'glide', 'meer', 'explorer', 'tossing', 'hooker', 'manufacture', 'faffe', 'unsees', 'boogens', 'li', 'kz', 'woeful', 'hindi', 'consistently', 'oooo', 'judy', 'tatty', 'forsaken', 'antisemitism', 'third', 'justice', 'doesnxc2xb4', 'comical', 'totem', 'blood', 'laughing', 'b', 'southwest', '37c', 'blemish', 'none', 'wed', 'vacate', 'brazilian', 'dodgy', 'eerie', 'bowdlerization', 'intelliegence', 'mole', 'causation', 'antimatter', 'schwimmer', 'xc2x96up', 'assembly', 'loser', 'acing', 'acre', 'booee', 'date', 'loud', 'rabified', 'punster', 'limn', 'default', 'braindead', 'clonus', 'misunderstanding', 'pterdactyl', 'uzumaki', 'period', 'postitive', 'sequel', 'inelegant', 'condition', 'vh', 'yet', 'rickshaw', 'flag', 'latina', 'inhabit', 'direstion', 'intervixc3xba', 'prate', 'hap', 'multiply', 'whitehead', 'miscue', 'sorority', 'sudden', 'level', 'dry', 'stanwick', 'devilry', 'outgrosse', 'clock', 'donxc2xb4', 'miracle', 'dud', 'sackhoff', 'adolf', 'borrow', 'beating', 'jennie', 'must', 'superfluous', 'entertained', 'previous', 'foppishly', 'tram', 'dude', 'usa', 'floss', 'rat', 'whereabouts', 'shunt', 'medium', 'daraar', 'corn', 'pavement', 'bdwy', 'demente', 'laundromat', 'janne', 'ignoring', 'sitcom', 'unfavourable', 'manage', 'cow', 'narcotic', 'mutilate', 'yes', 'endure', 'impersonate', 'conditioning', 'frosty', 'oral', 'child', 'peeping', 'input', 'lifeless', 'usage', 'hotshot', 'meditteranean', 'conn', 'kong', 'overpowering', 'judder', 'hughes', 'confess', 'staggered', 'advisory', 'situation', 'something', 'uprosing', 'parlor', 'critic', 'elvira', 'announcer', 'besides', 'loft', 'selective', 'shore', 'endingi', 'nincompoop', 'nakata', 'foulmouthed', 'donavan', 'farmhand', 'white', 'br', 'conifer', 'need', 'pax', 'dagger', 'cloud', 'transvestite', 'laboratory', 'flabbergast', 'southern', 'beginning', 'hogtie', 'attack', 'spoof', 'uninventive', 'gremlin', 'munching', 'videogame', 'godforsaken', 'ok', 'lamentable', 'christopher', 'strip', 'overanxious', 'forewarn', 'auspex', 'nirvana', 'paceless', 'summery', 'untalented', 'propeganda', 'choke', 'peed', 'beholder', 'gawd', 'securities', 'cnn', 'sed', 'enlist', 'misserably', 'shock', 'torment', 'overseer', 'revision', 'laud', 'chapter', 'fishing', 'pillow', 'displeasing', 'begining', 'vip', 'maximum', '15', 'deficient', 'recruit', 'drolly', 'juvenile', 'breathiness', 'aag', 'goodgfella', 'eyewitness', 'alltime', 'cockpit', 'rebel', 'minion', 'suspender', 'combination', 'glandular', 'face', 'heavens', 'pms', 'terrrrrrrrrrrrrrrriiiiiiiiiiiible', 'f903', 'moronic', 'tap', 'tongue', 'drag', 'disappoint', 'se', 'crocodile', 'maint', 'esample', 'misjudged', 'fluffer', 'burnett', 'disentangle', 'carrols', 'llama', 'iguess', 'lmn', 'unemployment', 'weight', 'campaign', 'rediculousness', 'abiding', 'eventhough', 'visible', 'footage', 'mayor', 'move', 'grow', 'homestead', 'pure', 'morrisey', 'crighton', 'unenlightene', 'ie', 'punchline', 'womanizer', 'inder', 'torpedo', 'car', 'goblin', 'sloppiness', 'trumpet', 'mastorakis', 'amy', 'islander', 'bevare', 'your', 'quantum', 'fluffee', 'mythbuster', 'chupacabra', 'reicher', 'boredom', 'tagline', 'counseling', 'physically', 'sleezebag', 'joker', 'loyalty', 'lever', 'bugle', 'resource', 'ecclestone', 'dozor', 'cent', 'overexciting', 'wackyness', 'humphrey', 'evidence', 'pcp', 'farfetched', 'hokiness', 'precept', 'gold', 'geek', 'campier', 'poopoo', 'regress', 'hope', 'dxc3xa9calxc3xa9', 'pile', 'auteur', 'rotter', 'hippie', 'writhe', 'colourised', 'stole', 'joyride', 'shanghainese', 'narrate', 'header', 'patented', 'kata', 'icarly', 'mentality', 'reunion', 'murmur', 'plotting', 'manliness', 'rubbiush', 'spielbergian', 'frontal', 'survivalist', 'gitchy', 'stepson', 'convey', 'junket', 'steel', 'worthless', 'pan', 'shihuang', 'honeymoon', 'prejudice', 'fish', 'guilt', 'utterly', 'foreseable', 'liberate', 'receiver', 'descend', 'christian', 'allways', 'superstation', 'escapism', 'salesman', 'jones', 'heavy', 'serpico', 'subsidize', 'feedback', 'labotimize', 'resturant', 'passably', 'vo', 'ordinarily', 'wheel', 'winger', 'lukewarm', 'inconceivably', 'che', 'akroyd', 'cgi', 'stinkpile', 'slickly', 'humma', 'dessert', 'frosting', 'screamed', 'yaowwww', 'evilmaker', 'entertainment', 'ear', 'lodger', 'caddyshack', 'email', 'lovely', 'barnyard', 'ago', 'foreign', 'claude', 'kerwin', 'conquer', 'warhorse', 'marketer', 'cenobite', 'today', 'insect', 'spelling', 'professional', 'bloodletting', 'gangland', 'thursday', 'replaying', 'fishie', 'convientantly', 'obsess', 'mi5', 'gasser', 'neizvestnostlab', 'center', 'rockbart', 'raines', 'eternally', 'db', 'massacrenot', 'subverting', 'nr', 'filial', 'surrogate', 'pairing', 'sea', 'conceived', 'stultifying', 'underscripted', 'heder', 'swell', 'speedskate', 'solo', 'hype', 'shepherd', 'protract', 'catastrophe', 'iwascalledclementine', 'fantafestival', 'protector', '3x5', 'lookit', 'almost', 'workout', 'town', 'roach', 'synopsis', 'hole', 'ww', 'particle', 'flashlight', 'interval', 'product', 'cg', 'exploitation', 'sickroom', 'operation', 'ff', 'hewitt', 'omen', 'clockwork', 'weekend', 'swipe', 'mutt', 'molest', 'acholoic', 'pv', 'uncultured', 'chaplin', 'santini', 'bisexual', 'claud', 'redhead', 'golightly', 'fluttery', 'caddysack', 'rowe', 'surfin', 'badasse', 'southerly', 'wardrobe', 'straub', 'excursionist', 'goon', 'bukowski', 'proliferate', 'cheesily', 'spy', 'coaching', 'cabin', 'titilate', 'incase', 'cannes', 'cq', 'picky', 'featurette', 'independant', 'waterdance', 'hairpiece', 'scrub', 'botched', 'tail', 'arsehole', 'oafish', 'much', 'feather', 'undershort', 'harlequin', 'montrocity', 'coupe', 'romano', 'unrelated', 'aparna', 'tron', 'article', 'mm', 'massive', 'summon', 'harpo', 'offend', 'lot', 'oceanfront', 'charisma', 'suucks', 'germ', 'climb', 'rice', 'viciousness', 'untill', 'seagall', 'tkia', 'nothe', 'suicide', 'sick', 'forgiving', 'sholay', 'coutney', 'tailer', 'colonoscophy', 'dozy', 'handlebar', 'barr', 'legal', 'rebelliousness', 'crapulous', 'portable', 'bong', '54', 'philistine', 'wast', 'wait', 'r', 'feeder', 'pedofile', 'quada', 'clinching', 'simply', 'stressful', 'presenter', 'spinning', 'radiation', 'stylist', 'laddish', 'tucker', 'transmit', 'xylophone', 'raptor', 'deal', 'marrow', 'painless', 'luther', 'coyote', 'hot', 'golden', 'soho', 'ungrateful', 'caboose', 'unamusing', 'stranger', 'raggedy', 'retrieve', 'greenlight', 'cash', 'fretful', 'greasier', 'dumb', 'klasky', 'et', 'usual', 'cobra', 'disgard', 'adcox', 'socket', 'thoughtlessness', 'dreamworks', 'chute', 'bridge', 'unit', 'geisha', 'cushing', '97', 'spielberg', 'hill', 'fingerprint', 'cynical', 'shed', 'unsexy', 'ragbag', 'garofalo', 'obstreperous', 'sleazy', 'ghoulie', 'reveller', 'iranian', 'timing', 'fill', 'lambs', 'deforming', 'nuts', 'horrifie', 'anymore', 'include', '77', 'dross', 'ranger', 'targets', 'ususally', 'cokehead', 'poets', 'upon', 'vis', 'pc', 'dafoe', 'pillaging', 'everyplace', 'showroom', 'deep', 'vapid', 'terror', 'niche', 'ghost', 'digusted', 'suzanne', 'cast', 'digest', 'teabagging', 'davinci', 'discount', 'what', 'glorified', 'redeploy', 'competency', 'surgery', 'dentist', 'dickian', 'uncomfortable', 'genital', 'tape', 'backlash', 'daines', 'question', 'narration', 'dam', 'magnolia', 'tu', 'horiible', 'emergency', 'agonisingly', 'bombing', 'whupping', 'superintelligent', 'trivialboring', 'racketeer', 'gentle', 'kick', 'filmmaker', 'repetitious', 'awefully', 'clearing', 'bandwidth', 'award', 'crawl', 'flush', 'if', 'gertz', 'birthdaypresent', 'adapter', 'serial', 'reworked', 'mangler', 'confederate', 'masochist', 'schoolish', 'forgettably', 'mfn', 'cbtl', 'honor', 'sentinel', 'toys', 'kornbluth', 'de', 'du', 'speech', 'thenxc2x85', 'budgeting', 'looks', 'pussy', 'population', 'unplesasant', 'interior', 'jeremy', 'watchxc2x97you', 'slackly', 'southerland', 'byer', 'dead', 'xc2xa36', 'numb', 'barred', 'aspire', 'people', 'wrinkle', 'breech', 'foreseeable', 'earhole', 'sadomasochism', 'transmittable', 'dilly', 'bigoted', 'macist', 'explosion', 'sepia', 'zombified', 'gambling', 'judicial', 'formula', 'screwloose', 'jarman', 'jejeune', 'artist', 'pantierre', 'shitti', 'gouge', 'cst', 'marinara', 'unimaginitive', 'certifiably', 'ugly', 'sporatically', 'aim', 'transfusion', 'irritate', 'detonator', 'deceve', 'judge', 'bank', 'priestly', 'iceberg', 'confusion', 'scamme', 'egomaniacs', 'jackass', 'latronic', 'press', 'playback', 'document', 'space', 'fetched', 'savier', 'pleasantly', 'fijian', 'setbound', 'barbarians', 'jared', 'ganja', 'cola', 'pressly', 'obv', 'torgo', 'hit', 'disuse', 'pseud', 'society', 'bud', 'moving', 'bibles', 'blatently', 'narratively', 'diamond', 'furrowed', 'toute', 'hartnett', 'sanction', 'flix', 'wuhrer', 'hurting', 'expend', 'lady', 'wine', 'edgar', 'affront', 'rosewood', 'nanny', 'clay', 'uplifter', 'stutter', 'undivided', 'gwyenth', 'ignor', 'longish', 'cheerlead', 'blended', 'eroticism', 'neuf', 'sabre', 'zzzzzzzzzzzz', 'rapist', 'ream', 'alive', 'classmate', 'favela', 'irene', 'scandal', 'fanclub', 'cameo', 'talbot', 'dear', 'isolationism', 'oky', 'thru', 'taboo', 'contraption', 'questionable', 'fecal', 'horrormovie', 'indy', 'runner', 'sade', 'rave', 'enthusiastic', '2', 'allyson', 'epigram', 'hegelian', 'contortion', 'gravel', 'fogged', 'intellectual', 'finish', 'propel', 'snobbish', 'uninvited', 'freemason', 'ming', 'connisuer', 'monogamy', 'cause', 'francisville', 'constipation', 'hipness', 'ungenerous', 'heaven', 'corruptive', 'depict', 'belgian', 'situations', 'gosling', 'moment', 'watcher', 'water', 'paperbag', 'corey', 'caracter', 'aa', 'effect', 'applecart', 'cows', 'sooooouullltakaaaa', 'breaker', 'dogme', 'hhaha', 'ebts', 'croc', 'mardi', 'lowpoint', 'unrelievedly', 'degenerate', 'wargames', 'fictionalising', 'mano', 'position', 'glitch', 'sonny', 'backwater', 'update', 'bastion', 'cellular', 'arbus', 'hundredth', 'reanimate', '71', 'disappointing', 'cappucino', 'kindegarden', 'uncrowded', 'kills', 'rewire', 'scorpio', 'childish', 'quirk', 'ripps', 'telly', 'indelible', 'hallmarklifetime', 'bab', 'boardroom', 'win', 'clip', 'thay', 'compulsiveness', 'lobotomize', 'contempt', 'rune', 'canal', 'ring', 'feel', 'plotline', 'cabbie', 'swayze', 'intervenxc3xa7xc3xa3o', 'verboten', 'nickname', 'shaman', 'noggin', 'lisp', 'homevideo', 'coy', 'reeve', 'reference', 'expence', 'sarcastic', 'stilettos', 'paragraph', 'frankenstien', 'missile', 'gingerbread', 'cranial', 'cousin', 'orxc2x85xc2x85', 'brobdingnagian', 'xtianity', 'sarkar', 'worship', 'upshot', 'blump', 'interessant', 'flaky', 'drunk', 'nontraditional', 'unimposing', 'admittadly', 'arrow', 'aura', 'gothic', 'dodgson', 'frightening', '90s', 'musician', 'businessman', 'halfdan', 'lazenby', 'rats', 'emmy', 'garner', 'hessle', 'gash', 'flack', 'dah', 'aroma', 'carton', 'pentecostal', 'builder', 'niki', 'slinkys', 'depicttion', 'villain', 'begley', 'supposse', 'chitty', 'pod', 'criminal', 'traci', 'hah', 'intrude', 'see', 'statement', 'debt', 'ectoplasm', 'improvement', 'testament', 'wedding', 'flo', 'classist', 'pfennig', 'eunuch', 'ark', 'espercially', 'fritter', 'missed', 'anorexic', 'duff', 'gorno', 'daughter', 'sense', 'etc', 'filmdirector', 'chilenian', 'farcry', 'soapbox', 'evan', 'fixate', 'false', 'soloman', 'caramel', 'couple', 'f16', 'site', 'hotd', 'omit', 'led', 'uni', 'note', 'conventionally', 'armageddon', 'legacy', 'farting', 'rebane', 'underwhelmed', 'benefits', 'disturbing', 'exploitationer', 'alligator', 'separate', 'calculate', 'leaze', 'slang', 'task', 'swip', 'peurile', 'flailing', 'james', 'henchman', 'dreadfully', 'reinacte', 'cares', 'imitation', 'vault', 'oscarxc2xae', 'gunslinger', 'meaninglessly', 'vomit', 'mom', 'gravedancer', 'unjustifiable', 'his', 'dnd', 'basiaclly', 'stump', 'campbell', 'corny', 'psx', 'renny', 'scrabble', 'shrieking', 'subsidy', 'sunshine', 'rambos', 'squid', 'garp', 'luckless', 'suck', 'quirky', 'drool', 'thoughtfull', 'conventional', 'transmogrification', 'uncharming', 'duke', 'kiddifye', 'exorcist', 'servant', 'officially', 'relase', 'grant', 'harley', 'eraser', 'tedious', 'beeman', 'adulhood', 'sanz', 'spellbind', 'pollination', 'heatwave', 'bros', 'neophyte', 'abduction', 'incest', 'sleuth', 'smile', 'eppe', 'smash', 'esteban', 'clam', 'fanatasie', 'mastroianni', 'junction', 'revolutionary', 'dulany', 'unispired', 'nerd', 'mildred', 'screening', 'dissatisfied', 'stooooooopiddddd', 'basketball', 'dummheit', 'wether', 'depression', 'spoken', 'repressedwoman', 'font', 'fun', 'yawning', 'escapade', 'rattan', 'dialogue', 'die', 'azoid', 'corporation', 'fartsy', 'graff', 'kat', 'stagger', 'favourite', 'stracultr', 'scarcity', 'noise', 'outback', 'representation', 'eat', 'nth', 'shocking', 'blasphemous', 'beeeatch', 'worse', 'yeeeecchh', 'timetraveling', 'mouthpiece', 'l', 'predator', 'bla', 'theatrical', 'petere', 'kroc', 'oggi', 'laughton', 'descriptively', 'crack', 'shelley', 'numero', 'troglodyte', 'shudder', 'placard', 'penquin', 'blaine', 'snigger', 'amock', 'specious', 'urban', 'emasculated', 'templarios', 'tomatoes', 'comebacks', 'sphere', 'foulata', 'sealed', 'polemize', 'winer', 'attic', 'similar', 'reconception', 'porter', 'amnesiac', 'limousin', 'overcast', 'letch', 'interestig', 'jxc3xbcrgens', 'habit', 'lish', 'washed', 'bot', 'sabretoothe', 'pinkett', 'consenting', 'nutritional', 'bassinger', 'screw', 'mixup', 'election', 'xc2xa1can', 'shlocky', 'archchristian', 'chew', 'advice', 'bread', 'swith', 'probe', 'womens', 'etta', 'crossbow', 'trans', 'lordy', 'consecutively', 'sandwich', 'roddy', 'golan', 'dudette', 'exiting', 'wilderness', 'condom', 'rover', 'alphabetically', 'shake', 'lick', 'wink', 'insurgent', 'attorney', 'surreal', 'redeemable', 'effective', 'wrapping', 'tmp', 'tycoon', 'fine', 'opera', 'catchphrase', 'dunaway', 'gabel', '79', 'espically', 'ssy', 'fasbinder', 'bureaucrat', 'snowman', 'lan', 'mayerling', 'biggen', 'hunting', 'messing', 'scantily', 'various', 'crocky', 'blooper', 'deserter', 'visionary', 'oren', 'physicality', 'crossword', 'curiousness', 'tt0115940', 'dance', 'diversion', 'tiere', 'mcteer', 'donor', 'sansabelt', 'shockingly', 'trapp', 'donno', 'rabbi', 'hoodlums', 'experimental', 'sappily', 'vet', 'orgy', 'maze', 'locally', 'fluidity', 'cooperate', 'praise', 'disappear', 'realise', 'caine', 'dunderklumpen', 'banana', 'al', 'volcano', 'spock', 'diane', 'bigwig', 'medicinal', 'graphic', 'spiffy', 'immune', 'beleive', 'mazurski', 'humor', 'curvacious', 'onwards', 'lewd', 'soooooooo', 'odor', 'dictionary', 'goo', 'twenties', 'handicapped', 'throttle', 'underwater', 'monster', 'beyonce', 'guru', 'wrist', 'gurantee', 'metamorphize', 'accurate', 'shhot', 'sentimentally', 'moonstruck', 'cheque', 'dogfighting', 'mockingbird', 'boyer', 'fabric', 'witch', 'peaks', 'appearance', 'moonshiner', 'entry', 'autopilot', 'endulge', 'hiker', '8', 'follower', 'anurag', 'hysterically', 'refugee', 'behaviour', 'soulseek', 'erode', 'treatment', 'whodunit', 'loooonnnnng', 'corporate', 'vera', 'asylum', 'their', 'snackin', 'heels', 'dishwat', 'behind', 'farmer', 'lurking', 'gmail', 'zalman', 'revenation', 'smut', 'secondary', 'parent', 'henry', 'gucht', 'blander', 'rothrock', 'cattleman', 'renter', 'dop', 'equality', 'irwin', 'dollar', '10mil', 'appalled', 'siam', 'sickos', 'spoofs', 'beautifule', 'overcome', 'identify', 'hoyts', 'lafayette', 'z', 'prefab', 'within', 'musical', 'porno', 'bunch', 'raucous', 'armor', 'abortion', 'eight', 'painting', 'immersed', 'seventy', 'blackface', 'shorty', 'reason', 'hillybilly', 'cancer', 'cartoonishly', 'coffee', '70s', 'shakespere', 'sturges', 'symphony', 'comic', 'uday', 'essay', 'fic', 'bifurcated', 'lecturer', 'plummer', 'incense', 'goof', 'trudgery', 'waddle', '113', 'guard', 'mary', 'stylistically', 'canterville', 'woo', 'star', 'singing', 'indemnity', 'cinematographical', 'berserker', 'cable', 'marsh', 'swordsman', 'fanbase', 'beta', 'serisouly', 'obviously', 'plunk', 'selena', 'carto', 'spiral', 'lotion', 'kusturica', 'bacon', 'believer', 's2', 'outfield', 'bro', 'banishing', 'octo', 'central', 'early', 'unresolve', 'jolie', 'cahill', 'forgone', 'job', 'seagual', 'hunt', 'ticky', 'linc', 'limo', 'knave', 'winery', 'schultz', 'uniform', 'manna', 'scientific', 'destroying', 'wallpaper', 'appearantly', 'schlump', 'remedie', 'photographer', 'abit', 'shick', 'lad', 'crime', 'audrey', 'sister', 'medusa', 'nonexistent', 'nearly', 'ooookkkk', 'nickleback', 'secluded', 'granddaughter', 'philosopher', 'blaxpoitation', 'adventure', 'xxx', 'flemming', 'fully', 'eighty', 'obfuscation', 'thunderously', 'melee', 'birch', 'steretype', 'blaxploitation', 'unrated', 'deadened', 'track', 'transformation', 'hurrricane', 'sheets', 'childxc2xb4s', 'dwight', 'fluently', 'scientist', 'aldolescent', 'monologue', 'rapidfire', 'offeecious', 'dombasle', 'salsa', 'weep', 'humerous', 'tryin', 'underwood', 'mistrust', 'psychical', 'salient', 'girl', 'irreverent', 'faint', 'priyadarshan', 'dons', 'misrepresentation', 'snore', 'intersplice', 'storyline', 'nap', 'sugest', 'pulse', 'horrendou', 'ripley', 'flicks', 'travel', 'defitnly', 'coupon', 'elegaic', 'derisive', 'phantasm', 'plaguerism', 'gamut', 'woodstock', 'blockbust', 'choral', 'midsummers', 'backyard', 'loss', 'totty', 'iris', 'uninvested', 'sylvestra', 'betting', 'cape', 'hoosiers', 'sunlight', 'facility', 'commando', 'nanite', 'figuratively', 'satire', 'nill', 'emraan', 'miscast', 'silk', 'altitude', 'mmbm', 'schindler', 'noisily', 'carrott', 'atomic', 'driver', 'fi', 'interminable', 'tip', 'inconsistency', 'preacher', 'rap', 'telekinetic', 'helmut', 'creation', 'xc3xa9migrxc3xa9s', 'baron', 'cremator', 'long', 'admirer', 'qw', 'chevy', 'meth', 'expect', 'mindy', 'hutton', 'soup', 'leftist', 'blase', 'glue', 'aussies', 'environmentalist', 'unintetionally', 'laziness', 'woodchuck', 'dickerson', 'comment', 'comedic', 'rationalization', 'caste', 'we', 'slur', 'restaraunt', 'voamitus', 'crain', 'crossroads', 'yoghurt', 'didnxc2xb4', 'progression', 'watch', 'decision', 'shall', 'toupee', 'dig', 'amateur', 'sidewalk', 'madre', 'spending', 'puppet', 'excitable', 'ally', 'fingernail', 'freaky', 'oog', 'stableboy', 'slapstick', 'bowl', 'plonky', 'transition', 'looking', 'sandler', 'indescribably', 'priety', 'walks', 'latex', 'costs', 'rehab', 'homewrecke', 'predictability', 'nighter', 'monolith', 'hardly', 'excoriate', 'battalion', 'prizzi', 'submission', 'chloe', 'troma', 'immediately', 'undergarment', 'unidimensional', 'disagreement', 'iritf', 'stammer', 'service', 'sleepie', 'coen', 'cowgirl', 'clarification', 'play', 'morose', 'tarantinos', 'juttere', 'evolution', 'actually', 'existant', 'rubber', 'ballad', 'dragon', 'dedicative', 'unsettling', 'erotic', 'engross', '51', 'educational', 'chimp', 'mst3000', 'hinder', 'unintentional', 'sulieman', 'honeycombs', 'scarecrow', 'munster', 'chaos', 'verson', 'harrison', 'moonlighting', 'yeah', 'weirdo', 'talking', 'extremism', 'possess', 'neighbor', 'rerun', '588', 'plenty', 'dtv', 'shot', 'error', 'unedite', 'matlin', 'samba', 'titillation', 'gobbleygook', 'office', 'solarizing', 'finale', 'glickenhaus', 'bullets', 'awil', 'kiddy', 'forced', 'mockable', 'bog', 'unsympathetic', 'thrift', 'backwood', 'origonal', 'hee', 'udo', 'gandolfini', 'handedly', 'choppper', 'zone', 'comedian', 'sayle', 'sully', 'patriotic', 'ehn', 'sloppish', 'defray', 'grandstand', 'attract', 'mastermind', 'enlighten', 'closer', 'mirren', 'brocxc3xa9liande', 'favoritism', 'indiana', 'bean', 'commentator', 'perfunctorily', 'tornado', 'inhale', 'thinner', 'hand', 'shadowcaster', 'polish', 'memorable', 'unparticular', 'program', 'cassanova', 'scooter', 'shameless', '1and', 'snooty', 'besties4lyf', 'bloodline', 'download', 'grocery', 'rift', 'wave', 'require', 'screamer', 'boxer', 'unite', 'anything', 'dechifere', 'sinking', 'reporter', 'funding', 'tune', 'kitsch', 'oddly', 'quandary', 'iedereen', 'audition', 'soppy', 'sincronicity', 'shlock', 'additionally', 'apprarently', 'plot', 'opposite', 'scavange', 'rank', 'boomer', 'dice', 'fashionable', 'thhe2', 'voodoo', 'splatte', 'hammock', 'bening', 'tagore', 'illness', 'routine', 'clue', 'flemish', 'expection', 'amimae', 'painlessly', 'speck', 'casting', 'storyplot', 'glitze', 'sean', 'explanation', 'wisecracker', 'devalue', 'racing', 'knicker', 'meaningful', 'unenigmatic', 'team', 'resound', 'sethi', 'aggravation', 'six', 'editor', 'mystify', 'griswold', 'maggot', 'piney', 'allred', 'over', 'expenditure', 'delivering', 'starlight', 'funny', 'fed', 'pehenti', 'relationship', 'wolf', 'biotoxic', 'sacha', 'specialised', 'exibition', 'wag', 'bearable', 'irresponsible', 'ruins', 'manga', 'teetotal', 'semana', 'bae', 'playbook', 'superintendent', 'unclear', 'shut', 'pounds', 'bet', 'vaccares', 'mein', 'dipsh', 'musta', 'rewrite', 'cutie', 'answer', '000', 'narcissism', 'unspenseful', 'princess', 'snarky', 'quart', 'each', 'civilisation', 'limp', 'identity', 'fuzzy', 'prick', 'bwitch', 'ixc2xb4', 'unreal', 'bummer', 'taime', 'letter', 'gathering', 'teevee', 'burbank', 'unappeale', 'bordellos', 'genevieve', 'awake', 'megazone', 'perverted', 'communist', 'parvenu', '1931', 'macromeglia', 'quit', 'planting', 'field', 'harshness', 'parallel', 'client', 'tarzan', 'unfortunatley', 'cheerleading', 'townsend', 'professionell', 'stinkeroo', 'woundere', 'lighting', 'brasilian', 'arghhh', 'company', 'corridors', 'strong', 'marginally', 'flame', 'shambling', 'ancien', 'londonesque', 'persnickety', 'material', 'sexploitation', 'midget', 'hindsight', 'frog', 'dutiful', 'crude', 'highwayman', 'cardboard', 'echance', 'cold', 'entwisle', 'process', 'be', 'spite', 'campness', 'mockumentary', 'above', 'resident', 'desire', 'caron', 'disapointment', 'unconsciously', 'disfunction', 'tumbleweed', 'someway', 'fourteen', 'ununderstandable', 'syrup', 'whack', 'diploma', 'mountie', 'orca', 'collector', 'premium', 'jrd', 'nymph', 'ration', 'daisy', 'ounce', 'onstage', 'sophisticated', 'clise', 'community', 'westie', 'cryin', 'cruelty', 'humiliating', 'michalka', 'boggy', 'beast', 'cheater', 'manji', 'dissipated', 'civilian', 'horses', 'superman', 'repulsive', 'clumsy', 'incorporeal', 'dedicate', 'lampooning', 'malay', 'gurn', 'superb', 'mig', 'neurosis', 'lie', 'diabolical', 'elsehere', 'threesome', 'purvi', 'executor', 'drape', 'goodnight', 'screenplay', 'row', 'ensnare', 'hetfield', 'offcource', 'regretable', 'increduously', 'blockbusters', 'twin', 'canvas', 'jancie', 'videoville', 'arrest', 'mumble', 'climatical', 'greed', 'matinxc3xa9e', 'nique', 'vanity', 'rabbit', 'anywhere', 'suitor', 'ayer', 'daddy', 'mafioso', 'storied', 'cosmos', 'cheesiness', 'loosly', 'digital', 'gullable', 'nurse', 'repeat', 'staging', 'terrorist', 'lance', 'weist', 'roommate', 'despot', 'difficulty', 'finnish', 'cyf', 'ummmm', 'muller', 'rejection', 'kinetic', 'soufflxc3xa9', 'peruvian', 'hmv', 'herpes', 'eschatologically', 'universal', 'robocop', 'dimensional', 'monk', 'lousitude', 'psychology', 'lude', 'wallmart', 'toystory', 'stretchy', 'glumly', 'topless', 'blink', 'organisation', 'psychotherapist', 'devout', 'visualise', 'monika', 'minimalistically', 'pu', 'molasse', 'kazan', 'sensless', 'arminian', 'obsession', 'nutty', 'women', 'moan', 'bluescreen', 'miserably', 'plain', 'skeptic', 'trap', 'gym', 'filmsthat', 'rosemary', 'should', 'kwouk', 'limey', 'disinherit', 'problem', 'stony', 'saimin', 'widow', 'delinquents', 'ivanna', 'tale', 'chassidic', 'demonicus', 'rance', 'autobiographical', 'next', 'beautiful', 'twist', 'daan', 'orchid', 'gate', 'war', 'diablo', 'tepid', 'p', 'nevertheless', 'wist', 'asian', 'correctly', 'exotic', 'theacting', 'spongeworthy', 'emasculate', 'comxc3xa9die', 'si', 'yea', 'slash', 'kirkland', 'transitioning', 'pimpernel', 'sickboy', 'eloi', 'hugely', 'horse', 'chimbotsu', 'undramatic', 'darkplace', 'i', 'hurl', 'height', 'remar', 'beer', 'borre', 'palestinian', 'malkovichian', 'puckoon', 'incompetent', 'hitcher', 'wlaschiha', 'sickingly', 'leconte', 'babysitter', 'political', 'blowingly', 'whiskey', 'jet', 'mensonge', 'loch', 'wildlife', 'plauge', 'grave', 'issue', 'load', 'bonham', 'injure', 'jigokuhen', 'carols', 'genie', 'imprision', 'ma2412', 'no', 'witching', 'fund', 'friels', 'pg', 'moribund', 'inconsistie', 'mumbo', 'dehumanized', 'paper', 'scrambled', 'perfetic', 'bungler', 'definable', 'empress', 'ecstatic', 'virgina', 'lalo', 'hanger', 'discretionary', 'audio', 'savitch', 'craze', 'socially', 'dalai', 'dipping', 'lepo', 'robo', 'symptomatic', 'outsing', 'w', 'yep', 'harassment', 'annabel', 'hunter', 'kite', 'indisputably', 'millinium', 'calamity', 'idiotically', 'euro', 'highlight', 'spirituality', 'rape', 'fans', 'wiedzmin', 'tuna', 'particular', 'polishing', 'burlap', 'demonous', 'pinkie', 'timeliness', 'hackman', 'definitly', 'charles', 'yap', 'pearl', 'indefinably', 'develop', 'autobiography', 'cid', 'nimoy', '22h45', 'fox', 'industry', 'capsize', 'leather', 'conclusively', 'sinisterness', 'cr4p', 'destiny', 'weapon', 'fulci', 'small', 'elixir', 'counter', 'bile', 'stricken', 'whizz', 'leprosy', 'q', 'motorial', 'bgrade', 'snake', 'damnd', 'brothers', 'leonard', 'xc2xa33', 'lobotomy', 'pls', 'favorites', 'metasonix', 'misogynist', 'grader', 'synthesizer', 'rigamortis', 'ninja', 'fragmentaric', 'contented', 'stoop', 'slaughter', 'toon', 'norm', 'hibernian', 'glossy', 'zombielike', 'embarrasment', 'allthewhile', 'sob', 'absurd', 'schlop', 'dimwit', 'nonfictional', 'manzanos', 'mollusk', 'swiftian', 'profoundly', 'access', 'bodies', 'dribble', 'classiness', 'statuette', 'smk', 'bother', 'dial', 'embryo', 'sloppily', 'scream', 'rent', 'splicing', 'easterner', 'screenwriter', 'ya', 'global', 'second', 'black', '3k', 'sored', 'nemesisxc2x85', 'tibb', 'military', 'oh', 'extremity', 'abrasive', 'peppermint', 'mace', 'ridicoulus', 'jar', 'treck', 'disney', 'biography', 'top', 'kinky', 'godfather', 'unoriginal', 'tm', 'illiterate', 'regional', 'fig', 'climbing', 'overspeedy', 'king', 'emmontional', 'flatulence', 'casino', 'point', 'bemused', 'anus', 'clone', 'carpenter', 'walker', 'weepy', 'sect', 'drug', 'conceit', 'nutzoid', 'resovoir', 'floorboard', 'brinkmanship', 'pick', 'tinfoil', 'famous', 'writen', 'categorically', 'fairly', 'hypnotism', 'mediaeval', 'boom', 'shortchanged', 'kiss', 'possibly', 'unwillingly', 'ashame', 'carjacking', 'broadminde', 'jabbering', 'cockpuncher', 'timed', 'exaggeration', 'inca', 'gday', 'bhai', 'sloooow', 'cub', 'programmer', 'miscarrage', 'schooby', 'klutzy', 'pyare', 'disapprove', 'verb', 'weak', 'tittle', 'dwyer', 'pleasent', 'morlochs', 'creative', 'lineup', 'crockett', 'sometimes', 'perform', 'peach', 'substandard', 'amc', 'mini', 'courage', '113minutes', 'exit', 'syphili', 'snoop', 'puddle', 'glamorise', 'principle', 'spank', 'solimeno', 'quality', 'celtic', 'amiss', 'plastic', 'fassbinder', 'wow', 'propably', 'precious', 'soccer', 'renee', 'breckinridge', 'introspection', 'embarassing', 'undertow', 'heating', 'turkish', 'surviver', '1971', 'cinemagic', 'spoiler', 'adapting', 'intramural', 'eden', 'miracles', 'cheerios', 'assassin', 'farpoint', 'programming', 'suitably', 'wicked', 'class', 'strangle', 'wouldn', 'tootsie', 'police', 'kombat', 'contests', 'innovator', 'stray', 'mutilation', 'unbelievable', 'hairless', 'osama', 'scorsese', 'tortuous', 'video', 'tazer', 'match', 'walsh', 'categorical', 'heist', 'reginald', 'hollowness', 'suzi', 'masochistically', 'pollan', 'unhelpe', 'capraesque', 'claus', 'poison', 'choir', 'titlesxc2x97you', 'enchance', 'polloi', 'overdependence', 'thrash', 'prayer', 'disrupt', 'demolish', 'nyugen', 'motion', 'operating', 'urinate', 'amazons', 'purporting', 'hapless', 'fluff', 'glock', 'untold', 'wonka', 'butter', 'plantation', 'stay', 'postmortem', 'umbrella', 'japenese', 'fan', 'uuuuuuh', 'cobble', 'crawling', 'lion', 'friends', 'spiritedness', 'dialougue', 'contrive', 'mabel', 'ungar', 'nut', 'cough', '9', 'frollo', 'accurse', 'hungarian', 'bettor', 'eraserhead', 'filmcritic', 'lasar', 'shoreditch', 'percent', 'ready', 'brain', 'adivl', 'fufil', 'pim', 'riotously', 'intellect', 'bite', 'training', 'kaitan', 'liveliness', 'appallingness', 'steeve', 'videoclip', 'ee', 'jew', 'abyssmal', 'aversion', 'botch', 'attacker', 'sunsetxc2x85with', 'grubbing', '2am', 'commandment', 'seldom', 'persion', 'scrubber', 'kangaroo', 'upstairs', 'stair', 'sucker', 'stewardess', 'uranus', 'suuuuuuuuuuuuck', 'investor', 'continually', 'drum', 'soultaker', 'gal', 'amongst', 'portrait', 'stars', 'defilers', 'tarnish', 'sasquatch', 'film', 'oxc3x95toolexc3x95s', 'printer', 'lake', 'cleo', 'ajay', 'teenager', 'stab', '1964', 'biblical', 'contestant', 'brochure', 'hotd2', 'intensive', 'cumbersome', 'chef', 'ba', 'silent', 'disparage', 'entrapment', 'whistler', 'collision', 'religious', 'afv', 'line', 'irrelevent', 'bandwith', 'clunk', 'treks', 'sirtis', 'snipe', 'contaminate', 'ingenue', 'painfull', 'healy', '911', 'future', 'fat', 'fleshed', 'yew', 'rudder', 'dissapointment', 'courtesy', 'respectable', 'raoul', 'isolative', 'professor', 'singles', 'paint', 'disabled', 'ewoks', 'giant', 'doped', 'unforgiven', '17', 'filmic', 'exposing', 'smirk', 'attitude', 'lunatic', 'ahahahahahhahahahahahahahahahhahahahahahahah', 'dorothy', 'dopey', 'saleem', 'decorative', 'sapna', 'patrol', 'revolt', 'hypnotize', 'activity', 'fatwa', 'unpaved', 'crab', 'turtle', 'overconstructed', 'pish', 'ranch', 'ruin', 'players', 'constabulary', 'buster', 'celebrity', 'rotterdam', 'alchoholic', 'frech', 'airlift', 'whispering', 'ferox', 'goodfella', 'duchaussoy', 'deflating', 'trucker', 'stoner', 'parenty', 'pr', 'television', 'unexplained', 'anslinger', 'sexuality', 'blackstar', 'festival', 'okey', 'composer', 'tamara', 'bullfighter', 'meringue', 'tracey', 'tamarind', 'disability', 'recognize', 'mashall', 'talented', 'movieclip', 'fencer', 'dame', 'negligence', 'dabneys', 'tae', 'wrongdoer', 'undeserving', 'italian', 'colossus', 'shaven', 'head', 'rajni', 'shirt', '100times', 'sow', 'polito', 'unclaimed', 'unlikable', 'flat', 'stretcher', 'trilogy', 'highlander', 'revive', 'life', 'fusion', 'halestorm', 'junkie', 'boards', 'frozen', 'photo', 'lovecraft', 'beyond', 'woodenly', 'dramatized', 'commonplace', 'royally', 'pittxc2xb4s', 'dawdling', '2008', 'regretful', 'hag', 'ballyhoo', 'griswolds', 'message', 'homeopathic', 'trails', 'compare', 'farmland', 'dot', 'pathmark', 'kissless', 'academic', 'milligan', 'lightpost', 'despatch', 'outcropping', 'private', 'witherspoonxc2x96she', 'overbearingly', 'being', 'aspirin', 'schooler', 'regurgitated', 'unsubstantial', 'angry', 'wicker', 'interconnect', 'bis', 'plateau', 'jacques', 'gimmick', 'zero', 'absorb', 'nerds', 'haze', 'outlandishness', 'dangereuse', 'fastfowarde', 'mansonites', 'wayan', 'milbank', 'padre', 'puertorican', 'multiple', 'contemperaneous', 'crecendo', 'jouissance', 'equally', 'sell', 'tramp', 'gymnastic', 'imo', 'beaker', 'inspiring', 'booby', 'employ', 'vader', 'irreal', 'malaise', 'malplace', 'unspecific', 'psychological', 'belive', 'snowboard', 'stich', 'spaceship', 'boogeyman', 'xiao', 'hearby', 'betacam', 'screener', 'bling', 'exterminator', 'loc', 'damp', 'shootemup', 'broken', 'senseless', 'sedative', 'observation', 'fakey', 'abhorrent', 'hydrosphere', 'swit', 'counterpart', 'vol', 'o', 'anorexia', 'diner', 'regime', 'yuks', 'embittered', 'description', 'allo', 'chatting', 'biggg', 'resold', 'warden', 'gunfighter', 'staccato', 'dreg', 'hostage', 'asse', 'peacefully', 'supernatural', 'minuites', 'masochism', 'sistah', 'renart', 'headace', 'tent', 'drown', 'kid', 'suprise', 'plague', 'dweeby', '40mins', 'xc2x96', 'sanity', 'moynahan', 'gymkata', 'commenter', 'blackwater', 'pickax', 'choose', 'dominion', 'schnass', 'perch', 'cinemax', 'phisique', 'wincingly', 'towelhead', 'laird', 'series', 'dumpy', 'translated', 'tch', 'saratoga', 'episode', 'code', 'former', 'scipt', 'ghengis', 'kxc3xb4hxc3xae', 'inu', 'wendsday', 'nitch', 'divorcee', 'slater', 'darkhunter', 'appreciate', 'unsophisticated', 'motocrossed', 'west', 'soo', 'sodden', 'interviewer', 'puppy', 'middling', 'perky', 'django', 'rollins', 'pumpkinhead', 'precinct', 'bloddy', 'regard', 'rochon', 'sans', 'putt', 'superbug', 'snowballs', 'grin', 'bbc3', 'therapist', 'nemesis', 'storytelle', 'documentry', 'indistinguishable', 'wack', 'boy', 'inafame', 'perversity', 'coppy', 'eject', 'squalor', 'superbly', 'superstud', 'pits', 'mexican', 'usually', 'sleptwalke', 'imagination', 'boob', 'wisecrack', 'tjough', 'lifetime', 'carry', 'mario', '14', 'beard', 'windows', 'mclaglen', 'prank', 'minium', 'amulet', 'necromancy', 'scull', '900', 'drive', 'choo', 'wiplash', 'drained', 'victor', 'cart', 'rural', 'potted', 'misdirect', 'watermelon', 'lynda', 'temptress', 'disappearance', 'escape', 'slug', 'mythology', 'youngster', 'orcas', 'hercules', 'lanes', 'psychoanalytical', 'anguishing', 'befit', 'beanstalk', 'shanty', 'proscribed', 'beal', 'ax', 'kansas', 'tsotg', 'deterrance', 'cannibalism', 'fargo', 'hagen', 'shawshank', 'vile', 'vendetta', 'righteous', 'franco', 'topflight', 'chinese', 'bucketfull', 'unexplainedly', 'buisnesswoman', 'lotta', 'refocusing', 'libelous', 'reeeeeeallyyyy', 'lowlight', 'replica', 'cupid', 'sms', 'getup', 'lemon', 'swindle', 'harmony', 'meter', 'map', 'nominate', 'haired', 'tomb', 'breneman', 'jack', 'printing', 'sneeze', 'riff', 'reversal', 'caveman', 'mojo', 'unstylish', 'killle', 'competent', 'closeup', 'broom', 'undermines', 'hurt', 'malpractice', 'thunderdome', 'nightkill', 'metal', 'subclass', 'seppaku', 'lillie', 'chihuahua', 'barkin', 'cargo', 'steed', 'pollack', 'roofie', 'indecipherable', 'epos', 'shepard', 'bologna', 'athleticisme', 'hustler', 'nearer', 'plane', 'does', 'munition', 'chimpanzee', 'mouthed', 'chiche', 'porcelain', 'terribilism', 'tribute', 'fightfest', 'mock', 'wasteful', 'ulster', 'reptile', 'rage', 'winter', 'shootfighter', '4th', 'bureau', 'arcati', 'quaids', 'jokingly', 'ashes', 'ff2', 'broadside', 'cruel', 'tangential', 'elephant', 'baise', 'fahcking', 'release', 'villainizing', 'monsterism', 'kojak', 'tales', 'superbad', 'hangover', 'woebegone', 'listen', 'dose', 'mailman', 'narcotics', 'virtual', 'landscape', 'stunk', 'babesxc2x85', 'mucous', 'clear', 'duran', 'poo', 'chamberlain', 'biohazard', 'mirrors', 'plowman', 'writeup', 'vito', 'prochnow', 'vette', 'gallop', 'crap', 'unacknowledged', 'raider', 'xc2x84big', 'mulberry', 'amadeus', 'massochist', 'zellweger', 'buy', 'producer', 'phantom', 'airspeed', 'weed', 'preschool', '305', 'luminous', 'sequels', 'checkbook', 'videodrome', 'proyect', 'blight', 'rain', 'effort', 'fruitcake', 'glare', 'dhoop', 'plasticky', 'wobblyhand', 'hanks', 'appears', 'ufo', 'camaraderie', 'lifestyle', 'bodyguard', 'unmotivated', 'servicable', 'senses', 'profanity', 'bodrov', 'crater', 'hysterectomy', 'diappointment', 'excruciatingly', 'skilled', 'lactate', 'tagliner', 'loooooooooooong', 'unendurable', 'mother', 'dilouge', 'pis', 'cd', 'striaght', 'gurly', 'platypus', 'passionately', 'impartiality', 'carnosaurs', 'scholl', 'inquisitive', 'rumble', 'ego', 'contestent', 'napkin', 'agren', 'wage', 'bertrand', 'fare', 'gettinf', 'watcha', 'practice', 'consultant', 'pola', 'powerful', 'hardwork', 'abo', 'hygenic', 'hunky', 'outrageous', 'market', 'setup', 'assess', 'lesson', 'compliant', 'eggs', 'packaging', 'ripper', 'humorous', 'u', 'gavras', 'jumpkick', 'cheapjack', 'tetzlaff', 'hijacker', 'cuban', 'dialoge', 'transportation', 'bowtie', 'denise', 'osa', 'ala', 'tyre', 'realistic', 'gangsta', 'crappy', 'boll', 'oevre', 'pensively', 'mismatched', 'print', 'gish', 'sentiment', 'sybil', 'endurance', 'outdo', 'hampstead', 'driveway', 'competition', 'buff', 'palm', 'humorlessness', 'bellyaching', 'flytrap', 'challenge', 'mutant', '88', 'hugh', 'actresses', 'status', 'scratch', 'dorkier', 'pat', 'marathoner', 'solider', 'killing', 'rachel', 'inconsolable', 'gearhead', 'cruisers', 'vagueness', 'unfailingly', 'coherence', 'wail', 'oooh', 'philbin', 'ordinary', 'reviewer', 'marni', 'gabby', 'propaganda', 'everyone', 'hire', 'pedophile', 'punkette', 'dsm', 'pathos', 'ingenious', 'dialog', 'wrongfully', 'worker', 'toothache', 'hologram', 'love', 'golddigger', 'overview', 'precariously', 'inbreed', 'disconcertingly', 'realate', 'insubstantial', 'ciarxc3xa1n', 'it', 'rxc3xb6se', 'chair', 'spelunk', 'kicking', 'electricity', 'deadpool', 'convincingly', 'where', 'parson', 'sideswipe', 'say', 'scorecard', 'harrass', 'orbs', 'philisophic', 'galactic', 'holiday', 'rxc3xa5zone', 'annoying', 'sub', 'stephen', 'j', 'detectives', 'recklessness', 'motorcycle', 'beam', 'hijack', 'tv', 'attenborough', 'austen', 'orphanage', 'infomertial', 'manica', 'pantheism', 'interstate', 'angular', 'curtain', 'f', 'tone', 'area', 'marines', 'dancing', 'sellers', 'bola', 'culture', 'fly', 'lulling', 'imax', 'unanswered', 'produce', 'stinkf', 'dragula', 'tobe', 'behold', 'adaptation', 'rewatchability', 'crapstory', 'connection', 'blade', 'captain', 'speleologist', 'filmroll', 'bor', 'hamster', 'evelyn', 'governor', 'apallingly', 'tomboyish', 'marshal', 'armament', 'egyptian', 'hairline', 'pumpkin', 'historical', 'gymnast', 'executive', 'cornfield', 'rewinding', 'emperor', 'operandi', 'recommendation', 'forgery', 'lavoisier', 'fire', 'africans', 'salvage', 'state', 'unquestionably', 'motels', 'winkle', 'yech', 'dillute', 'omega', 'overstylized', 'regulator', 'rhyme', 'solarbabie', 'hazily', 'surgically', 'marionette', 'calculator', 'allotment', 'goody', 'xc2xbfspecial', 'inebriation', 'mans', 'verisimilitude', 'warp', 'pitiful', 'indicative', 'endless', 'medical', 'chucabra', 'kidnap', 'gumbe', 'pig', 'balky', 'scarily', 'rutger', 'unfocussed', 'bottoms', 'free', 'cluck', 'excrucriatingly', 'musicologist', 'album', 'stagecoach', 'hulkster', 'hyphenate', 'spend', 'matching', 'sighs', 'dates', 'videotape', 'uninstructive', 'loki', 'falangist', 'surveyor', 'outside', 'suprtb', 'boyfriend', 'wacthing', 'torque', 'shamballa', 'sloppy', 'unrecommended', 'blabbering', 'laser', 'cravat', 'eighter', 'barnil', 'spore', 'schaffer', 'husband', 'mouthwash', 'superhero', 'subploy', 'gourmet', 'sanely', 'zoom', 'crazy', 'illogicalness', 'wonderous', 'unconventional', 'islamic', 'llyods', 'investigation', 'outcast', 'homage', 'hiv', 'strangler', 'tururro', 'tombstone', 'happen', 'slight', 'cowrote', 'bridget', 'fl', 'awoid', 'silverado', 'ditsy', 'stinking', 'haunting', 'vacationland', 'tabu', 'everytime', 'dislocate', 'retool', 'ocassionally', 'columbo', 'winslet', 'segment', 'tyranasaurus', 'feminst', 'latin', 'owl', 'droll', 'haggish', 'dereks', 'behave', 'reading', 'selection', 'defamation', 'unexploited', 'wargaming', 'hills', 'rope', 'smoochy', 'canxc2xb4', 'blockbutser', 'assassination', 'mutton', 'strictly', 'sagging', 'pro', 'clichxc3xa8s', 'man', 'mr', 'richthofen', 'xc2xbd', 'pie', 'equipment', 'gyrate', 'seduction', 'backflashe', 'griffith', 'redemption', 'random', 'excited', 'xx', 'screaming', 'turnoff', 'skanky', 'sober', 'colossal', 'microscope', 'zealotry', 'rosalind', 'crucifi', 'dental', 'asanine', 'ulli', 'punishment', 'noose', 'cringeable', 'tutu', 'lumpen', 'beatiful', 'liver', 'bad', 'hitchhiker', 'umentary', 'insofar', 'schwartz', 'cheoreography', '1950xc2xb4', 'writer', 'lb', 'komodo', 'effects', 'blethyn', 'submerse', 'sam', 'mcentire', 'reproduction', 'spook', 'choreography', 'spinelessness', 'honour', 'directv', 'seem', 'longoria', 'apple', 'poetical', 'swedish', 'hmm', 'pheonix', 'maaaannnn', 'reeal', 'read', 'beneath', 'thatxc2xb4ll', 'miscasting', 'shote', 'capitalist', 'wiseacre', 'perxc3xba', 'austin', 'stumblebum', 'ending', 'impenetrable', 'daniels', 'pyramid', 'teaching', 'mp3', 'doll', 'swazy', 'schedual', 'wah', 'pronounce', 'dull', 'bodysuckers', 'lundgren', 'breeding', 'ajooba', 'take', 'presto', 'th', 'peon', 'torture', 'riot', 'yike', 'death', 'doink', 'disillusion', 'annivesery', 'sleeze', 'anaconda', 'poetic', 'trower', 'farce', 'overacted', 'timeless', 'nanosecond', 'tropical', 'mommy', 'noodling', 'terribly', 'ant', 'housewife', 'deathstalker', 'accursed', 'airport', 'filmproduct', 'chaney', 'amenabar', 'scroll', 'burly', 'provocation', 'noiresque', 'martain', 'erection', 've', 'swimmer', 'warrant', 'connectivity', 'polynesian', 'ferdy', 'danning', 'hustle', 'standby', 'parkish', 'interest', 'tanyusha', 'anonymous', 'insulted', 'pestilential', 'hervxc3xa9', 'junk', 'effie', 'bloodsuckers', 'entire', 'beforehand', 'comanche', 'repackage', 'clause', 'steampile', 'pretty', 'unfocused', 'great', 'reich', 'coppola', 'outlines', 'sheepishness', 'past', 'alert', 'person', 'lerner', 'squall', 'detention', 'tt0077247', 'catastrophically', 'degenerateness', 'quest', 'emancipation', 'bitterness', 'conversation', 'research', 'recordist', 'interrelationship', 'miglior', 'disc', 'exam', 'like', 'marginal', 'earth', 'race', 'jeopardized', 'alphabet', 'mortenson', 'swedenxc2xb4s', 'schedule', 'stevens', 'autobiographic', 'ralphie', 'sofcore', 'cates', 'turbocharger', 'greystoke', 'magnification', 'unsteadiness', 'cyborg', 'bottomless', 't', 'heretic', 'sniper', 'imposter', 'factual', 'balantree', 'lofl', 'eliminate', 'bordello', 'tree', 'uwe', 'story', 'dosen', 'tvm', 'diolouge', 'tlj', 'flipper', 'pelvi', 'pathetic', 'skate', 'wargame', 'whinge', 'redford', 'linguistic', 'xc2x91b', 'kirstie', 'telegraph', 'captivate', '188', 'happyend', 'wasp', 'inconsistent', 'delicacy', 'xander', 'caleigh', 'naseeruddin', 'starlift', 'amazement', 'shrubbery', 'general', 'christina', 'mummy', 'ladkee', 'racial', 'consxc3xa9quence', 'dutch', 'physcological', 'yuppie', 'reshoot', 'meg', 'womano', 'britton', 'holdover', 'awash', 'misfortune', 'supertrooper', 'endorsement', 'finishs', 'laughometer', 'loooooong', 'wazoo', 'instead', 'intellectuality', 'language', 'gila', 'pinocchio', 'baaaad', 'ormsby', 'ddlj', 'uhhh', 'potentially', 'price', 'marv', 'unloveable', 'ward', 'guilty', 'othello', 'wot', 'gung', 'sociology', 'funerial', 'apocalyptic', 'beaudray', 'notch', 'comedyxc2x85', 'extreme', 'pare', 'driller', 'virtually', 'outs', 'durango', 'creativeness', 'some', 'happily', 'speaker', 'feat', 'joeseph', 'magic', 'defense', 'rees', 'eggbeater', 'youxc2xb4ve', 'wired', 'doubt', 'fiste', 'miscarriage', 'ubiquitously', 'palace', '37', 'thewlis', 'committed', 'farnham', 'human', 'overdo', 'comedys', 'incorporated', 'hemmingway', 'moe', 'tivo', 'watsoever', 'hokum', 'moi', 'costarican', 'shrunken', 'hispanic', 'nasty', 'raven', 'undersiege', 'scroller', 'griswald', 'gymakta', 'kids', 'assassins', 'excuse', 'diversity', 'beauty', 'nixflix', 'estate', 'satellite', 'snowball', '2dimensional', 'machination', 'compositely', 'vial', 'offensive', 'sayonara', 'rollerskate', 'believability', 'channeler', 'tiresome', 'absolute', 'hve', 'convict', 'cochlear', 'low', 'beattie', 'appriciate', 'fast', 'sweaty', 'drugs', 'aiello', 'production', 'movie', 'emilio', 'gwangi', 'considerable', 'independent', 'vicious', 'comparably', 'host', 'skateboarder', 'spawning', 'falsifier', 'goebbel', 'housesitter', 'grunge', 'rip', 'vampyre', 'specially', 'marc', 'nastassja', 'timberlake', 'agenda', 'brechtian', 'ferociousness', 'dolemite', 'first', 'mama', 'maupassant', 'may', 'geniousness', 'sleep', 'skyscraper', 'brunt', 'dusty', 'side', 'akimbo', 'bull', 'appreciates', 'offended', 'gruner', 'kidnapper', 'roughie', 'actual', 'crackhead', 's1m0ne', 'gutless', 'ahet', 'stodgy', 'problemsxc2x97and', 'padding', 'scott', 'successful', 'worm', 'hoop', 'bride', 'lambasting', 'unintelligible', 'pos', 'chechen', 'soad', 'way', 'unpredictable', 'cliff', 'mist', 'zelweger', 'inaccurate', 'slumber', 'goat', 'claim', 'oriental', 'wiest', 'colorlessly', 'vs', 'positive', 'lowest', 'cattle', 'flop', 'cavalry', 'rising', 'unnatural', 'predictable', 'republic', 'wonder', 'goldsmith', 'mstk3', 'prowar', 'announce', 'helms', 'aya', 'poem', 'iq', 'normal', 'threat', 'popcorn', 'scallop', 'hocus', 'massacre', '623', 'clambering', 'prospective', 'buggy', 'convolute', 'partition', 'drifter', 'anthology', 'bit', 'method', 'manon', 'riddle', 'becuase', 'tilman', 'enraged', 'xc2xb4till', 'w7evbears', 'thanking', 'evil', 'whoever', 'janis', 'skier', 'sitter', 'unchallenged', 'trepidation', 'stinko', 'laughed', 'garble', 'beals', 'alternate', 'afterward', 'gamera', 'muppet', 'caa', 'pad', 'tatami', 'blonde', 'sheffer', 'float', 'wynona', 'mst', 'condensed', 'completist', 'bernhard', 'island', 'payment', 'infect', 'undone', 'photograph', 'creek', 'correction', 'keeyes', 'grunting', 'nuclear', 'manhunt', 'rumbling', 'mask', 'flying', '78', 'abuse', 'hongkong', 'humanity', 'bille', 'obliterated', 'renewal', 'unromantic', 'gi', 'tuscan', 'retrospect', 'redbox', 'fume', 'loca', 'tori', 'sunglass', 'bond', 'robotboy', 'completetly', 'pudde', 'aventura', 'kammerud', 'romantic', 'nominally', 'performance', 'folktale', 'raj', 'dismal', 'ravine', 'wocka', 'congruent', 'uncanny', 'marry', 'thomersonxc2xb4s', 'blah', 'luna', 'astrxc3xa9e', 'gasing', 'winds', 'tremblay', 'catcher', 'tsukamoto', 'medioacre', 'mishap', 'milk', 'autopsy', 'woodsman', 'moscow', 'idiotic', 'ossuary', 'samurai', 'sweethearts', 'cliche', 'cannibale', 'softcore', 'tart', 'greenlit', 'endpiece', 'amerindian', 'avenet', 'drab', 'stepin', 'fot', 'kathryn', 'fabian', 'treasure', 'combat', 'agency', 'robot', 'degrading', 'matriarch', 'soulessly', 'bites', 'runway', 'toff', 'author', 'overly', 'list', 'allthogh', 'imperioli', 'spencer', 'pontificator', 'cowpie', 'colleague', 'open', 'eastender', 'strongman', 'soil', 'resources', 'comeback', 'spray', 'muddle', 'bejeeber', 'liberating', 'concept', 'inspector', 'headsman', 'spacy', 'gay', 'below', 'sxc3xbcnden', 'alas', 'sentimental', '1', 'hurlyburly', 'potency', 'narrator', 'midsummer', 'dumbassed', 'redeeming', 'deputy', 'piano', 'cruise', 'pornstar', 'pretention', 'eniemy', 'sounds', 'semester', 'retrace', 'linney', 'ozark', 'capitol', 'prowler', 'reworking', 'gumpf', 'tempe', 'klein', 'flipping', 'sock', 'aggrivating', 'provoker', 'unrepeatable', 'killer', 'noble', 'newsreader', 'countertypes', 'collectible', 'tense', 'squirrel', 'astral', 'cardinal', 'unthrilling', 'stripper', 'frustrated', 'spirit', 'assumption', 'arquette', 'lindemann', 'unicorn', 'sciamma', 'kind', 'grxc3xa2ce', 'noir', 'scariness', 'resersal', 'terminator', 'eyepatch', 'bobbing', 'monotonous', 'exactly', 'peerce', 'recurring', 'monosyllabic', 'unrealistic', 'tiring', 'overstuffed', 'obliged', 'singleton', 'rangers', 'wauters', 'faithful', 'split', 'signal', 'fmc', 'reggae', 'cloning', 'plumpable', 'ps', 'immortal', 'rescue', 'hellishly', 'platt', 'exemplar', 'atypical', 'coup', 'boobage', 'breast', 'detectable', 'cheeni', 'soporific', 'survivors', 'overaggressive', 'lds', 'dallesandro', 'nielsen', 'teledrama', 'ethnic', 'smudgy', 'basic', 'baad', 'hash', 'grease', 'slingblade', 'crone', 'quantity', 'shop', '86', 'brubeck', 'stealth', 'ii', 'mundaneness', 'riddance', 'wear', 'asteroid', 'plunger', 'ironic', 'sacrifice', 'armed', 'typecasting', 'hang', 'ausente', 'heroine', 'dictator', 'ban', 'common', 'mercurio', 'network', 'fisheye', '80ie', 'discpline', 'buyer', 'liek', 'jungle', 'accapella', 'luck', 'baddest', 'penis', 'rich', 'shogun', 'slauter', 'oirish', 'scrooged', 'mention', 'eccentric', 'psychopath', 'xc2xabhotxc2xbb', 'darkman', 'honorable', 'org', 'crashingly', 'carole', 'halve', 'spurlock', 'flagwave', 'carrier', 'ignoramus', 'marleen', 'morphin', 'jhalak', 'mall', 'million', 'oldham', 'davy', 'yosemite', 'altioklar', 'english', 'scanne', 'unecessary', 'cutting', 'someone', 'otherwise', 'confusingly', 'farming', 'technical', 'violence', 'continue', 'mugger', 'frisco', 'charactor', 'dinocroc', 'outtake', 'plausible', 'vignette', '00000001', 'cheat', 'nickel', 'scifi', 'animation', 'mambo', 'employee', 'civilized', 'stripbar', 'memory', 'tracked', 'sublimate', 'mumbler', 'tsuchiya', 'pelle', 'lane', 'pass', 'smuggling', '155xc2xbaf', 'carnality', 'symmetric', 'els', 'myers', 'file', 'jittery', 'defecation', 'replace', 'peep', 'brother', 'perils', 'peer', 'bing', 'additionaally', 'octopus', 'remorse', 'vaginas', 'nauseous', 'humourless', 'indulgent', 'erroneously', 'heartrende', 'unconsiousness', 'tut', 'hygiene', 'chorus', 'cabana', 'embarasse', 'pinku', 'yuen', 'xc2x97xc2xa0which', 'pinkerton', 'believe', 'mia', 'wor', 'repel', 'patronisingly', 'swastikas', 'ordinal', 'misfire', 'stolen', 'village', 'muncher', 'radius', 'nashawn', 'alimony', 'interweaving', 'disco', 'stunt', 'ke', 'conspiracy', 'entile', 'cava', 'depressive', 'airmen', 'discretion', 'miss', 'swoon', 'tobacco', 'masses', 'power', 'ungallant', 'sala', 'technically', 'sarandon', 'moreau', 'punches', 'yashraj', 'netflix', 'vocational', 'telenovela', 'end', 'anime', 'misleadingly', 'yuk', 'snipes', 'granola', 'prof', 'cha', 'cursing', 'nominee', 'environmental', 'sette', 'algie', 'pacifistic', 'pair', 'pertinency', 'coed', 'towards', 'dowse', 'wackos', 'charm', 'runteldat', 'nightstick', 'voilxc3xa0', 'sexual', 'disinter', 'splatterf', 'worthwhile', 'increasingly', 'amitabhs', 'uzi', 'fishman', 'unspeakably', 'molted', 'comet', 'taffy', 'stargate', 'hatsumo', 'london', 'required', 'beattle', 'scurrilous', 'disturbed', 'akcent', 'convergent', 'drift', 'feminist', 'nitrate', 'tokyo', 'impact', 'discovery', 'richmond', 'padded', 'notorious', 'satanist', 'nintendo', 'insomnia', 'ecological', 'handfull', 'trait', 'skifee', 'depressed', 'strength', 'admin', 'ranking', 'whatever', 'operative', 'loyalist', 'seed', 'melt', 'horror', 'buckaroo', 'things', 'campions', 'destruction', 'charitably', 'argufying', 'trivial', 'ditty', 'starship', 'inadequately', 'sham', 'videofilme', 'spleen', 'ebola', 'unfortunitaly', 'fallon', 'segregate', 'argosy', 'cut', 'project', '8mm', 'misplace', 'chicago', 'niro', 'earnt', 'unabsorbe', 'nothingness', 'shockmovie', 'hawk', 'blotched', 'submarine', 'pardner', 'poeple', 'millar', 'stooges', 'wiseau', '1970s', 'audiocassette', 'teen', 'lolololololololol', 'uneasily', 'combine', 'stupid', 'rob', 'wender', 'recapture', 'sobbing', 'steer', 'teaser', 'horrorf', 'ha', 'ship', 'critter', 'information', 'sequal', 'sale', 'chinatown', 'twisters', 'fackin', 'bolger', 'plodding', 'grimace', 'sureprise', 'waster', 'dough', 'offense', 'jaws', 'iraqi', 'planted', 'margot', 'desiree', 'inordinate', 'sockpuppet', 'charlatan', 'ce', 'zombies', 'baaaaaaaaaaaaaad', 'therefore', 'unstoppable', 'raspy', 'overtly', 'geordie', 'fagging', 'magnavision', 'filter', 'tallman', 'eve', 'exist', 'eli', 'halloween', 'disenfranchised', 'donnel', 'slugs', 'bikini', 'lohan', 'jangle', 'lombard', 'tin', 'jam', 'giggle', 'cassie', 'or', 'bamboo', 'awesomely', 'world', 'prequel', 'outstay', 'rukh', 'sinese', 'piece', 'spun', 'fanboy', 'prepare', 'hoggin', 'noni', 'sucking', 'hesitance', 'spurting', 'unredeemably', 'such', 'totally', 'bag', 'alien', 'jost', 'luxury', 'merit', 'hammer', 'weissmuller', 'thunderbirds', 'keefe', 'sophomoronic', 'hk', 'chickenpox', 'brainless', 'blob', 'brainwashing', 'prestige', 'steve', 'busy', 'purple', 'thief', 'inherent', 'badly', 'switch', 'handwriting', 'cineastic', 'gaming', 'superfriend', 'cool', 'portuguese', 'onj', 'foywonder', 'obscenity', 'consensus', 'reviews', 'event', 'mendez', 'cafe', 'ludicrosity', 'staten', 'nonplussed', 'pacfier', 'parolee', 'commission', 'ghoulies', 'misinterpretate', '28', 'soldier', 'grubby', 'screming', 'helicopter', 'superstring', 'steev', 'gadgetmobile', 'numbingly', 'racket', 'sideline', 'oversimplification', 'alamo', 'specie', 'wich', 'marceau', 'earpeirce', 'sole', 'amount', 'cahiers', 'lust', 'polygon', 'trainspotting', 'prazer', 'ryu', 'jug', 'homegrown', 'picec', 'hrs', 'kate', 'history', 'bloodsport', 'dreamgirls', 'battlestar', 'historian', 'avenge', 'fabulous', 'cubicle', 'homicide', 'swordsmanship', 'booger', 'craptitude', 'dreary', 'main', 'squad', 'rut', 'bone', 'forever', 'bomberg', 'phewww', 'memorized', 'yoyo', 'morbidly', 'ashamed', 'loggerhead', 'hollister', 'correct', 'curiosity', 'videowork', 'superstar', 'karate', 'flower', 'bbcamerica', 'ideal', 'container', 'vestment', 'deserve', 'crier', 'solution', 'strand', 'scared', 'rental', 'detmers', 'rugby', 'bankable', 'cheesy', 'scare', 'abound', 'ugh', 'meow', 'coin', 'hew', 'genghis', 'ed', 'interacting', 'me', 'odd', 'clout', 'indefinsibly', 'airplane', 'novice', '800', 'unmade', 'married', 'constituency', 'skeletal', 'sensationalistic', 'money', 'gorilla', 'those', 'controlling', 'plots', 'fetus', 'credit', 'rrrr', 'atleast', 'american', 'briefest', 'unwatchably', 'sledge', 'believeable', 'emotion', 'canaanite', 'the', 'fundamentalist', 'realisation', 'annoy', 'hubby', 'whately', 'weller', 'san', 'growling', 'adabte', 'ixe2x80x99', 'retry', 'madsen', 'monsta', 'underage', 'chong', 'dimmer', 'initial', 'chise', 'greek', 'datum', 'copper', 'bigfoot', 'romcom', 'shoe', 'coz', 'n', 'pederast', 'phobia', 'graininess', 'nudge', 'novella', 'amistad', 'allergy', 'skunker', 'cohesion', 'gob', 'salwar', 'legionnaire', 'flambxc3xa9', 'limited', 'xc2x91red', 'pain', 'apology', 'fuckwood', 'tit', 'coldness', 'twat', 'jimbo', '1939', 'sobbingly', 'detail', 'decline', 'treadworn', 'blinder', 'forefather', 'terrorize', 'edit', 'simulated', 'jocks', 'exploited', 'fallen', 'britche', 'truly', 'groundless', 'sidestep', 'ts', 'happened', '16k', 'escapee', 'skeltor', 'actingwise', 'confusathon', 'sorghum', 'marine', 'wegener', 'kinder', 'tase', 'trout', 'photographed', 'chica', 'loust', 'balanguerxc3xb3', 'abysmally', 'snoozefest', 'snarl', 'somewhat', 'filmy', 'violent', 'holey', 'sadly', 'wrathful', 'loosely', 'ekman', 'soviet', 'cr', 'embarrass', '182', 'misty', 'dragons', 'decent', 'sentimentality', 'particullary', 'induce', 'softporn', 'whedonettes', 'rooster', 'reign', 'jigsaw', 'aunt', 'meltdown', 'juror', 'cacaphonous', 'customizer', 'murderously', 'hallways', 'teigh', 'dominican', 'goldblum', 'mader', 'horseman', 'technological', 'maitresse', 'neighborhood', 'adlibe', 'avary', 'unrehearsed', 'snafuperman', 'ireland', 'finger', 'mildre', 'vibrator', 'hamming', 'unengineered', 'lyric', 'overloud', 'archive', 'eeriness', 'difference', 'insurance', 'conflict', 'aubrey', 'stuff', 'heal', 'sanctimonious', 'preponderance', 'calvin', 'mulholland', 'daycare', 'irreconcilable', 'radium', 'philosophizing', 'stoical', 'scrooge', 'dimestore', 'shovel', 'interesting', 'prancer', 'volleyball', 'part', 'performer', 'puffin', 'adept', 'scenario', 'firestarter', 'lucille', 'lestat', 'calabrese', 'porsche', 'uncare', 'unruhe', 'party', 'constant', 'bashki', 'lycan', 'probably', 'charac', 'damsel', 'sharp', 'sissily', 'olden', 'slowed', 'unknown', 'adv', 'astoundlingly', 'bosnian', 'expresssion', 'abroad', 'nanette', 'tall', 'reccoemnd', 'archer', 'baldy', 'rehash', 'of', 'discernment', 'presentational', 'pidgin', 'will', 'version', 'bicenntinial', 'commentary', 'turd', 'cassavetes', 'sorcery', 'rm', 'hazardous', 'hardman', 'pregnant', 'stage', 'bourbon', 'motherf', 'eel', 'millionth', 'crappiness', 'unlikeable', 'one', 'umderstand', 'disappointed', 'vr', 'kwai', 'wrecking', 'itxc2xb4s', 'ocean', 'elektra', 'anakin', 'stretch', 'poppins', 'promote', 'trashy', 'execrable', 'feature', 'purposeless', 'chastity', 'recycled', 'regarding', 'sc', 'extenuate', 'dr', 'hoo', 'rainbow', 'ofcaurse', 'scenery', 'speed', 'axe', 'rememberance', 'denouement', 'inflexe', 'precictable', 'destructiveness', 'soze', 'propoghanda', 'smithxc2xb4s', 'scool', 'copywrite', 'incubus', 'forest', 'yo', 'jog', 'lowlife', 'dan7', 'intellectualize', 'qestion', 'afterwhich', 'lampoon', 'reg', 'creature', 'ramis', 'ketchup', 'severely', 'korman', 'msg', 'kilimanjaro', 'mankind', 'pabulum', 'tec', 'miriad', 'rocket', 'masterpiece', 'ninga', 'pretensiousless', '16', 'save', 'missouri', 'ceo', 'legends', 'intelligibly', 'boys', 'absent', 'tusshar', 'repitive', 'trek', 'airman', 'walking', 'migraine', 'steroids', 'amusing', 'excrutiate', 'likeable', 'wowsers', 'starrer', 'recognizable', 'rohmer', 'ritchie', 'horendous', 'bargain', '2h', 'sic', 'anti', 'model', 'dissapointe', 'loonie', 'automotive', '5', 'gooey', 'girls', 'slavic', 'objectively', 'videotaping', 'wax', 'visor', 'treater', 'sorcerer', 'generous', 'bash', 'marche', 'pouty', 'puzzle', 'scandalously', 'egg', 'extremite', 'keitel', 'guinea', 'duckle', 'landlord', 'deer', 'mecrury', 'violin', 'sloooowwwww', 'surprise', 'silverman', 'hat', 'llbean', 'closure', 'awful', 'cuss', 'novelty', 'jerker', 'stkinks', 'hack', 'sclerotic', 'scandinivian', 'warriors', 'hardbody', 'revenge', 'clemens', 'sydney', 'mclellan', 'e', 'fever', 'trombone', 'wannabe', 'tarkovskian', 'arggh', 'family', '1990ie', 'playe', 'howie', 'ultralight', 'coverbox', 'creeps', 'sweet', '1hour', 'hobgobblin', 'recogniton', 'teletubbies', 'animate', 'spader', 'ishimoto', 'hateeeeeeedddd', 'husbands', 'filmirage', 'stalker', 'disastrous', 'troy', 'alarm', 'sixpack', 'naturale', 'yeti', 'cosiness', 'highbrow', 'traditionalist', 'howsoever', 'screwfly', 'cassette', 'deviate', 'dislocation', 'air', 'thug', 'ms', 'caricuture', 'accusee', 'swing', 'artsy', 'misspent', 'guest', 'ungifted', 'adjoining', 'year', '45', 'comedus', 'inexcuseable', 'waiste', 'serbia', 'wounds', 'step', 'puke', 'moby', 'replay', 'priest', 'hive', 'cheesey', 'dunderheade', 'peasant', 'tainted', 'hey', 'cheapy', 'supermodels', 'journalist', 'explantion', 'hours', 'inheritance', 'demagogic', 'swanky', 'xtro', 'cult', 'medal', 'union', 'cetera', 'jewish', 'bizzzzare', 'epoch', 'tries', 'zsrr', 'bindingly', 'leeza', 'muccino', 'scorpion', 'laceration', 'unusual', 'robber', 'format', 'berserk', 'original', 'selma', 'regiman', 'carlin', 'careful', 'possesers', 'handy', 'waters', 'time', 'minority', 'xc2xa8directorxc2xa8spent', 'glacially', 'uncle', 'singaporean', 'jabberwocky', 'unflattering', 'pants', 'royal', 'bubble', 'worst', 'rugrats', 'ribisi', 'hamper', 'suspenseful', 'labour', 'evening', 'badanov', 'rewound', 'afganistan', 'characther', 'alston', 'intermingled', 'ozon', 'sporting', 'yoon', 'binding', 'idjit', 'barfly', 'prosciutto', 'undertaker', 'ishtar', 'german', 'lauter', 'halfway', 'possible', 'stroking', 'hospital', 'exhibit', 'despite', 'discouraged', 'taste', 'csi', 'larz', 'deodorant', 'jim', 'hazzard', 'programing', 'partying', 'pagan', 'ali', 'cinematically', 'fixation', 'vulture', 'bam', 'stu', 'physic', 'cocoon', 'diplomat', 'rolex', 'slumberness', 'pushing', 'darn', 'dope', 'pang', 'helplessness', 'judd', 'remake', 'patient', 'creatures', 'ledger', 'inappropriate', 'bladder', 'visibly', 'gambon', 'sexy', 'robbery', 'room', 'blind', 'proctology', 'whew', 'parallax', 'beach', 'flopping', 'impractical', 'amateurishness', 'thingie', 'plight', 'sheriff', 'mmpr', 'unwise', 'whale', 'fascist', 'underpar', 'pierce', 'boxes', 'awww', 'butt', 'jess', 'aggressor', 'rapeist', 'electrify', 'restrained', 'mst3k', 'old', 'clean', 'dumbe', 'doppelganger', 'garbagey', 'torrent', 'wining', 'clifton', 'heh', 'lava', 'city', 'honk', 'veg', 'horor', 'string', 'lelouch', 'wwe', 'fortune', 'continuois', 'overaestheticization', 'lightsaber', 'deceiver', 'syn', 'prostitution', 'unwatchability', 'fence', 'behavior', 'attendant', 'mararxc3xada', 'killjoy', 'pow', 'dolt', 'stagehand', 'perpetual', 'pouter', 'enshrine', 'minded', 'fictional', 'm1', 'fade', 'initialize', 'misogynistic', 'boogie', 'reload', 'watery', 'nude', 'unger', 'zaara', 'lenz', 'slow', 'anglos', 'obnoxious', 'overboard', 'infinite', 'machine', 'enjoyed', 'axiom', 'vagabond', 'hut', 'meritocratic', 'spalding', 'grumpy', 'sure', 'mitchell', '150k', 'aladdin', 'discussion', 'notre', 'cypher', 'juno', 'gray', 'launch', 'plods', 'tacky', 'dishrag', 'mutante', '90', 'nk', 'sprint', '10', 'sanderson', 'offcourse', 'pfieffer', 'proximity', 'deconstructed', 'anatomy', 'aesthetically', 'moses', 'armored', 'member', 'ook', 'mag', 'accusation', 'tow', 'sept', 'dog', 'caricature', 'horrific', 'compilation', 'whip', 'slobber', 'dreamwork', 'climax', 'tangerine', 'knots', 'bo', 'ja', 'undescribable', 'turnip', 'bulgarian', 'ritchy', 'lip', 'supersize', 'wrap', 'recruiter', 'slap', 'victorian', 'supose', 'horticulturalist', 'selling', 'guillotine', 'soundman', 'willy', 'expedition', 'oracle', 'touchstone', 'headlight', 'cheap', 'gw', 'stuffed', 'signify', 'nose', 'trip', 'solid', 'avon', 'dahmer', 'berkowitz', 'nicklodeon', 'seam', 'skunk', 'alienating', 'newsroom', 'sophistication', 'sdiner82', 'breakin', 'paranoia', 'core', 'damned', 'explosive', 'golf', 'brooks', 'rotoscoping', 'penpal', 'crowne', 'tricker', 'ceiling', 'tthe', 'firetrap', 'rubric', 'cheeseyness', 'genera', 'bob', 'awkwardly', 'busker', 'thorsen', 'goldbeg', 'flood', 'citify', 'unselfish', 'worthe', 'naughty', 'har', 'nachoo', 'jerk', 's', 'humour', 'poe', 'sabertooth', 'injection', 'tz', 'kindergarten', 'table', 'memo', 'mac', 'jot', 'anne', 'skip', 'trade', 'ethel', 'mad', 'savales', 'emu', 'gimmicky', 'sincerity', 'cylinder', 'caracters', 'jojo', 'tremors', 'thin', 'myth', 'needless', 'curly', 'acid', 'ehole', 'mandatory', 'spill', 'evangelical', 'bem', 'realism', 'extremley', 'gant', 'reputedly', 'babylon', 'boost', 'prepared', 'improvise', 'greenwich', 'sorted', 'plz', 'putz', 'penguin', 'dennis', 'uncertain', 'brimley', 'cooledit', 'base', 'subgenre', 'commodification', 'filmstock', 'sewer', 'astxc3xa9rix', 'intonation', 'waaaaay', 'whine', 'mam', 'diehard', 'character', 'dentists', 'hirsh', 'rock', 'boo', 'structure', 'lt', 'quota', 'touch', 'gallery', 'symbol', 'inadvertedly', 'placement', 'dreadful', 'steamroll', 'callousness', 'suffer', 'capshaw', 'chace', 'sleepwalker', 'dreamin', 'villa', 'adopted', 'starlet', 'chip', 'misdirection', 'decipher', 'inspirational', 'par', 'revolution', 'taps', 'trademark', 'clever', 'pimp', 'guccione', 'ultimately', 'inspired', 'displeasure', 'gang', 'pota', 'femur', 'brassiere', 'waitress', 'lettuce', 'arabs', 'hinterholz', 'filmography', 'philosophical', 'western', 'acupuncturist', 'player', 'merged', 'fuel', 'cantakerous', 'gable', 'cocaine', 'saiyan', 'orthodoxy', 'damnest', 'work', 'pranks', 'user', 'batman', 'aaaaaaahhhhhhggg', 'risk', 'chopper', 'flash', 'insignia', 'frothy', 'straws', 'wog', 'feasibly', 'student', 'tearjerke', 'accent', 'stupidity', 'maid', 'anyway', 'perm', 'carnosaur', 'hebrew', 'ultra', 'afraid', 'ueto', 'deadly', 'trying', 'shinny', 'teleprompter', 'crud', 'depravation', 'feoutus', 'anesthesia', 'sync', 'escavate', 'vigilante', 'cineatique', 'lighthouse', 'athlete', 'soundstage', 'favour', 'grammy', 'nicolas', 'hold', 'joe', 'congragulation', 'style', 'starfish', 'norp', 'somehow', 'invisible', 'dancer', 'brass', 'pest', 'footnote', 'clothing', 'unattractive', 'glacial', 'cultural', 'taxpayers', 'brycer', 'opening', 'explain', 'mercifully', 'weakness', 'sympathize', 'meatloaf', 'ejames6342', 'wastage', 'seltzer', 'would', 'mackerel', 'starpower', 'assinge', 'vandalise', 'mvp', 'dumberer', 'godzilla', 'stinkaroo', 'club', 'study', 'fairytale', 'violate', 'iwant', 'struycken', 'pia', 'vicar', 'secrets', 'roland', 'fortitude', 'sxc3xb3', 'doo', 'regardsless', 'basquit', 'overrated', 'muscle', '240z', 'shaggy', 'acting', 'shakespeare', 'dump', 'r2d2', 'yardstick', 'splendour', 'faction', 'quel', 'scanners', 'tank', 'skating', 'woa', 'figure', 'quaid', 'house', 'dildo', 'czar', 'flick', 'disgusting', 'meaningfulness', 'gxc3xb6ran', 'pakistani', '571', 'tarintino', 'raunchiest', 'stimulate', 'castle', 'poor', 'computergraphic', 'trinity', 'gamin', 'sway', 'crotch', 'inspire', 'hidde', 'bio', 'bulletproof', 'wipe', 'constraint', 'computer', '0000000000001', 'hell', 'pinup', 'appropriated', 'clansman', 'seller', 'conpiricy', 'bmoviefreak', 'succe', 'chemistry', 'runaway', 'swang', 'guitar', 'hero', 'knowle', '75', 'marmalade', 'reputable', 'quickie', 'unity', 'mousey', 'steps', 'buzz', 'crematorium', 'persecution', 'warehouse', 'harrer', 'circle', 'sunny', 'commedia', 'theater', 'carnosour', 'merchent', 'vapoorize', 'bottom', 'panama', 'brothel', 'cops', 'emasculation', 'signifiant', 'battering', 'uncut', 'butler', 'tish', 'muffin', 'audience', 'aeroplane', 'mainstage', 'microcassette', 'keneth', 'barbershop', 'monomania', 'swamp', 'mundane', 'udder', 'refurbish', 'blaring', 'patterson', 'apartment', 'hercule', 'pm', 'sumo', 'tredje', 'horizontal', 'remember', 'boarding', 'sherwin', 'saw', 'outshone', 'strenuously', 'disguise', 'incredibly', 'captioning', 'moralizing', 'ny', 'cowritten', 'lost', 'xmas', 'truncate', 'grownup', 'purposly', 'loop', 'perversion', 'firmansyah', 'pale', 'hamfiste', 'earthquake', 'midproduction', 'flirtatious', 'crackly', 'rupture', 'build', 'laught', 'zoe', 'notorius', 'flail', 'completely', 'twins', 'puzzler', 'young', 'absolve', 'sproute', 'stag', 'journal', 'sermon', 'stock', 'filmmaking', 'pinhead', 'omniscient', 'peckinpah', 'jargon', 'cashback', 'racetrack', 'glory', 'streetfighter', 'deniz', 'sequences', 'postapocalyptic', 'oiran', 'gas', 'loose', 'maschocist', 'nestle', 'enticing', 'tastefulness', 'whaddaya', 'repetition', 'americans', 'drivel', 'officer', 'ooooof', 'self', 'songs', 'socky', 'transparent', 'under', 'busby', 'housemaid', 'interconnectivity', 'location', 'sixty', 'presidential', 'trevor', 'certify', 'tiffany', 'brat', 'scalpel', 'artful', 'intentions', 'norrland', 'remedy', 'cheatin', 'leatherhead', 'hwo', 'everone', 'buch', 'pecker', 'pdf', 'sensitize', 'almighty', 'ho', 'flatten', 'policeman', 'dandelion', 'prescott', 'scripture', 'extermination', 'legend', 'xc2x80', 'vendettas', 'continuncy', 'norweagian', 'sarnie', 'pulp', 'prolly', 'masters', 'carbon', 'underhanded', 'thumbtack', 'imperium', 'margaret', 'resistance', 'wenders', 'pakistan', 'covert', 'confine', 'woodward', 'architect', 'costumer', 'cum', 'throat', 'enough', 'singapore', 'commode', 'iu', 'pope', 'meaningless', 'wrinkler', 'suspiciously', 'custody', 'roadie', 'sill', 'lutz', 'cosby', 'nuke', 'lynchophile', 'bill', 'fullframe', 'yorkshire', 'baptist', 'convene', 'mod', 'copy', 'dunno', 'about', 'necking', 'parlour', 'kill', 'hello', 'fishtail', 'seedy', 'fay', 'broca', 'tragedy', 'ezio', '40', 'undercover', 'halmi', 'rubbish', 'demon', 'hoki', 'ove', 'fortress', 'orchestra', 'yard', 'augusten', 'manchu', 'hinduism', 'sbif', 'qualities', 'maybee', 'horizons', 'expressionistic', 'bismol', 'informercial', 'twitch', 'reckon', 'restored', 'gun', 'verbaan', 'planet', 'moviemaker', 'zombi', 'rentalrack', 'dismiss', 'dozen', 'unleashed', 'dumbed', 'ugghhh', 'welle', 'eater', '81', 'hud', 'forklift', 'caper', 'shaun', 'gangbuster', 'nous', 'beckettian', 'counterproductive', 'dreadnought', 'martian', 'alot', 'unhinged', 'southeast', 'modernism', 'marseille', 'enjoyability', 'closet', 'wai', 'korean', 'schneider', 'soundtrack', 'incarnate', 'bowery', 'extremelly', 'dolore', 'janitor', 'saturate', 'caviar', 'fittingly', 'imagery', 'deja', 'titanic', 'autistic', 'branaugh', 'frequently', 'as', 'tigh', 'predecessor', 'smoke', 'installment', 'smattering', 'blondy', 'delineation', 'ft', 'unescapable', 'solve', 'pirate', 'pitty', 'represent', 'stubbly', 'ing', 'hook', 'flanders', 'asleep', 'standup', 'predeccesor', 'holocaust', 'weekday', 'admiral', 'drek', 'epic', 'misrepresentative', 'viewability', 'jr', 'unused', 'joke', 'wiseguy', 'channing', 'male', 'thirty', 'demonise', 'cinema', 'couli', 'picker', 'fairy', 'aka', 'gyllenhaalics', 'fuhrer', 'unendingly', 'skinhead', 'conjure', 'backdraft', 'viz', 'redline', 'spectrum', 'logic', 'hurrz', 'tormented', 'retelling', 'lyrics', 'lansbury', 'shiny', 'corpulent', 'creditable', 'four', 'hpd2', 'zoo', 'approach', 'rapture', 'miklxc3xb3s', 'austrian', 'clichxc3xa9', 'cosette', 'boiler', 'fairyfloss', 'disaster', 'robowar', 'between', 'interpretation', 'newspaper', 'wing', 'gallon', 'proficiency', 'consecutive', 'shapeless', 'chuck', 'pretender', 'soft', 'a', 'dye', 'fuckland', 'starfleet', 'ferch', 'troupe', 'recital', 'steady', 'judas', 'graveyard', 'columbian', 'expectation', 'investigator', 'conduce', '103', 'embarkation', 'rodeo', 'alain', 'bella', 'naked', 'catfighting', 'lifer', 'popular', 'screen', 'digit', 'resistable', 'stammering', 'comedy', 'ripoff', 'robinson', 'ont', 'shiloh', 'petition', 'nine', 'attempt', 'maximally', 'shipwreck', 'perennial', 'clenching', 'supposable', 'specialize', 'shriek', 'labor', 'contest', 'foreigner', 'peanut', 'revealed', 'fugly', 'woods', 'clink', 'mitt', 'trapper', 'drain', 'farmhouse', 'euphemism', 'omnipresent', 'actress', 'millions', 'astroesque', 'shallow', 'broadly', 'americain', 'hideously', 'harrold', 'factor', 'sampler', 'consign', 'pack', 'herendous', 'extra', 'immigration', 'hemophiliacs', 'summary', 'dainty', 'scotsman', 'm', 'toothbrush', 'maniac', 'glowing', 'mentally', 'amply', 'constipated', 'dewaana', 'whoop', 'meaning', 'earning', 'gijxc3xb3n', 'dw', '0', 'ulagam', 'elon', 'distribution', 'pupil', 'inexplicable', 'mucky', 'clonking', 'crook', 'morocco', 'c1', 'bleed', 'rally', 'mortuary', 'certification', 'arachnia', 'evolving', 'rudimentary', 'manech', 'look', 'fundamentalism', 'incomplete', 'renting', 'sneak', 'football', 'call', 'sweetish', 'bloated', 'focusse', 'humping', 'gig', 'dissilusione', 'coach', 'gentlemen', 'sensationalized', 'calcium', 'nudity', 'filth', 'queirxc3xb3s', 'indifferent', 'ireally', 'correctional', 'adolescent', 'condtion', 'holistic', 'oshawa', 'morton', 'electronic', 'bozo', 'principalle', 'listing', 'neuro', 'light', 'licker', 'monopoly', 'lamp', 'wrestler', 'fi9lm', 'tooting', 'absence', 'widower', 'cannibal', 'viking', 'boot', 'fele', 'fantastic', 'finance', 'thorne', 'finalist', 'cinemtography', 'dante', 'rilly', 'puerto', 'tala', 'alienware', 'ridiculous', 'barrels', '9lbs', 'pledge', 'reigonal', 'midwestern', 'waterworld', 'publish', 'nope', 'wind', 'northwest', 'suite', 'rummage', 'persevere', 'flan', 'anschel', 'gadget', 'eaten', 'wit', 'emulate', 'funniest', 'recompense', 'housesitte', 'yellow', 'frat', 'sabatini', 'fog', 'himmel', '98', 'cage', 'historic', 'climactic', 'v', 'meet', 'plunder', 'hunger', 'filipino', 'savoury', 'hemp', 'palmer', 'depot', 'ladys', 'inaccuaracie', 'imbibe', 'johnson', 'plaster', 'sicence', 'boneless', 'puhleasssssee', 'haaga', 'don', 'local', 'locker', 'edition', 'neal', 'spiritual', 'harbour', 'preachy', 'outpost', 'marion', 'communinity', 'stones', 'utter', 'hurricane', 'emission', 'treach', 'exaggerate', 'recording', 'gossett', 'hippy', 'shower', 'boref', 'skeptico', 'shyamalan', 'nonsense', 'relentlessly', 'chunk', 'imagine', 'grimily', 'please', 'silverstone', 'mung', 'genetic', 'nonchalant', 'onestly', 'unfaithful', 'stardom', 'feauture', 'shakedown', 'roomful', 'jacka', 'wheter', 'preserve', 'corridor', 'christening', 'heartstre', 'marlow', 'conservative', 'president', 'decently', 'parsimonious', 'card', 'payer', 'forlani', 'journey', 'brutus', 'ben', 'divination', 'notionally', 'by', 'graffitti', 'grenade', 'lock', 'derailed', 'fontaine', 'freebie', 'sinker', 'athelete', 'topcoat', 'vague', 'legit', 'edgy', 'pompeo', '100min', 'actionpacked', 'unaffecte', 'till', 'pilot', 'rickety', 'encounter', 'plowright', 'mathew', 'astronaut', 'arghh', 'fury', 'siren', 'even', 'postcard', 'rephrase', 'complete', 'darkness', 'frustration', 'misguised', 'tanishaa', 'momentum', 'primitiveness', 'allende', 'tao', 'underground', 'endorse', 'jazz', 'transform', 'sieve', 'submariner', 'meyers', 'shiksa', 'leith', 'fetish', 'trever', 'magician', 'racially', 'elm', 'seussian', 'dewey', 'stigmata', 'caulfield', 'inept', 'supernaturally', 'definitively', 'provensa', 'dint', 'assure', 'unclothed', 'italiano', 'wagons', 'jellyfish', 'schoolroom', 'hitlist', 'gimme', 'mannequin', 'foggy', 'conservatism', 'unintereste', 'himesh', 'voo', 'potty', 'cassandra', 'thing', 'nudie', 'dinosaur', 'exhume', 'waste', 'antenna', 'plump', 'piranhas', 'province', 'fairies', 'brett', 'anomaly', 'implausibility', 'differently', 'bonbon', 'snowcone', 'forgetable', 'copyist', 'bandito', 'bright', 'park', 'coo', 'sabretooth', 'inneundo', 'bloodsucking', 'coworker', 'offender', 'damon', 'narrow', 'millionaire', 'pxc3x85', 'snappy', 'generally', 'laugh', 'chiller', 'meat', 'surely', 'vagina', 'dreck', 'games', 'cky2', 'absolutly', 'boxing', 'otherside', 'pontificate', 'unappetize', 'designation', 'wordless', 'coast', 'cheep', 'dawn', 'critters', 'witchery', 'prior', 'jumper', 'fonda', 'flabbergastingly', 'naxc3xafve', 'isabel', 'scruffy', 'der', 'donuts', 'bogroll', 'indian', 'mass', 'aneurysm', 'ipsmith', 'dont', 'ohdear', 'argument', 'eaghhh', 'mysterious', 'artificial', 'bots', 'perceive', 'burning', 'cipher', 'insulated', 'oss', 'monkey', 'caligulia', 'isn', 'microchip', 'seagal', 'composing', 'twice', 'directing', '99p', 'sheldon', 'tweener', 'spookiness', 'talents', 'wrestling', '1200f', 'sever', 'mule', 'vine', 'lazy', 'embarrassed', 'cheaply', '8ftdf', 'grandpa', 'spookie', 'coffin', 'missfortune', 'bald', 'rks', 'mewl', 'apparent', 'governess', 'hepatitis', 'nasaan', 'mermaid', 'bogus', 'gary', 'bun', 'collage', 'tat', 'blatent', 'coward', 'order', 'convida', 'obi', 'cognoscenti', 'operetta', 'sirbossman', 'marissa', 'curse', 'pasteurize', 'hillbilly', 'ler', 'homework', 'darkie', 'sokurov', 'inspite', 'mystical', 'redemming', 'babel', 'crop', 'fifteen', 'enormity', 'hitchhiking', 'prix', 'too', 'unutterably', 'uhum', 'jets', 'intern', 'chota', 'southward', 'loot', 'magazine', 'indolently', 'kyoto', 'curry', 'mulva', 'udy', 'homeschooler', 'woop', 'figurehead', 'decoy', 'pop', 'spelled', 'unsatisfying', 'hitchcockian', 'comparision', 'diddle', 'ash', 'whit', 'velocity', 'aristocrat', 'bonus', 'moon', 'rh3', 'warning', 'gansters', 'courtyard', 'elk', 'laboriously', 'set', 'porbably', 'cassarole', 'pakula', 'tenant', 'evel', 'minister', 'modelling', 'iwill', 'sheep', 'alright', 'chewy', 'glady', 'throughe', 'dryer', 'papier', 'egad', 'sortie', 'mockery', 'allyway', 'paycock', 'drewbie', 'guntenberg', 'stuart', 'vince', 'nourishment', 'arty', 'scotch', 'mormon', 'tourister', 'repugnantly', 'freeway', 'transylvania', 'disneyesque', 'full', 'modicum', 'buffoonery', 'icon', 'rag', 'flourecent', 'role', 'wholesome', 'disneyish', 'worth', 'brookmyres', 'claptrap', 'weary', 'vindictiveness', 'deathly', 'bomb', 'detmer', 'pacino', 'quantification', 'revival', 'consigliori', 'hough', 'kumble', 'nott', 'northanger', 'conclusion', 'hateful', 'mon', 'exasperating', 'voiceover', 'occipital', 'doc', 'tedium', 'pronunciation', 'inaccuracy', 'pointing', 'elasticity', 'fathomless', 'portrayal', 'hazing', 'trudge', 'dumpster', 'commune', 'lovable', 'gouging', 'rely', 'desecration', 'singlet', 'romulus', 'unrealized', 'appeal', 'unrurly', '5ive', 'bitter', 'dislikably', 'programme', 'psychologist', 'spiteful', 'archaeologist', 'aside', 'vermont', 'organzation', 'scooby', 'formulate', 'lullaby', 'direction', 'escaped', 'disorder', 'unwaivere', 'vaughan', 'bruneau', 'joshing', 'development', 'aarp', 'these', 'hp', 'menus', 'wracking', 'lousiness', 'watchman', 'button', 'repository', 'infidelity', 'chocolate', 'codename', '70ie', 'pace', 'prosatanos', 'crumby', 'apparently', 'politician', 'censor', 'protest', 'sturge', 'fight', 'layer', 'repugnant', 'thomas', 'uninflected', 'christ', 'atrocity', 'ex', 'misbehaving', 'packet', 'butchery', 'strengthen', 'jhoom', 'blake', 'boggle', 'likeminded', 'without', 'potboilerxc2x96inventive', 'frame', 'yzma', 'branch', 'ducky', 'jetsons', 'pascoe', 'cartwheel', 'direness', 'attonment', 'hip', 'fear', 'freshman', 'angst', 'cheese', 'edison', 'ambulance', 'fraud', 'rennt', 'dxc3xa9ja', 'sass', 'pedestrian', 'chandu', 'plant', 'sexed', 'aksar', 'megan', 'both', 'connor', 'output', 'callibre', 'foul', 'lab', 'drama', 'basement', 'extreamly', 'headedness', 'unable', 'bore', 'gag', 'interview', 'unentertaine', 'church', 'basket', 'inadvertent', 'salmaan', 'draw', 'forgives', 'bus', 'nc', 'jiggling', 'pageant', 'andrenaline', 'soap', 'twiddle', 'laughable', 'hoke', 'iii', 'penlight', 'ape', 'bvd', 'mister', 'sidekick', 'paraphrasing', 'vangelo', 'shabbily', 'origional', 'limburg', 'hydro', 'dueringer', 'monstruous', 'gloaming', 'feministic', 'ever', 'exoneration', 'theflickguy', 'tails', 'maltin', 'forgettable', 'sue', 'foulmouthe', 'frostbitten', 'kelly', 'tolerably', 'robotics', 'garden', 'lamely', 'translation', 'sheltering', 'bigotry', 'dmx', 'def', 'aires', 'neverending', 'dare', 'henson', 'dawky', 'wanna', 'thon', 'zealander', 'hedgehog', 'ascension', 'fur', 'exhibition', 'modern', 'symbolize', 'kilerow', 'melting', 'gangster', 'hypothermic', 'marathon', 'starfighter', 'ots', 'art', 'wilfully', 'dork', 'appear', 'winking', 'censored', 'inglourious', 'tripe', 'hint', 'experimentation', 'lacquered', 'flikere', 'relation', 'tube', 'vomiting', 'leifert', 'yetis', 'nighclub', 'intemperate', 'secs', 'flute', 'voter', 'fiddler', 'psycho', 'forsythe', 'native', 'bohlen', 'android', 'controversial', 'ambiguously', 'seasick', 'baum', 'cellblock', 'tough', 'tun', 'mush', 'casket', 'fail', 'changeable', 'gh', 'winsomeness', 'squinter', 'advisor', 'scottish', 'brunette', 'bxc3xa9art', 'flye', 'deadlock', 'cradle', 'promenade', 'xe2x80x93', 'exorcism', 'honestly', 'gift', 'yuck', 'bilingual', 'roque', 'stereotypically', 'toxie', 'fulcixc2xb4s', 'appropriation', 'rude', 'definlty', 'cellar', 'unutilized', 'mansion', 'unemotional', 'impregnate', 'lazer', 'unborn', 'gross', 'pikachu', 'overheade', 'unintelligent', 'bed', 'aprone', 'hyuck', 'trumpets', 'imran', 'bounty', 'coupling', 'bird', 'chase', 'sho', 'deaf', 'appeasement', 'peaknuckle', 'tango', 'slippery', 'butcher', 'salve', 'cemetery', 'las', 'lya', 'hobgoblin', 'partially', 'niner', 'elf', 'idaho', 'channe', 'okay', 'lull', 'wolfman', 'veber', 'triple', 'bellucci', 'identical', 'trendy', 'unconvince', 'appaule', 'kempo', 'unfunny', 'target', 'proper', 'sequence', 'swearing', 'prison', 'dramaturgy', 'libertys', 'canadian', 'moonshine', 'stink', 'casio', 'domino', 'mona', 'courtin', 'butthrough', 'orthodoxs', 'snorks', 'contrived', 'hsien', 'woman', 'hart', 'forgive', 'tweedle', 'unconvincing', 'insane', 'highmore', 'rollseye', 'hockey', 'corp', 'blackout', 'scant', 'stigma', 'dev', 'distinguishable', 'warren', 'alexanders', 'belter', 'claymation', 'smuttishness', 'revisited', 'opportunity', 'untruthful', 'flub', 'masquarading', 'amateurism', 'property', 'science', 'overhaul', 'beaver', 'matt2', 'loony', 'honestlyxc2x85', 'omelette', 'spirits', 'stare', 'frome', 'booooo', 'juggling', 'terrific', 'prom', 'script', 'criticize', 'handcuff', 'bandit', 'outstanding', 'volume', 'tru', 'chess', 'emptor', 'cant', 'chamber', 'hydrogen', 'disagreeable', 'cowboy', 'spacey', 'capote', 'brendan', 'pasta', 'poirxc3xa9', 'tequila', 'fullxc2x85', 'imaging', 'unkown', 'alone', 'possessed', 'fastmoving', 'convincedness', 'chug', 'dissertation', 'tsunami', 'foto', 'razorblade', 'very', 'blotch', 'transgression', 'delicious', 'goalie', 'verhoeven', 'puppetmaster', 'mortician', 'victory', 'wrongful', 'preview', 'azure', 'su', 'existentially', 'hummm', 'indescibably', 'arm', 'survival', 'literal', 'tycus', 'visually', 'inexperienced', 'understandable', 'backstory', 'pea', 'messengers', 'whole', 'pentium', 'rayne', 'thou', 'flip', 'screentime', 'watros', 'temerity', 'transfixing', 'disappointment', 'benjamenta', 'louie', 'liberal', 'traumatise', 'warlock', 'btw', 'ai', 'identic', 'sensuous', 'von', 'incestuous', 'cohen', 'scoreboard', 'appraised', 'improvisationally', 'waaaaaay', 'chewbacca', 'slipper', 'unfaile', 'assault', 'dc', 'polically', 'cat', 'analytic', 'empty', 'zeoy101', 'nauseatingly', 'interested', 'trully', 'hipspeak', 'raise', 'dvd', 'fiancxc3xa9', 'making', 'jnr', 'crucifixion', '1hr', 'ballet', 'tourist', 'mob', 'struck', 'sentai', 'cooter', 'slooooooooow', 'stollery', 'aircraft', 'verrrrry', 'nice', 'toledo', 'menstruation', 'frankenstein', 'dillon', 'costner', 'zemeckis', 'madperson', 'wife', 'vampire', 'mojave', 'whats', 'absorption', 'hurriedly', 'shark', 'returns', 'amenable', 'ada', 'anticlimax', 'renauld', 'inferiority', 'globus', 'tkeep', 'racketeering', 'thumping', 'oz', 'topic', 'vinterbergs', 'nudist', 'hippo', 'delinquency', 'indianised', 'garbage', 'tibetian', 'whatsoever', 'motive', 'succede', 'darkwolf', 'purvis', 'convent', 'temple', 'fiende', 'urbervilles', 'built', 'voice', 'renew', 'loafer', 'post', 'piven', 'ineffectiveness', 'unilaterally', 'bushwood', 'depardieu', 'bunny', 'flaw', 'wig', 'catty', 'unearthed', 'voluptupus', 'gods', 'flashback', 'strange', 'soul', 'raunchy', 'warrior', 'sheeple', 'window', 'freak', 'elide', 'rightful', 'july', 'diary', 'moose', 'guillotines', 'excruiciate', 'hair', 'spoilers', 'utilise', 'imbd', 'skid', 'eighteen', 'vaccine', 'redneck', 'teach', 'conserve', 'inherit', 'duper', 'idk', 'defenitly', 'dynamite', 'sleaze', 'ogle', 'van', 'nobel', 'flourescent', 'grade', 'gamble', 'xc2xa0', 'pyrotechnic', 'sat', 'primary', 'camera', 'commandments', 'fath', 'teed', 'sugar', 'geeky', 'direct', 'cack', 'sorry', 'enema', 'severed', 'loner', 'sunburn', 'straight', 'cliched', 'mullet', 'wackiness', 'novel', 'peen', 'birth', 'relative', 'destroy', 'chandler', 'barnum', 'vegeburger', 'distracted', 'band', 'arstist', 'gimpy', 'reinvention', 'slackers', 'sherlock', 'transplant', 'baseman', 'blossom', 'fist', 'aids', 'resurect', 'fuse', 'ad', 'lipp', 'sicken', 'master', 'dungeon', 'poorly', 'serve', 'group', 'avoid', 'virtue', 'foodstuff', 'shag', 'joy', 'pred', 'mongolian', 'franchise', 'ghostie', 'part2', 'slowly', 'crash', 'merging', 'electrocute', 'absolutley', 'run', 'mail', 'crorepati', 'interstitial', 'airwave', 'scary', 'drowsily', 'movieee', 'hairy', 'unrecoverable', 'adolph', 'gustav', 'shame', 'dagwood', 'session', 'pantie', 'ananka', 'democratic', 'crisis', 'panpipe', 'oi', 'obscene', 'dirge', 'heinlein', 'almodxc3xb3var', 'appalling', 'sausage', 'crochet', 'tamper', 'swinging', 'painstaking', 'daym', 'mecha', 'peddler', 'miniature', 'consternation', 'straightheads', 'august', 'cheattip', 'korine', 'christie', 'commend', 'box', 'singer', 'overshoot', 'homosexual', 'mid', 'clunky', 'jap', 'erm', 'tonelessly', 'orientation', 'fright', 'rhys', 'arduous', 'friend', 'seething', 'frederick', 'triad', 'rhino', 'cringingly', 'paul', 'binary', 'tp', 'tech', 'superlgue', 'beforexc2x85only', 'chipmunk', 'improv', 'mcghee', 'shoplifting', 'desert', 'indestructible', 'lethargic', 'demagoguery', 'munish', 'boatworker', 'crapola', 'painful', 'allure', 'am', '050', 'misinformation', '20c', 'salvatores', 'ramone', 'beerf', 'drip', 'missionary', 'organized', 'abduct', 'eagles', 'song', 'callipygian', 'akshay', 'masterbrain', 'premiere', 'okish', 'confused', 'ambersons', 'thunderbolt', 'trifecta', 'transmogrify', 'embarase', 'command', 'suzie', 'residence', 'fez', 'nervous', 'venezuelan', 'unassured', 'sence', 'jewellery', 'system', 'versus', 'technomusic', 'disburse', 'outdate', 'undiagnosed', 'leftover', 'variable', 'felicity', 'collosal', 'montages', 'railroad', 'indonesian', 'ludicrously', 'actor', 'seals', 'angel', 'connect', 'to', 'amerterish', 'logically', 'outland', 'likes', 'footrace', 'building', 'nrfptp', 'opinion', 'atrotious', 'stifler', 'technology', 'cockalorum', 'immigrant', 'mantis', 'daly', 'recognition', 'excperience', 'depravity', 'bask', 'baby', 'niamh', 'hellion', 'nare', 'cabot', 'labyrinthine', 'exodus', 'drivvle', 'nite', 'alcohol', 'ambush', 'avoide', 'cartoon', 'ignite', 'brimely', 'filmmmaker', 'tiff', 'tarr', 'compress', 'mayve', 'lanc', 'satyr', 'perhas', 'tatumis', 'corpses', 'ghetto', 'beginner', 'munsters', 'aerobics', 'melvyn', 'slashing', 'castmember', 'walk', 'hidebound', 'filmaking', 'pancake', 'sound', 'bat', 'wrecker', 'curious', 'still', 'lawerence', 'candidate', 'horsie', 'unpretensive', 'wispy', 'badmouth', 'benigni', 'referenced', 'league', 'santa', 'bounteous', 'maker', 'tactic', 'dissappointe', 'scrip', 'triumph', 'greeting', 'greeks', 'reef', 'misery', 'completeist', 'superbowl', 'spilsbury', 'poverty', 'irina', 'qaeda', 'marthe', 'tie', 'lollipop', 'porn', 'remaining', 'unfortuneatly', 'blaise', 'klayman', 'cream', 'manuscript', 'consideration', 'datedness', 'squib', 'physics', 'drone', 'occassionaly', 'uniformly', 'hauser', 'heated', 'whoa', 'inaudibly', '20', 'obfuscate', 'hector', 'completly', 'bioethic', 'handyman', 'snuff', 'luster', 'phoniness', 'preach', 'lejanos', 'justifiably', 'underachievement', 'dirth', 'talentless', 'pirite', 'tapehead', 'shrink', 'lefty', 'gregory', 'knockoff', 'lek', 'belabour', 'born', 'eivor', 'sit', 'sodomy', 'arsonist', 'daage', 'resent', 'enterprise', 'melodrama', 'weather', '100th', 'dornhelm', 'therory', 'camouflage', 'ninjutsu', 'amis', 'mop', 'repremandable', 'circuit', 'kristensen', 'dramatic', 'ernest', 'excellency', 'vc', 'archetypical', 'whaling', 'artyfartyrati', 'campfire', 'alienator', 'british', 'lethally', 'care', 'nought', 'sining', 'incoherence', 'fienne', 'actionscene', 'soberingly', 'subject', 'dedication', 'turnabout', 'freakily', 'misguide', 'letdown', 'enactment', 'cleaner', 'proliferation', 'shoo', 'c2', 'chic', 'docudrama', 'abbie', 'crow', 'vulva', 'disbelieve', 'delusion', 'quotient', 'automobiles', 'sheet', 'cave', 'action', 'perplexed', 'cryogenic', 'genxyz', 'tbs', 'advertize', 'ziab', 'etcetera', 'romanian', 'barely', 'potential', 'neighbour', 'c', 'eva', 'monotone', 'vulgarity', 'metallic', 'sing', 'herb', 'cain', 'trejo', 'painter', 'admission', 'pirouette', 'is', 'jump', 'hauer', 'predicatability', 'foldes', 'stereotype', 'option', 'legged', 'politeness', 'camper', 'vandalism', 'detective', 'unsuspecte', 'g4', 'mothball', 'bandwagon', 'picerni', 'daphne', 'improbably', 'ravi', 'battle', 'purposeful', 'mouse', 'costarre', 'ulee', 'crappi', 'heavier', 'northern', 'singin', 'stooge', 'labeling', 'clubhouse', 'vacuum', 'setter', 'oxford', 'stylize', 'debra', 'gong', 'xc2xb7', 'darling', 'servo', 'buds', 'teleporter', 'paradise', 'embraceable', 'distressingly', 'dcom', 'blond', 'sebastain', 'fillet', 'device', 'blank', 'oppression', 'apna', 'actioneer', 'remove', 'sorrow', 'gutsy', 'randy', 'fanciful', 'irresponsibly', 'madden', 'focus', 'japanese', 'towel', 'cultist', 'deceiving', 'gunfire', 'lupe', 'theft', 'trash', 'catchy', 'tushie', 'telephone', 'amjad', 'murphy', 'instalment', 'downey', 'minotaur', 'prisoner', 'comprehension', 'sum', 'hacker', 'cinemetography', 'subsp', 'contrivedly', 'munna', 'enyclopedia', 'resurrect', 'representational', 'aimlessly', 'frenzy', 'temptations', 'pay', 'buffalo', 'kingsley', 'appraisal', 'apologize', 'elmo', 'supernova', 'cinemathxc3xa8que', 'ucla', 'nautical', 'unprofessional', 'pushover', 'yuzna', 'ar', 'reheat', 'distress', 'kryptonite', 'stanger', 'splatter', 'puerile', 'fiancee', 'ecranization', 'lover', 'feebly', 'artiness', 'alzheimer', 'torturer', 'insert', 'forum', 'thread', 'flagstaff', 'harmonize', 'soylent', 'confiscate', 'quigley', 'susann', 'snow', 'dad', 'traveller', 'silently', 'grotesqueness', 'ther', 'implodes', 'curiculum', 'creep', 'pistol', 'pondering', 'welshman', 'butchers', 'cherbourg', 'deconstructionism', 'incident', 'cosmology', 'kimble', 'infected', 'appeared', 'pistols', 'homeless', 'bilal', 'professionalism', 'contempory', 'gingesh', 'surveillance', 'waterproof', 'hunk', 'best', 'bunkum', 'invention', 'heure', 'stylishly', 'harlem', 'neglect', 'nor', 'lovers', 'protect', 'richie', 'jesse', 'composition', 'europen', 'premier', 'troop', 'ladder', 'supense', 'vilest', 'enter', 'turn', 'atrophy', 'spike', 'phenomena', 'lackluster', 'teenkill', 'exposit', 'springtime', 'parody', 'splice', 'cremate', 'madness', 'catatonia', 'tester', 'loveably', 'wagonmaster', 'unproveable', 'carface', 'unlit', 'silvestro', 'forget', 'ritual', 'foo', 'preggo', 'useless', 'lettich', 'nuttin', 'fella', 'countryside', 'contractor', 'banyo', 'imnsho', 'burgerler', 'confound', 'appellation', 'baseketball', 'mason', 'taxi', 'nowhere', 'biker', 'bonfire', 'streeter', 'botanist', '23', 'undersold', 'frightning', 'attraction', 'speculative', 'supspense', 'lookalike', 'age', 'credible', 'czech', 'compass', 'aluminium', 'jewelry', 'clown', 'dinos', 'recipe', 'mystic', 'tote', 'nonetheless', 'flixmedia', 'cusack', 'bills', 'reasoning', 'resolution', 'sixteen', 'avalanche', 'sherif', 'explore', 'socialism', 'unsuspende', 'really', 'edel', 'fong', 'repugnancy', 'successfully', 'ou', 'bliep', 'blouse', 'duly', 'knightly', 'subset', 'rejects', 'metaphoric', 'unless', 'rebuilt', 'trailler', 'desperado', 'moviemaking', 'homesteader', 'wall', 'vandal', 'round', 'cement', 'idea', 'compere', 'scrivener', 'slave', '147', 'forgiveness', 'screwball', 'nithari', 'referring', 'discernible', 'signpost', 'gigantismose', 'syncing', 'rankle', 'tomboy', 'sapp', 'wives', 'ohhhh', 'deneuve', 'pamela', 'haack', 'spiritless', 'banal', 'excrutiatingly', 'taking', 'pintilie', 'studly', 'unfortuneately', 'hardgore', 'lets', 'acceptable', 'morland', 'lau', 'saying', 'offencive', 'barfing', 'invader', 'ignore', 'untraced', 'mst3ke', 'engine', 'predilection', 'midnight', 'schoyen', 'stress', 'convertible', 'shredded', 'receive', 'mandylor', 'woodoo', 'marcia', 'electric', 'cheyenne', 'undertext', 'jackhammere', 'stretched', 'rig', 'theatre', 'trailer', 'illan', 'aha', 'late', 'steinem', 'naiive', 'fiendish', 'wrackingly', 'elvis', 'gigolo', 'baroness', 'oversold', 'showed', 'prosecution', 'hye', 'portal', 'hams', 'plagiarize', 'nt', 'danila', 'noninteresting', 'frost', 'hallucination', 'unironic', 'pizza', 'frontier', 'murky', 'translate', 'schools', 'godber', 'reductivist', 'stamina', 'cess', 'audibly', 'willingly', 'sela', 'radio', 'namer', 'formless', 'surf', 'levitate', 'penalty', 'keyboard', 'animal', 'short', 'motivation', 'hawksian', 'silences', 'choosy', 'becase', 'posterior', 'convention', 'coiffed', 'dors', 'thakur', 'virgin', 'stereotypic', 'rodger', 'receptive', 'carter', 'fatherly', 'larson', 'teahouse', 'picture', 'cinemaphotography', 'wisards', 'rosario', 'rarefied', '105', 'roomie', 'intente', 'fascism', 'herbig', 'shelf', 'energy', 'heading', 'yeastless', 'louys', 'bye', 'corpse', 'retch', 'shoot', 'external', 'dispensable', 'fiume', 'wideescreen', 'dated', 'carly', 'exaggeratedly', 'amatuer', 'tooth', 'poories', 'rodding', 'aaarrrgh', 'idyll', 'analagous', 'deformity', 'incredably', 'stinker', 'embarrassing', 'angelfire', 'cpt', 'arab', 'objet', 'tenacious', 'laughf', 'uninspriring', 'men', 'subplot', 'kerri', 'watcheable', 'watched', 'heckle', 'candy', 'electrician', 'cigarette', 'pullman', 'horrible', 'alda', 'timon', 'seriuosly', 'leftish', 'patria', 'butterfly', 'blue', 'lesbian', 'curlingly', 'forgiven', '1936', 'filmmakers', 'werewolve', 'seal', 'vehicle', 'number', 'motorcross', 'admissible', 'ameteurish', 'basicaly', 'unbelief', 'cell', 'chungke', 'ninjas', 'fascinating', 'excessive', 'insist', 'mixed', 'dorm', 'koontz', 'pleased', 'gla', 'pillar', 'akimoto', 'mystery', 'psychotherapy', 'goitre', 'chauvinism', 'establish', 'kibbutz', 'queen', 'quastel', 'pegg', 'thumb', 'overpass', 'gabble', 'heiress', 'inter', 'appropriate', 'fantom', 'stallion', 'unavailable', 'mess', 'cantaloupe', 'excution', 'tasteless', 'needy', 'mural', 'bragging', 'bimbos', 'fee', 'ejiofor', 'exposure', 'viewing', 'learn', 'sexually', 'fake', '678', 'pakage', 'aw', 'macross', 'change', 'resume', 'prosthelatizing', 'redeem', 'prosecute', 'internetconnection', 'cannon', 'meteor', 'sinclair', 'stunning', 'puffy', 'unnecessary', 'adapt', 'flashdance', 'twink', 'security', 'k', 'misdemeanor', 'shiner', 'father', 'voyeur', 'blankfield', 'vittles', 'away', 'cantonese', 'infantry', 'clipper', 'glorifie', 'wang', 'angels', 'arcs', 'corkscrew', 'shearer', 'kidney', 'swill', 'inacessible', 'big', 'nervracke', 'fandom', 'calparsoro', 'mutineer', 'ones', 'rifle', 'south', 'francophile', 'caliber', 'possum', 'newton', 'crawlingly', 'atrocious', 'headliner', 'transferral', 'forster', 'scar', 'stalk', 'diva', 'universe', 'inasmuch', 'tucci', 'pepe', 'antifreeze', 'real', 'widdoes', 'berlinxc2xb4s', 'breadstick', 'norwegian', 'dislike', 'devilish', 'summarize', 'werewolf', 'pointless', 'greenhouse', 'actioner', 'nun', 'unbearable', 'tension', 'swordsmen', 'eff', 'obvious', 'text', 'rearranging', 'witty', 'straining', 'pane', 'darkling', 'dilemma', 'simpsons', 'fleet', 'female', 'grable', 'wench', 'board', 'aloknath', 'aztec', 'hurter', 'slushy', 'reenact', 'molt', 'heathers', 'balderdash', 'refund', 'pinkly', 'hotshots', '50', 'gritty', 'lame', 'hahahaha', 'irregardless', 'testicular', 'newspaperflash', 'act', 'selleck', 'turgid', 'skin', 'assume', 'aisle', 'ouch', 'problemo', 'report', 'rebar', 'mirror', 'he', 'tritely', 'letterman', 'herre', 'shusuke', 'ability', 'makeup', 'mozart', 'technique', 'large', 'lonely', '30', 'readin', 'amazing', 'unbelieveably', 'brave', 'annoyed', 'lib', 'unrelease', 'turk', 'bar', 'orthodox', 'pimpy', 'rake', 'thermal', 'hackneye', 'manager', 'folk', 'worthy', 'uriah', 'mise', 'sfx', 'zooming', 'strongly', 'sourpuss', 'junior', 'driftwood', 'draining', 'oscillate', 'metamorphose', 'hoper', 'flunkie', 'jordi', 'topline', 'anniversary', 'cheapen', 'content', 'ewww', 'reel', 'taht', 'reasonably', 'lonesome', 'platoon', 'sergio', 'boobie', 'heartlessness', 'government', 'incite', 'nastie', 'subtitling', 'sleetaks', 'clichxc3xa9s', 'hamiltons', 'disturb', 'hogan', 'innumerable', 'hymer', 'huntress', 'outhouse', 'special', 'brainwash', 'slasher', 'obligated', 'moore', 'shiver', '20x', 'rider', 'adopt', 'whoopi', 'math', 'miner', 'ghostbuster', 'fumbling', 'moovie', 'anil', 'howler', 'explination', 'cos', 'suspenseless', 'retard', 'overprint', 'aborted', 'sideboard', 'twelve', 'poltergeist', 'roxbury', 'africa', 'selwyn', 'srk', 'moms', 'posession', 'trial', 'spider', 'testimonial', 'train', 'clan', 'noes', 'sack', 'duval', 'gen', 'pooch', 'road', 'hone', 'sludgy', 'mushroom', 'typically', 'far', 'adaption', '1985', 'tolls', 'blair', 'prominence', 'friggin', 'replacdmetn', 'mangle', 'damme', 'aj', 'seduce', '38', 'porten', 'cameraman', 'ninny', 'karmen', 'music', 'evolve', 'stumbler', 'dorito', 'title', 'gator', 'sergeant', 'intentione', 'parxc3xa9s', 'mainperson', 'horserace', 'carell', 'unamused', 'slick', 'college', 'humm', 'unsure', 'dustbin', 'mismatch', 'reputation', 'nwt', 'indie', 'doctor', 'middle', 'suspense', 'rio', 'looser', 'mildy', 'yawn', 'leprechaun', 'rom', 'aimless', 'burton', 'caller', 'disrobe', 'same', 'you', 'rivette', 'despicable', 'nonesense', 'mulrooney', 'batmobile', 'law', 'pet', 'bended', 'bugsy', 'feder', 'drilling', 'news', 'ridiculously', 'granny', 'minorpiece', 'memoral', 'grinder', 'freakshow', 'illusionary', 'unbearably', 'serbian', 'blige', 'conniving', 'yagyu', 'dressing', 'infomercial', 'canyon', 'portly', 'notation', 'oxygen', 'leading', 'glaci', 'bandolera', 'rerelease', 'stroke', 'cohesively', 'forceful', 'whitebread', 'promise', 'pzazz', 'copycat', 'issues', 'jury', 'seatbelt', 'principal', 'whiny', 'holding', 'european', 'prabhat', 'robotically', 'stv', 'conglomeration', 'landing', 'falsify', 'ringwalde', 'dubbing', 'bendy', 'stylized', 'different', 'ern', 'sh', 'guernsey', 'tomato', 'staff', 'unfunniest', 'airline', 'subjugate', 'frisson', 'vote', 'lindum', 'sant', 'wisecracking', 'vaporize', 'brackish', 'trailers', 'turkey', 'instantly', 'likable', 'unfold', 'reflect', 'billing', 'somnolence', 'pill', 'bear', 'vision', 'shrewdly', 'substance', 'chairman', 'arnie', 'waqt', 'hopefully', '1998', 'gizzard', 'smartassy', 'inscrutability', 'announcement', 'typical', 'childless', 'completest', 'psychotic', 'monotonically', 'russian', 'machete', 'messy', 'pleather', 'mvc2', 'kaiju', 'torch', 'breakup', 'emmanuel', 'cute', 'genius', 'montagne', 'hatred', 'rapping', 'amen', 'lmfao', 'calvados', 'virus', 'spattered', 'humongous', 'reaction', 'delice', 'acromegaly', 'irrelevance', 'dom', 'inmate', 'lovability', 'eulogy', 'dinner', 'embarased', 'kickboxing', 'surface', 'schlocky', 'thud', 'huge', 'sexism', 'oolama', 'es', 'broker', 'grudge', 'shamed', 'whenever', 'fallow', 'septic', 'bihn', 'davies', 'devil', 'cultured', 'embarrassment', 'bwahaha', 'precog', 'proprietress', 'superficial', 'deflector', 'drink', 'afros', 'min', 'acus', 'assasin', 'divorce', 'giants', 'classical', '1433421', 'gizmo', 'ble', 'dorky', 'itxc2x85', 'modesty', 'proactive', 'bathroom', 'oj', 'racist', 'hammerhead', 'stoke', 'engrish', 'proctologist', 'sensationalising', 'linaweaver', 'dunwich', 'reynolds', 'babe', 'lynch', 'germaine', 'shared', 'five', 'organization', 'phonebook', 'contributory', 'funeral', 'pekinpah', 'papery', 'tzu', 'ingredient', 'deeply', 'gashing', 'vivien', 'damningly', 'karma', 'torchwood', 'overplayed', 'kindergartner', 'baddddd', 'gunplay', 'listened', 'haziness', 'terence', 'hood', 'edda', 'australian', 'slide', 'shirelle', 'kissing', 'rondo', 'boutonnat', 'mobster', 'helpless', 'unbrushed', 'internet', 'begin', 'prehysteria', 'bible', 'untypical', 'red', 'mcmusicnotes', 'unexceptionally', 'knit', 'xc2x95', 'delete', 'brookmyre', 'banning', 'hardcore', 'huh', 'cusacks', 'ana', 'aluminum', 'mine', 'christmas', 'bleak', 'bum', 'gawdy', 'ferrell', 'dire', 'vietnamese', 'inadvisable', 'tarantinism', 'schrecklich', 'baio', 'prey', 'caption', 'paintball', 'lizard', 'tinto', 'hoods', 'selenium', 'made', 'bugged', 'skater', 'burmese', 'portsmouth', 'god', 'prediction', 'hush', 'eh', 'metaphor', 'tv8', 'softheaded', 'revelation', 'school'}\n"
          ]
        }
      ]
    },
    {
      "cell_type": "code",
      "source": [
        "len(negBest1)"
      ],
      "metadata": {
        "colab": {
          "base_uri": "https://localhost:8080/"
        },
        "id": "cc_ByLn6kCjg",
        "outputId": "8549e219-f757-4ed7-ae5b-5af9013d4581"
      },
      "execution_count": 47,
      "outputs": [
        {
          "output_type": "execute_result",
          "data": {
            "text/plain": [
              "10220"
            ]
          },
          "metadata": {},
          "execution_count": 47
        }
      ]
    },
    {
      "cell_type": "code",
      "source": [
        "nBestIndex(T, allBest1)"
      ],
      "metadata": {
        "id": "A3aW17_65Rmq"
      },
      "execution_count": 53,
      "outputs": []
    },
    {
      "cell_type": "markdown",
      "source": [
        "## Playing around with Word2Vec (Broken)"
      ],
      "metadata": {
        "id": "S4Y3umS3lMuf"
      }
    },
    {
      "cell_type": "code",
      "source": [
        ""
      ],
      "metadata": {
        "id": "VDBBUnbHrQi4"
      },
      "execution_count": null,
      "outputs": []
    },
    {
      "cell_type": "code",
      "source": [
        "nFeatures = 300\n",
        "minWordCount = 40\n",
        "nWorkers = 4\n",
        "contextWindow = 10\n",
        "downsampling = 1e-3"
      ],
      "metadata": {
        "id": "NU5iRRE4rPSq"
      },
      "execution_count": 62,
      "outputs": []
    },
    {
      "cell_type": "code",
      "source": [
        "from gensim.models import Word2Vec\n",
        "model = Word2Vec(allBest1, workers = nWorkers, \\\n",
        "                         size = nFeatures, min_count = minWordCount, \\\n",
        "                         window = contextWindow, sample = downsampling)\n",
        "\n"
      ],
      "metadata": {
        "id": "xs5ONWuCrUGg"
      },
      "execution_count": 91,
      "outputs": []
    },
    {
      "cell_type": "code",
      "source": [
        "model.init_sims(replace = True)"
      ],
      "metadata": {
        "id": "85KR_oBAr0fE"
      },
      "execution_count": 92,
      "outputs": []
    },
    {
      "cell_type": "code",
      "source": [
        "model_name = \"300features_17102minwords\"\n",
        "model.save(model_name)"
      ],
      "metadata": {
        "id": "1mXEYZwdr38a"
      },
      "execution_count": 93,
      "outputs": []
    },
    {
      "cell_type": "code",
      "source": [
        "from gensim.models import KeyedVectors\n",
        "word_vectors = model.wv\n",
        "word_vectors.save(\"word2vec.wordvectors\")"
      ],
      "metadata": {
        "id": "GLbRAu1sr_Ww"
      },
      "execution_count": 94,
      "outputs": []
    },
    {
      "cell_type": "code",
      "source": [
        "wv = KeyedVectors.load(\"word2vec.wordvectors\", mmap='r')"
      ],
      "metadata": {
        "id": "yf4wEXXevcQu"
      },
      "execution_count": 95,
      "outputs": []
    },
    {
      "cell_type": "code",
      "source": [
        "model.wv.most_similar('badboy', topn=10)"
      ],
      "metadata": {
        "colab": {
          "base_uri": "https://localhost:8080/",
          "height": 311
        },
        "id": "My728qC0wBSN",
        "outputId": "61257661-db5b-4fba-af6c-6f624264618a"
      },
      "execution_count": 96,
      "outputs": [
        {
          "output_type": "error",
          "ename": "KeyError",
          "evalue": "ignored",
          "traceback": [
            "\u001b[0;31m---------------------------------------------------------------------------\u001b[0m",
            "\u001b[0;31mKeyError\u001b[0m                                  Traceback (most recent call last)",
            "\u001b[0;32m<ipython-input-96-ce9daf3395d0>\u001b[0m in \u001b[0;36m<module>\u001b[0;34m()\u001b[0m\n\u001b[0;32m----> 1\u001b[0;31m \u001b[0mmodel\u001b[0m\u001b[0;34m.\u001b[0m\u001b[0mwv\u001b[0m\u001b[0;34m.\u001b[0m\u001b[0mmost_similar\u001b[0m\u001b[0;34m(\u001b[0m\u001b[0;34m'badboy'\u001b[0m\u001b[0;34m,\u001b[0m \u001b[0mtopn\u001b[0m\u001b[0;34m=\u001b[0m\u001b[0;36m10\u001b[0m\u001b[0;34m)\u001b[0m\u001b[0;34m\u001b[0m\u001b[0;34m\u001b[0m\u001b[0m\n\u001b[0m",
            "\u001b[0;32m/usr/local/lib/python3.7/dist-packages/gensim/models/keyedvectors.py\u001b[0m in \u001b[0;36mmost_similar\u001b[0;34m(self, positive, negative, topn, restrict_vocab, indexer)\u001b[0m\n\u001b[1;32m    529\u001b[0m                 \u001b[0mmean\u001b[0m\u001b[0;34m.\u001b[0m\u001b[0mappend\u001b[0m\u001b[0;34m(\u001b[0m\u001b[0mweight\u001b[0m \u001b[0;34m*\u001b[0m \u001b[0mword\u001b[0m\u001b[0;34m)\u001b[0m\u001b[0;34m\u001b[0m\u001b[0;34m\u001b[0m\u001b[0m\n\u001b[1;32m    530\u001b[0m             \u001b[0;32melse\u001b[0m\u001b[0;34m:\u001b[0m\u001b[0;34m\u001b[0m\u001b[0;34m\u001b[0m\u001b[0m\n\u001b[0;32m--> 531\u001b[0;31m                 \u001b[0mmean\u001b[0m\u001b[0;34m.\u001b[0m\u001b[0mappend\u001b[0m\u001b[0;34m(\u001b[0m\u001b[0mweight\u001b[0m \u001b[0;34m*\u001b[0m \u001b[0mself\u001b[0m\u001b[0;34m.\u001b[0m\u001b[0mword_vec\u001b[0m\u001b[0;34m(\u001b[0m\u001b[0mword\u001b[0m\u001b[0;34m,\u001b[0m \u001b[0muse_norm\u001b[0m\u001b[0;34m=\u001b[0m\u001b[0;32mTrue\u001b[0m\u001b[0;34m)\u001b[0m\u001b[0;34m)\u001b[0m\u001b[0;34m\u001b[0m\u001b[0;34m\u001b[0m\u001b[0m\n\u001b[0m\u001b[1;32m    532\u001b[0m                 \u001b[0;32mif\u001b[0m \u001b[0mword\u001b[0m \u001b[0;32min\u001b[0m \u001b[0mself\u001b[0m\u001b[0;34m.\u001b[0m\u001b[0mvocab\u001b[0m\u001b[0;34m:\u001b[0m\u001b[0;34m\u001b[0m\u001b[0;34m\u001b[0m\u001b[0m\n\u001b[1;32m    533\u001b[0m                     \u001b[0mall_words\u001b[0m\u001b[0;34m.\u001b[0m\u001b[0madd\u001b[0m\u001b[0;34m(\u001b[0m\u001b[0mself\u001b[0m\u001b[0;34m.\u001b[0m\u001b[0mvocab\u001b[0m\u001b[0;34m[\u001b[0m\u001b[0mword\u001b[0m\u001b[0;34m]\u001b[0m\u001b[0;34m.\u001b[0m\u001b[0mindex\u001b[0m\u001b[0;34m)\u001b[0m\u001b[0;34m\u001b[0m\u001b[0;34m\u001b[0m\u001b[0m\n",
            "\u001b[0;32m/usr/local/lib/python3.7/dist-packages/gensim/models/keyedvectors.py\u001b[0m in \u001b[0;36mword_vec\u001b[0;34m(self, word, use_norm)\u001b[0m\n\u001b[1;32m    450\u001b[0m             \u001b[0;32mreturn\u001b[0m \u001b[0mresult\u001b[0m\u001b[0;34m\u001b[0m\u001b[0;34m\u001b[0m\u001b[0m\n\u001b[1;32m    451\u001b[0m         \u001b[0;32melse\u001b[0m\u001b[0;34m:\u001b[0m\u001b[0;34m\u001b[0m\u001b[0;34m\u001b[0m\u001b[0m\n\u001b[0;32m--> 452\u001b[0;31m             \u001b[0;32mraise\u001b[0m \u001b[0mKeyError\u001b[0m\u001b[0;34m(\u001b[0m\u001b[0;34m\"word '%s' not in vocabulary\"\u001b[0m \u001b[0;34m%\u001b[0m \u001b[0mword\u001b[0m\u001b[0;34m)\u001b[0m\u001b[0;34m\u001b[0m\u001b[0;34m\u001b[0m\u001b[0m\n\u001b[0m\u001b[1;32m    453\u001b[0m \u001b[0;34m\u001b[0m\u001b[0m\n\u001b[1;32m    454\u001b[0m     \u001b[0;32mdef\u001b[0m \u001b[0mget_vector\u001b[0m\u001b[0;34m(\u001b[0m\u001b[0mself\u001b[0m\u001b[0;34m,\u001b[0m \u001b[0mword\u001b[0m\u001b[0;34m)\u001b[0m\u001b[0;34m:\u001b[0m\u001b[0;34m\u001b[0m\u001b[0;34m\u001b[0m\u001b[0m\n",
            "\u001b[0;31mKeyError\u001b[0m: \"word 'badboy' not in vocabulary\""
          ]
        }
      ]
    }
  ]
}