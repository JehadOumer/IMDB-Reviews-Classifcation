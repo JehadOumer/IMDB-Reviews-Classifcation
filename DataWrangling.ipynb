{
  "nbformat": 4,
  "nbformat_minor": 0,
  "metadata": {
    "colab": {
      "name": "Copy of DataWrangling.ipynb",
      "provenance": [],
      "collapsed_sections": [],
      "mount_file_id": "1oFHg3jj1CpQOwq9nZSvv24CY-KO6buvl",
      "authorship_tag": "ABX9TyN93iFjtkgo8o4SRrC/bO1N",
      "include_colab_link": true
    },
    "kernelspec": {
      "name": "python3",
      "display_name": "Python 3"
    },
    "language_info": {
      "name": "python"
    }
  },
  "cells": [
    {
      "cell_type": "markdown",
      "metadata": {
        "id": "view-in-github",
        "colab_type": "text"
      },
      "source": [
        "<a href=\"https://colab.research.google.com/github/JehadOumer/IMDB-Reviews-Classification/blob/main/DataWrangling.ipynb\" target=\"_parent\"><img src=\"https://colab.research.google.com/assets/colab-badge.svg\" alt=\"Open In Colab\"/></a>"
      ]
    },
    {
      "cell_type": "code",
      "metadata": {
        "colab": {
          "base_uri": "https://localhost:8080/"
        },
        "id": "6NtHLh2mBXir",
        "outputId": "653743ee-8efb-4c17-a9a1-c2b5af132e45"
      },
      "source": [
        "import pandas as pd\n",
        "import numpy as np\n",
        "import tensorflow_datasets as tfds\n",
        "import matplotlib.pyplot as plt\n",
        "import re\n",
        "import nltk\n",
        "from nltk.corpus import stopwords\n",
        "from nltk.tokenize import sent_tokenize, word_tokenize\n",
        "import spacy\n",
        "nltk.download('stopwords')\n",
        "stopwords = set(stopwords.words('english'))\n",
        "processor= spacy.load(\"en_core_web_sm\")"
      ],
      "execution_count": null,
      "outputs": [
        {
          "output_type": "stream",
          "name": "stdout",
          "text": [
            "[nltk_data] Downloading package stopwords to /root/nltk_data...\n",
            "[nltk_data]   Package stopwords is already up-to-date!\n"
          ]
        }
      ]
    },
    {
      "cell_type": "markdown",
      "source": [
        "## fetching the dataset from tensorflow, splitting to training, testing and validation"
      ],
      "metadata": {
        "id": "DgBdRW9q85eZ"
      }
    },
    {
      "cell_type": "code",
      "metadata": {
        "id": "C_Gj7ySfErQZ"
      },
      "source": [
        "(training_data, validation_data, testing_data), ds_info  = tfds.load(\n",
        "    name=\"imdb_reviews\", split=('train+test[0:5000]', 'test[5000:15000]', 'test[15000:]'), as_supervised=True, with_info=True)\n",
        "##The label is an integer value of either 0 or 1, where 0 is a negative review, and 1 is a positive review."
      ],
      "execution_count": null,
      "outputs": []
    },
    {
      "cell_type": "code",
      "metadata": {
        "id": "jxVfYsGCXPxe"
      },
      "source": [
        "##convert to pandas data frame\n",
        "training_data = tfds.as_dataframe(training_data, ds_info)\n",
        "validation_data= tfds.as_dataframe(validation_data, ds_info)\n",
        "testing_data=tfds.as_dataframe(testing_data, ds_info)\n",
        "all_data = pd.concat([training_data, testing_data, validation_data])"
      ],
      "execution_count": null,
      "outputs": []
    },
    {
      "cell_type": "markdown",
      "source": [
        "## SpaCy for NER and Lemmatization"
      ],
      "metadata": {
        "id": "I9duDnR49Chr"
      }
    },
    {
      "cell_type": "code",
      "metadata": {
        "id": "7QA5CO4XESlr"
      },
      "source": [
        "\n",
        "def spacy_processor(review, processor):\n",
        "  doc = processor(review)\n",
        "  lemmas_list = [token.lemma_ for token in doc]\n",
        "  temp = ' '.join(lemmas_list)\n",
        "\n",
        "  for ent in doc.ents:\n",
        "    temp=re.sub(r'\\b{}\\b'.format(re.escape(str(ent.text))), str(ent.label_), temp)\n",
        "\n",
        "  return temp\n"
      ],
      "execution_count": null,
      "outputs": []
    },
    {
      "cell_type": "markdown",
      "source": [
        "## Preprocessing function"
      ],
      "metadata": {
        "id": "xrSWkCMD9QBd"
      }
    },
    {
      "cell_type": "code",
      "metadata": {
        "id": "6KSAfIkHCH58"
      },
      "source": [
        "\n",
        "def preprocess_review(review, processor):\n",
        "    temp = review.strip()\n",
        "    temp = temp.replace('\\n', ' ')\n",
        "    temp = temp.replace('<br />', ' ')\n",
        "    temp = temp.replace('\\\\', '')\n",
        "    temp = re.sub(r'^(b\\'|b\\\")', '',temp)\n",
        "    temp = re.sub(r'(\\'|\\\")$', '',temp)\n",
        "    temp = str(spacy_processor(temp, processor))\n",
        "    temp = re.sub(r'[^a-zA-Z0-9]', ' ', temp)\n",
        "    temp = re.sub(' +', ' ', temp)\n",
        "    temp = temp.lower().strip()\n",
        "\n",
        "    return temp\n",
        "\n",
        "\n",
        "\n",
        "    "
      ],
      "execution_count": null,
      "outputs": []
    },
    {
      "cell_type": "code",
      "metadata": {
        "colab": {
          "base_uri": "https://localhost:8080/"
        },
        "id": "Sa5mw_QZhv7-",
        "outputId": "9b459b17-079e-4e25-a4d1-eb8108a10aff"
      },
      "source": [
        "#Demonstration\n",
        "for i in  range(5):\n",
        "  print(training_data[\"text\"][i])\n",
        "  print(preprocess_review(str(training_data[\"text\"][i]), processor))\n",
        "  print(\"\")\n"
      ],
      "execution_count": null,
      "outputs": [
        {
          "output_type": "stream",
          "name": "stdout",
          "text": [
            "b\"This was an absolutely terrible movie. Don't be lured in by Christopher Walken or Michael Ironside. Both are great actors, but this must simply be their worst role in history. Even their great acting could not redeem this movie's ridiculous storyline. This movie is an early nineties US propaganda piece. The most pathetic scenes were those when the Columbian rebels were making their cases for revolutions. Maria Conchita Alonso appeared phony, and her pseudo-love affair with Walken was nothing but a pathetic emotional plug in a movie that was devoid of any real meaning. I am disappointed that there are movies like this, ruining actor's like Christopher Walken's good name. I could barely sit through it.\"\n",
            "this be an absolutely terrible movie do not be lure in by person or person both be great actor but this must simply be pron bad role in history even pron great acting could not redeem this movie s ridiculous storyline this movie be an early ninety gpe propaganda piece the most pathetic scene be those when the columbian rebel be make pron case for revolution person appear phony and pron pseudo love affair with person be nothing but a pathetic emotional plug in a movie that be devoid of any real meaning pron be disappointed that there be movie like this ruin actor s like person s good name pron could barely sit through pron\n",
            "\n",
            "b'I have been known to fall asleep during films, but this is usually due to a combination of things including, really tired, being warm and comfortable on the sette and having just eaten a lot. However on this occasion I fell asleep because the film was rubbish. The plot development was constant. Constantly slow and boring. Things seemed to happen, but with no explanation of what was causing them or why. I admit, I may have missed part of the film, but i watched the majority of it and everything just seemed to happen of its own accord without any real concern for anything else. I cant recommend this film at all.'\n",
            "pron have be know to fall asleep during film but this be usually due to a combination of thing include really tired be warm and comfortable on the sette and have just eat a lot however on this occasion pron fall asleep because the film be rubbish the plot development be constant constantly slow and boring thing seem to happen but with no explanation of what be cause pron or why pron admit pron may have miss part of the film but i watch the majority of pron and everything just seem to happen of pron own accord without any real concern for anything else pron can not recommend this film at all\n",
            "\n",
            "b'Mann photographs the Alberta Rocky Mountains in a superb fashion, and Jimmy Stewart and Walter Brennan give enjoyable performances as they always seem to do. <br /><br />But come on Hollywood - a Mountie telling the people of Dawson City, Yukon to elect themselves a marshal (yes a marshal!) and to enforce the law themselves, then gunfighters battling it out on the streets for control of the town? <br /><br />Nothing even remotely resembling that happened on the Canadian side of the border during the Klondike gold rush. Mr. Mann and company appear to have mistaken Dawson City for Deadwood, the Canadian North for the American Wild West.<br /><br />Canadian viewers be prepared for a Reefer Madness type of enjoyable howl with this ludicrous plot, or, to shake your head in disgust.'\n",
            "person photograph org in a superb fashion and person and person give enjoyable performance as pron always seem to do but come on gpe a norp tell the people of gpe gpe to elect pron a marshal yes a marshal and to enforce the law pron then gunfighter battle pron out on the street for control of the town nothing even remotely resemble that happen on the canadian side of the border during the org gold rush mr person and company appear to have mistake gpe for deadwood the norp person for the american wild west canadian viewer be prepare for a person type of enjoyable howl with this ludicrous plot or to shake pron head in disgust\n",
            "\n",
            "b'This is the kind of film for a snowy Sunday afternoon when the rest of the world can go ahead with its own business as you descend into a big arm-chair and mellow for a couple of hours. Wonderful performances from Cher and Nicolas Cage (as always) gently row the plot along. There are no rapids to cross, no dangerous waters, just a warm and witty paddle through New York life at its best. A family film in every sense and one that deserves the praise it received.'\n",
            "this be the kind of film for a snowy date time when the rest of the world can go ahead with pron own business as pron descend into a big arm chair and mellow for a couple of hour wonderful performance from person and person as always gently row the plot along there be no rapid to cross no dangerous water just a warm and witty paddle through gpe life at pron good a family film in every sense and one that deserve the praise pron receive\n",
            "\n",
            "b'As others have mentioned, all the women that go nude in this film are mostly absolutely gorgeous. The plot very ably shows the hypocrisy of the female libido. When men are around they want to be pursued, but when no \"men\" are around, they become the pursuers of a 14 year old boy. And the boy becomes a man really fast (we should all be so lucky at this age!). He then gets up the courage to pursue his true love.'\n",
            "as other have mention all the woman that go nude in this film be mostly absolutely gorgeous the plot very ably show the hypocrisy of the female libido when man be around pron want to be pursue but when no man be around pron become the pursuer of a date boy and the boy become a man really fast pron should all be so lucky at this age pron then get up the courage to pursue pron true love\n",
            "\n"
          ]
        }
      ]
    },
    {
      "cell_type": "markdown",
      "source": [
        "### Saving preprocessed Dataset as .CSV files"
      ],
      "metadata": {
        "id": "TBVSY8rr9ejp"
      }
    },
    {
      "cell_type": "code",
      "metadata": {
        "id": "tbOCq3gKXuf0"
      },
      "source": [
        "training_data['text'] = training_data['text'].map(lambda x: preprocess_review(str(x), processor))\n",
        "training_data.to_csv('/processed_training_data.csv')\n",
        "\n",
        "validation_data['text'] = validation_data['text'].map(lambda x: preprocess_review(str(x),processor))\n",
        "validation_data.to_csv('/processed_validation_data.csv')\n",
        "\n",
        "testing_data['text'] = testing_data['text'].map(lambda x: preprocess_review(str(x), processor))\n",
        "testing_data.to_csv('/processed_testing_data.csv')"
      ],
      "execution_count": null,
      "outputs": []
    },
    {
      "cell_type": "code",
      "source": [
        "whole_processed_data = pd.concat([training_data, validation_data, testing_data])\n",
        "whole_processed_data.to_csv('/whole_processed_data.csv')"
      ],
      "metadata": {
        "id": "MvKyvnGFtzIg"
      },
      "execution_count": null,
      "outputs": []
    },
    {
      "cell_type": "markdown",
      "source": [
        "Link to the processed datasets \n",
        "[Google Drive Folder](https://drive.google.com/drive/folders/1eXCogA-lD5z-rx-NJYMGEsUxZOLqr1av?usp=sharing)"
      ],
      "metadata": {
        "id": "6IN0xMVJ4FoT"
      }
    }
  ]
}